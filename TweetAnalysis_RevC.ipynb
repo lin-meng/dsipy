{
 "cells": [
  {
   "cell_type": "code",
   "execution_count": 1,
   "metadata": {
    "collapsed": true
   },
   "outputs": [],
   "source": [
    "# Load libraries\n",
    "%matplotlib inline\n",
    "import numpy as np\n",
    "import pandas as pd\n",
    "import matplotlib.pyplot as plt\n",
    "from textblob import TextBlob\n",
    "import sys\n",
    "import string\n",
    "import json\n",
    "from collections import Counter\n",
    "from nltk.tokenize import TweetTokenizer\n",
    "from nltk.corpus import stopwords\n",
    "import sklearn\n",
    "import _pickle as cPickle\n",
    "from sklearn.feature_extraction.text import CountVectorizer, TfidfTransformer\n",
    "from sklearn.naive_bayes import MultinomialNB\n",
    "from sklearn.svm import SVC, LinearSVC\n",
    "from sklearn.metrics import classification_report, f1_score, accuracy_score, confusion_matrix\n",
    "from sklearn.pipeline import Pipeline\n",
    "from sklearn.grid_search import GridSearchCV\n",
    "from sklearn.cross_validation import StratifiedKFold, cross_val_score, train_test_split \n",
    "from sklearn.tree import DecisionTreeClassifier \n",
    "from sklearn.learning_curve import learning_curve"
   ]
  },
  {
   "cell_type": "code",
   "execution_count": 2,
   "metadata": {
    "collapsed": false
   },
   "outputs": [],
   "source": [
    "# Load dataset\n",
    "TwtDs = pd.read_csv('C:\\\\Users\\\\Mlin\\\\OneDrive\\\\Documents\\\\tamu\\\\DataScience\\\\twitter-user-gender-classification\\\\gender-classifier-DFE-791531.csv',  na_values=['.'], encoding = \"ISO-8859-1\")"
   ]
  },
  {
   "cell_type": "code",
   "execution_count": 3,
   "metadata": {
    "collapsed": false
   },
   "outputs": [
    {
     "name": "stdout",
     "output_type": "stream",
     "text": [
      "(20050, 26)\n"
     ]
    }
   ],
   "source": [
    "# shape\n",
    "print(TwtDs.shape) "
   ]
  },
  {
   "cell_type": "code",
   "execution_count": 4,
   "metadata": {
    "collapsed": false
   },
   "outputs": [
    {
     "name": "stdout",
     "output_type": "stream",
     "text": [
      "    _unit_id _golden _unit_state  _trusted_judgments _last_judgment_at  \\\n",
      "0  815719226   False   finalized                   3    10/26/15 23:24   \n",
      "1  815719227   False   finalized                   3    10/26/15 23:30   \n",
      "2  815719228   False   finalized                   3    10/26/15 23:33   \n",
      "3  815719229   False   finalized                   3    10/26/15 23:10   \n",
      "4  815719230   False   finalized                   3     10/27/15 1:15   \n",
      "5  815719231   False   finalized                   3     10/27/15 1:47   \n",
      "6  815719232   False   finalized                   3     10/27/15 1:57   \n",
      "7  815719233   False   finalized                   3    10/26/15 23:48   \n",
      "8  815719234   False   finalized                   3     10/27/15 1:52   \n",
      "9  815719235   False   finalized                   3     10/27/15 1:49   \n",
      "\n",
      "   gender  gender:confidence profile_yn  profile_yn:confidence  \\\n",
      "0    male             1.0000        yes                    1.0   \n",
      "1    male             1.0000        yes                    1.0   \n",
      "2    male             0.6625        yes                    1.0   \n",
      "3    male             1.0000        yes                    1.0   \n",
      "4  female             1.0000        yes                    1.0   \n",
      "5  female             1.0000        yes                    1.0   \n",
      "6   brand             1.0000        yes                    1.0   \n",
      "7    male             1.0000        yes                    1.0   \n",
      "8  female             1.0000        yes                    1.0   \n",
      "9  female             1.0000        yes                    1.0   \n",
      "\n",
      "          created             ...              \\\n",
      "0    12/5/13 1:48             ...               \n",
      "1   10/1/12 13:51             ...               \n",
      "2  11/28/14 11:30             ...               \n",
      "3   6/11/09 22:39             ...               \n",
      "4   4/16/14 13:23             ...               \n",
      "5   3/11/10 18:14             ...               \n",
      "6   4/24/08 13:03             ...               \n",
      "7   12/3/12 21:54             ...               \n",
      "8     9/8/15 4:50             ...               \n",
      "9    5/13/11 3:32             ...               \n",
      "\n",
      "                                        profileimage  retweet_count  \\\n",
      "0  https://pbs.twimg.com/profile_images/414342229...              0   \n",
      "1  https://pbs.twimg.com/profile_images/539604221...              0   \n",
      "2  https://pbs.twimg.com/profile_images/657330418...              1   \n",
      "3  https://pbs.twimg.com/profile_images/259703936...              0   \n",
      "4  https://pbs.twimg.com/profile_images/564094871...              0   \n",
      "5  https://pbs.twimg.com/profile_images/656336865...              0   \n",
      "6  https://pbs.twimg.com/profile_images/528547133...              0   \n",
      "7  https://pbs.twimg.com/profile_images/508875440...              0   \n",
      "8  https://pbs.twimg.com/profile_images/658670112...              0   \n",
      "9  https://pbs.twimg.com/profile_images/513327289...              0   \n",
      "\n",
      "  sidebar_color                                               text  \\\n",
      "0        FFFFFF  Robbie E Responds To Critics After Win Against...   \n",
      "1        C0DEED  ÛÏIt felt like they were my friends and I was...   \n",
      "2        C0DEED  i absolutely adore when louis starts the songs...   \n",
      "3        C0DEED  Hi @JordanSpieth - Looking at the url - do you...   \n",
      "4             0  Watching Neighbours on Sky+ catching up with t...   \n",
      "5             0  Ive seen people on the train with lamps, chair...   \n",
      "6             0  @BpackEngineer Thank you for your patience whi...   \n",
      "7        C0DEED  Gala Bingo clubs bought for å£241m: The UK's l...   \n",
      "8             0  @_Aphmau_ the pic defines all mcd fangirls/fan...   \n",
      "9        FFFFFF  @Evielady just how lovely is the tree this yea...   \n",
      "\n",
      "  tweet_coord tweet_count   tweet_created      tweet_id        tweet_location  \\\n",
      "0         NaN      110964  10/26/15 12:40  6.587300e+17       main; @Kan1shk3   \n",
      "1         NaN        7471  10/26/15 12:40  6.587300e+17                   NaN   \n",
      "2         NaN        5617  10/26/15 12:40  6.587300e+17                clcncl   \n",
      "3         NaN        1693  10/26/15 12:40  6.587300e+17         Palo Alto, CA   \n",
      "4         NaN       31462  10/26/15 12:40  6.587300e+17                   NaN   \n",
      "5         NaN       20036  10/26/15 12:40  6.587300e+17       New York Gritty   \n",
      "6         NaN       13354  10/26/15 12:40  6.587300e+17             Worldwide   \n",
      "7         NaN      112117  10/26/15 12:40  6.587300e+17                   NaN   \n",
      "8         NaN         482  10/26/15 12:40  6.587300e+17                   NaN   \n",
      "9         NaN       26085  10/26/15 12:40  6.587300e+17  Nottingham, England.   \n",
      "\n",
      "                user_timezone  \n",
      "0                     Chennai  \n",
      "1  Eastern Time (US & Canada)  \n",
      "2                    Belgrade  \n",
      "3  Pacific Time (US & Canada)  \n",
      "4                         NaN  \n",
      "5  Central Time (US & Canada)  \n",
      "6  Eastern Time (US & Canada)  \n",
      "7                         NaN  \n",
      "8                         NaN  \n",
      "9                   Amsterdam  \n",
      "\n",
      "[10 rows x 26 columns]\n"
     ]
    }
   ],
   "source": [
    "# head\n",
    "print(TwtDs.head(10))"
   ]
  },
  {
   "cell_type": "code",
   "execution_count": 5,
   "metadata": {
    "collapsed": false
   },
   "outputs": [],
   "source": [
    "# Add a text length column to the dataset\n",
    "TwtDs['txtlength'] = TwtDs['text'].map(lambda text: len(text))"
   ]
  },
  {
   "cell_type": "code",
   "execution_count": 6,
   "metadata": {
    "collapsed": false
   },
   "outputs": [
    {
     "name": "stdout",
     "output_type": "stream",
     "text": [
      "<class 'pandas.core.frame.DataFrame'>\n",
      "RangeIndex: 20050 entries, 0 to 20049\n",
      "Data columns (total 27 columns):\n",
      "_unit_id                 20050 non-null int64\n",
      "_golden                  20050 non-null bool\n",
      "_unit_state              20050 non-null object\n",
      "_trusted_judgments       20050 non-null int64\n",
      "_last_judgment_at        20000 non-null object\n",
      "gender                   19953 non-null object\n",
      "gender:confidence        20024 non-null float64\n",
      "profile_yn               20050 non-null object\n",
      "profile_yn:confidence    20050 non-null float64\n",
      "created                  20050 non-null object\n",
      "description              16306 non-null object\n",
      "fav_number               20050 non-null int64\n",
      "gender_gold              50 non-null object\n",
      "link_color               20050 non-null object\n",
      "name                     20050 non-null object\n",
      "profile_yn_gold          50 non-null object\n",
      "profileimage             20050 non-null object\n",
      "retweet_count            20050 non-null int64\n",
      "sidebar_color            20050 non-null object\n",
      "text                     20050 non-null object\n",
      "tweet_coord              159 non-null object\n",
      "tweet_count              20050 non-null int64\n",
      "tweet_created            20050 non-null object\n",
      "tweet_id                 20050 non-null float64\n",
      "tweet_location           12564 non-null object\n",
      "user_timezone            12252 non-null object\n",
      "txtlength                20050 non-null int64\n",
      "dtypes: bool(1), float64(3), int64(6), object(17)\n",
      "memory usage: 4.0+ MB\n"
     ]
    }
   ],
   "source": [
    "# Dataset Info\n",
    "TwtDs.info()"
   ]
  },
  {
   "cell_type": "code",
   "execution_count": 7,
   "metadata": {
    "collapsed": false
   },
   "outputs": [
    {
     "name": "stdout",
     "output_type": "stream",
     "text": [
      "<class 'pandas.core.frame.DataFrame'>\n",
      "Int64Index: 12894 entries, 0 to 20049\n",
      "Data columns (total 27 columns):\n",
      "_unit_id                 12894 non-null int64\n",
      "_golden                  12894 non-null bool\n",
      "_unit_state              12894 non-null object\n",
      "_trusted_judgments       12894 non-null int64\n",
      "_last_judgment_at        12858 non-null object\n",
      "gender                   12894 non-null object\n",
      "gender:confidence        12894 non-null float64\n",
      "profile_yn               12894 non-null object\n",
      "profile_yn:confidence    12894 non-null float64\n",
      "created                  12894 non-null object\n",
      "description              11194 non-null object\n",
      "fav_number               12894 non-null int64\n",
      "gender_gold              36 non-null object\n",
      "link_color               12894 non-null object\n",
      "name                     12894 non-null object\n",
      "profile_yn_gold          36 non-null object\n",
      "profileimage             12894 non-null object\n",
      "retweet_count            12894 non-null int64\n",
      "sidebar_color            12894 non-null object\n",
      "text                     12894 non-null object\n",
      "tweet_coord              78 non-null object\n",
      "tweet_count              12894 non-null int64\n",
      "tweet_created            12894 non-null object\n",
      "tweet_id                 12894 non-null float64\n",
      "tweet_location           8745 non-null object\n",
      "user_timezone            8497 non-null object\n",
      "txtlength                12894 non-null int64\n",
      "dtypes: bool(1), float64(3), int64(6), object(17)\n",
      "memory usage: 2.7+ MB\n"
     ]
    }
   ],
   "source": [
    "# Only select the female or male records from the dataset\n",
    "TwtFm = TwtDs[(TwtDs['gender']=='female') | (TwtDs['gender']=='male')]\n",
    "TwtFm.info()"
   ]
  },
  {
   "cell_type": "code",
   "execution_count": 8,
   "metadata": {
    "collapsed": false
   },
   "outputs": [
    {
     "data": {
      "text/plain": [
       "count    12894.000000\n",
       "mean        96.867458\n",
       "std         33.838490\n",
       "min          6.000000\n",
       "25%         70.000000\n",
       "50%        100.000000\n",
       "75%        128.000000\n",
       "max        425.000000\n",
       "Name: txtlength, dtype: float64"
      ]
     },
     "execution_count": 8,
     "metadata": {},
     "output_type": "execute_result"
    }
   ],
   "source": [
    "TwtFm.txtlength.describe()"
   ]
  },
  {
   "cell_type": "code",
   "execution_count": 9,
   "metadata": {
    "collapsed": false
   },
   "outputs": [
    {
     "name": "stdout",
     "output_type": "stream",
     "text": [
      "['When You A Trap Wife and Everybody wants you _Ù÷__Ù÷__Ù÷__Ù÷__Ù÷__Ù÷__Ù÷__Ù÷__Ù÷__Ù÷__Ù÷__Ù÷__Ù÷__Ù÷__Ù÷__Ù÷__Ù÷__Ù÷__Ù÷__Ù÷__Ù÷__Ù÷__Ù÷__Ù÷__Ù÷__Ù÷__Ù÷__Ù÷__Ù÷__Ù÷__Ù÷__Ù÷__Ù÷__Ù÷__Ù÷__Ù÷__Ù÷__Ù÷__Ù÷__Ù÷__Ù÷__Ù÷__Ù÷__Ù÷__Ù÷__Ù÷__Ù÷__Ù÷__Ù÷__Ù÷__Ù÷__Ù÷__Ù÷__Ù÷__Ù÷__Ù÷__Ù÷__Ù÷__Ù÷__Ù÷__Ù÷__Ù÷__Ù÷__Ù÷__Ù÷__Ù÷__Ù÷__Ù÷__Ù÷__Ù÷__Ù÷__Ù÷__Ù÷__Ù÷__Ù÷__Ù÷__Ù÷__Ù÷__Ù÷__Ù÷__Ù÷__Ù÷__Ù÷__Ù÷__Ù÷__Ù÷__Ù÷__Ù÷__Ù÷__Ù÷__Ù÷__Ù÷__Ù÷__Ù÷__Ù÷_']\n"
     ]
    }
   ],
   "source": [
    "# check the longest tweet in the dataset\n",
    "print (list(TwtFm.text[TwtDs.txtlength > 400]))"
   ]
  },
  {
   "cell_type": "code",
   "execution_count": 10,
   "metadata": {
    "collapsed": false
   },
   "outputs": [
    {
     "name": "stdout",
     "output_type": "stream",
     "text": [
      "['#NAME?', 'And fever']\n"
     ]
    }
   ],
   "source": [
    "# check the shortest tweet in the dataset\n",
    "print (list(TwtFm.text[TwtDs.txtlength < 10]))"
   ]
  },
  {
   "cell_type": "code",
   "execution_count": 11,
   "metadata": {
    "collapsed": true
   },
   "outputs": [],
   "source": [
    "# Take a random sample of 2000 from the dataset\n",
    "TwtSam2000 = TwtFm.sample(2000, random_state=123)"
   ]
  },
  {
   "cell_type": "code",
   "execution_count": 12,
   "metadata": {
    "collapsed": false
   },
   "outputs": [
    {
     "name": "stdout",
     "output_type": "stream",
     "text": [
      "gender\n",
      "female    1061\n",
      "male       939\n",
      "dtype: int64\n"
     ]
    }
   ],
   "source": [
    "# gender distribution\n",
    "print(TwtSam2000.groupby('gender').size())"
   ]
  },
  {
   "cell_type": "code",
   "execution_count": 13,
   "metadata": {
    "collapsed": false
   },
   "outputs": [
    {
     "data": {
      "text/plain": [
       "array([<matplotlib.axes._subplots.AxesSubplot object at 0x0000019C4E48B080>,\n",
       "       <matplotlib.axes._subplots.AxesSubplot object at 0x0000019C4DF12FD0>], dtype=object)"
      ]
     },
     "execution_count": 13,
     "metadata": {},
     "output_type": "execute_result"
    },
    {
     "data": {
      "image/png": "[encoded data removed]",
      "text/plain": [
       "<matplotlib.figure.Figure at 0x19c4e243e80>"
      ]
     },
     "metadata": {},
     "output_type": "display_data"
    }
   ],
   "source": [
    "# check the tweet length by gender\n",
    "TwtFm.hist(column='txtlength', by='gender', bins=10, sharex=True, sharey=True)"
   ]
  },
  {
   "cell_type": "code",
   "execution_count": 14,
   "metadata": {
    "collapsed": true
   },
   "outputs": [],
   "source": [
    "# Define a function utilzing nltk's TweetTokenizer(), stopwords=[]\n",
    "def process(text, tokenizer=TweetTokenizer(), stopwords=[]):\n",
    "    \"\"\"Process the text of a tweet:\n",
    "    - Lowercase\n",
    "    - Tokenize\n",
    "    - Stopword removal\n",
    "    - Digits removal\n",
    "    Return: list of strings\n",
    "    \"\"\"\n",
    "    text = text.lower()\n",
    "    tokens = tokenizer.tokenize(text)\n",
    "    # If we want to normalize contraction, uncomment this\n",
    "    # tokens = normalize_contractions(tokens)\n",
    "    return [tok for tok in tokens if tok not in stopwords and not tok.isdigit()]"
   ]
  },
  {
   "cell_type": "code",
   "execution_count": 15,
   "metadata": {
    "collapsed": false
   },
   "outputs": [
    {
     "name": "stdout",
     "output_type": "stream",
     "text": [
      "8409\n"
     ]
    }
   ],
   "source": [
    "# Create bag of words from the sampled 2000 tweets\n",
    "topbow_transformer = CountVectorizer(analyzer=process).fit(TwtSam2000['text'])\n",
    "print (len(topbow_transformer.vocabulary_))"
   ]
  },
  {
   "cell_type": "code",
   "execution_count": 16,
   "metadata": {
    "collapsed": false
   },
   "outputs": [
    {
     "data": {
      "text/plain": [
       "dict_keys(['#ukip', '@mikechipperson', 'https://t.co/r2ilsty02w', '#customersuccess', 'https://t.co/xvyzkfaysj', 'https://t.co/kaa28tsu7k', 'drained', 'joce', 'https://t.co/gvrr88dkfw', 'ditches', 'fat', 'aye', 'bottom', 'forget', 'pushchair', 'ð', '@zodiacforest', 'appreciated', '@bmanbushur', 'tube', 'secondly', '@justinbieber', 'than', 'cdc', 'leslie', 'cigarette', '#justplayingbustnuts', 'sales', 'procedure', 'knife', 'shopper', 'ó', '4:55', 'chance', 'sutton', 'sonny', 'conjure', 'â_ùð', '@grimezsz', '@amoshay25', '@feigle_95', 'tl', 'spangled', 'gift', 'motivation', 'zindzi', 'tacked', 'bit', '@gonision', 'louise', \"hadn't\", 'pics', 'deletes', 'https://t.co/iavra8gvhf', 'dnc', 'spotted', 'snapchat', '#rolexskydweller', 'b', 'reno', 'kyle', 'journal', 'iron', 'sets', 'https://t.co/8oteoi0bwm', 'https://t.co/9xdpew2ubs', 'https://t.co/fsneadgntl', 'https://t.co/qmljesazad', '#rwc2015', 'mighty', '@manutd', 'stalking', 'sophisti', 'windy', '108,652', 'minute', 'winter', '#otrabirmingham3', 'kick', 'railway', 'village', 'https://t.co/6z1j8fecn0', \"bodean's\", 'https://t.co/xbaejgpxdf', 'totals', 'eminem', 'tayback', 'millionaire', 'borrow', '#growthhacking', 'fuck', 'disaster', 'https://t.co/efdtl9kz69', '#halloween', '@peta', 'food', 'tutelage', 'veto', 'https://t.co/c5xj5al1ck', 'electoral', 'virtualise', 're', 'freshman', 'strive', 'fingers', 'lets', 'midnight', '@ideklrh', '@borninbieber', \"it's\", 'happenings', 'berry', 'herself', 'since', 'ginsburg', 'day_ù', 'waste', 'cried', 'smoking', '#massimolandi', '#bnbroadtrip', 'https://t.co/aobvimswhu', 'fell', 'lands', 'distance', 'https://t.co/iflur807pe', 'panic', 'faggot', 'return', '#newyork', 'booker', 'https://t.co/r36sfklfl3', '@bigparsman', '@johnroderick', '@adonissuperman', 'marriage', 'essential', 'pipe-smoking', 'sir', 'reversed', '#historyprobs', '@_bonga', 'https://t.co/bgzlwb9hc5', 'minor', 'subtweet', 'crykfn', 'exciting', 'slave', '@oswegoathletics', 'd4', 'https://t.co/qwflstmi4q', 'google', 'brises', 'mein', 'rainy', 'https://t.co/dywgbdlxft', 'superhero', 'desperation', 'second', 'lobbyist', 'vid', 'stressed', 'oilers', 'ouch', 'https://t.co/hhnuk7zms9', 'quite', 'https://t.co/mfqs0oxgfx', 'sgkn', 'ûïmovement', 'response', 'coups', 'darker', '@alerod7712', '@beelinegames', 'alaska', 'https://t.co/jr5ghfjdk9', 'tier', 'unacceptable', 'invest', 'like', '#episode3', 'lost', 'stigma', 'vu', 'courts', 'alexis', 'satan', '@munchingbrotato', 'flake', 'building', 'wasnt', 'https://t.co/utlfnpgbaq', 'antique', 'seeks', 'nights', 'holding', '@shimcode', 'shane', '1.knowledge', 'record', '@_david_edward', 'https://t.co/rzgztq2fjt', 'é', '@gamesack', 'https://t.co/hvwvxzfxhh', 'https://t.co/yehjnxgmp9', 'brba', 'alexey', 'cruelty', '#undateablelive', 'inmate', 'months', 'result', 'diseases', 'blowup', '#celibacy', 'hustle', 'viitural', 'hope', 'https://t.co/ydisbheitq', 'simultaneously', 'road', 'emanuel', 'tell', '@northsands', 'pull', '#roomwithaview', 'seniors', 'download', 'recover', 'spider', 'relatives', 'salad', 'taught', 'mates', 'supporting', 'leash', 'everybody', 'europe', 'knew', 'https://t.co/p5wp8ugmkh', 'onit', '_ùªö', 'lanier', '@uklabour', '@continuedsearch', 'keeping', '@iom_jordan', 'understood', 'ridiculous', 'square', 'brightens', 'full', 'pasta', 'harborview', '@joeygraceffa', 'career', 'https://t.co/rthfumq1lf', '@timbrando', 'chrome', 'doughnut', 'doubts', 'cf', 'fall', 'problem', 'https://t.co/fmvkxq97y2', 'ûá', 'ends', 'skeletons', 'https://t.co/wyvt6bs3jk', 'ago', 'wheel', 'percentages', '#carcarcarseverywhere', 'mirrors', '@destinationroms', 'feared', 'establishment', 'sink', 'dcn', 'hosts', 'hungry', 'london', 'roasted', 'wowww', 'ch', 'gem', '@ckbrowning93', 'delayed', 'capsule', 'sagas', 'https://t.co/rfkzxgcopm', 'cafe', 'remembers', 'á', 'dropping', 'tbh', 'termination', 'ocean', 'absolutely', 'k', 'vulgar', 'https://t.co/av3ld2xfs4', '@nelliejo1950', 'lori', '#savethepiggies', 'nurse', 'johnny', '@atomarchaeology', 'bloody', 'amusement', 'pint', 'selection', 'staff', '14/15', 'tweet', 'unrest', 'nba', '@melizabeth143', 'dan', 'chemical', '#dumbdumb', 'luxurious', '@shaunbiggs1', 'rot', '@malpapadam', 'g5', 'rolls', 'hall', 'bagel', 'chart', '15m', 'isd', '@netjeretkhau', 'https://t.co/paggbzmf06', 'tasting', 'angela', '@digg', 'ann', 'https://t.co/9xrsadqqsa', '@splally', 'small', '=d', 'stubborn', '#folloback', '5-1', '@gublernation', '#hottest', 'improvement', 'applied', 'happens', 'records', '@ms_deaj', 'update', 'https://t.co/yww9l4o5pk', 'wks_ù', 'https://t.co/a3dr9eydd9', 'tilapia', 'https://t.co/hyglmwz3go', '_ùô', 'extra', '@jeauxalejandro', 'plates', 'archives', 'bundeskanzlerin', '@richardbranson', '@somechappaul', 'https://t.co/qnzz7dinoo', 'becuase', 'drunk', '#refugeecrisis', 'life', '@_5sosfamupdates', 'å', 'unveilings', 'cinema', 'https://t.co/sgp6joozgo', 'accounts', 'mot', '#geoffmarcy', 'jake', '#life', 'https://t.co/p76wguhdbu', 'weed', '#datpiff', 'https://t.co/bcv1dpv73c', 'leftovers', 'weekend', 'inspiration', '@thedailybeast', 'transanimation', 'follow_ù', 'dust', 'becca', 'https://t.co/bvjkib0ten', '@pg_esam', 'magazines', 'folk', 'high', 'https://t.co/iid3wzxeic', '@alfranken', 'historic', '140,649', 'mmmm', 'martian', 'loooove', 'fwd', '@optimizely', '#standardmonday', 'gets', 'email', '4me', 'https://t.co/mpd3wru3ah', '#represent', 'volkswagen', 'wats', 'supergirl', 'posing', 'picks', 'usu-sdsu', '@caylzbby', 'lick', 'clothes', 'credit', 'diviners', 'shizuo', 'agency', 'overrated', 'hinges', 'difficult', 'again', 'nyc', 'scary', '@stacybud123', 'ears', 'were', 'roasting', 'excitement', 'exams', 'aspect', 'accepting', 'rant', '#ooc', '@oikageyama', 'blair', 'sup', 'anymore', 'games', '#burundi', 'interviewer', 'scams', 'proof', '#shirk', 'hood', 'shower', '#dance', 'clicking', '#valkyrie', '@ameliagraceee_', \"tafe's\", '#set', 'partners', '@dairyqueen', 'friendship', 'https://t.co/uil9eushtr', 'teacher', 'niall', '@soulartsvgc', 'jews', '#doublebooked', 'https://t.co/3xsqszejkx', 'launch', 'idiots', '@andyrobsontips', 'vent', 'beat', 'coaching', 'ali', 'situations', 'cute', 'á_ùôè', '@deadend_friend', 'lenin', '10-25-', 'https://t.co/qcktgxe1r3', '@sara_bahadur', 'group', 'changes', 'insights', 'out_ù', 'mast_urabting', 'moves', 'just', '90s', '@everymancinema', 'autograph', '_ùôû', 'dap', '_ùôîhttps', 'identified', 'carrying', '&', '#navy', 'halftime', 'bond', '@motoguzzi', 'https://t.co/8iqckryywg', 'vigina', 'vampires', 'chooses', 'neil', 'british', 'tiddeley', 'participate', 'intolerable', 'red', 'plagiarism', 'ship', 'outnumbered', 'take', '#magic', '@mattmireles', 'fingerprint', 'https://t.co/93ueedbz9f', 'used', 'https://t.co/5vijznzifi', '-1.36', 'user', 'scare', 'collection', 'security', 'owls', 'shall', 'feelings', 'macho', 'spare', 'tony', 'nighter', 'bleeding', 'terrified', 'beside', 'blue', 'mean', 'drinks', 'perry', 'passing', 'solutions', 'women', 'guysssss', 'clearly', 'ûª', 're-entering', '#holiday', 'ferg', 'lamar', '_ùõð', 'spewing', '#leap', '#talkradio', 'defend', 'over', 'projects', 'box', '6x2', 'db', 'thx', '@ben2know', '@chitlesh', 'https://t.co/3lnr5mwnpn', 'track', 'trick', 'explaining', '@lexyringnell', 'fight', '#nomakeup', 'child', 'hmu', 'typo', 'midst', '@emilycanham', 's6', 'replacement', 'republican', 'documents', 'https://t.co/8dhlqyuftx', '@thinksally', 'naturally', 'r', 'https://t.co/56twkmsnnh', 'sanders', 'dodgy', 'support', 'tabback', 'nappi', 'https://t.co/bcnomfqwi3', '@brutalbitchx', '@everythingkayy', 'howe', 'course', '÷', 'indie', 'hypest', '@boyhowdy_espn', 'screwing', 'nfc', 'https://t.co/olprh5a4e1', 'https://t.co/eubwt1ycub', 'government', 'bringing', 'bumpin', 'exposed', 'legendary', 'brainstorming', 'through', 'celebrity', 'search', 'based', \"glenn's\", '6s', 'shape', 'armyselcaday', '@montrosemercant', 'yall', 'vota', 'gardeners', 'homemade', 'consent', '#aldubpredictions', 'beautiful', 'make', 'strands', 'get', 'defence', 'rips', 'work', '@nataliaa_45', 'lake', 'slowly', 'glasses', '@lovelyybrooklyn', 'woolsey', 'lean', 'https://t.co/w5yhzyqjlt', 'half', 'mlas', 'coincidence', '@d_4000', 'nowhere', 'saudi', '#rutolivek24', 'didcot', 'cartoon', 'funkadelic', 'lies', 'student', 'shake', 'deja', 'reliant', '@berkleymcknight', 'liberation', 'covered', '@theonlyryann', 'identity', 's.hp', 'decrease', '#ukvoty1d', 'da', 'hoe', '30th', 'äã', 'girlfriend', 'redskins', 'yet', 'wqzelanul', 'respects', '_ùõù', '@metalshayne2000', 'paul', 'ugg', 'enemy', 'waiter', 'temple', 'listening', 'kath', 'https://t.co/wm3pxicedt', '@lukeisnotsexy', 'crunching', '#engl2110', 'ruin', 'ô', '@johncoonsports', 'depressed', '@sxnnyy', 'kiss', '@jydpoho', 'i', '@sewart', '#ios', '@etsy', 'asus', 'alone', '@_', '@sparksflylarry', 'legislation', 'crusade', 'https://t.co/hc9otqvvgg', 'golden', 'diet', '@the_flyingsheep', 'ç', 'therapy', 'spoke', '@jackbmusician', '_ùªã', 'https://t.co/vmexhdr2jj', '@wileynorvellåêhey', 'seriously', 'wles', 'skin', 'natural', '#', 'worth', 'perseverance', 'architect', 'bryant', 'craig', 'crucial', 'marc', 'best', 'represents', 'so', 'https://t.co/i7ke7ebrot', 'dog', 'rowdy', 'pollard', 'tamasha', 'corbin', 'https://t.co/hv3melvwcg', '. .', 'train', 'often', 'dad', '@lifeisstrange', 'https://t.co/hfviesqln2', 'connection', 'mujtaba', 'adversity', 'climate', 'gideon', '#texans', 'à_ù', '@salsports', 'arena', '#bestgamemodever', 'headache_ùð', 'hurts', 'retweet', \"people's\", 'punch', 'eh', 'pinata', '#shopwtd', 'maddie', 'planning', 'thoroughgoingness', 'and', 'maps', '@madxhaus', 'https://t.co/vzsacs9jsv', \"wizkid's\", 'memes', 'gabby', 'complete', '#amazingladies', 'ô_ù', '@mtdukes', '#midnightservercrash', '@samkingftw', 'strikes', 'dweller', 'mom', '3am', 'enslaved', '@fsgossips', 'alongside', 'exeter', 'sad', 'normie', '@trynagetdakey', 'christianity', '@keithstoeckeler', 'dec', 'intimidation', 'jonas', 'learn', ';)', 'https://t.co/rehqls8ka9', 'greedy_ù', '=', 'ûïconsent', 'caesar', '#roimentor', 'diabetes', 'flick', 'https://t.co/r35yclnfd0', 'aaaaa', 'mouse', 'morlimi', 'exits', '@danbenjamin', 'held', 'science', 'loosing', 'buffalo', 'https://t.co/gw7rbt73lz', 'disproportionately', 'bay', 'gal', 'muslim', '@heatherdaune', '#trecru', '_ùô__ùô', 'relationship', 'boyfriends', '@wilw', 'utility', 'apt', 'present', 'kgile', 'sprint', 'investor', 'fact', '@nflgamepass', 'patches', 'miserable', 'hinted', 'cork', '_ùõ__ùõð', 'berks', '(8', 'misevaluated', 'lambs', 'qualification', 'correction', 'problems_ùõø_ùõø', 'arabia', 'weep', 'mine', 'every', '@narrynipslip', 'legend', '#sed', '#nyc', 'innovations', 'ted', 'look', 'isis', 'teach', '@cknw', 'knows', 'fallout', 'drivers', '@love_tyrhonda', 'equitable', 'approval', 'warning', 'âé', 'meåêwe', 'slaves', 'ûò', 'obsession', 'exaggerate', '@dumbcreationist', 'greatest', '@adamwaithe', 'https://t.co/bfbexh0efx', 'nuclear', 'pt', 'entitled', 'version', 'succeed', 'https://t.co/yko1xpi7n0', '@chesterfieldfc', 'illustration', 'technically', 'mcbride', '#dayofthedead', 'https://t.co/5iv46wvpmc', 'contract', 'health', '@bettywaitherero', 'moving', 'reunion', 'ceos', '#vintage', 'boarding', 'roj', 'åà', 'skipping', 'concert', 'ranking', '#phew', 'handsome', 'https://t.co/r926sjkcin', 'trace', '#gayuk', 'ignore', 'reviews', 'observe', 'threatens', \"#you'renothelpingeither\", 'recycling', \"who've\", 'went', 'arceus', 'acabo', 'town', 'ûªre', '@caribbros', 'sense', 'oops', 'okinawa', 'parry', '@iskysoft', '#banter', 'fallers', 'divine', 'transponder', 'methods', 'depression', 'flexible', '@megdanish', 'chances', 'é_ù', 'holder', 'coast', 'now', 'https://t.co/y9eimyhl4w', 'unfaithful', '@charlesam', 'https://t.co/o32tt9kaob', 'ûïmurder', 'https://t.co/1qqwzeqyhd', 'copied', '@trevschan2', 'continues', '@chairmanramos', 'write', 'https://t.co/mcgo5tfniv', 'guilty', '@crmoss', '@betfairexchange', 'oleo', 'see', 'julian', 'experts', 'lifestyle', 'wayne', 'annie', '#smartfridge', 'outright', 'lots_ù', 'jacques', 'https://t.co/eplh9l1vnh', 'hammond', 'treating', 'https://t.co/101wukscti', 'philly', 'saving', 'ti', 'omfg', 'https://t.co/yvsln17sii', 'claim', '__ùõï', 'https://t.co/pm18um3xx4', \"wouldn't\", 'complaining', 'https://t.co/v36fvavcdc', '18:11', '21st', 'soon', 'demotivational', 'awareness', 'original', 'rolex', 'fridge', '@oracledi', 'told', 'walk', ':)', 'classwork', 'answer', 'shxmpyin', 'wear', 'nominal', 'view', '@dietcoke', 'farm', 'humble', 'he', 'transformation', 'finalized', '#worcestershirehour', 'note', 'û_', '#historicalromance', 'anything', 'amarillo', 'x11', 'aldrich', 'time_ù', 'bum_ù_ä_ù', 'sungjong', 'capacity', 'https://t.co/cfjso85bsm', 'cuddling', 'net', 'https://t.co/gg8gpdqdvz', 'bank', '¡', 'trying', 'solution', '2/3', 'gaga', 'dreams', 'greg', 'soft', '@mostlikelymax', '@eventualmillion', 'acknowledging', 'flowers', '#saassaas', 'mist', 'anyway', 'join', 'birthday', 'particular', 'e', 'chevron', '@goddessfish', '#hot', 'slick', 'messages', 'pediatrician', '@blckmambakj', 'third', 'niece', '@uktrichat', 'sensors', '@vanesa_bu', 'excited', 'stop', 'kind', 'rate', 'tolkien-notated', 'influenced', 'doesnt', 'dudes', '@frankeyz', \"mum's\", 'believing', 'trading', 'lot', 'himself', 'cruelest', '#hpms', 'intelligent', 'season--then', 'violins', '#gh', '#giftcard', 'art', 'gordy', 'disgusting', 'prestbury', 'miles', 'nod', 'album', 'foreffort', 'lose', 'scope', 'dyer', 'inform', 'https://t.co/wwutunx82o', 'stalin', 'hang', 'nashville', 'processed', 'rocking', '#studio', 'breakup', '@apocryphalmuse', 'department', 'curious', 'death', 'tf', \"women's\", 'selling', 'ñ', '¤', '@rs200077', 'obscure', '#uae', 'probation', 'odds', 'stare', 'justice', 'genre', 'impudence', 'falls', 'organizationåõs', 'opened', '#presspass', 'remix', \"wasn't\", 'mum', 'scrub', 'catanzaro', '#diets', 'butcher', 'hershel', 'blade', 'puffy_ù', 'fulani', 'xiyqmj', 'cus', 'us', 'fubu', 'snowball', '#comm1110gsw', '@srbachchan', 'poor', 'https://t.co/9vdvv5zk5c', 'this', 'argues', '@whitlockjason', 'college', 'evaluate', 'harrison', 'marched', 'apple', 'scream', 'bongi', 'puppy', 'admin', 'rmouto9@lsu.edu', '@ee', 'favorites', 'efforts', 'person', '@fidoruk', 'https://t.co/1bqg0bpqeh', 'https://t.co/zxidddbgqh', 'pasted', 'thang', '#sexualenergy', '@npowerhelp', '#futureboydirectioner', 'https://t.co/1w0i4ya7ff', ']', 'other', 'lit', 'reg', 'give', 'areas', 'loss', '@deftronic', 'slapping', 'drew', 'following', 'https://t.co/jlpqqwt6fa', 'https://t.co/hqoun4ojwo', 'emily', 'dude', 'sex', 'soa', 'thriving', 'preliminary', \"illustrator's\", 'check', 'turismo', 'spreading', 'arab', 'authority', '_ù_µ', 'class', 'https://t.co/q2cx6syxqi', 'https://t.co/n18yvbov16', 'rick', 'amy', 'jose', 'outcome', 'pum', '#food', \"basri's\", '@miss_saraix3', 'inside', 'https://t.co/c9lw6ikqfm', 'saying', 'ûïkids', 'maybe', 'realize', 'shipped', 'towns', 'https://t.co/73fdzxoa63', 'liars', 'england', 'https://t.co/w6jtudvbc5', 'fantastic', 'depending', '-2.71', '@jasongregor', 'savedacccren', '10,000', 'dolla', 'https://t.co/euepcv6t4x', 'syncing', '#yesimbored', 'port', 'compete', 'mtv', 'russell', 'minds', 'trip', 'https://t.co/izkwrjx1gr', 'porn', 'jordanians', 'ambassador', 'focusing', 'ffk', 'belly', 'events', 'attempt', 'https://t.co/sl3frwuyz3', 'finds', '@finsinsider', 'jss', 'any', 'dentate', 'mickey', 'renaissance', 'capable', 'grandad', 'wider', 'header', 'horny', 'cauliflower', 'guidance', 'jobber', 'disposed', 'xpvphz', 'âá', '2,000', '@smaishling', 'repetition', '#monday', 'white', 'disciples', 'moonlight', 'agree', 'kill', 'laying', '@tfwdelanie', 'begins', 'comment', '@williamdiaz90', 'lottery', 'ûïfireworks', '@devinclayton04', 'hopeless', 'reasoning', '@ameerahsmith', '#smurfsvillage', 'abt', 'surgeon', 'tho', 'dinosaurs', 'appeared', '@djmaleko', 'hook', 'activists', 'sketching', 'squad', '#gilly', 'n64', 'alysha', 'pro', 'diamond', \"bird's\", 'terrible', 'uthaaa', 'killing', 'board', 'adam', '@gartner_sym', 'cot', 'campaign', '@warren_potts93', 'scout', 'twelfth', '#anc', 'ricciardi', 'garden', 'grubby', '@writerchica', 'yazmin', '#discipleship', 'networks', 'mcconaughey', 'frequently', 'linked', '@pr0udmary_', '#socent', '#gcpr', '@bkerrow', 'farrow', 'depended', 'coaches', 'costumes', 'dresses', 'empty', 'mansion', 'callie', '_ùõª_ù', 'punchy', 'relay', '/', \"o'fuckingclock\", '@luke5sos', '@neyonx02', 'million', 'venice', 'success', 'lighter', '@ntvkenya', 'availability', 'judging', 'berserkers', 'promotes', 'loot', 'hard', 'https://t.co/mtqtqbwipg', 'peace', 'change', '@troy_dumas', 'caicos', 'symphony', 'became', 'pdf', 'matt', 'twas', 'jareds', 'tv', 'https://t.co/2a7jbozenr', 'impossible', 'disick', 'https://t.co/6wtaopdbxm', '#blessed', 'untenable', '@simondanczuk', '@_thesoapco', '@jeffheads', 'dire', 'send', '_ùõª_ùõï_ùõ', '@cxxl_txx', 'tree', 'exclusive', 'https://t.co/zg5v3easip', 'chips', 'counting', 'de', '@adoresoph', 'disturbing', 'spoopy', 'drinking', 'annoying', '@drhanspeterson', '@snadraw91029664', 'https://t.co/q241q1oaxf', 'you_ùôè', 'ryan', '97.9', 'https://t.co/m1hlsbroh4', 'xwnotbyxd', 'omg', '1d', 'customs', 'hug', 'https://t.co/o2cvjdgkdv', 'pretend', 'mall', 'remastered', 'akamatsu', 'businesses', 'https://t.co/duuuwvjfho', 'wall', 'moon', 'bean', 'lo', '@francinemcquade', 'shoutout', '4.5', 'paleo', 'related', 'https://t.co/oj7d1vnwds', 'managed', 'wished', '#caribbean', 'writer', '@rabeatkinsons', 'ma', 'warped', 'ocarina', '#soundcloud', 'buys', 'https://t.co/tv8bhdrtw8', 'ice', 'dumped', 'clothes_ù', '140,654', 'still', 'says', 'its', '@li_seane', 'tackiest', 'https://t.co/oroweb18x3', 'artblock', '@abouttrailers', 'ui', 'hero-monsters', 'rakitic', 'https://t.co/xobnhww0pw', \"couldn't\", 'vinyl', 'proven', 'pass', 'tory', 'chris', '@katietiedrich', 'lying', '@ericaperel', 'snitch', 'apush', 'kickoff', 'https://t.co/vr59n3uzzj', 'funds', 'hayden', 'it_ùõ', 'clark', 'surges', 'lagos', 'tragedy', '@derekbanes', 'seat', 'article', 'category', 'buddies', 'tshirt', 'î_ùõé_ù', '#sexy', 'https://t.co/f0wejr800t', 'economy', '#askskinexpert', 'heating', 'debt', 'throwing', '@zero9thr3e', 'aimed', '@killmyikeashelf', 'teas', 'kris', 'is', 'evacuating', 'cigarettes_ù', 'alexandrians', 'ïî_ù', 'srsly', 'overall', 'https://t.co/dzizxzbb66', 'gp', 'semi', 'excuse', 'blushing', 'imma', 'service', 'advice', '\"', 'condom', 'doc', 'bet', 'wearing', '@wilfieboy99', 'https://t.co/nwpl07h7rv', 'goldsmiths', 'fairytale', 'shopping', '\\x8d', 'biggest', 'near', 'pack', 'crì_e', 'douche', '4th', '-30.730', 'ageeesssss', 'consisting', 'calculate', 'random', '#comics', 'cereal', 'an', 'physically', 'deepen', 'roman', 'dealers', 'https://t.co/kegdnrf43n', 'about', '@heichou_ravioli', 'øôãô', 'linux', '#gavinwsewell', '@nickiminaj', 'want', '@doctor_hutch', 'scarf', 'thumb', 'mlg', 'already', 'president', '@yourboydaxx', 'padukone', 'https://t.co/khusludsdo', 'bun', 'touch', 'eg', 'pnd', 'harbour', \"we're\", 'comparing', '25th', 'premiere', 'amcor', '@hustlerama', 'thai', \"n's\", '#whitesox', '@pabmanjo', 'time', 'results', 'imac', 'https://t.co/dnzrqdihdo', 'overcome', 'trouble', 'hooray', 'https://t.co/nyxhrmml2p', 'asks', 'hey', 'https://t.co/br93ksrpap', 'scheduled', 'brooklyn', 'mets', 'life-threatening', 'milkshake', 'keep', '@webmodi', 'wonderful', 'horrifying', '_ù_ä_ùôè_ù_', \"it'll\", 'primarily', 'hurtling', 'movies', 'https://t.co/rllo4h9uim', 'champ', 'ava', 'voluntarily', 'card.thanks', 'likewise', '@laurenann01', 'sends', 'while', 'script', 'hulu', 'slurpee', '#rotana', 'acting', 'ignorance', 'manning', 'decides', 'https://t.co/vrscyhf79u', '@fosterthepeople', '#sleep', 'wonder', 'jaejoong', 'fam', '@tallzorah', '@jgeorgia1', 'https://t.co/zitc4eol04', 'guess', 'try', 'will', 'tariyah', '6-3', 'boredom', 'realdonaldtrump', 'crossing', 'zak', 'horrible', 'abbott', 'butt', 'starbucks', '#crownroyal', 'silver', 'whoever', 'subsequent', 'cure', 'duplicity', 'eclectic', 'laugher', 'washing', 'slammed', 'shivers', 'swivel', 'also', 'floors', 'groundbreaking', 'girl', 'yards', 'thankful', 'broadwayhd', 'jamais', 'artistic', 'azul', 'sh-t', 'savannah', 'https://t.co/qumh8nh1hq', '#conditioning', 'fogo', 'tumblr', 'https://t.co/tnihpwlnp8', '@magcontour', 'bed', 'fashion', '@senatormenendez', 'cozy', 'number', 'https://t.co/dsot2qg5nc', 'weirdos', 'ou', 'gluten', '#freshair', 'guest', 'loud', 'liked', 'hold', 'stupid', 'neh', 'dj', 'flower', 'lt', 'ms.oseni', 'smart', '@z100newyork', 'insight', 'ribs', 'name', 'speeches', 'gizara', 'welp', 'ü_ùõð_ùõ', 'onedirection', 'https://t.co/1zuvq9pypb', 'tobacco', 'longer', 'packaging', 'https://t.co/fkyr6gtvje', 'respect', '@gazcook', 'surely', '@tatari_bot', 'bangs', 'olympus', 'bath', 'x', 'intellectual', '@ukhouseoflords', '@voldemortsbicep', 'shes', 'arm', 'taemin', 'rad', '@jakenutting', 'https://t.co/d9kfazbjsf', 'https://t.co/lye6mfskbe', 'whatnot', 'weird', 'suckas', '#exposure', 'doable', '@pamsvampmaker', 'steelworks', 'buildup', 'rolling', 'greater', 't', 'lasts', 'nuts', 'contacting', 'sexual', '27th', 'ochem', 'https://t.co/dbf9nojepp', 'award', 'encouraging', 'teak', 'easy', '@apsteig', 'boys', '@ebwashington', 'https://t.co/bpehw7a7ml', 'organisations', 'homosexuals', 'report', 'ü_', 'dm', 'tons', 'oh', 'dried', '#nutritionmatters', 'icelandic', 'kenyam', 'studying', 'oct', 'https://t.co/joibe878he', 'ûïenlightenism', '2k', '@charlotte1dtv', 'intent', 'deciding', 'bull', 'standard', 'evil', 'being', '@shumiley', 'snuggy', 'station', '@unhcrjo', 'https://t.co/vpoadxpthl', 'larkinville', 'york', 'sons', 'î', 'o', ':(', 'black', 'https://t.co/tbl0wtb6yq', 'â_ùõû_ùõû_ùõû', \"nicole's\", 'mm', 'disappointed', 'luther', 'https://t.co/eu0e0hfy7f', '_ùªä', 'https://t.co/8fidemz1tn', 'gentlemen', 'celebrities', 'comfortable', 'https://t.co/sfvqjve4p9', 'https://t.co/j7nll7b429', '6ta', 'woo', 'speed', 'intro', 'pedophilia', 'fly', 'kept', 'tapes', 'omww', 'bad', 'cybersecurity', 'immensely', '\\x8b', 'shld', 'm8', 'https://t.co/pksntiedvy', 'jade', 'weirdest', 'don', 'hath', 'yea', 'sick', 'stolen', 'shame', '@fe_ptr', 'dat', '#buggy', '15:2', '@nanowrimo', 'museum', 'making', 'exact', 'thou', 'voice', 'cards', 'isupk', '@wendy_mc', 'wives', '@jessica_josie04', '#mac', 'deals', 'zombie', 'https://t.co/uyjqtohmqa', 'jewish', 'nikki', 'cheat', 'baroness', 'scandalous', 'oilfields', 'https://t.co/zspk45qe6d', '@natemusic13', 'smoked', 'yams', 'crescent', '@ronstartengine', '@mrplimsole', 'puts', 'risks', \"film's\", 'sometimes', 'bunny', '_ùî', '#fail', '#seniorcare', 'years_ù', 'labels', 'https://t.co/bnfsy313xs', 'doubted', '@teamstream', '#forex', 'lend', 'notifs', '@abby_teee', 'halo', '@ozzybosco', 'realistic', '#zuckerbergs', 'headphones', 'turn', '#transitioning', \"other's\", 'https://t.co/3xwgnix2r3', 'even', 'ill', 'wolf', 'melon', 'https://t.co/8anyvhudgz', 'across', 'discussion', 'careful', 'thinking', 'great', '#topstories', 'gas', 'ass', 'french', 'max', 'kids', 'worrying', 'avoid', 'movement', \"bieber's\", 'advised', '#nnt', 'was', 'democratic', 'yours', '@softwarmground', '@ladystyledmc', 'very', 'unkillables', 'bestfriend', 'suite', 'created', 'world', '#memes', 'should', '#indyref2', '#atxjobs', 'adorable', 'welsh', 'breakdown', 'grit', '@danielwickham93', 'https://t.co/sad2osavov', 'pose', 'talented', 'ûïaffordable', 'fill', 'austin', 'bc', 'own', '@patrickcoffee', 'smells', 'city', 'infield', 'shorts', 'woos', 'current', 'wounds', 'vs', 'ppl', 'cradley', 'hate', 'shawshank', 'https://t.co/3hp3tcdbww', 'https://t.co/rdky8sicef', 'threatening', 'https://t.co/ignoh0qhsh', 'episode', 'unbelievable', 'huh', 'quiet', 'https://t.co/ipccx7zuda', 'cardoon', 'buying', 'ani', '@sidiedey', '..', 'meet', 'doubt', '@k8bame', 'collapsed', 'mess', 'comeback', '£', '@paterson1903', 'rolled', 'https://t.co/mwsoyvyk4g', 'hats', 'typesetting', 'maula', 'screensaver', 'rewards', 'harly', 'monster', '@saranghamy', 'https://t.co/2gvlpi2svf', 'staying', 'sleeps', '@emmafreud', 'stored', 'wood', 'marten', 'ibis', 'describe', 'lunch', 'tea', 'co-opt', '#doctorsorders', '@420columbus', 'shop', 'channels', 'freaking', '#history', '@the_sweeper999', 'plz', '#pontevecchio', 'khayla', 'screening', 'loved', '_ù_ó_ùò__ùõ', 'throats', 'tune', 'history', \"x'd\", '#whatyagonnado', 'headset', 'nigga', 'semenyihh', 'baby', '#best', 'lowkey', 'https://t.co/ixbfwi8wn9', 'profit', 'https://t.co/nmjpo3mvgv', 'oreos', 'starts', 'broooo', '@reiatabie', 'https://t.co/rpq2akbwbh', 'genius', 'sorryåê_ù', 'commit', 'apologies', '70.3', 'acquisitions', 'auctioned', 'has', 'kck', 'struck', 'pains', 'https://t.co/gtwlhieoqj', 'account', 'team', 'something', 'attention', '@caspar_lee', 'kim', 'plane', '@dejavueq', 'tub', \"who'd\", 'long', 'coolest', 'photographed', 'hero', 'hurry', 'dyke', '#prebreak', '@papicoast', 'nasty', '@popandpress', 'heal', 'finding', '@rift_revolt', 'benefits', 'hype', 'https://t.co/qkxpbwlw1o', 'asked', 'https://t.co/fn74cywvty', 'earth', 'ride', 'winner', 'gig', 'trainer', 'unfortunate', 'balls', '@runwiththedogs', 'matthew', 'spleen', 'https://t.co/ngve8htktt', 'trappers', '@neverlandjadam', 'https://t.co/vk6odmng3m', 'malicious', 'stick', 'advert', 'dick', 'stoked', '#search', 'rule', '#oth', 'fulfilling', 'friday', 'bear', 'unhealthy', 'https://t.co/lrfdau7rji', 'missions', 'vendor', 'recording', 'michael', '@itsalesa', 'web', 'toe', 'misconceptions', 'needless', 'holla', 'ache', 'tells', 'https://t.co/ixj4wmvsmr', '@meghanarmani', 'demands', 'catchy', 'smacked', 'avg', 'victims', 'edge', 'dressing', 'ma3o', 'buffer', 'https://t.co/s7spviyfox', '@wwe', 'fitz', '5mbps', 'https://t.co/qu3wswvwbi', 'consider', 'https://t.co/buxtvazv2t', 'mutes', 'skrein', 'anonymous', 'ran', '@veganmonkey', 'misty', 'https://t.co/tgsrhdrigk', '@no_cut_card', 'please', 'forgetting', 'screen', '@ukenyatta', 'https://t.co/fbvqmyip9u', 'messed', 'comic', '50mph', '#meow', 'papa', 'snowboard', 'professors', 'tucked', 'total', 'qualify', 'mothers', 'branch', '@magnessmayhem', 'unelected', 'if', 'snow', '@pprincesaputa', '#shesahoeif', 'https://t.co/ailh9dpegr', 'model', '@infobrokerkanra', \"husband's\", 'you_ùõ', 'creep', 'testing', 'wave', 'ineffective', 'cases', '@arsenal', 'gold', 'contagious', 'ashleymadison', 'shocking', 'pushed', 'journey', '#strongwoman', 'ûï', 'forth', '-2.12', 'handled', 'sings', '#debate', 'away', 'tazer', 'bags', 'twins', '@utah_football', 'https://t.co/qi7g0vhbxl', \"won't\", 'torture', 'suggests', 'actors', 'aww', 'https://t.co/sotbanma02', '#nowplaying', 'liberals', 'gear', 'allergy', 'fuckinng', 'committing', 'tbt', 'asswipe', 'alive', 'baltic', 'tulancingo', '_ù', '#bluesky', 'university', 'ambassadors', 'puertorico', 'welcome', 'highschool', 'discovered', 'reds', 'shaft', 'remedies', '@darealdeegottii', 'taxed', 'cables', 'relatable', '#art', 'space', 'age', 'twd', '@kenziwilliams_', 'did', 'https://t.co/qgcpzetlzk', 'brought', 'copy', 'hacker', 'izaya', 'followed', 'apps', 'selfies', 'https://t.co/0ixl9j1vfq', 'shaming', 'bruh', 'seydo', '@amandaddington', 'dey', 'teddy', 'strike', '@carlosmunoz034', 'burgers', 'jack-o-lanterns', 'gtf_ù', 'spirit', 'coupon', 'tendency', 'brown', 'rest', '#nieceinvasion', '@chrisr249', '@elvisduranshow', 'rings', 'https://t.co/mysod8d1tu', 'style', 'push', '#imafan', 'rainbow', 'needs', '1.5', '@michaeljwaldron', 'powwow', 'lobbies', 'wheeler', 'ûïso', 'oxted', 'sarcasm', 'ý', 'self', 'sounds', 'https://t.co/0057bowkey', 'dallasxford', 'dean', 'rarely', 'rain', 'doppelgì_nger', 'annual', '#pyramids', 'everydaydayiloveyou', '@5sos', '@shemarmoore', '@namaikilips', '@esmerovka', 'zoo', 'https://t.co/bvqr7gvsjx', 'towards', '@smokyburnout', '@robertbohan', 'both', 'forty', 'bread', 'https://t.co/us2nxwbu6w', 'xdqv', 'sekonda', 'allah', '@brontejeff', 'recruitment', '@mikichiappinell', '#careerarc', 'protecting', 'tight', 'immediately', 'comet', 'lanes', 'fancy', '29th', 'thursday', 'reigns', 'sounders', 'sound', 'facebook', 'https://t.co/w6rtcfw70x', 'dunno', '#memorymonday', 'https://t.co/uubjdzm6ts', 'https://t.co/p0bapa7lzt', 'angeles', 'davido', 'sat', 'statute', 'startup', 'https://t.co/t0arfz0blr', 'squads', 'transitory', 'snaps', 'taste', 'idis', 'poison', 'tos', 'lights', \"hasn't\", 'fav', 'strange', 'bounties', 'hello', 'dilley', 'odessa', '#ffiec', 'lim', 'https://t.co/f1vmznrkc4', '@ibminsight', 'parent', 'classic', 'cheated', '#empoweringmamas', '#contentchat', 'fetus', 'parking', 'guarantee', '@cindygallop', '@markhaynes', '@nectar', '@coles', '#silentgrind', '#ids', 'https://t.co/ovuyeaezkx', 'secret', 'https://t.co/iymsvho6vo', 'subscribe', 'https://t.co/plhwwfb4us', 'fauna', 'lessons', 'cd', 'said', '@philcrissman', 'singles', '#baby', 'niven', 'never', 'loneliness', 'dating', 'coach', 'decent', 'meantime', 'cooper', 'cali', 'draw', 'expansion', 'cupcakes', 'terminally', 'traumatised', 'harder', 'found', 'podcast', 'marquei', 'bathroom', 'joe', 'clients', '@marielleyeaah', 'losses', 'sardar', 'mcs', 'yamaka', 'must', 'chains', 'coyrs', '@diami03', '\\x84', 'neighborhood', 'toes', 'feed', 'eastern', '#4daystilfocus', 'uss', '@supervisorjosie', 'definite', 'grooving', '@captainsparklez', 'gpus', '@jason_mraz', 'wine', 'twenty-one', 'specific', 'inspirations', 'tire', 'ta', '#fast', 'thine', 'ü', 'compelled', '@hollyjoee', 'https://t.co/xgzurpduzl', 'respond', '@yorkssocialist', 'threw', 'tests', 'picking', 'articles', 'can', '@lafonh', 'jasiabsjabdh', 'shopwtd', 'revolved', '@mrsapinter', '@thesmithminute', '#askussegl', 'zelda', 'https://t.co/titfypmwtj', 'hahah', 'customers', 'brennan', 'wifi', 'breath', 'https://t.co/mf0l3uvp7h', '140,650', 'onto', 'https://t.co/ivlxmydo8g', 'database', 'timeframes', 'chairman', 'invite', 'bogged', '@kyebillyion', '#holylife', 'scott', 'se', '#memek', '31st', 'narrative', 'woolyboy', 'services', 'workout', '#artistoftheyear', '@sexyvampireking', 'hunger', 'blames', 'modern', 'cigar', '#jmteam', 'wyatt', '@instagram', 'marshall', 'munching', 'floor', 'irony', 'https://t.co/qyqzqr5qo2', '#excited', 'goes', 'mend', 'place', 'lairs', 'picked', '@roman_empire_76', 'https://t.co/hhj3qlixqe', 'https://t.co/lw4vjgpja8', 'alrigdht', 'thumbs', 'knowing', 'program', 'e3', '10x', 'thy', 'stuff', 'boo', 'comfort', 'knocked', '7.15', 'associates', 'https://t.co/ehw2ii9zns', 'https://t.co/yldcihb7qw', '@tombertram91', 'munchkin', 'nasir', 'texts', 'lil', 'fwy', \"i'ma\", 'days', 'undertale', 'convenient', 'role', '#northeasthour', 'mix', 'active', 'travelling', '__ù', 'bite', 'jams', 'harri', 'qhyqbqs', '@thetributeact', 'alcwnt', '#smoke', 'tom', '@deiafayette', 'strobel', 'tonight_ùõï_ù', '@thomasrhett', 'early', 'per', 'emas', 'jd', 'crappy', 'overflow', 'mal', 'buy', 'easily', '@frannyhilson98', 'getting', 'https://t.co/ioqdx4lgxt', 'fitness', '@sharanyashettyy', 'snake', 'protein', 'female', 'brothers', 'apart', 'fyi', 'kansas', 'iå', '@asyrafrobani', '#corn', 'title', 'energy', 'ks', 'genuine', 'khadijaa', '1/4', 'dameisha', 'typical', 'ejaculatte', '_ù_ñ', 'politicians', \"shouldn't\", 'certainly', 'ep3', '@amyklobuchar', 'https://t.co/gkfbudrpyu', 'director', 'automatically', 'healthiest', 'https://t.co/7ebqxeozoc', 'faster', 'due', 'test', 'bricking', 'to', 'á_ùýî', '@omegaarte', 'residence', 'increased', 'stroking', 'where', 'pyjamas', 'organs', 'officer', 'repeals', 'songs', 'nuski', 'https://t.co/qgzczlct6h', 'my', 'mp3', 'could', 'movie', '_ùôö_ùôö', 'morning', 'woman', 'surprised', 'shoveled', 'alert', 'male', \"everybody's\", 'strippers', '@odeoncinemas', 'returns', 'jerrys', '@teddyblowrr', '@sadsackjetsfan', 'mergers', 'https://t.co/skcotypwu5', 'pioga', 'moyes', 'panicked', '@exeter_phoenix', 'substitute', '@sascat', 'usual', 'more', 'arrangement', 'certifications', 'lukich', 'athlete', 'policeman', 'macklemore', 'rid', '@youngnba', 'https://t.co/hjqbl7xb5g', 'domain', 'blanked', 'partnered', 'streets', 'demand', '#banjos', 'chilling', 'buildings', 'nta', 'phone', 'anime', '@hockeygrrls', 'premier', 'rude', 'wey', 'eastleigh', 'stomps', 'pit', 'bride', 'failure', 'concerns', 'faith', 'wilson', 'nato', 'least', '@hrcage', 'sockets', '#collaboration', \"he'll\", 'tracklist', 'registration', 'ur', 'https://t.co/7pohltafgm', 'tomoz', 'doin', 'aries', 'damn', 'ssd', 'https://t.co/tfm07ax4fu', 'velvet', 'spaces', 'raspberry', 'hers', '20,000', 'ipad', 'replay', 'queens', '1970s', '_ùªî_ù', 'difference', 'ûªll', '@tomi_tapio', '#travelexpert', 'grandmother', 'tariffs', 'countdown', 'technical', 'cheerleader', 'adjusting', 'essays', '@katieliddlee', 'fire', 'win', 'shaded', 'trans-pacific', '@grahamwolfe1', 'supply', '_ùô__ù', 'karen', 'bader', '3.wisdom', 'virginia', 'https://t.co/gafuu1ueu9', 'michigan', 'completely', 'crushed', 'media', 'though', 'potential', 'husband', 'è', 'monopoly', 'hassling', 'bangles', 'pom-bear', 'iced', 'kit', 'books_ù', 'https://t.co/i3clomkemd', '@smosh', 'incorrectly', 'swat', 'https://t.co/t9re2avycm', 'threesome', 'trait', 'sabres', 'ss16', 't.co/pgvbtknt2f', 'legalise', 'https://t.co/wqwcoyktzw', 'photo', 'zone_ù', 'mapnduma', 'cios', 'top', 'whizzing', 'insell', 'replace', 'buggy', 'changing', 'frey', 'hot', 'https://t.co/qwa6bveeru', 'vision', 'settle', 'woow', 'weak', 'refirm', '#lifefoodawards', '#whyimnotvotingforhillary', 'ìï', 'ultimate', '_ùªä_ù_', 'the', 'dressed', '-', 'christina', 'https://t.co/6c0cfihgm4', 'sunday', 'mokoto', 'jordan', 'gossiped', 'pen', 'thought', 'opposed', 'lashed', 'love', 'magically', 'waiting', 'average', 'five', 'mike', 'https://t.co/rjfcc6qbre', 'redemption', 'sparklers', 'windows', 'sharing', 'asl', 'fb', 'break', \"bacon's\", '10-23', 'goodbye', 'sum', '@horseshowtutor', 'barlow', 'nut', 'https://t.co/kgmaybpbez', 'blood', 'moorhead', '@bigfinish', 'krazy', 'strings', \"we'll\", 'https://t.co/avsk2gfnfn', 'redbridge', '@chelseacharmsx', 'better', '[', 'w', 'con', 'charged', 'baskets', '@bran_johansen', 'redefined', 'featured', 'nascar', 'money', '@talktalk_uk', '@probs_accutane', 'preparing', '@fullfrontal', 'https://t.co/7jfao9v3pl', 'raise', 'https://t.co/ylzc72x97y', '#bispak', 'hulk', 'esmond', 'catty', '@peterjukes', '@eliomotors', 'mechanics', '@patilirana', 'niggas', 'encourage', 'breakfast', '@_awkwardasia', 'palms', 'leg', '¦', 'continued', 'twitter', 'thursdays', 'trap', 'salty', 'https://t.co/gg70qflc6d', 'palpable', 'martin', 'smiley', '#halo5', \"dm'd\", '#antiques', 'markings', 'ear', 'https://t.co/pti1nvcmdf', 'https://t.co/5hmsrzjpmh', '@harley_b_x', 'https://t.co/deppmo9khf', 'yelling', '@laurabraden2', '@kimlonginotto', 'strokingeth', 'sleep', \"i'll\", 'https://t.co/i66w2rtcnu', 'https://t.co/gcebnm3cfe', '#parent', 'https://t.co/jpghzjmh5s', '#trump2016', 's', 'pulled', 'increase', 'hve', \"o'brien\", 'necessary', 'subscriber', '#data', 'intersectional', 'https://t.co/y2mbodgk8x', 'superposition', 'agdfjk', 'corner', 'quintessential', 'bottle', 'smooth', 'retail', 'they', 'genteelness', \"they'll\", 'genders', 'https://t.co/6vyvi7fsyo', '@mabellechedid11', 'hopes', 'simply', 'feeling', 'mint', 'reaches', 'won', 'text', '@emmacmodel', '#hollyoaks', '4:20', 'awake', 'accomplishments', 'asking', 'xndnnfn', 'issues', 'asleep', 'trembling', 'sun', '@britishlibrary', 'writes', '#ifitwasntforyourpussy', 'working-out', 'elementary', 'mountain', 'https://t.co/egmqbe6kqr', 'engineers', 'https://t.co/sqfuknx2ou', 'soto', 'https://t.co/eq9ssbb8ek', '@chandastar74', 'helps', '#earthquake', '@icaleb_7', 'beard', 'lady', 'googled', 'up', 'braincraft', 'printers', '...\\n...', 'restrict', '@limonilabouche', 'soz', 'officers', 'spring', 'fed', 'parade', 'https://t.co/eghb5yvmjz', 'activist', 'advantage', 'fabric', \"someone's\", 'questions', 'generation', '@bleululu', 'watch', 'https://t.co/5kxnkjwizg', 'memory', 'biglari', 'supposed', 'grades', 'romeo', 'illinois', 'ironic', 'https://t.co/u7z6pmbzqg', 'gallons', 'spew', 'scars', 'does', 'netherlands', 'cabaret', 'monday', 'basic', 'https://t.co/snjwuz8ox0', 'dye', 'grade', 'intel', 'impoverished', 'vibes', 'blame', 'pressure', 'www', \"let's\", '@livestockcanada', 'possible', '#feedly', 'depends', 'invented', 'olu', '@kynarrr', 'sanitary', 'wedd', 'dawg', '@dan123mc', 'sticking', '#freetix', 'ff', 'concept', 'breathing', 'pisses', '@ironghazi', 'finna', 'construction', 'pease', 'carmelo', 'wednesday', '#goldengate', 'round', \"ain't\", 'tortuary', 'co', 'fats', 'hand', 'https://t.co/9do7c5e3mg', '#fitness', 'neat', '@lincssnapper', 'https://t.co/cztjs9ma5u', '@madisonellebeer', 'transcript', 'hud', 'delivering', 'wen', 'lewis', 'g.skill', 'pace', 'extended', 'capitally', 'https://t.co/fn8pwcjnyx', 'say', 'choose', 'livingston', 'biases', 'add', 'junk', 'crisis', 'https://t.co/qqgscjj40q', '_ùõï', 'chosen', 'managing', 'egyptians', '@buffalotraceuk', 'wonderwall', \"louis's\", 'warden', \"slipknot's\", 'hands', 'åø', 'follow', 'https://t.co/h806cwttgw', ':\\\\', '@adfresco_print', '#iraq', 'promised', '@rodbelgrave', 'marks', 'https://t.co/uj7t6johip', 'bruce', '@gottabe_kd2', 'a1', '#plantbaseddiet', 'light', 'lfari', 'grandparents', 'queen', '#igiveup', 'choses', 'cuts', 'hedge', 'revolutionary', 'right', 'gods', 'letting', 'cling', '#haze', '@keightdee', 'back', '@brickwares', 'bearberry', 'colalife', '@iimag', '@ncixdotcom', '#mashable', 'https://t.co/66gueyiks4', 'http:https://t.co/lge6iqgdnw', 'notebook', '@aliayashh', 'garst', 'florida', 'grimes', 'integration', 'quantic', 'valentina', '@awinehouse1', 'eating', 'bitches', 'cookies', 'wake', '@daraedits', 'giants', 'learned', 'negativity', 'treks', '@_bvm', 'established', 'theater', 'allåê', 'https://t.co/nlgwvf1mpg', 'realises', '#amazonprime', 'center', '@kookypixel', 'upb', 'https://t.co/jrgcdmvral', 'm', 'cage', '@lalakristiansen', 'https://t.co/0dxz5rsvkp', 'conjoint', '@revolutionmonk', 'colouring', \"apple's\", 'east', '@openforum', 'adulterers', 'clue', 'https://t.co/nxedn30aub', 'snoopy', 'cheers', 'talk', 'confidence', 'yesyesyes', 'https://t.co/8kax5mw8j0', 'les', '@dudefrumva', '@olivia_mullen13', 'effort', 'topupdated', 'spinnin', 'co-stars', '#pumpkin', 'breayhe', 'tudur', 'mjhy', 'reception', 'sisters', 'https://t.co/jp7lsfkkrx', 'monica', '@lamarahhal', 'sphinx', '@tracenarry', 'reported', 'https://t.co/durstrbleq', \"she's\", '@shewcyout', 'faces', 'such', 'worst', 'drugs', 's02e02', 'bricks', '@helpscout', '@gordon_keenan', 'heads', 'giant', 'billboard', 'jared', 'biiiitch', 'ygod', 'vix', '@sportsguy_83', 'pledger', 'pins', 'otto', '@', 'wanting', 'jamtini', 'choppas', 'helpful', '@vodka_n_henn', 'raining', 'standing', '@healthypasta', 'comics', \"who'll\", 'nickels', 'australian', 'trauma', '@regalhiddles', 'https://t.co/jzazaaepu3', '@chris_webb1', 'stevia', 'straw', 'baggage', 'esco', 'whoop', 'beards', 'woooooooo', 'times', 'grammy', 'christ', 'dramatize', '__ù_', 'mac', 'indonesia', 'fans', '@jackmorlenfc', '5th', 'giving', 'dangers', \"aigoo'ing\", '@oukurui', 'strongly', 'celty', 'height', 'hella', 'lauren', '@fllharry', '@glockcityy', '¬', ',', 'convince', 'reasonable', 'nonprofits', '@onceuponatimekw', 'james', 'burnt', 'slay', '#boo', 'clown', '@21tyke', '#health', 'stations', '@alyssacoren', 'https://t.co/p427buy5so', 'question', 'greenhouse', \"archbishop's\", '9/10', '@hchicles', 'weapon', 'allocation', '@debo_bugatti', 'rose', 'hip', 'means', 'uglyy', 'lab', '23mbps', 'deepika', 'fuerteventura', 'disco', 'innocent', '@mahmoudalkurd', 'horizon', 'junior', 'pissed', '#spectre', 'incredible', '#nevermind', 'tape', '@arlenehittle', 'algo', 'remind', 'wan', 'got', 'paying', 'dogs_ù', 'pride', 'winchesters', \"ûïdon't\", '@hatfieldjason', 'https://t.co/slpzfxmqny', 'license', 'doctor', 'couch', 'um', 'dvds', 'standout', '#sweepstakes', 'pictures', 'nephew', 'im', 'twitching', 'six', 'morals', 'checked', 'know', \"didn't\", 'comments', 'modeling', 'marking', 'dollars', 'future', '#selfies', 'bexleyheath', 'squeeze', 'postpartum', 'zss', 'aint', 'eye', 'mound', 'lucas', \"band's\", 'negima', 'trafficking', 'candidates', 'barley', 'spread', '!', 'gavin', 'https://t.co/adbisv9fof', 'https://t.co/vxenusut4e', \"jason's\", '@vicesports', 'https://t.co/axx6gegdnq', 'block', '__ùõø', '#savannahfilmfestival', 'buses', 'emotional', 'winds', '@cfbalbert', 'rethink', 'hilarious', 'https://t.co/pxutomgjxf', 'wars', 'effective', 'mate', 'https://t.co/rielk2ka2f', 'community', 'https://t.co/cu3h4ifhms', '#etsybot', '@nicklavato', 'beech', 'seen', 'rehab', 'tadah', 'bethune', 'imitation', '@sovereignplc', 'browns', 'imagine', 'botch', 'decided', 'makes', 'prison', 'unfairly', 'sb', 'https://t.co/koba08mfzy', 'signed', 'obamacare', 'crying', 'alternative', '#sorrynotsorry', 'truro', 'trees', 'hosmer', 'https://t.co/0kbkm1tddd', 'miss', '@mikelindblom', '@billsbuzztap', 'probably', 'force', 'dedicated', 'arguing', 'pleased', '#ashyniggasmondays', 'mad', 'sturdy', '#amazon', '@krusherkovalev', 'blocked', 'ill-intended', 'homework', '@lomadia', 'grateful', 'distant', '@jakerabegum', '@firefox', 'https://t.co/su28auk8xs', 'uploading', '@lvanderkam', '@atticus_amber', 'https://t.co/8mrsoe9our', 'hit', 'criminal', 'country', 'poisoned', 'tilleys', 'argue', 'tyger', 'https://t.co/eypeigdthv', 'https://t.co/hrkxyw8kqa', 'ó_ù', 'backyard', 'flawless', 'things', 'https://t.co/zpfutkplvi', 'left', 'perf', 'https://t.co/nms52uverj', 'cheque', 'our', 'count', 'lawyer', 'pick', '@cchltier1', 'dying', 'end', 'anxiety', 'appear', '@wordpressdotcom', 'seminar', 'fclifn', '_ùó', '#happydays', '@martiaianthony', 'https://t.co/kuffkgnqmu', 'execution', 'chain', '#microsoft', '#cookies', 'anthony', 'arms', 'toughness', 'https://t.co/dakcram6yj', 'valued', 'jester', 'coffe', 'waqar', 'saved', '#ghhsci102615', 'restless', 'feuilly', 'faint', '1/2', '@alextichenor', 'yeah', 'wrote', 'iu', 'iz', 'formatted', 'cowdamnit', 'aaand', 'studios', 'way', 'alarm', 'tweeted', 'tarantino', '@yahooscreenuk', 'pool', 'surge', 'proportion', 'cannot', 'shady', 'mixing', 'xiao', 'aboard', 'est', 'cares', 'https://t.co/3huxxiimm3', '8p', 'https://t.co/gxnaytixsr', '@kiro7seattle', 'st', '#foods', 'exp', '2å', 'senior', 'tattoos', '@heatheresanders', 'bff', '140,655', '75k', '#recipes', 'israel', '@washboard_92', 'complimented', 'pee', 'smile', '12-20', 'christmas', 'capital', 'mastercard', 'richmond', 'swung', 'groom', '#yiss', 'https://t.co/1wohqinkav', 'sucks', 'pa', 'november', '@hassmufc', 'former', 'https://t.co/ias8glxgor', 'bites', 'voices', 'motion', 'https://t.co/hajijeg0oj', 'shouted', 'ethnic', 'rape', 'learning', 'championship', '@sophieejn', 'crossed', 'gallery', '@liberienne', 'pacers', 'https://t.co/kzsgnchhnp', '#socialmedia', 'italian', 'https://t.co/lpe7rghcfx', 'sucking', '@westcheshirefb', 'soy', '#squatforasstomatchsass', 'https://t.co/aeuxbda49u', 'brisk', '@11freeman11', '#positive', 'millions', 'https://t.co/3qtw5xtn4z', 'extinction', 'ms.cobbler', 'sis', '@thompsontay', 'swing', '@tyler___nelson', '@michellemone', 'dare', 'accused', 'outside', 'include', '\\x95', 'protesters', 'itunes', 'ûïspray', 'contempt', 'spit', 'ê_ùîà', 'rich', 'az', '#fblikehour', 'https://t.co/d780eyt6vj', 'clinton', 'starters', 'indirects', '@youtube', 'message', '@athleticeq', 'https://t.co/pre0oicvyr', 'the-meeting-of-two-personalities-is-like-the-chemical-substances', 'agent', 'boots', '@nba', '@dillonmcg', 'https://t.co/ir6ljhbty7', 'wreath', 'https://t.co/wqbeigw8d6', 'https://t.co/rjeiamvxvg', 'fruit', 'tomorrow', 'girdle', 'street', 'talents', 'ive', 'https://t.co/wqzzrbatoi', \"they're\", 'outdoors', '@baschools', '@batigersfootbal', 'scene', '#onedirection', 'pilot', 'spine', 'catches', '@amman', 'colored', 'dogs', 'desert', 'bleed', 'cancer', 'https://t.co/ul1pmjgrft', 'gary', 'enjoyable', '@faithm644', 'dea', '#idaho', 'biting', '#dominion', 'sc', 'rescues', 'https://t.co/37zmjarlat', 'subject', 'we', 'wit', 'then_ù', 'decisions', 'ohh', 'cody', \"you're\", '@niallofficial', 'nieces', 'writing', 'ingnashov', 'waking', '@rodimusprime', 'promoted', 'classes', 'hepburn', 'bedal', 'nhl', 'abba', 'surprising', '@nldavisdc', 'ummm', '7k', 'audrey', 'https://t.co/twgv98bwvq', 'switches', 'you', '@jfd1960', 'campbel', '@weldpond', 'etc', 'ljavascript', 'now_ù_ñ', '17-20', 'burger', 'disrespected', 'applications', 'monty', 'him', 'engaged', 'dinner', \"god's\", 'shares', 'frank', '#truth', 'open', 'protected', '#diy', 'overland', 'oger', 'nez', 'rockstars', '@omega_elsie', '@actforisrael', 'celebrate', 'brands', 'https://t.co/q1xjnvgg58', 'length', 'sectors', '@essencemag', '@artschoollpool', 'https://t.co/nnciaj8woi', '@bastudentsec', '@eqcompliments', 'management', 'series', 'https://t.co/o5g12qzpye', 'paper', '#amas', '@lynnmott2', 'sausage', 'https://t.co/6kfk6ss9qn', 'lived', 'silence', '@askhobo', '@allycolumbo', 'agencies', 'vocals', 'one_ùôé', 'written', 'soviet', '#sweeps', 'og', 'caring', 'cienna', '@bigghini', 'wide', 'cold', 'wyfie', '__ùô__ù', 'via', '@blakej7', 'pieces', 'choice', 'experiences', 'û_im', 'lachlan', 'festival', 'father', \"kamakawiwo'ole\", 'https://t.co/77iahulaf4', 'joined', 'masses', 'heights', '#thoseboys', 'chipotle', 'joint', 'https://t.co/pjitviiy3y', 'turnip', 'cant', ':', 'altered', '2.8', 'accident', 'https://t.co/kckhudvrzy', 'nov', 'product', 'forgot', 'jilihygust', '@natracuf', 'reflect', 'features', 'clean', 'vintage', \"doesn't\", 'jingle', 'high-principled', 'tmj_aus_manuf', 'paid', 'heartbreaks', 'profound', 'fresh', '@jasmin_bishop', 'obtaine', 'tights', 'decades', 'devil', 'apopka', 'houses', '@kirkherbstreit', 'mechiedeuce', 'dip', 'them', 'outfit', 'portsmouth', '#askhcsi', \"night's\", '(:', 'explodes', 'kroger', 'consistently', 'enjoying', 'continuity', 'rope', 'xenophobes', '@paullawriegolf', 'https://t.co/strw1dc4xe', 'beeeeeeddddd', 'kleenex', '#emas', 'past', 'skates', '#mybabies', '@colinsdabomb', '@danistarkidcris', 'tuxedo', 'wrong', 'sweating', 'https://t.co/8x9d2k06y0', 'prays', 'her', 'advance', 'funny', 'rather', 'missing', 'children', 'bizarre', '@money_chaser012', 'winners', '@runthetrap', '294.1', 'when', 'bill', '1st', 'close', 'teeth', 'starting', '@guy_garvey', \"v's\", 'goddamn', '#houseoflords', 'providing', 'us.white', 'fine', 'a', 'datings', 'quick', 'tennant', 'renewing', 'ugghhhh', 'without', 'points', 'nation', '@cbnovels', 'stunt', 'roker', '15:40', 'offered', 'scrubs', 'falsetto', 'ï__ù', 'but', 'earthquakes', 'pain', '@combotronrobot', 'chaos', '@imdambassador', '#ngentot', 'hoes', '@mcjuggernuggets', 'diane', 'https://t.co/gaaqismx8v', 'themselves', 'analysts', 'living', '\\x90', 'https://t.co/zmrhsmm3dq', 'machines', 'too', 'laughable', 'tolerate', 'itsy', 'invasion', 'beginners', '@argos_online', 'lì', 'explain', 'maravilhosp', '@lridessa', 'https://t.co/nmzfaxsbte', 'later', 'business', 'app', 'https://t.co/srggxjuxyk', 'myself', 'who', 'avocado', 'superstar', ':-(', 'charges', 'outrage', 'store', 'https://t.co/egb8t3moox', '#wwehiac', 'entering', 'superman_ù', 'pregnancies', 'q5', 'girls', 'vote', 'winning', 'retweets', 'finsahome', '¨', 'samantha', 'cheeseburger', 'hours', 'charity', 'rollins', '@jodilduncan', 'divorce', 'á_ù', 'ò', 'wsj', '#2015tweets', 'planet', '@bellracingusa', 'madness', 'https://t.co/2fsfwizpfk', 'prerequirement', 'innovative', 'sort', 'kh', '1,500', 'prime', 'https://t.co/lwasch4sdb', 'https://t.co/roactnlhdk', 'self-esteem', 'dennis', '@theregentpalms', 'sigh', 'penis', 'candid', 'syria', '@jatsabdul', '#possesedbaby', 'hora', '@leonwobyp', 'cruise', 'pats', '@lukedoesrp', 'jenner', 'https://t.co/tsbvgrt7ep', 'cousins', 'shots', 'chad', 'juggies', 'scanning', 'saturday', '@rhys_jones16', 'survive', '#endalz', '@sbsun', 'proficient', 'appointed', 'rare', 'roll', 'jaime', 'https://t.co/vbu2d5dzmc', 'vexed', 'geography', 'aru', 'hangover', 'straight', 'th', '#austin', '16-35', 'prolife', 'walked', 'far', \"joe's\", '@bhateketan', 'flat', 'hii', 'retriever', '3:15', 'lipse', '@markruffalo', 'involved', \"isn't\", 'population', 'worked', 'https://t.co/ko12ivl28b', 'sj', 'piece', 'selfless', 'divisive', 'auburn', 'aftershock', '@crazyindapeg', 'chancellor', 'flesh', 'traffic', 'courtesy', 'dreaming', 'dairy', 'busy', '@utvireland', 'oems', \"world's\", 'https://t.co/vj7zogsyv1', 'crochet', 'serious', 'rebellion', 'pipe', 'cavs', 'carb', '@bitemyapp', 'mourn', 'public', '#purpose', 'https://t.co/95gslb7kae', 'above', 'odd', 'yaaaaaaas', 'hunt', '#obama', '@coqblocker', 'gown', 'suppliers--google', 'color', 'artists', 'brings', 'findings', '@faithfulchickie', 'https://t.co/d6ibm6faqu', 'https://t.co/adoxrwdmsv', 'https://t.co/o9iscosbgm', 'halfway', '108,644', 'u-turn', 'internal', '@acaciabrinley', '#etsy', 'only', 'https://t.co/rtu2iwcqjl', '@jimmy_yeaman', '@ohsdarts', 'their', 'timeline', 'sexuality', 'foods', 'tough', 'words', 'https://t.co/adhzbubhqb', 'adult', '#dollarstorecrafts', 'ingoing', 'warehouse', '@portsmouthcath', 'jump', 'dagenham', 'thomas', 'always', 'cable', 'docs', 'mourning', 'either', 'kingfisher', 'andåê', 'accent', '#games', 'mps', 'vivid', 'putting', '@mssusiecue', 'deny', 'fighter', 'lassen', '@yeson3ohio', 'st-usa', '@1girl2cities', '@motoguzziclub', 'backwards', 'aka', 'donå', '@dj900', 'deserves', 'shaped', 'ont', 'https://t.co/gfwsjdfpdm', 'eventually', 'thrown', '@nataliegiblinxx', 'fleetwoods', 'promo', '<3', '@svicidemvssion', 'cup', '#english1tweets', 'walker', 'bare', 'religious', '140,651', 'obvious', 'egg', 'neurotransmitters', '#historynerdprobs', 'pioneer', 'earnings', 'spiritual', 'bigz', '@trent_hardcore', 'outta', 'are', 'banner', 'vacay', '#light_questionz', 'https://t.co/qqirhhn1uf', 'weeklies', 'years', 'bless', 'antebellum', 'x30', 'felicitous', 'https://t.co/9nbsmgz5lm', 'tried', 'ï', 'https://t.co/0fmqpaojae', '@say_ross', 'general', 'suggestions', 'existing', 'for', 'blog', 'wotsits', 'remain', 'rejuvenate', 'nervous', 'here_ù', '#silverscreentrivia', '@pizzapopniall', 'ashley', '#ibminsight', 'prohibition', 'takes', 'bucket', '#falive', 'dealing', 'drawing', 'stuffing', 'greed', 'kinda', 'alright', 'edition', 'awkwardly', 'rendez-vous', 'cross', 'returning', 'https://t.co/iy0smwcdrp', 'parades', 'https://t.co/6qjhsej0j1', '@imsoeffinluuney', 'tummy', 'abu', 'rbg', 'olamide', 'downåêisis', 'skins', 'umadon', 'follower', '#whatsyoursuperpower', 'india', 'fake', 'atlanta', 'dez', '#didcot', 'frost', '#pwc', 'https://t.co/ie4t4fbf8u', '@jackjames191', 'thus', 'cc', '@keegs141', 'till', 'wafers', '@politibunny', 'emails', 'religion', 'none', 'hooker', 'streams', 'candy', 'basketball', '@nolimitbill', 'giddy', 'nitro', 'racist', 'usdwhy', '#vital', '@bostonravenfans', 'homie', 'hunter', 'animal', 'fighting', '30-9', 'veo', '#aviation', 'valley', 'dreamfields', '@katlouvain', 'dads', 'plenty', 'crown', 'bury', 'https://t.co/kxbst9xien', \"haven't\", 'misses', 'priest', 'match', 'dumbasses', 'happened', 'https://t.co/qjygzmsczl', 'ss', '@aldubbarkads', '@realcframpton', '@gberlanti', 'kemri', 'fun', 'keyboard', 'rabiu', 'downloadable', 'hiccoughs', '#stelvio', \"nxt's\", '#womenswork', 'fittest', 'value', 'humphrey', 'finished', 'ft', 'lives', 'directed', 'watchdogs', '#starwars', 'waists', 'olympic', ';', 'dot', '@austinmahone', 'hack', 'https://t.co/6um6gjhz0r', 'pens', 'took', 'funniest', 'scorpion', 'delectable', 'jason', 'nfl', 'ûïblack', 'insecurities', 'equal', 'nest', '@fatherandrew', '#lol', 'today', 'luck', 'spotify', '#pricing', 'ailments', '@icrc', 'https://t.co/wfoj8rukqb', 'actor', 'actions', '@heidimurkoff', '@ahook817', 'date', 'https://t.co/ehstr19pxy', 'evolving', '@bddfoundation', 'improved', 'consequences', '@alrayaryee', 'data', 'combinator', '¼', 'res', 'https://t.co/micko1rvgv', '#gccb2015', 'by', 'gators', 'hoping', '@on_da_ball', 'selects', 'hw', 'herb', 'quit', 'rodman', '@aircanada', 'statement', 'disarms', '#mbcthevoice', 'read', 'elite', 'danger', '@shakespeare527', '#crafting', 'common', 'disrespectful', 'bird', 'https://t.co/zuucoqsfeo', '#vegan', '#pushawardskathniels', 'madison', 'afterwards', 'speak', '@skydoestweeting', '@ramfrancisuk', 'represent', 'spector', '@sightline', 'https://t.co/zjwckjrcpj', 'gorgeous', ':/', 'crash', 'progress', 'risk', 'trivia', 'self-service', 'https://t.co/7o1vbfnlbs', 'thin', 'https://t.co/yc62c8ez4x', 'interested', 'equality', '4.29', 'tht', 'jacks', '@colintattum', 'finally', 'apologizes', 'strategy', 'chicago', 'oasis', 'drug', 'website', 'esp', 'https://t.co/bqjqd1md7q', 'grace', 'lego', 'koki', '#hiring', '#onpoint', 'spiked', 'assad', '@bauer1544', 'mumbo-jumbo', 'create', '#nationalpumpkinday', '@oldschoolrs', '#magick', 'scratch', 'freezing', 'https://t.co/jirqlachay', 'blank', 'ç_ù', 'softly', 'greenville', 'hallway', '@darianmalone35', 'sizes', 'target', 'forest', '@whoiskylebrown', 'funk', 'lesson', '@onteriom', '@lapsedcommunist', 'addition', 'illness', 'tories', 'diets', 'raw', '-->', 'é_ùî', 'reach', 'network', '.', 'true', '#babysteps', 'https://t.co/vawcrdyrdj', 'size', '@axeslasher', 'https://t.co/7mzcdc7as0', 'referencing', 'nicest', 'karaoke', '#post', 'https://t.co/vlu0hhkwyo', 'staunton', 'mouth', 'ad', 'military', 'org', 'addiction', 'tactics', 'https://t.co/8bm0k56hqp', 'rewind', '^', 'emmy', 'form', 'yeovi', 'wh', 'gum', 'watson', '#read', 'ïö', 'boyfriend', 'dept', 'boston', 'em', 'tribalists', 'clothing', 'thanksgiving', 'express', 'trash', 'shorty', '#lgbt', 'teen', 'tenacious', 'church', '#belarus', '@trillballins', 'https://t.co/xg1ltjyxg5', \"she'd\", '#military', 'term', 'carmilla', 'ending', '@tristiningalsbe', 'pal', 'forex', 'working', \"we've\", 'lyrics', '#hilarious', '@bpjaillite', 'park', 'https://t.co/aiql7sfjvx', 'interesting', 'findworkaustin', 'saddened', 'below', '10/10', 'femi', 'woulda', 'hen', 'arts', 'h', 'located', 'little', 'inåêbenin', 'interviewee', 'dialogue', 'drive', 'computer', '}', 'films', 'coppinger', '@jamescoke2', 'brilliant', 'all-party', 'civil', '@tnewtondunn', '2x05', 'featuring', '@shelina_says', 'control', '1b', 'television', 'stoner', '@halfjewcrew22', 'nabor', 'liberal', 'respectully', '@jibjaneen', 'togetheråêeveryday', 'https://t.co/yfflirixud', 'layer', 'interest', 'thermostat', 'wounded', '#jk', 'locals', '...', 'https://t.co/xvt1hj9nmz', 'bday', 'announcement', 'https://t.co/7uir2vpmh2', 'wtf', 'patient', 'reducing', 'shy', 'pregnant', 'corp', 'heaven', \"ryan's\", 'visibly', 'titles', 'spelt', '@thatgumyouliked', '#new', 'uppercase', 'powers', 'penny', 'real', 'god', 'https://t.co/fvfuhuzsni', 'yes', 'sacraments', 'smuggling', 'pure', 'sweets', 'saas', 'awakens', 'lakers', 'free', 'rsr', 'apparently', 'analysis', '_ùªé_ù', 'lee', 'notes', 'upper', 'carpet', 'carly', 'https://t.co/rplsh63buq', 'major', 'thesis', 'rehearsal', 'charlie', 'deliver', 'https://t.co/6lbxozbisr', 'themed', 'library', 'asu', 'water', 'limited', 'loves', 'proud', 'https://t.co/jdsvxfwgfk', 'unfollowers', 'intending', 'prolli', 'organization', 'fani-kayode', 'sa', 'greatness', 'https://t.co/supctci5xl', 'sorry', 'https://t.co/vkdhtx1li4', 'shit', '«', 'definitely', 'elfdom', 'https://t.co/p0alskd7as', 'kardashian', 'remember', 'opportunities', 'fickne', 'forgive', 'guidry', 'https://t.co/jlvrwqtj6c', 'packed', 'neighbourhood', '@bulldogwx_0610', 'https://t.co/yepuq2ajfs', '@_little_britt_', 'scorpios', 'siiiiiiidddeee', 'potatoes', 'https://t.co/78lzk0a9cs', 'challenge', 'chat', 'jam', 'shameful', '@osfkasia', 'https://t.co/wvcz4pqxmj', 'named', 'gah', 'https://t.co/g3tdqr08kn', 'useless', 'policy', '#realvalues', 'guru', 'entered', '@rsaljenn', 'millennium', '#geauxtigers', 'broke_ù', 'cutting', '@sleepydjh', 'sides', '@jussdatip', 'phil', 'cs', 'people', 'parked', 'new', 'witmecoastnatin', '#aca', 'wi', '@churchpoverty', \"drake's\", 'https://t.co/w4woxwuih1', 'beauty', 'gf', '#mature', 'holiday', 'kban', '#pray', 'impact', 'nutrition', 'ugly', 'review', 'nice', 'fastest', 'ê', '@maxschrems', '#thisiswhyweplay', 'mild', '#juiceplus', 'dominican', 'npr', 'revelation', 'deported', 'show', 'doing', 'it', 'promise', '@jeffersonianguy', 'jem', 'player', 'desire', 'bumping', 'ö_ù', 'https://t.co/f4apxiplcr', 'national', 'lip', 'responsibility', '1s', 'needed', 'https://t.co/vdv1xkfzod', 'approved', 'https://t.co/lbqiodrh1r', 'harry', '_', 'nap', 'burned', 'https://t.co/ts4l9pjs9b', 'mcalebb', 'reserve', 'lad', 'logic', 'within', 'vaughn', '#music', 'https://t.co/3aec0thdlf', 'dom', '@shutterstock', \"y'all\", '@bonitapolo9', 'obv', 'dmd', 'reminding', 'youtube', 'approach', 'conserving', 'disease', 'insecure', 'russian', \"you've\", 'scousest', '#justinbieber', 'https://t.co/bb3cckyahm', 'surrounding', 'xxxl', 'unknown', 'omega', 'plasticbieber', '@mufcyorkroad', 'mashed', 'https://t.co/clgmsjxagp', 'measureable', 'denegris', 'bounce', 'https://t.co/tkvlzgmffx', 'https://t.co/vyjt3yknxr', '@bea4palestine', 'bore', 'https://t.co/eiekidqckm', 'https://t.co/uruvtznief', 'slow', 'jk', 'kingdom', 'bowl', '#bbcon', 'https://t.co/xk26gjxr56', 'mornings', 'boardwalk', '@uzeekhanjee', 'expect', 'pages', 'main', 'triathlons', 'metal', 'https://t.co/5np8gapudc', 'guard', '@epic_women', 'discipline', 'missiles', 'holocaust', 'cast', 'https://t.co/tgvdgf9pdx', '#veterans', 'happily', 'coca', 'attached', '#beauty', 'https://t.co/iuex9i8cah', 'super', '#diet', '@us_segl', 'cake', 'defeat', '#besttalkradio', 'https://t.co/929817xzhy', 'hov', 'spot', 'daycare', 'https://t.co/t1ht0otzz1', '@romanatwood', 'given', 'introduced', 'unless', 'raped', 'unassuming', 'credits', 'against', 'glen', '@radicalruss', 'databases', '@thecameradude_', 'idc', '@owolade14', '#sextip', 'journalist', '8:', 'https://t.co/6bd1oc2ivu', '@lochalyssa', 'dares', '@twentyonepilots', 'https://t.co/vvf6plytbt', 'goin', 'faulty', 'mixtape', 'haywire', 'lords', 'disconnect', 'https://t.co/2wvf7a2cxg', 'loop', 'hannah', 'tangled', '@culvercity311', 'announce', 'marketers', 'abuse', \"weren't\", '@larteyofficial', 'coleslaw', 'venues', 'centralisation', 'devastating', \"niall's\", 'ûªs', 'harness', 'meacher', 'allllllllllllllll', '@fns_x', 'then', 'robert', 'https://t.co/nskiawcxqx', 'twit', 'monsters', 'sling', 'upcoming', 'wore', '#pushawardskathni', '@larryskg', 'ä_', 'cnn', '#prpawards', 'commercial', '@rolandsmartin', 'autumn', 'conversation', 'busted', 'cnr', 'unit', 'today_ù', 'emojis', '@jonholwill', 'sub', 'signal', 'goat', 'tax', 'https://t.co/li3rja7fhm', 'hair', 'https://t.co/kxjafbml2o', 'dhabi', 'card', 'hush', 'knowledge', 'compared', '6.11', 'telling', 'travel', 'improving', 'era', 'which', 'harpersbazaarhk', 'insofar', 'https://t.co/ihkcu33vvq', 'physical', 'suave', 'internets', 'fear', 'blew', 'charge', 'mia', 'https://t.co/j7jgou2lp0', 'build', 'shourie', 'winks', 'seasons', '#littleswimmers', 'indeed', '@mummytries', 'indian', 'ease', 'deceased', 'awful', 'earning', 'final', 'cisco', \"pirate's\", 'jointly', 'vagina', 'viewed', '#postapocalypse', 'topics', 'rubbing', 'minimize', 'preserve', '@barcajim', 'souls', '#freshbeats', \"yezzy's\", '@olzanskiness', 'madhouse', '#reasonswhywelovereecebibby', 'event', 'noise', '_ùªî_ùªî_ùªî', 'emotionally', 'decision', '@talktalkbizcare', 'palmer', '@endpovertynam', 'engel', 'missed', '#manufacturing', 'https://t.co/u6tqjjqygs', 'advertise', '#straightoutasugarcreek', 'ruins', '3s', 'ganguly', 'table', 'concern', 'potter', 'twist', 'reform', '@mhmoud_95', 'shortstop', 'kourtney', 'lily', 'resource', 'thvtj', '@andrew_upnext', 'stand', 'https://t.co/wsohecrkqh', 'wouldnt', 'https://t.co/tvdmnukm8x', '#itsagreatdaytobatiger', 'men', 'come', 'ily', 'butter', 'scandal', 'wait', 'jeonghan', 'meanwhile', \"anyone's\", 'newfoundland', 'room', 'using', 'commercialise', '@lsumwm', ':-)', '_ùªã_ù', 'further', 'persian', 'that', 'provider', 'presentation', 'https://t.co/z6jiae0ued', 'https://t.co/lske3aqn4r', '@villatill', 'item', 'she', 'weeknd', 'heels', 'havent', 'canadian', 'https://t.co/gy9bin4qvr', '#heartstone', 'lately', 'let', '#quoteoftheday', 'mastering', '@snipeyhead', 'sign', 'master', 'summer', '_ùõû', 'enjoy', 'gi', 'platforms', 'https://t.co/cbrl6ytsrd', 'blowing', 'ã_ù', '#crime', 'talked', '@hetaliasummer', 'truth', 'snail', 'tweep', 'indicates', '@feetbyhev', 'chimney', 'offers', 'united', 'https://t.co/3wuitlczl2', '@asklaurabaron', 'tuition', 'sloan', '#feelthebern', 'brb', '#tofino', '@kass_xo', 'bellucci', 'fizzled', '@__sammanthae', 'accounted', 'feeds', 'monroe', 'gotta', 'leave', 'prizmatic', '@theamas', 'duo', 'debate', 'nobody', 'airs', 'wack', 'neighbor', 'queue', 'https://t.co/y2fcofptan', 'shoes', 'ranbir', 'û', 'stupidly', '@notjoshearnest', 'toy', 'cyber', 'allowed', '#sk', 'ha', '#mpls', 'https://t.co/93fdszfrs5', 'slice', '@jspringfield211', 'montreux', 'kicking', 'happiness', 'whipping', '@sluggerotoole', 'receive', '108,627', 'abortion', 'celebrating', 'truly', '@jasonrlicht', 'prices', 'becomes', 'shirt', 'tired', 'https://t.co/ul0qzhfnkn', 'happiest', '@julienickart', \"that's\", '@d0ubleshad0w', 'reunited', 'https://t.co/lyqco04ahr', 'https://t.co/j0xc1bgfrx', 'bomb', 'poop', 'gunpowder', 'https://t.co/jucngqfk4w', '#loser', 'ä_ù', 'coworkers', '#wholefoods', 'fucked', 'ripped', '@andyrichter', 'https://t.co/hotzz1dz2d', 'am', '@dstv', 'daisy', '@rights_info', 'boehner', 'halloweens', 'studies', '#kitchenkitsch', 'sacked', 'meme', 'https://t.co/la4xwa72ew', '@thevintageyear', '@lizzicreasey', 'connected', '3rd', 'nellie', 'xxx', 'hooked', 'https://t.co/c88ixzr8ku', 'coming', 'https://t.co/ogtt85z3jh', 'sunshine', 'lmaooooo', 'plush', '@isabelringrose', 'arrested', '@econompic', 'entrepreneur', 'gone', 'scrappy', 'social', '©', '@pratt', \"majella's\", 'stats', 'holmby', 'garlic', 'dreamer', '#confession', 'flattery', 'annoyed', 'interview', 'despite', 'napoleon', '_ùªü_ù', 'iraq', 'front', 'saintly', 'middle', 'https://t.co/ngh18jvfov', 'develop', 'brother', 'expensive', '#flatmovie', 'server', 'skip', '@only1argyle', '#cchl', \"melo's\", 'taker', '@adrian_butler13', 'dumbass', 'good', 'served', 'unborn', 'study', 'unhappy', 'parliament', 'somewhere', 'alfy', 'condition', 'mental', 'head', 'menu', '@mnw1979', 'https://t.co/5zho8ltgfy', 'jeep', 'safety', '%', 'forster', 'green', 'crimes', 'monroeville', 'defense', 'confirmation', 'conflict', 'year', 'pile', '@4ad_official', 'beach', 'spoiling', 'mudchute', '@cherylp59', 'av', 'going', 'gucci', 'rub', 'kinds', \"else's\", 'classmates', '@pftcommenter', 'bestselling', 'https://t.co/rqtt7sizdh', 'concerned', 'taylor', 'fork', 'thoughts', 'spa', 'plants', '#macclesfield', 'yaqygnpz', 'hustling', 'id', 'wealthy', 'exactly', '@trendddsetta', 'revenues', 'well', 'naps', '@trevinwax', 'https://t.co/fshtcfmav1', 'release', 'ruth', '@maggierunkle', 'romo', 'congrats', 'vulnerability', 'party', '~', 'doofs', 'novel', 'listen', '@sportsradio610', '@jacksonkjr', '#johnwesley', 'listened', 'sole', 'w10', '@lesliematters', 'spoiler', 'direction', 'might', 'prejudice', 'emailed', 'fukgn', 'poster', 'naw', 'eatin', 'behaviour', 'praxis', 'mandate', 'chelsea', '@engpatriot', 'https://t.co/pitapstzbj', 'differ', 'sleepy', 'smoothies', '#whores', 'https://t.co/bk523rriaz', 'pero', 'bernie', 'https://t.co/n6ndj0c022', '@bay_art', \"synod's\", 'fraternal', 'stab', 'meredith', '#savedominion', 'dib', 'skegness', 'jail', 'gained', 'counted', 'mongodb', 'atmosphere', 'stood', 'packers', 'blake', '@neutrallsm', 'python', 'yep', 'creative', 'forevermore', 'lowering', 'jus', 'idols', '@modsun', '#ms', 'cardiff', 'would', 'dishes', '@madalxnx', 'contreras', 'lemon', '@jackthe_bear', '@lababrahma', 'order', 'referrals', 'pinkish', 'https://t.co/yzudwoh9xr', 'club', 'homophobic', \"dongho's\", 'inks', 'hotel', 'georgeosborne', '@yougotjished', 'treat', 'trance', 'aunties', 'visual', 'league', 'hi', 'friend', 'agakdlskssksl', 'tastes', 'beans', 'schedule', 'https://t.co/qypzl2slff', 'formats', 'dinah', 'nephews', 'pot', 'https://t.co/wkkaeptpql', 'https://t.co/cx37vjtegw', 'under', 'https://t.co/6hvwvukmpz', 'refreshing', 'mr', 'excellent', 'hop', 'crystal', 'degrom', '@brotticelli', 'quadrants', 'jelly', 'di', 'mojo', '@finelookinkline', 'hehehe', '@jpublik', 'https://t.co/jcjje7p9ux', 'ace', 'controversy', '@romsey33', 'at', 'xbox', 'sending', 'bigger', 'quentin', 'q', \"'\", '#crewealex', 'photos', 'bag', 'users', 'instalment', '@fcunitedmcr', 'strangers', 'bling', '#deering', '@goggleblox', 'cost', 'official', 'rice', 'remake', 'birds', 'teachers', 'kisses', '@thedeanambrose', 'his', \"person's\", 'pom-tastic', 'https://t.co/8c7uo5yfzg', 'fr', '_á', 'dyed', 'feet', 'music', 'mgs', 'condemn', '_ùõª_ùõ', 'local', '@jeremymichael22', 'hangs', 'happy', 'https://t.co/1gzdsb4lzk', 'attacked', '#spectrepremiere', 'rated', 'those', 'assuming', 'governor', '@lolloluol', 'provide', 'simples', 'brownies', 'avengers', 'https://t.co/1s3dambsuz', 'bob', 'fully', 'watched', 'bee', 'word-slinger', 'precisely', 'hitman', 'https://t.co/rh9t0bw4jf', 'headache', 'memories', 'detriment', 'important', 'sipped', 'camera', 'kevin', 'commentator', 'laugh', 'weather', 'https://t.co/0ykxqbz7oz', 'bitch', '@kierfvk', 'manuscript', 'isn', 'looking', 'https://t.co/n22znjlv7i', 'actual', '#mixedmedia', 'drink', 'rotten', 'meat', \"parkinson's\", 'ended', 'made', '@the_author_', '@wadewantstacos', 'mommy', '#thezodiackiller', 'absolute', 'involve', 'blonde', 'chapter', 'https://t.co/vshywjneg2', 'theft', 'season', 'waist', 'tmz', 'leader', 'angellist', '@buttfuckstagram', 'pikachu', 'https://t.co/gvgn6r7y8b', 'gram', 'tip', 'lovin', 'designed', 'digital', '@danbaynes94', 'sustainment', 'pooping', '18th', 'low', 'bitter', 'quid', '@itunestv', 'libel', 'once', 'pharmaceutical', \"would've\", '@bucs_nation', 'scotland', 'https://t.co/kyoqsseer4', 'story', 'sitting', 'perhaps', 'â_ùô', 'drama', '#badtimes', 'â_ùõ', 'brand', 'animes', 'reality', 'practising', 'mysteries', 'deck', 'reeking', 'added', '#countryliving', '::', 'dew', 'permitting', 'baker', 'opinions', 'bellefit', '1-0', '@skookerg', 'instagram', 'chief', 'metaphor', 'https://t.co/dri4nkhbgi', 'fort', 'coffee', 'mane', 'farmers', 'ross', 'seed', 'stage', 'jim', 'liyerally', 'maths', 'point', 'choices', '#pbl', '#dreamteam', 'black_ù', 'survived', 'latin', 'dipshit', 'practices', '#nlwx', 'me', 'nauseating', 'posting', 'been', 'works', 'socket', 'strawberry', 'selfie', 'fix', 'fury', 'couples', 'disagree', 'capture', 'politics', '90mins', 'dotn', '283.2', 'practicable', 'https://t.co/cexhdof48a', '±', '#universitynights', 'canvases', 'snap', 'reaction', '@mrdavidwhitley', 'prince', '#autumn', 'chop', 'talks', '@callum_owen1', 'kane', 'suffering', 'https://t.co/aeci0mcp1u', 'lipstick', '@dcyph_rayq', 'flexibles', 'https://t.co/wf6l9zvdug', 'gizmodo', 'employable', '@michelemorrow', 'seas', 'perspective', 'worlds', '#glutenfree', 'crisp', '@reebokclassicca', 'depict', 'worried', 'boring', 'path', 'https://t.co/rdyawmxrki', 'jan', 'all', 'freedom', '#moms', 'n2foto@cox.net', 'certified', 'sci', 'https://t.co/vlxivycscg', 'horse', 'revolution', 'dinosauråêactivities', 'sell', \"to's\", 'hour', 'https://t.co/odz28vqtnh', 'exhausted', 'sinterklaas', 'ones', 'ny', 'else', 'ptfc', 'jaws', 'noticed', 'families', 'afghanistan', 'craze', 'sleepovers', 'jokes', '#footballplayersinpublic', 'actively', 'cow', 'ages', 'status', '_ù_ä', 'programmes', 'access', 'storey', '@tlodigital84', '@siwon407', 'independent', 'broher', 'broke', 'virgin', '#14daytrialcanceled', 'ä', 'urban', 'pink', 'https://t.co/tnnq3r8usg', 'eat', 'fund', 'https://t.co/8fclp8gcko', 'gutter', 'corn', \"nature's\", '#mieexpert', 'overheard', 'newscaster', 'lovely', 'turnt', 'https://t.co/fsbwbbl0zi', 'play', 'restaurants', '_ùôû_ù', 'https://t.co/j3rzbncnwy', 'set', '#tweetfleet', '@agent_dee', 'lovejoy', '\\x89', 'danny', 'makers', 'ïü_ù', '@sorryimlorraina', 'ya', 'davis', 'session', 'dum', '@ntvnewsnl', 'https://t.co/ql4lqpa47z', 'waits', 'robertson', 'weeden', 'moot', 'peanutbutter', 'sooo', 'corporate', 'shocks', 'https://t.co/mahn35me9q', 'press', '@selling_theta', 'victoria', 'guardian', 'editions', 'detachable', 'https://t.co/bl4vjnvh9q', '@holden114', 'lowest', 'fixed', 'eyes', 'grandpa', 'split', 'illegal', 'crawl', 'divide', 'https://t.co/ikqvaf12gg', 'subscription', 'anti', '@harrison_hayes', 'effect', 'dav', 'labor', 'lance', '@23h10', 'daddy', 'pears', 'vital', 'negative', '#purpleandgold', 'trynna', 'systems', \"can't\", 'brandon', 'one', 'sweetest', 'unfollow', 'tongue', \"obama's\", 'deter', 'cameron', 'quieter', 'fan', 'ruined', 'likely', 'thing', 'market', 'perfect', 'smash', 'https://t.co/6h57gl2nh6', 'collect', 'u_ù', 'input', 'eclipse', 'bin', 'pumpkin', 'otherwise', 'willing', 'job', 'belfast', 'athletes', 'ko', 'condolences', 'filmed', 'idk', '@jumbies', 'majella', 'doodle', 'mistake', 'victor', '#dogwalk', 'whisky', 'fantasy', 'cursed', 'legit', '#chiromonth', 'nearly', 'recurring', 'blush', 'https://t.co/cq0rb4zzlo', 'aiden', 'punched', 'https://t.co/jq1iimf51f', 'students', 'henrique', 'experience', 'storage', '@cashmerecat', 'falae', 'jeb', 'source', '@kalicat2', '@jonbeetle', 'feelåêthat', 'telepathy', 'eaten', 'baddest', 'bret', 'race', 'awwwwww', 'wishart', '#walk', 'blessing', 'tvs', 'tanwen', 'https://t.co/kxtdfrgdmw', 'strategic', 'scientists', 'top_ùõø_ùõø_ùõø_ùõø_ùõø', 'ifs', '@blackeyedmarti', 'twat', '<', 'bhai', 'https://t.co/pxhmfgbcaa', 'showing', 'reverse', '@graveyardlester', 'heard', 'rappers', 'wants', '#kwwk', 'catholics', 'kate', 'metaphorical', 'abduction', 'compliment', 'pay', '@reftpt', 'honest', 'demigods', 'throw', 'engineering', 'carra', 'telly', 'sangria', 'elise', 'single', '@marco', '#contextwhatiscontext', 'schooled', 'range', 'dro', 'https://t.co/lcvqziw4uy', 'https://t.co/8of90pupoa', 'criminals', 'meaning', ':p', 'oil', 'lungs', '@asleezyy', 'with', 'graphics', 'struggle', 'figured', 'ah', 'https://t.co/ymyjapyvnk', '@daphnekiko', 'roof', 'ater', '@smythstoysuk', 'sexy', 'ginge', 'eatingndastreets313@gmail.com', 'thru', 'prizes', 'debating', '@tbbuccaneers', 'sure', 'downloads', 'volume', 'ö_', 'massive', '#voteonedirection', 'ring', 'recently', 'available', 'https://t.co/yi2z8yqlj9', 'continually', 'entire', '@mjsdirtydiana', 'busting', 'ada', '@elliegoulding', 'many', 'cry', 'whiteleaf', '108,648', 'kns', 'lord', '@tinmachineii', 'https://t.co/qux2pdpda2', 'dumbest', 'violin', 'passages', 'https://t.co/yxoj4f03yo', 'unsolved', 'electrocuted', 'care', 'adequate', \"shostakovich's\", 'jealousy', '@edwin', 'gym', '@hillaryclinton', '@bestofmeech', 'double', 'maryrose', 'prefer', 'indonesians', 'ference', '@thetomzone', '#staystrong', 'ivy', 'https://t.co/a3xwsacc5k', 'lk', 'short', 'suppliers', 'char', 'began', 'hart', 'situation', 'saw', 'somehow', '#pomeroy', '#healthypastamonth', 'brush', 'jock', '#raheelisherenawaziswhere', 'manuel', '13mins', 'midterm', 'edm', 'un', 'https://t.co/bxqvk2pwfv', 'jealous', 'came', 'me_ùôû_ù', 'details', '#makemoneyonline', 'love_ùõî', 'el', 'alex', 'stars', '#ilovemycaa', '@bytimgraham', 'anthem', 't-shirt', 'zero', '@ghostsmalum', 'vise-versa', 'bother', 'beaches', 'novelesque', '@dmn_george', 'labour', 'anne', 'losing', '@toyella', 'awe', 'qatar', '@mediacomgold', 'xd', 'lonely', 'proceeds', 'irish', 'honestly', 'bastille', 'blues', 'food_ù', 'colombian', 'dont', \"here's\", '@thereal_blittle', 'esem', 'may', '{', 'daisuga', 'lyndon', 'beginning', 'enjoys', 'reasons', 'stronger', '#lyme', 'ate', 'brittany', 'upside', 'explanations', 'swoof', 'tickets', 'pust', '#ncaa', 'modi', 'loans', 'allows', 'ugh', 'fable', \"yesterday's\", '@avpisaacissac', 'gag', 'smith', 'https://t.co/r5shghcsxe', '@adrian_england', 'ol', '#tytlive', 'https://t.co/jpridx2pgk', 'gameplay', 'overstepping', 'primary', 'pic', 'https://t.co/nk6hw8werz', '@goldglovetv', '@barstooljj', 'slap', 'walls', 'lie', '#economics', 'pam', 'dragging', 'enter', 'guys', 'legoland', 'https://t.co/ufy8rjljp3', 'remotely', '@richarddawkins', 'dustbin', 'https://t.co/7fqs3aounx:kindle', 'reserves', '#crownofblood', 'humans', 'dropped', 'dragon', 'gaiman', 'luke', '@sflbigdog', 'ilysm', 'simple', 'tie', 'go', 'key', 'j', 'https://t.co/bbjkk9rtgw', 'spiral', '#editorial', '@dyn_porn', 'brag', 'nbd', '_ùôä_ùôä', 'computerized', \"there's\", 'ruining', '@lidogotsongs', 'body', 'ver', 'que', 'link', '#deals', 'opportunity', 'start', 'ûªt', 'hoped', '#ff', 'continue', 'diff', 'stirred', '#blair', 'efficient', 'spice', '#quote', 'disc', 'fish', '@feminisms', '#lcps16', 'sweatshirt', '\\x9d', 'wetv', 'ûïdespite', 'https://t.co/dmdfpbvlgt', 'fox', 'destroy', 'https://t.co/4mafyzpts8', 'dead', 'corey', 'material', 'fab', 'seeking', 'awards', 'import', 'products', 'nah', 'icons', 'https://t.co/eohtxclukt', 'lrt', 'stockings', 'notorious', '@jonahgreen', 'amount', 'https://t.co/ywtxbsdtqj', 'shipping', 'news', 'lumniaries', 'measuring', 'find', '@brianvicente', 'environment', 'first', 'jumpers', '#ibmsystems', 'marketwatch', 'allowing', 'strong', '@mdeedoubleyou', 'killed', 'actin', 'turned', 'played', 'matter', 'argument', 'halloween', 'errant', 'liberate-income', 'shit_ù', 'motorcycle', 'expenses', 'suggested', 'these', 'chg', 'https://t.co/3aogsfhpm8', 'die', 'use', 'court', '#job', 'transforming', '@dj_adamms', 'fishing', 'system', 'trade', 'likes', 'medication', '@msnaiij', '#love', 'prayed', 'had', \"he's\", 'campus', 'quincy', \"bishop's\", '@drr0x', 'carnivores', 'wisdom', 'fleetwood', '@katyperry', 'rds', 'gunna', 'riel', 'jess', \"today's\", 'between', 'bacon', 'dums', 'deeds', '#nanowrimo2015', 'cop', 'unique', '@websterpres', \"could've\", 'asses', 'tips', 'onterio', '_ô', 'placebo', 'mens', 'why', 'micro', 'tools', 'beaumont', 'cut', 'instinctive', 'slapped', 'feels', 'spams', 'loan', 'comedians', 'voted', 'confused', 'https://t.co/exqpwlifnl', 'sleeping', '#owls', 'eternally', 'theres', 'agreed', 'same', 'jordyn', '#hiac', '@judifmarie', 'lcw', 'rca', '@jesusisgroovier', 'trolls', \"carroll's\", '@matthealey', 'research', '@profplum99', '@gotcush', 'busch', 'https://t.co/1s1pmwghmn', 'ems', '-0.89', 'stories', '@acroasdell', 'felt', 'outlaws', 'did.but', '@trancez0r', 'cheerio', 'gardens', 'after', 'stella', '#classmeeting', 'submit', 'https://t.co/2mmkfe4ynd', '@camerondallas', 'com', 'waited', 'alrighty', 'sliding', 'beefy', 'private', 'avail', 'burma', 'https://t.co/sm0hfrkrrf', 'frozen', 'feminism', 'progressive', 'interests', 'incline', 'ã', 'ams', 'flashback', 'misery', '#dealwithit', '#thirdintifada', 'competing', 'falling', \"you'll\", 'cdf', '#faith', '#happyanniversary', '@copyblogger', '@generalboles', '@brittsween', 'sauk', 'sasha', 'circle', '#facupdraw', 'feeding', 'legs', '@firecoach06', 'millwall', 'tori', 'looked', '#turksandcaicos', 'bowles', 'lots', 'gilmore', 'declined', 'hicks', 'tweeter', 'mind', 'suck', 'turks', 'previous', '@starbucks', 'timing', 'bedding', 'https://t.co/rvfnakaayz', 'shocked', 'led', 'sheet', 'unfollowed', 'hardy', 'https://t.co/9ahzpom6pv', '@cfbmatrix', '@codeschool', 'makeup', 'ask', '#6801', 'genuinely', 'denounce', 'ö', 'https://t.co/fzcvic6y5x', 'communication', '@michaelryanruiz', 'built-to-last', 'grows', 'awesome', 'studied', 'oliver', 'twilight', 'dishwasher', 'hundred', 'https://t.co/n6uegh0enm', 'cash', '´', 'heartbreaking', 'discrimination', 'whether', '#video', 'spend', 'amazon', '@nourrytinhat', '#ad', '@btcare', '@rmhagen', '_ùõø', 'taxpayers', 'https://t.co/tjgg7wdzsa', 'ûªm', 'headed', 'mixtures', 'december', 'https://t.co/8543upudiu', 'karts', 'luckiest', '#giveaway', 'smiles', 'cover', 'holy', 'eggwars', 'relative', '#free', 'cider', 'https://t.co/t8f7bn6jxw', 'law', 'rocky', 'baked', '@schweinmaster', 'freaks', 'heat', 'nectar', 'finish', '1/3', 'personality', 'disgusts', '@armandauthor', 'https://t.co/dk98udl5jc', 'content', 'ª', '@ohvanesa', 'https://t.co/na8hk7kfje', 'century', '@onedirection', 'glad', ':d', 'selfish', 'hwanhee', 'sugar', 'think', 'pg', 'shut', 'secular', 'gen', 'uniform', 'pray', '@dandan2220723', 'sunset', 'https://t.co/zigg6jwbxn', 'ed', 'fair', 'worldwide', '#007', 'kmart', '@jetblacksami', 'banking', 'wiley', 'doctors', '@btbusinesscare', 'y', 'views', 'nd', 'older', 'file', 'recent', 'lounge', '#typeaprobs', 'ben', 'cancel', 'holidays', 'convinced', 'sirens', 'immigration', '@panicitspeter', 'toledo', 'trick-or-treat', '@channele2e', 'kitty', 'upwards', '@brianwindsor91', 'dumb', 'school', 'https://t.co/voapcqez4t', 'fights', 'catch', '@s_russell17', 'corporations', 'cap', \"harry's\", 'nations', 'cruising', '#marilynmonroe', 'https://t.co/2haphxfopb', 'technology', 'union', 'motto', 'brian', '@kianandjc', 'deserve', 'poll', '@t1enjoy', '@artisticzayn', 'https://t.co/fdcckwjf0x', 'conversations', 'sand', '#cashycat', 'https://t.co/rjel5r7zdu', 'restaurant', 'littlehampton', '@minsell', 'beyoncì', '@colliersheriff', 'reason', 'comes', 'childish', 'old', 'como', 'gran', '#smilemore', 'relation', 'counter', 'king', 'irishman', '@uberfacts', 'advocating', 'washed', 'https://t.co/ihthxhhcwn', '@megwacha', 'tied', 'everyday', 'dumpster', 'https://t.co/xikn7knaza', 'holograms', 'crying_ù', \"dinah's\", '#davidcameron', 'humor', 'hips', '@joey_powell', 'mocked', 'checking', 'put', 'growing', 'help', 'covering', 'pv', 'cat', 'https://t.co/m0ziqysoj1', 'prescriptions', 'embarrassed', 'sits', 'pappas', 'online', 'https://t.co/kxfjuwsfhz', '@michael5sos', 'cbc', 'ahead', 'https://t.co/mnyncysxnn', '#universitychallenge', '_ùîà', 'assess', 'awendo', '@aweesan', 'company', 'healing', 'share', 'inspired', 'pulling', 'scutter', 'day', 'what', '@jenamariejones', '@paigexscott', '#gunosy', 'trotsky', 'vsd', 'hugs', 'do', '#boardgamehour', 'jemma', 'https://t.co/w2ffipl7ya', 'three', '300k', '@minalioness', 'updates', '@3tags_org', 'struggles', 'benghazi', 'sweden', 'rugby', 'https://t.co/fob3xfozts', 'https://t.co/4s7itcrbah', '@paupdates', 'los', 'https://t.co/0lex0yfhez', 'most', 'https://t.co/6wkq4drctc', 'bzabe', 'price', 'huskies', '#lincshour', 'some', 'punchlines', 'trust', 'contact', '@romxlynnn', '_ù_', 'backpage', 'apocalypse', '01:05', 'breed', 'them_ù', 'hidalgo', '#allergyfree', 'significance', '#follow', '#bugil', 'https://t.co/ycalzjqjo7', 'https://t.co/bf2tchmzad', 'ilsinho', 'non-sense', 'vice', 'blankets', 'whichever', '@sicarioyogib', 'colonial', 'f-fine', 'certain', '#theothersidetour', 'slowing', 'jaw-dropping', 'richard', 'earthquake', 'spin', 'parentalia', 'lead', 'https://t.co/tchgst0jbo', 'wedding', '#djia', 'scared', 'bae', 'it_ù_ó', 'madad', 'hopefully', '@marisha_ray', 'looks', 'around', 'neutrality', 'fantavision', 'https://t.co/zqj5hjzfix', 'process', 'episodio', 'sweeper', 'sliver', '-3.25', 'https://t.co/59pnnkwtq9', 'disney', 'sincere', 'amendments', 'grab', 'tx', 'parenting', '@xx_addieee_xx', 'hired', '@scholesmufc93', 'sensitive', 'grass', 'ready', 'cor', 'info', 'chewy', 'profession', 'https://t.co/txhs9n9fsd', 'theme', 'cope', 'ssx', '@damonbenning', '#rankings', 'hill', 'island', '2go', 'https://t.co/swtqdgz721', '@smoshanthony', 'accidents', 'keeps', '#ridgeland', 'truck', 'https://t.co/ipxra0qj5e', '@sbmayordavis', 'hahaha', 'bus', 'melbourne', 'dance', 'caught', '@thetechnicolors', 'https://t.co/rg4ommtl0j', 'costs', 'https://t.co/j9u2tlnqsm', 'motley', '»', '@brynnieboo32', 'acts', 'face', 'https://t.co/tkrvou0xhx', 'par', 'justin', 'complain', 'eqanon', '@gsioutdoors', 'https://t.co/42fa4wwoa1', '#pe', 'meal', 'laura', 'hispanics', '_ùªî', 'igbo', '@cecidurant', '#yr', 'dr', 'veil', 'treason', 'amis', '@russellstreport', 'streaming', '@stephenmore1and', '#bestshow', 'uncharted', 'connect', 'boojie', 'shot', 'uc', 'realized', 'posted', 'pierce', 'alll', 'initially', 'grocer', 'netflix', 'goals', '@lclardy93', '@ben24626', 'bought', 'ebook', 'walks', 'bargnhtress', 'https://t.co/wgcddfphjb', '#latenite', 'duality', 'nick', 'graders', 'output', 'adds', '#presence-matters', '@jvplive', 'tag', 'ps4', 'fluent', 'contains', 'african-american', 'sister', 'crawford', 'expectations', 'mug', 'joke', 'salt', '@samgreenx', '@tamaraford16', 'https://t.co/igrsg4eful', 'roster', 'mi', '#abc13sports', 'https://t.co/4womipjlwk', '@kaatiee6', 'towel', 'northumberland', 'languages', '@vinylmeplease', '#mcm', 'taken', 'facial', 'stops', 'https://t.co/okqdx3qzdw', 'meats', '#datastorage', '_ù_ã_ù_ñ_ù_', 'https://t.co/y2aozlkgua', 'fail', 'ûªve', 'ruto', 'troops', 'assisted', 'https://t.co/j7hkudmfxz', '#sorry', '2:15', 'anyways', '#experiences', '@xxl', '#newyorkcity', 'fucking', 'flowing', '@real_liam_payne', 'of', 'flying', 'whistling', 'secondary', '@dhaval241086', 'audio', '#canon', 'sea', '#built', \"emperor's\", 'accomplishment', 'pwc', 'phenomenal', 'mek', 'worse', '60fps', 'https://t.co/njpgyfms9r', 'ever', 'costume', 'https://t.co/bnwtwehnvf', 'specialist', 'https://t.co/dj1d5bqvvu', '@triplej', 'violate', 'instead', 'desk', 'varieties', 'https://t.co/8xk3nrz4yb', 'smh', '#iphone6plus', 'organised', 'terror', 'shift', 'have', 'successful', 'according', '_ù_ó_ù', '¢', \"janice's\", 'breaking', 'definitely.believe', 'swear', 'ticket', 'pants', '@prof_dewey', 'jack', 'https://t.co/7ixmy837bx', 'danced', 'spent', 'bieber', 'https://t.co/r3ghqccvfz', 'https://t.co/3ljmaqrbbd', 'https://t.co/m85jofyqop', '#imdb', '@maceface_13', 'https://t.co/blyug09snz', '@oliverbcampbell', 'raided', 'https://t.co/gnyjdynytp', 'on', 'whole', 'federal', 'rd', 'quince', 'https://t.co/ggjjo3jbfn', 'females', 'bros', 'page', 'map', 'triggered', '#india', '@becwoods', 'sold', 'https://t.co/ogkmqmh2qr', 'https://t.co/xwbhrr0ufr', '@panthersalv', 'josì', '@smoshian', 'wizards', '#stress', 'pressing', 'sticky', 'hurt', 'ordered', 'knackered', '#3percentconf', '#sadtimes', 'decoder', 'code', 'https://t.co/p44xxosca3', 'goal', 'scarecrow', 'magical', 'coffers', 'chase', 'maraboli', 'dinky', 'nor', 'pushmessagedata', '@hereforthe1d_', 'surgery', 'finger', 'khaled', 'jr', 'wont', 'sharif', '__ùõû', 'imperative', 'trans', 'skyfall', 'character', 'https://t.co/nw4i8oxzfg', 'victorian', 'caliber', 'workbench', '@odetopetrichor', 'step', 'touching', 'arrived', '#hackers', '@femibuster', 'worker', 'mexican', '@andrews_steven', 'regrets', '@jolynndeal', 'from', '#holidays', 'malcolm', 'playing', 'here', 'cell', 'pop', 'nem', 'grandma', 'america', 'focus', '@enaml', 'cups', \"what's\", 'ham', 'snd', 'dammit', 'gave', 'loin', 'doors', 'dentist', '@boeszter', 'clichì', '@kevin_the_gorma', 'jobs', 'pi', '#bancodeseries', 'effects', 'kapoor', 'sensor', 'appreciate', 'vesta', 'horses', 'soooo', 'champion', 'https://t.co/4pgoalcnlr', 'cleaning', 'https://t.co/x2ebvzasia', '+', 'https://t.co/zz5tl7lwpz', 'famous', 'avoided', 'https://t.co/hlkw72vubz', '@ecobee', 'essay', 'design', 'calls', 'among', 'crap', 'language', 'broad', 'https://t.co/cikawhsf00', '@kmillermaster', 'influence', 'ths', 'debut', 'weeks', 'revenge', 'archwitch', 'listed', 'mistakes', 'intake', 'bring', 'ûïi', 'heavyweights', '@_love41d', 'carson', '5sos', 'lincoln', 'portion', 'underrated', '@theorangecone', '@kdugdalemsp', 'couches', \"campbell's\", 'https://t.co/silseuvxea', 'https://t.co/jptd0ga4z2', '@micnews', 'jesus', 'nawaz', 'blunt', 'https://t.co/vjsoogonjq', 'hugging', 'veg', 'husbands', 'spluttered', 'lama', 'warbucks', 'hear', 'h1', 'https://t.co/cow8jgquck', 'area', '#follobackinstantly', 'boolin', 'inflowing', '@icanpictureit', '#epsteam', 'amazing-looking', 'hillary', 'john', 'revealed', '#bloodydisgrace', 'lafell', 'tweeps', 'purchase', 'suspense', 'babies', 'grounded', 'broken', 'legally', 'fist', 'window', 'sprite', 'ffuuckkk', 'dump', '#danielodonnell', '#retweet', 'ûó', 'u', 'house', 'https://t.co/4qd9mdokaf', '#digitalmarketing', \"i'm\", 'rivalry', 'cheese', 'bro', 'list', 'ahahaha', 'reflection', 'pls', '#russellwilson', 'counsellor', 'https://t.co/lbvryfbm3e', 'office', '@jameswfreeman_', 'empire', 'fame', 'growled', '#dune', 'plug', 'bikes', 'warm-up', 'banned', '#fsconnect', 'ghost', 'rnn_ù', 'latest', 'robes', 'walking', 'obama', 'https://t.co/komsi2kgj4', '@taaaaash__', 'sinatra', 'hotline', 'sheets', '@rita_sofficial', 'https://t.co/fimbu4rl9q', '@minhazmerchant', 'acquired', 'https://t.co/duuynswdwe', 'regulation', 'https://t.co/ho5cxxcuii', '@calila1988', '@deucharsipa', 'position', 'pounds', 'scooty', 'shits', 'ûïit', '#allblacks', 'international', 'olympics', 'closely', 'started', '@21nixon2020', 'scaring', 'yo', 'sincerity', 'seconds', 'sameness', 'vlog', '_ùî__ù', 'healthy', 'eternity', 'commented', 'enmd', 'math', '#2cool4school', '_ùôî_ù', 'twice', '@zakawaqar', 'afternoon', 'stuck', 'hiiii', 'https://t.co/oiqwn5flod', 'mother', 'forward', 'passed', 'thug', 'prod', 'band', 'margarita', 'hairstyle', 'evening', 'opening', '@sophieemcvey', 'soul', '@semperfps', 'attend', 'ahhh', 'fat_ù', 'totally', 'thinks', 'unplugged', 'internet', 'wasting', 'htgawm', '2.understabding', '@el__vy', 'galaxy', 'calling', 'alcohol', 'biphobia', 'lisa', 'speaking', 'deodorant', 'english', 'emo', 'willow', '@olliebearheta10', 'placing', 'stranger', 'robber', '@kevinwatson', 'https://t.co/fx6eszetgp', 'object', 'privacy', '@jstsaleem', 'closed', 'christie', '_ùîî', 'https://t.co/l2hcwpaiy8', '@blackrepublican', 'https://t.co/98zkafbu0c', '>', 'slept', 'eu', 'singer', 'chinese', 'congratulations', '#season6', 'along', 'messy', '#otra', 'patrol', 'david', 'manager', 'video', 'lucky', '@lottekoendering', 'https://t.co/stvkpsesrc', '(', 'militia', 'texting', 'book', 'disrespect', 'tina', 'tour', 'gives', 'reps', 'aesthetic', \"arizona's\", 'huggable', 'apologises', 'columbia', 'productive', 'idea', 'dictatorship', \":'(\", '@postpartumprog', 'nature', 'angles', 'resourcemfg', '@giannaaa28', 'trump', 'woke', 'shout', 'ideas', 'tech', 'fast', \"sunday's\", 'https://t.co/izfquwbsrf', 'singers', 'louis', '@beansproutcraig', 'symposium', '@butwemaystill', 'post', 'caspar', 'throat', 'power', 'oman', 'sports', 'basically', 'blow', 'stem', 'contributions', 'https://t.co/fwibidvvby', 'acoustic', '@beyxcole', 'https://t.co/ad7g2tv7hf', 'ahmad', '@bobmarley', 'dictated', 'oblivion', 'blimey', 'wetlands', 'annoy', 'sierra', 'fa', 'side', 'oral', '1.20', 'false', '#wilton', 'blessed', 'unsubstantiated', '@sherlin_lfc', '#ithakatnw', 'ghibli', 'morrissey', 'much', 'beth', 'grapes', '@rhymeswithright', 'joy', 'd', 'marines', 'chair', 'https://t.co/rewqpyarrh', 'neck', 'nonsense', '@handsomehack', 'weightloss', 'perfectly', 'bullshiting', 'multiplayer', '@unbiasedsprtsfn', 'wankers', 'enables', 'soda', 'icon', 'quickly', '@british_airways', 'behind', 'hills', '@drjoethompson', 'è_ù___ù', '@bassgiraffe', 'scorpio', '#5sosfanart', '#noregrets', 'boy', 'slaying', 'fuzzy', 'https://t.co/wtcpcml5ab', 'wazoo', '@benrobinson97', 'johnnyosings', '@nternetinspired', 'addressing', '@jennybent', 'books', 'sessions', 'mansplainers', 'respected', 'switch', 'plus', '_ùõñ_ùõñ_ùõñ', 'clerk', 'ball', 'okay', 'dear', 'craving', 'mc', '#traditionaldanceweek', 'swift', '#jordan', '@himemelancholy', 'rabbits', 'south', 'cask', '#savage', '@uknowtheguy', \"monday's\", 'venison', 'rand', 'ffs', 'https://t.co/oat0hzafuh', 'veteran', 'bundle', 'usa', '@arianatorabby', 'russians', '¥', 'withest', 'bullshit', 'https://t.co/hdgzcrqu5m', 'france', 'https://t.co/qxn4ncfzco', 'level', 'exhaustive', 'cloud', 'raheel', 'https://t.co/cfcg9dyqdq', 'https://t.co/jqbyxn8x8e', 'debates', 'call', '#dtfc', '@spicycheetoarms', 'boils', '2nd', 'neither', 'cancelled', 'sorryåê', '@up10tion', 'duvet', '¯', '@thenotsoshyguy', 'guide', 'uncanny', '#yorkim', 'bbq', 'le', '@mrsiberi', 'guessing', 'astaghfir', 'btwn', '_ùð', 'investigating', '@_wordsmiff_', 'https://t.co/y4uwb6quat', 'during', 'vegetarian', 'married', 'cars', 'rights', 'hachure', 'lard', 'c-suite', 'dickie', 'moccasins_ùõø', '@idcmadelyn', 'surprise', 'spain', 'offences', '@binarybits', 'feat', 'talking', 'wheels', 'popped', 'trains', 'posts', 'actress', 'roadshow', '#lsuvsbama', 'jhlt', 'shouldnt', 'frame', 'rook', 'peaceful', 'https://t.co/jwa4usrlxw', '@atiretsilb', 'bottles', 'tower', 'fifa', 'jedi', 'univerde', 'wales', 'channel', 'blogs', 'delay', 'cultural', 'dirty', 'next', 'secrets', '@devonmitchell6', 'treated', 'untreated', 'wow', 'referee', '@sexiest_hotties', 'man', 'daniel', 'consequential', 'suits', 'cream', 'rumors', 'paris', 'https://t.co/4fjedputsv', 'players', 'bunch', 'meow', 'issue', 'offs', 'https://t.co/koc8awcgff', '_ù_â', '@fergalmcferran', '#jobposting', '@michaelbatnick', 'california', 'region', 'disappear', '108,637', 'capturing', '@deering_banjos', 'wanna', 'https://t.co/39kmrzwcum', 'touches', 'jessica', 'https://t.co/th9kod39f5', 'reply', 'constant', 'project', '@darrenmarble', 'mostly', 'ways', '@muhhammad_aliii', 'onenote', 'kingsman', 'gaming', 'kidding', 'editing', 'sneaker', 'aldi', 'jc', 'uplifting', 'https://t.co/0rqkg8q5ab', 'sebs', '@greyman_10', 'seemed', 'christian', 'gauge', 'weakness', 'pugilist', 'crazy', 'nan', 'https://t.co/bdejqboit2', 'inner', 'game', 'puffle', 'blanket', 'expressed', 'subdued', 'atom', 'drops', 'each', 'deadly', '#oow15', 'seems', 'must-have', '@heyerinrobinson', 'https://t.co/wtmilbxyye', 'https://t.co/gyv8ta7aic', 'political', 'part', 'ironing', 'muslims', 'knees', 'lol', 'uncles', 'importance', 'tit', 'vents', 'month', 'flop', 'appropriation', 'passion', 'https://t.co/jayak983cx', 'cheaper', 'deeply', 'greggy', 'leaving', 'pendant', '#sand', 'blown', 'https://t.co/aixlscvmiq', 'af', '@saleena_1', '_ùôü_ùôü', 'quality', 'agape', '@msauedu', '@mart411martin', 'involving', '46-12', '@drownedxo', '@leaaaahtopp', '#podcast', 'pca', '@and_im_gone', 'cause', 'tabs', 'demi', '@fionanlynch', 'https://t.co/9opo0zetjv', '140,653', 'listens', 'praying', '$', 'https://t.co/evzm2torbj', 'dani', '#pushawardspopsters', 'flag', 'mini', 'forever', '#fruitandveg', 'heavy', 'tops', 'done', 'dream', 'pinpoints', 'north', 'chemicals', 'peppers', 'bitchy', 'tweeting', 'competitive', 'standup', 'fuk', 'dress', 'addison', 'kanye', 'prove', 'watching', 'racists', 'nb', 'blogging', 'whack', '@origamiyoda', 'as', 'luckie', 'photoshoot', 'patch', '720p', '@heathermorriss', 'prison-yard', '#susocialwork', '@hbfromkc', 'non', 'prolly', 'clear', 'youre', 'jameson', 'chest', 'literary', 'netsec', 'cooking', 'dweeb', 'manmade', 'kings', 'plays', 'option', 'capitalism', '@ehs_ns', 'https://t.co/kdd0l5uxpo', 'finance', 'umm', 'https://t.co/rqprorm4yz', 'https://t.co/b8szicbiyf', 'psych', 'pizza', 'videos', 'dvr', 'down', 'believers', '@meandpete_', 'leia', 'interacting', 'van', 'tuesday', 'hyper', 'emotions', 'https://t.co/9homi4h2oh', '@kalpenn', 'donate', 'joyce', '@motokohunt', '\\\\', '@hockeybabbler', 'jacob', '@that_ethichick', '@pauljun_', 'strangest', 'marketing', 'advantages', 'maddeningly', 'before', 'tuesdays', '@officialbrianab', 'forgotten', 'hermit-y', 'https://t.co/g60eglbwov', 'v', 'your', '@ho_logie', '#23', 'https://t.co/c9s1shfizf', 'angry', 'sf', 'breathe', 'injuries', 'literally', 'ok', 'obvs', 'welly', 'pleasure', 'freak', '@forbes', 'fallowing', 'https://t.co/hgh1wwqkjc', 'tricks', '#doctorwho', 'loathe', 'star', 'smoke', 'gaining', '_ùõ', 'readiness', 'charging', 'cam', 'son', \"bayley's\", 'https://t.co/vxuyh19rdi', 'pijush', 'excuses', 'need', 'ð_ù', 'spends', 'kirk', '@yayyab', 'futures', 'yang', '5:00', 'c', 'ram', 'reading', 'mash', 'https://t.co/rrifs8s3ek', 'decide', '#fighter', 'tiny_ùôî_ùõ', 'mushroom', 'rabble', 'night', 'babygirl', 'on-demand', 'drop', '#muaythaimonday', 'sied', 'cartels', 'chill', 'mbcqovo', 'nvr', '@cesarhfutbol', 'car', 'qq', '@robblecher', 'https://t.co/0xbjafxgnm', 'crops', 'natrman', 'guillaume', 'uber', 'voddy', 'desperate', '281.3', 'closing', 'xoalexgurrlxo', 'conference', 'https://t.co/hkkunuknef', 'â_ù', 'persistent', 'dorms', 'safe', '#micybersummit', 'https://t.co/624714obi4', 'destined', 'especially', 'mums', 'https://t.co/4oyispr1it', 'ramblings', 'appropriate', 'https://t.co/dwplyr8pbm', 'choked', 'earlier', 'meeting', 'powerful', 'kaehler', 'characters', 'paisley', 'kwakwanso', 'drives', 'c60', '\\x81', 'poked', 'sent', 'https://t.co/tjrk42ax6j', 'feel', 'gravity', '@jaysmooth2k12', 'theatre', '#ibmbcuki', 'bedroom', 'haywards', 'guy', 'https://t.co/vmnsyp3jua', 'lesnar', 'pretty', 'hell', 'beist', 'sleazy', 'usually', 'https://t.co/efn62utoaw', 'https://t.co/icpffaxyj2', 'pulls', 'philosophy', 'relationships', 'kid', 'jiggled', 'https://t.co/0zfsmqvv7h', 'rory', 'nauseous', 'uni', 'hes', 'puppets', 'head-on', 'seatlites', 'https://t.co/pj6rsqy6nz', 'cotton', '_ùôî', 'mans', 'interval', 'https://t.co/qlodm7gqxd', 'pussy', '#swaggy', 'strength', 'discuss', 'åáandåà', 'scored', '@studioonwhitney', 'cliff', 'studio', '@kevberto', 'surviving', 'appointment', '_ùôü_ù', 'prayers', 'site', 'ej', 'live', 'workers', '@nattyveall', 'tegan', '@baskgod', 'https://t.co/zv0ru5dcea', 'firm', 'expectation', 'gosh', '@aarondmiller2', '@maiyanee', 'amendment', '_ùõü_ùõð', 'last', '22.00', 'co-sponsored', 'republic', 'fit', 'maturity', 'partying', 'peyton', 'mood', '@totalbodyonline', 'carry', '#pushawardslizquens', 'courage', 'dee', 'deep', 'booty', 'chachos', 'funeral', 'bnb', 'tacos', 'shifting', 'eme', '@steveyeun', 'damage', 'reject', 'quarters', 'bgt', 'late', 'pets', 'everytime', 'printing', 'vacuous', 'inhaled', '@b2community', 'hammer', 'https://t.co/asltykucvd', '@aherod263', 'parents', 'understand', 'https://t.co/0be9exes0r', 'hockey', 'boundaries', '@nerocole', '#drupan', 'd:', 'yellow', 'native', 'younger', '#fashion', '@bedroom_bar', 'having', 'case', 'https://t.co/cls83d2huo', 'carving', 'alison', 'confuse', 'à', '@magazine13arab', '@dreeall', '@bombay_ray', 'land', 'serve', 'assault', 'deeper', 'larry', 'https://t.co/zczhffbehy', 'wish', 'dark', '@galiaarad', '@ronjatimber', 'stress', '@rtraister', 'firstly', 'cheap', 'cuz', 'clenching', 'õ', '|', 'whose', 'berninger', 'notice', 'narrow', 'week', 'hormones', 'everything', 'west', '#win', '26th', 'gpa', 'predictor', 'https://t.co/ordhrfkxkb', 'https://t.co/ipj2yoiget', '#jobs', 'leaders', 'blows', 'lms', 'romsey', 'dallas', 'transcription', 'joan', 'visto', 'granddad', '@raseelj', 'mikey', 'stopper', 'helped', 'procastination', 'fleas', '@margeincharge', 'balling', 'https://t.co/wyxl1qxaq8', 'sumcawlmijawnee', \"mcdonald's\", '@shizz_rod5', 'someone', 'dak', '#future', 'dave', 'talent', '@madddieexoxo', 'film', 'spoil', 'seeing', '@timewastingsub', 'sixers', 'eaters', 'grow', 'https://t.co/jidzoafbjb', 'scented', 'https://t.co/r58ke2room', 'sing', 'friends', 'https://t.co/9ojia9xzzx', 'blast', '*', 'strategies', 'favorite', 'died', '#skills', 'f', 'zone', 'fractured', '#yycre', 'closet', 'hairs', 'engaging', 'european', 'american', 'customer', ')', 'obstacles', 'education', '#whattochoose', 'https://t.co/jbsqrk0n8o', 'https://t.co/1zthov1gz4', 'prob', 'shelf', 'preciate', 'jacket', 'gentle', \"ocean's\", 'https://t.co/tu2q2myl7m', 'worry', 'merchant', 'affect', 'joggers', '@ddg82', '?', 'g', 'kathy', 'fraud', 'cool', 'sport', 'https://t.co/thnv7evtf2', 'cknout', 'sophistication', 'log', 'ole', 'saves', 'facts', 'require', 'âayee_ùôî_ù', 'govt', 'individual', 'charger', 'engage', 'qb', 'fertile', '@skyireland', 'https://t.co/43syzjtxip', '@hba_koopa', 'mistook', 'electricity', 'until', 'moved', 'glenn', '@bucksexton', 'out', '@khalidalsultan', 'dope', '@georgehs2706', 'necco', 'buchanan', 'moments', 'ibadan', 'arrives', 'babysitting', 'herbs', 'except', '#personal', 'freeze', 'noises', 'stereotypes', 'https://t.co/g0mcei8pwj', 'huggies', 'appearance', 'katy', '@pats4iifebb', 'tonight', 'not', 'imperfection', 'padilha', 'stay', 'plot', '47-9304', 'pm', 'riverdance', 'changed', 'angels', 'empower', 'zillion', '#np', 'sinful', '@sensemisapplied', 'burn', 'gr', 'properly', 'happen', 'cbs', '#yumyum', 'needles', '@laurabaziuk980', 'bishops', 'mourinho', '@tylersvoice2you', 'no', '__', 'mama', 'https://t.co/kr8e2h017z', 'hates', '#strength', 'heroine', 'la', 'sees', 'feedback', 'â', \"don't\", '@dangoldgeier', 'marx', 'belong', 'hbb', 'kellys', 'discussing', 'mob', 'confusing', 'laaaay', 'basket', 'be', 'l4rkkz', 'https://t.co/6ysse5nqvv', '@ewenmurray77', 'boss', 'cunt', 'outfits', 'heart', 'exxon', 'https://t.co/m6xs8uon3a', 'marilyn', 'https://t.co/scv7x16x3u', 'dang', 'booth', 'picture', 'filled', '3d', '@panthers', 'scottie', 'everyone', 'https://t.co/jwpsvhau1e', 'creating', '@c_of_e', 'thank', 'quote', 'ugggggh', 'ummmmmm', 'chin', 'faved', 'others', 'https://t.co/cipwfxsvi7', 'toast', \"alzheimer's\", 'https://t.co/ogy760ha2k', '0-0', 'kelly', 'wishes', 'recovery', '@xavierleon__', 'gain', 'diy', '#seo', '@superpac', '#icmyas', 'air', 'https://t.co/7oeh753sqp', 'including', 'https://t.co/nvyxm6t46y', '#stopcisa', 'library_ù', 'https://t.co/kbxjapzymm', 'jhunt', 'extinct', 'marine', 'https://t.co/2pjmmjdevu', 'install', 'stuffed', 'anyone', 'trail', 'blu', 'currently', 'spending', 'summarize', 'hover', 'elbowed', 'amazing', 'wiping', '@ey__', 'deal', 'liffey', 'noesis', 'stock', 'mop', '#painterly', '@girlonutd', 'na', 'deserving', 'sbu', 'https://t.co/svjycm5vdb', \"men's\", '#name', '27-3', 'haircut', 'highlights', 'kent', 'run', 'bored', 'door', '@rynweaver', 'home', 'nanny', 'police', 'challenging', '#painfreenation', 'https://t.co/ck54ixhz0y', '11/13', '@drmoore', '@vickiengland74', '@mattzollerseitz', 'really', 'stocktwits', 'parties', 'https://t.co/iayxpoirii', 'yesterday', 'merry', 'move', 'https://t.co/w7ml1aegsq', 'https://t.co/y2brtwmf7c', 'stopped', 'mere', 'clip', 'https://t.co/z8lie2eppv', '#teamtallis', 'hardly', 'motivated', '@publicissues', 'dident', '#top1', 'how', 'young', 'https://t.co/enq9pv61oi', 'cammalleri', 'images', 'wwsnp', 'clearing', 'brain', 'https://t.co/tchtlmwmqr', 'sincerest', 'photobombs', 'less', 'https://t.co/g9jwkmmxfg', 'northern', 'visit', '@rolanddickeyjr', 'dimes', 'wanted', 'insane', 'colas', 'toys', 'skill', 'https://t.co/4fo6ghl6qn', 'defends', '00am', 'criticize', 'inspire', 'ladies', 'choice_ùõ', 'fries', 'bow', 'big', 'https://t.co/c5gopkw9bn', 'state', 'fucks', 'https://t.co/4adqzccxjt', 'gonna', '#askkarabo', '@tomlinhxrry', 'https://t.co/b6dyualrjg', 'grew', '@kellyy_lucass', 'another', 'haunted', 'parish', 'moment', 'suv', 'cotton-eye', 'football', '#happywooshinday', 'th_ùô', 'axe', 'over-thinking', 'partnership', 'prick', '\\x8f', 'https://t.co/odqznhole7', 'cfos', 'budget', 'save', '#finserv', '#fansgofurther', 'stevenage', 'tryna', 'compare', 'giveaway', 'turning', 'yay', '#witness', 'betrayal', 'kasich', 'alpaca', '@hershelshope', 'together', 'lame', 'shows', 'mobil', '@moniqued__', 'special', 'insist', 'jptsx', 'mommas', '@sebtsb', '#mondaymotivation', 'oswego', '@motthebarber', '@atlantafalcons', 'sauce', 'capabilities', '10k', 'yeovil', 'daily', '@thefordfanatic', 'franchise', 'actually', 'because', 'policies', 'https://t.co/guo60jlzxy', 'https://t.co/1yzmchfc7k', '@tommydahl', 'rank', 'gay', 'sit', 'https://t.co/fvbxaluuqm', 'ps3', 'captain', 'texas', 'loving', 'https://t.co/g7keerq593', 'maintain', '@bigmay42', 'word', 'assholes', 'https://t.co/uexfenr5ow', 'rounding', 'https://t.co/em03hgdb8u', 'released', 'fault', 'minutes', 'clarification', 'butterflies', 'relevant', '@mruduku', 'https://t.co/xytvtwtdlr', 'hardest', 'circumcised', '_ùýü', 'iphone', '#lloydkaufman', 'bits', 'ûïapparently', 'hacking', 'https://t.co/auj0ixvmda', 'malawi', 'rules', 'running', 'higher', 'https://t.co/rvqldpcnxu', 'whats', '#economia', '->', 'baron', 'fella', 'yrs', '#charleah', 'hires', '#rctid', 'ddk', 'pippen', 'flash', 'bracelet', 'lmao', 'called', '@sulagna03', 'competition', 'https://t.co/mq2yl8xfeb', '@kimrhodes4real', 'sarcastic', 'spooky', 'brad', 'wire', 'chip', 'conversion', 'therefore', 'uk', 'reevaluate', 'strongest', 'dozens', 'adele', 'https://t.co/pb8safjoes', '@nightvaleradio', 'p', 'gop', 'positive', 'henderson', 'moral', 'judgemental', '#stopjoetrippi', '#photography', 'fite', 'kbo', 'î_ùôô', \"who's\", \"i'd\", 'wardrobe', 'act', \"girl's\", 'tears', 'contest', 'markovic', ';-)', 'shoulder', '@tidux', 'womens', 'interns', '#breaking', 'scholarship', 'https://t.co/z2nm3kdtm3', 'showings', '#cyberrisks', 'war', 'https://t.co/t3hvdet1d2', 'tw', 'enough', 'boycot', 'resemblance', '@jeanhay2', 'lousy', 'https://t.co/xwdioslpu0', 'killer', 'fosters', '@truants', 'problems', '@jasmineimani_', 'dalai', '2:30', 'skills', '@tenordad', '#taxcredits', 'generate', 'shitty', 'human', 'different', 'psycho', '@r4vi', 'metrics', 'https://t.co/5fklivsk6a', '@harrisbo', 'follows', 'helping', '13:18-', 'dgaf', 'massage', 'wondering', 'followers', '9th', '@magnifier661', '@senbookerofc', 'or', 'emoji', 'woodland', '@thevampsbrad', 'wins', '#unilife', 'https://t.co/iyerztxqp4', \"i've\", 'tool', 'saint', 'counselor', 'nrt', '@alldaycjay', 'previously', 'mysterious', 'demons', 'https://t.co/peotznwjme', 'doos', 'participation', 'regret', 'inc', 'l', 'sued', 'pulse', 'cos', 'https://t.co/qzpmiuisvz', '@innorishop', 'drake', 'yourself', 'harte', 'https://t.co/ifaqlujivp', 'artist', 'peer', 'oem-owned', 'pomegranate', 'toddler', 'precious', 'print', 'practice', '@shabetgenic', 'plantain', 'almost', 'german', 'selfishness', 'woods', 'https://t.co/1ulfkfofom', 'buddy', '#nosympathy', 'treatment', 'thanks', '@nigelrefowens', 'pricing', 'teenage', 'mishaps', 'intelligence', 'chew', 'upstairs', 'animals', 'https://t.co/9oukt69ra0', 'derek', 'gif', 'information', '#sex', 'barre', '@po_st', 'tremble', 'personal', 'clouds', 'corset', '#thewalkingdead', 'apples', 'sibling', 'speedy', '@jaceylaray', 'everydayiloveyou', 'pembroke', '@harry_styles', 'adventure', '@chasethausen', 'mangina', 'mesa', '@rcmpdiver', '@harpersbazaarus', 'mb', 'one-mile', 'lemo', 'episodes', 'https://t.co/conxvmrr1c', 'compiled', 'fixing', 'wealth', 'robin', 'scaff', 'links', 'disrespects', '_ùª', '@dancouldbonfire', 'victory', 'https://t.co/b4twosrlxv', 'base', '@danimansuttii', 'dirt', 'largest', 'https://t.co/65sobvldts', '@whalenderek', 'checkout', 'loyal', 'pts', '#iamme', 'workouts', 'renton', 'singapore', '@tweetyourscream', 'yeahhhh', 'sweet', 'beer', 'https://t.co/ytv5hrmfcs', 'leaves', 'steering', 'separate', '#j13--why', '#giveaways', '@talktalkcare', 'bic', '@louiselyndon1', '@ervin_lassiter', 'middle-earth', 'rock', 'https://t.co/lesfyrc2o0', 'https://t.co/glntnxwq47', 'haha', 'mcm', 'there', '#kale', 'isl', 'sky', 'https://t.co/985wgttiqg', 'smell', 'amongst', 'nose', 'ima', 'clock', 'guardians', 'anonymity', 'rn', 'lange', 'https://t.co/dila5thhle', '#aust', 'two', 'hearts', 'understanding', 'constitutional', 'become', '@johnnyorlando', 'line', '#bokep', 'agricultural', '#classic', 'built', 'https://t.co/enhswsnxp2', 'vaping', '@christianjerard', 'versa', '#xxx', 'golf', 'gross', 'agents', 'https://t.co/sslsikw8oo', 'seem', 'washington', '#fresh', 'blond', 'vodka', 'into', 'guided', 'ayee', 'shakeology', 'criticisms', 'heath', 'm15', 'offer', 'https://t.co/iltyrk0xcx', 'belive', 'committee', 'andre', 'off', 'period', 'unc', 'attitude', 'maintenance', 'o-ring', '@superheroroxi', 'https://t.co/nngwbuzqfh', '@sleepyficteer', 'gospel', 'couple', 'tweets', 'grassroot', 'utep-fau', 'song', 'wast', 'hyped', 'ô_ùóç', 'industry', 'voting', 'gender', '@rickboy121', '#economicfreedommarch', 'ref', 'https://t.co/5dqrk2vasw', '@cubecraftgames', 'quietly', 'spaceship', 'interaction', 'rawlins', 'bitly', 'wildlife', 'õ_ù', 'rnb', '_ùõ_', 'spectre', 'celebs', 'taking', 'believe', 'mcdonalds', 'georgie', '@ka_moll', 'kelsi', '@buckssociology', 'few', 'thats', '@conorgen', 'produced', 'equipment', '@patrickanderso_', 'unvarying', 'eight', 'ninth', 'steve', 'https://t.co/soaix2g57f', '@thonymayne_999', 'stabbed', 'tiring', 'fleet', 'nails', 'critical', 'lower', 'boom', 'verdads', '@wofa_slayzie', 'performance', '@me0wzerz', 'obsessed', 'nothing', 'consumers', 'william', 'cocktails', 'in', \"say'n\", 'driving', '@blewthebigone', '@bzdazed', '@jennifersnudes', 'socially', 'embrears', 'housing', 'cums', 'titts', '@sensanders', 'https://t.co/4ivsvosdl4', 'minefield', 'degrees', 'october', \"us's\", 'ken', 'action', 'receipt', 'able', 'weezer', '@m_jones_82', 'uzunld', 'family', 'topupdates', \"aren't\", 'stalk', 'met', 'multi'])"
      ]
     },
     "execution_count": 16,
     "metadata": {},
     "output_type": "execute_result"
    }
   ],
   "source": [
    "topbow_transformer.vocabulary_.keys()"
   ]
  },
  {
   "cell_type": "code",
   "execution_count": 17,
   "metadata": {
    "collapsed": false
   },
   "outputs": [
    {
     "name": "stdout",
     "output_type": "stream",
     "text": [
      "sparse matrix shape: (2000, 8409)\n",
      "number of non-zeros: 32776\n",
      "sparsity: 0.19%\n"
     ]
    }
   ],
   "source": [
    "# generate bag of words for the sampled tweets\n",
    "TwtSam_bow = topbow_transformer.transform(TwtSam2000['text'])\n",
    "print ('sparse matrix shape:', TwtSam_bow.shape)\n",
    "print ('number of non-zeros:', TwtSam_bow.nnz)\n",
    "print ('sparsity: %.2f%%' % (100.0 * TwtSam_bow.nnz / (TwtSam_bow.shape[0] * TwtSam_bow.shape[1])))"
   ]
  },
  {
   "cell_type": "code",
   "execution_count": 18,
   "metadata": {
    "collapsed": false
   },
   "outputs": [
    {
     "name": "stdout",
     "output_type": "stream",
     "text": [
      "1300 700 2000\n"
     ]
    }
   ],
   "source": [
    "#Carry out the real evaluation (cross validations) with these 2000 tweets\n",
    "twt_train, twt_test, label_train, label_test = \\\n",
    "    train_test_split(TwtSam2000['text'], TwtSam2000['gender'], test_size=0.35)\n",
    "\n",
    "print (len(twt_train), len(twt_test), len(twt_train) + len(twt_test))"
   ]
  },
  {
   "cell_type": "code",
   "execution_count": 19,
   "metadata": {
    "collapsed": false
   },
   "outputs": [
    {
     "data": {
      "text/plain": [
       "1967                It's kind of fun to do the impossible.\n",
       "7513     @BrittSween @stacybud123 Just wanted to say. Y...\n",
       "10371    Dreaming about who we used to be. When we were...\n",
       "9480     Why can't people chew quietly? They're forgett...\n",
       "441      Photo: Hover Disc 2 - The Essential Multiplaye...\n",
       "Name: text, dtype: object"
      ]
     },
     "execution_count": 19,
     "metadata": {},
     "output_type": "execute_result"
    }
   ],
   "source": [
    "twt_train.head()"
   ]
  },
  {
   "cell_type": "code",
   "execution_count": 20,
   "metadata": {
    "collapsed": false
   },
   "outputs": [
    {
     "name": "stdout",
     "output_type": "stream",
     "text": [
      "6154\n"
     ]
    }
   ],
   "source": [
    "# Generate the bag of words from the 1300 tweets of the training set\n",
    "trnbow_transformer = CountVectorizer(analyzer=process).fit(twt_train)\n",
    "print (len(trnbow_transformer.vocabulary_))"
   ]
  },
  {
   "cell_type": "code",
   "execution_count": 21,
   "metadata": {
    "collapsed": false
   },
   "outputs": [
    {
     "data": {
      "text/plain": [
       "dict_keys(['#ukip', 'risk', 'ð', 'pioneer', 'https://t.co/xvyzkfaysj', 'https://t.co/7o1vbfnlbs', 'thin', 'https://t.co/kaa28tsu7k', 'drained', 'https://t.co/yc62c8ez4x', 'joce', 'interested', 'jamtini', 'fat', 'aye', 'bottom', '@colintattum', 'forget', 'finally', 'apologizes', 'strategy', 'weightloss', 'drug', '@bmanbushur', '@adoresoph', 'esp', 'https://t.co/bqjqd1md7q', 'tube', 'secondly', '@justinbieber', 'koki', '#hiring', '#justplayingbustnuts', 'sales', 'procedure', 'https://t.co/gg70qflc6d', 'brises', 'shopper', 'ó', '#onpoint', 'spiked', 'chance', '@bauer1544', 'https://t.co/q1xjnvgg58', 'â_ùð', 'street', 'drinking', '#nationalpumpkinday', '@feigle_95', 'tl', ':-(', 'motivation', '#magick', 'zindzi', 'bit', 'freezing', '@gonision', \"hadn't\", 'pics', 'full', 'https://t.co/iavra8gvhf', '@drhanspeterson', 'softly', 'hallway', 'spotted', 'sizes', 'snapchat', '#rolexskydweller', 'b', '@jackbmusician', 'kyle', '@onteriom', '@lapsedcommunist', 'addition', 'illness', 'diets', 'iron', '@somechappaul', 'https://t.co/8oteoi0bwm', 'blush', 'é_ùî', 'jacks', 'ks', 'db', '.', 'true', '#babysteps', 'https://t.co/vawcrdyrdj', '#rwc2015', 'size', 'mighty', '@manutd', 'stalking', 'https://t.co/7mzcdc7as0', 'referencing', 'sophisti', 'windy', 'karaoke', '#post', 'https://t.co/vlu0hhkwyo', 'staunton', '108,652', 'mouth', 'minute', 'winter', 'kick', 'railway', 'addiction', 'village', 'tactics', '@baschools', \"bodean's\", 'natural', 'emmy', 'form', 'totals', 'eminem', 'jeonghan', 'gum', 'watson', 'ïö', 'boyfriend', 'dept', 'dimes', 'boston', '#growthhacking', 'fuck', 'tribalists', 'clothing', 'express', 'trash', 'https://t.co/efdtl9kz69', '#halloween', 'teen', 'tenacious', 'food', 'out', 'https://t.co/c5xj5al1ck', '@trillballins', 'virtualise', 'website', 'customs', \"she'd\", 'destined', 're', '#military', 'freshman', 'carmilla', '@amman', 'fingers', 'ending', '@tristiningalsbe', 'grandma', 'lets', 'forex', 'midnight', '@ideklrh', 'working', \"we've\", '@borninbieber', 'golden', 'happenings', 'berry', 'herself', 'pollard', 'photobombs', 'since', 'ginsburg', '@bpjaillite', 'park', 'https://t.co/aiql7sfjvx', '#5sosfanart', 'interesting', 'findworkaustin', 'saddened', 'below', 'femi', 'woulda', 'hen', '#bnbroadtrip', 'please', 'located', 'little', 'distance', 'inåêbenin', 'https://t.co/iflur807pe', 'panic', 'faggot', 'return', 'dialogue', 'drive', '@kalicat2', 'than', 'films', '@jamescoke2', '@johnroderick', '@adonissuperman', 'none', 'brilliant', 'innovations', 'do', 'sir', '@shelina_says', 'reversed', 'five', '@_bonga', '#parent', 'minor', '1b', 'television', 'stoner', '@halfjewcrew22', 'makers', 'liberal', 'slave', 'respectully', 'd4', 'https://t.co/qwflstmi4q', 'mobil', 'google', 'mein', 'https://t.co/yfflirixud', 'layer', 'interest', 'thermostat', 'start', '#jk', 'superhero', 'desperation', '...', 'second', '#aviation', 'vid', 'stereotypes', 'bday', 'ouch', 'https://t.co/7uir2vpmh2', 'quite', 'https://t.co/bbjkk9rtgw', '4:55', 'ûïmovement', 'patient', '@jennybent', 'pregnant', '#ms', 'curious', \"ryan's\", 'visibly', 'shirt', 'spelt', '@alerod7712', '@beelinegames', 'alaska', '#new', 'https://t.co/jr5ghfjdk9', 'powers', 'tier', 'unacceptable', 'real', 'god', 'https://t.co/fvfuhuzsni', 'yes', 'like', 'smuggling', '#fitness', 'lost', 'stigma', 'vu', 'subscriber', 'alexis', 'kbo', '@munchingbrotato', 'flake', 'building', 'free', 'rsr', 'apparently', 'intersectional', 'https://t.co/utlfnpgbaq', 'tvs', 'lee', 'holding', 'notes', '@shimcode', 'e3', 'record', 'upper', 'carpet', 'branch', 'abt', 'https://t.co/rplsh63buq', 'diamond', 'thesis', '@_david_edward', 'rehearsal', 'charlie', 'https://t.co/6lbxozbisr', '#socent', 'é', '@gamesack', 'library', '@amoshay25', 'https://t.co/0lex0yfhez', 'ball', 'https://t.co/yehjnxgmp9', 'brba', 'cruelty', 'entrepreneur', 'experiences', 'months', 'result', 'proud', 'unfollowers', 'vacay', '#celibacy', 'akamatsu', 'fani-kayode', 'sa', 'hope', 'https://t.co/ydisbheitq', 'simultaneously', 'greatness', 'road', 'https://t.co/supctci5xl', '@katietiedrich', 'https://t.co/vkdhtx1li4', 'shit', 'emanuel', 'tell', 'definitely', 'elfdom', 'price', 'remember', 'opportunities', 'fickne', 'forgive', 'pull', 'seniors', 'download', 'https://t.co/jlvrwqtj6c', 'recover', 'packed', 'relatives', 'pm', 'mates', 'supporting', 'leash', 'everybody', 'europe', '@_little_britt_', 'knew', 'https://t.co/p5wp8ugmkh', 'onit', 'lanier', '@uklabour', '@continuedsearch', 'siiiiiiidddeee', 'potatoes', 'keeping', 'https://t.co/78lzk0a9cs', 'challenge', 'understood', 'chat', 'jam', 'ç_ù', '#rotana', 'brightens', 'shameful', '@osfkasia', 'https://t.co/wvcz4pqxmj', 'pasta', 'harborview', 'trust', 'gah', 'chrome', 'doughnut', 'doubts', 'cf', 'cozy', 'fall', 'problem', 'https://t.co/fmvkxq97y2', 'ûá', 'entered', '@rsaljenn', 'surely', 'bangs', 'ago', 'millennium', '#geauxtigers', 'wheel', 'zillion', 'sides', 'mirrors', '#np', 'phil', 'cs', 'feared', 'people', 'dcn', 'parked', 'hungry', 'london', 'new', '#aca', 'wowww', 'ch', 'gem', '@ckbrowning93', 'https://t.co/w4woxwuih1', 'delayed', 'target', 'beauty', '#mature', 'holiday', 'gideon', 'cafe', 'remembers', \"monday's\", 'dropping', 'tbh', '#pray', 'termination', 'ocean', 'absolutely', 'nutrition', 'ugly', 'k', 'review', 'nice', 'ê', 'nurse', '#juiceplus', '@atomarchaeology', 'bloody', 'amusement', 'adorable', 'staff', 'dominican', '14/15', 'revelation', 'show', 'it', 'promise', 'chemical', '#dumbdumb', '@shaunbiggs1', 'wants', '@malpapadam', 'vinyl', 'rolls', 'ö_ù', 'hall', 'national', 'bagel', 'lip', '15m', '1s', 'isd', 'need', 'reaches', 'needed', '_', 'nap', 'tasting', 'burned', 'angela', '@digg', '#leap', 'mcalebb', 'https://t.co/z8lie2eppv', '¥', \"who'd\", 'reserve', '@splally', 'small', 'lad', 'logic', 'stubborn', 'within', '#music', 'https://t.co/3aec0thdlf', 'dom', '@gublernation', '#hottest', 'improvement', \"y'all\", 'happens', 'community', 'dmd', 'https://t.co/yww9l4o5pk', 'reminding', 'youtube', 'wks_ù', '@no_cut_card', 'https://t.co/hyglmwz3go', '#meow', '_ùô', 'extra', '@jeauxalejandro', \"you've\", 'scousest', 'abba', '#justinbieber', 'bundeskanzlerin', '@richardbranson', 'sets', 'surrounding', 'https://t.co/qnzz7dinoo', 'xxxl', 'unknown', 'becuase', 'drunk', 'prob', 'ilsinho', 'life', 'brother', 'mokoto', 'plasticbieber', 'lower', '@mufcyorkroad', 'å', 'unveilings', 'cinema', 'https://t.co/clgmsjxagp', 'measureable', 'accounts', 'denegris', 'bounce', 'honest', 'https://t.co/tkvlzgmffx', 'weed', 'https://t.co/vyjt3yknxr', 'nez', '@bea4palestine', 'both', 'https://t.co/eiekidqckm', 'frost', '@mikichiappinell', 'slow', 'jk', 'kingdom', 'bowl', 'inspiration', '#bbcon', '@thedailybeast', 'mornings', '@uzeekhanjee', 'dust', 'pages', 'main', 'folk', 'eh', 'high', '#baby', '#bugil', 'issues', 'https://t.co/5np8gapudc', 'guard', '@epic_women', 'discipline', 'yamaka', 'holocaust', 'cast', 'mmmm', 'martian', '#veterans', 'loooove', 'fwd', '@optimizely', '#standardmonday', 'gets', 'https://t.co/iuex9i8cah', 'email', 'super', '#diet', 'https://t.co/mpd3wru3ah', '@us_segl', 'cake', 'handled', 'defeat', '@semperfps', '#excited', '#besttalkradio', 'https://t.co/929817xzhy', 'wats', '@jfd1960', 'hov', 'spot', 'supergirl', 'posing', 'daycare', 'picks', 'https://t.co/t1ht0otzz1', '@romanatwood', 'surges', '@caylzbby', 'lick', 'given', 'clothes', 'credit', 'introduced', 'unless', 'raped', 'unassuming', '@axeslasher', 'credits', 'against', 'glen', 'shizuo', 'agency', '@thecameradude_', 'idc', 'journalist', '@owolade14', 'https://t.co/66gueyiks4', 'overrated', 'hinges', '8:', 'lagos', 'https://t.co/6bd1oc2ivu', '@lochalyssa', 'https://t.co/hjqbl7xb5g', 'dares', 'tragedy', '@twentyonepilots', '@stacybud123', 'goin', 'faulty', 'mixtape', 'were', 'roasting', 'nicest', 'lords', 'disconnect', 'loop', 'hannah', 'announce', 'marketers', 'abuse', 'https://t.co/8of90pupoa', '@oikageyama', 'blair', 'sup', 'anymore', '#burundi', 'interviewer', 'scams', 'venues', 'centralisation', 'devastating', 'peyton', 'hood', 'ûªs', 'clicking', '#valkyrie', 'meacher', 'allllllllllllllll', '@fns_x', 'then', 'buddies', 'ad', 'https://t.co/nskiawcxqx', '#djia', 'friendship', 'https://t.co/uil9eushtr', 'wore', '#pushawardskathni', 'niall', '@larryskg', 'cnn', '@soulartsvgc', 'jews', '#prpawards', 'commercial', '#sexy', 'https://t.co/y2mbodgk8x', '#doublebooked', 'launch', 'idiots', '@andyrobsontips', 'conversation', 'dinner', 'beat', 'coaching', 'cnr', 'unit', 'today_ù', '@jonholwill', 'signal', 'tax', 'duvet', 'https://t.co/li3rja7fhm', 'hair', 'illinois', 'dhabi', 'joggers', 'card', 'hush', 'knowledge', 'compared', '6.11', 'telling', 'out_ù', 'mast_urabting', 'tmj_aus_manuf', 'moves', 'just', '@lincssnapper', 'which', 'harpersbazaarhk', 'autograph', 'dap', 'biting', 'physical', 'suave', 'internets', 'fear', 'blew', 'charge', 'rewind', 'halftime', 'bond', 'shourie', 'seasons', '#littleswimmers', 'indeed', 'https://t.co/8iqckryywg', '@mummytries', 'indian', 'vigina', 'deceased', 'awful', 'vampires', '@icaleb_7', 'chooses', 'earning', 'neil', 'cisco', 'participate', 'intolerable', 'red', \"pirate's\", 'ship', 'outnumbered', 'take', '#magic', '@mattmireles', 'ive', 'https://t.co/93ueedbz9f', 'used', '-1.36', 'viewed', 'cigarettes_ù', 'topics', 'https://t.co/ymyjapyvnk', 'scare', 'rubbing', 'collection', 'security', 'owls', 'shall', 'minimize', 'feelings', '@barcajim', 'souls', 'tony', 'bleeding', 'terrified', \"yezzy's\", 'beside', \"bacon's\", 'madhouse', 'mean', '_ùªî_ùªî_ùªî', 'passing', 'solutions', 'emotionally', 'decision', '@talktalkbizcare', '_ù', 'braincraft', 'palmer', 'ûª', 're-entering', '@endpovertynam', 'ferg', 'lamar', 'engel', 'missed', '_ùõð', '#manufacturing', 'mom', 'spewing', 'tayback', 'over', '#straightoutasugarcreek', 'ruins', 'box', 'left', 'ganguly', 'thx', '@chitlesh', 'https://t.co/3lnr5mwnpn', 'track', 'trick', 'reform', '@mhmoud_95', 'shortstop', '@lexyringnell', 'fight', '#nomakeup', 'lily', 'child', 'hmu', 'borrow', 'thvtj', 's6', 'replacement', 'stand', 'https://t.co/wsohecrkqh', 'https://t.co/8dhlqyuftx', '@thinksally', 'r', 'https://t.co/tvdmnukm8x', '#itsagreatdaytobatiger', 'men', 'https://t.co/56twkmsnnh', 'come', 'sanders', 'dodgy', 'butter', 'support', 'tabback', 'nappi', 'malcolm', 'https://t.co/bcnomfqwi3', '@brutalbitchx', 'meanwhile', \"anyone's\", 'course', 'room', 'using', 'lard', '÷', 'indie', 'feeling', '@lsumwm', '7k', 'screwing', 'dickie', '_ùªã_ù', 'https://t.co/olprh5a4e1', 'that', 'grab', 'https://t.co/z6jiae0ued', 'https://t.co/lske3aqn4r', 'government', 'bringing', 'prizes', 'legendary', 'brainstorming', 'through', 'celebrity', 'search', 'havent', 'canadian', 'based', '6s', 'shape', 'yall', 'lately', 'let', 'vota', 'mastering', 'close', 'sign', 'master', 'summer', 'beautiful', '_ùõû', 'enjoy', '@peta', 'make', 'strands', 'itsy', 'rips', 'work', 'ã_ù', '#crime', 'talked', '@nataliaa_45', 'slowly', 'truth', 'glasses', '@feetbyhev', '@leonwobyp', 'offers', 'lean', 'https://t.co/buxtvazv2t', 'united', 'https://t.co/w5yhzyqjlt', 'sloan', 'half', '#feelthebern', '#tofino', '@kass_xo', 'bellucci', '@d_4000', 'nowhere', 'saudi', '@kenziwilliams_', 'didcot', 'cartoon', 'gotta', 'leave', 'funkadelic', 'gown', 'debate', 'industry', 'going', 'airs', 'student', 'shake', 'deja', '_ùõü_ùõð', 'reliant', '@berkleymcknight', 'liberation', 'https://t.co/y2fcofptan', 'shoes', 'covered', 'https://t.co/txhs9n9fsd', 'û', 'available', 'decrease', 'da', 'hoe', '30th', 'toy', '#lsuvsbama', 'äã', 'crì_e', 'term', 'jonas', 'strive', 'redskins', 'yet', 'ha', 'respects', '#mpls', 'sprint', 'https://t.co/93fdszfrs5', '@metalshayne2000', '4th', 'ribs', 'paul', 'ugg', '-30.730', 'kicking', 'https://t.co/rehqls8ka9', 'whipping', 'listening', 'kath', 'https://t.co/wm3pxicedt', '108,627', 'followed', 'https://t.co/micko1rvgv', 'crunching', 'truly', '@jasonrlicht', 'prices', 'madness', 'ô', 'tired', '#strength', 'selfies', '@sxnnyy', 'happiest', '@julienickart', 'kiss', \"that's\", '@d0ubleshad0w', 'changes', 'i', 'https://t.co/j0xc1bgfrx', 'bomb', '@etsy', 'asus', 'https://t.co/jucngqfk4w', '#loser', '@_', 'coworkers', '@sparksflylarry', '#wholefoods', 'legislation', '@bigghini', 'crusade', 'ripped', 'https://t.co/hc9otqvvgg', \"it's\", 'chicago', '@the_flyingsheep', 'ç', 'am', 'daisy', '@rights_info', 'funk', '_ùªã', 'https://t.co/jwa4usrlxw', '@wileynorvellåêhey', 'seriously', 'skin', '^', '#kitchenkitsch', 'worth', 'perseverance', 'craig', 'church', 'funny', 'best', 'represents', 'https://t.co/la4xwa72ew', 'so', '@superpac', 'https://t.co/i7ke7ebrot', 'dog', '@lizzicreasey', 'rowdy', 'illegal', '3rd', 'thoughts', 'tamasha', 'https://t.co/hv3melvwcg', 'hooked', 'train', 'often', 'dad', '@lifeisstrange', 'https://t.co/ogtt85z3jh', '#folloback', 'lmaooooo', '@isabelringrose', 'https://t.co/hfviesqln2', 'gone', 'information', 'social', 'dey', 'mouse', 'pieces', 'connection', '@pratt', 'day_ù', \"majella's\", 'garlic', 'governor', 'climate', '#confession', 'flattery', 'annoyed', 'interview', 'despite', 'napoleon', '#texans', 'à_ù', 'bottle', \"bird's\", '-2.71', 'front', 'saintly', 'arena', 'https://t.co/ngh18jvfov', '#bestgamemodever', 'develop', 'apples', 'hurts', 'omega', 'retweet', 'exits', \"people's\", '#flatmovie', 'punch', 'skip', 'pinata', '»', '@only1argyle', '#shopwtd', \"melo's\", 'lachlan', '@adrian_butler13', 'maddie', 'good', 'planning', 'about', 'study', 'and', 'parliament', 'somewhere', 'maps', 'https://t.co/vzsacs9jsv', 'condition', 'mental', 'head', 'menu', '@mnw1979', 'gabby', 'https://t.co/5zho8ltgfy', 'jeep', 'complete', '#amazingladies', 'forster', '#midnightservercrash', 'green', 'strikes', 'crimes', 'defense', '3am', 'enslaved', 'alongside', 'year', 'exeter', 'sad', 'pile', '@4ad_official', 'normie', '@trynagetdakey', 'christianity', '@nickiminaj', 'spoiling', 'joined', '@cherylp59', 'av', 'rest', '@keithstoeckeler', 'nobody', 'masses', 'dec', 'gal', 'kinds', 'learn', ';)', 'happiness', 'greedy_ù', '@livestockcanada', '@pftcommenter', 'bestselling', 'https://t.co/rqtt7sizdh', 'concerned', 'taylor', 'flick', 'aaaaa', 'spa', 'travel', '#macclesfield', 'spending', '@danbenjamin', 'held', 'science', 'buffalo', 'https://t.co/gw7rbt73lz', 'disproportionately', 'bay', 'exactly', 'muslim', '@trendddsetta', '#trecru', 'revenues', 'well', 'naps', '@trevinwax', '_ùô__ùô', 'ruth', 'relationship', 'romo', 'congrats', 'vulnerability', '@wilw', 'utility', 'apt', 'party', '~', 'doofs', 'kgile', 'style', 'novel', 'investor', 'fact', 'listen', 'acknowledging', '@nflgamepass', 'patches', '@sportsradio610', '_ùõ__ùõð', '#johnwesley', 'berks', 'misevaluated', 'lambs', 'qualification', 'correction', 'problems_ùõø_ùõø', '@thetomzone', 'direction', 'might', 'weep', 'prejudice', 'emailed', 'mine', 'pom-tastic', 'every', 'naw', 'behaviour', 'mandate', 'all-party', 'chelsea', '@engpatriot', 'https://t.co/pitapstzbj', 'look', 'differ', 'isis', 'teach', '@cknw', 'angellist', 'knows', 'smoothies', 'fallout', 'drivers', '@love_tyrhonda', 'equitable', 'suits', '#whores', 'âé', 'https://t.co/bk523rriaz', 'slaves', 'bernie', 'ûò', '@bay_art', 'exaggerate', 'greatest', '@adamwaithe', 'padukone', 'fashion', 'https://t.co/bfbexh0efx', 'pt', 'entitled', 'version', \"synod's\", '@chesterfieldfc', 'fraternal', 'illustration', 'stab', 'technically', 'meredith', '#savedominion', 'dib', 'mcbride', 'skegness', '#dayofthedead', 'https://t.co/5iv46wvpmc', 'jail', 'contract', 'gained', 'moving', 'reunion', 'mongodb', 'because', '#vintage', 'packers', 'bic', 'åà', 'skipping', '#seo', 'blake', 'ranking', '#phew', '#historyprobs', 'players', 'python', 'yep', 'creative', 'forevermore', 'lowering', 'ignore', 'jus', 'idols', '@modsun', 'reviews', '#painterly', 'observe', 'recycling', 'cardiff', 'went', '@jumbies', 'jingle', 'subtweet', 'who', 'order', 'issue', 'town', 'ûªre', 'referrals', 'rather', 'club', 'oops', 'homophobic', 'um', 'okinawa', 'hotel', 'elise', 'treat', 'dro', 'parry', '@iskysoft', 'fallers', 'heartbreaks', 'visual', 'league', 'hi', 'friend', 'transponder', 'depression', 'beans', 'ring', 'schedule', 'https://t.co/qypzl2slff', '@megdanish', 'formats', 'dinah', 'https://t.co/yxoj4f03yo', 'nephews', 'pot', 'holder', 'https://t.co/wkkaeptpql', 'https://t.co/cx37vjtegw', 'under', 'refreshing', 'mr', 'unfaithful', 'https://t.co/o32tt9kaob', 'cuz', 'hop', 'crystal', 'degrom', '@trevschan2', 'quadrants', 'continues', 'jelly', 'di', 'area', 'write', 'https://t.co/mcgo5tfniv', 'guilty', '@crmoss', '@finelookinkline', 'sole', 'oleo', 'goals', 'https://t.co/jcjje7p9ux', 'see', 'ace', 'experts', 'wayne', 'at', 'annie', 'xbox', 'sending', 'bigger', 'quentin', 'outright', \"'\", 'jacques', 'photos', 'hammond', 'bag', 'users', 'https://t.co/101wukscti', 'philly', 'saving', '@fcunitedmcr', 'ti', 'https://t.co/yvsln17sii', 'claim', '__ùõï', 'strangers', 'woooooooo', 'houses', \"wouldn't\", 'complaining', 'asses', '21st', '@goggleblox', 'cost', 'official', 'rainy', 'awareness', 'remake', 'teachers', 'rolex', 'kisses', '@oracledi', 'told', 'walk', 'his', ':)', \"person's\", 'fukgn', 'https://t.co/8c7uo5yfzg', 'answer', 'fr', '_á', '@dmn_george', 'hand', 'gilmore', 'dyed', 'feet', 'wear', 'kent', 'https://t.co/fzcvic6y5x', '_ùõª_ùõ', 'humble', 'he', 'https://t.co/dnzrqdihdo', 'transformation', 'finalized', '@jeremymichael22', '#worcestershirehour', 'note', 'hangs', 'happy', 'https://t.co/xk26gjxr56', 'û_', 'attacked', '#historicalromance', 'anything', 'came', 'x11', '#sed', '#spectrepremiere', 'rated', 'those', 'assuming', 'effective', 'https://t.co/cfjso85bsm', 'cuddling', 'constant', 'gpus', 'kitty', 'simples', 'bank', 'brownies', 'project', '@t1enjoy', 'https://t.co/1s3dambsuz', 'fully', 'trying', 'montreux', 'watched', 'gaga', 'bee', 'dreams', 'soft', '@mostlikelymax', 'your', 'headache', 'event', 'flowers', '#saassaas', 'memories', 'detriment', 'important', 'anyway', 'join', 'ways', 'e', 'chevron', '@madisonellebeer', 'sipped', '#painfreenation', '#hot', '@muhhammad_aliii', 'messages', 'commentator', 'laugh', 'announcement', 'weather', 'niece', 'bitch', 'sensors', '@kierfvk', 'excited', 'stop', 'https://t.co/59pnnkwtq9', 'looking', 'rate', 'cope', 'actual', '#mixedmedia', 'https://t.co/mfqs0oxgfx', 'dudes', 'drink', 'punched', '@brynnieboo32', '@vickiengland74', 'rotten', 'believing', 'trading', 'meat', \"parkinson's\", '@stephenmore1and', 'himself', 'cruelest', 'posted', 'made', 'intelligent', 'wtf', 'season--then', 'https://t.co/ck54ixhz0y', 'bread', '#thezodiackiller', '#gh', 'absolute', 'involve', '#giftcard', 'art', 'gordy', 'assisted', 'chapter', 'prestbury', 'miles', 'season', 'nod', 'album', 'leader', 'https://t.co/njpgyfms9r', '@buttfuckstagram', 'https://t.co/gvgn6r7y8b', 'varieties', 'tip', 'delivering', 'lose', 'parties', 'designed', 'scope', 'dyer', 'digital', '@danbaynes94', 'sustainment', 'inform', 'https://t.co/wwutunx82o', 'hang', 'low', 'nashville', 'bitter', 'processed', 'https://t.co/iayxpoirii', '#studio', '@itunestv', 'once', 'breakup', '@bucs_nation', '@apocryphalmuse', 'department', 'death', 'tf', 'merry', 'selling', 'gave', 'https://t.co/kyoqsseer4', 'story', 'obscure', 'probation', 'â_ùô', 'drama', 'stare', 'move', 'â_ùõ', 'genre', 'brand', '@kdugdalemsp', 'falls', '108,644', 'reality', 'organizationåõs', 'practising', '#presspass', 'mysteries', 'remix', \"wasn't\", 'reeking', '@jameswfreeman_', 'added', 'catanzaro', '#diets', '::', 'dew', 'blade', 'puffy_ù', 'fulani', 'violins', 'permitting', 'baker', 'opinions', 'cus', 'us', 'fubu', 'enmd', 'bellefit', '#comm1110gsw', '1-0', 'th_ùô', 'poor', '@skookerg', 'instagram', 'https://t.co/n6ndj0c022', 'this', 'metaphor', 'argues', 'https://t.co/98zkafbu0c', 'coffee', 'college', 'ross', 'harrison', 'seed', 'stage', 'jim', 'liyerally', 'apple', 'scream', 'bongi', 'maths', 'puppy', 'point', 'choices', '#pbl', 'admin', '#dreamteam', 'rmouto9@lsu.edu', '@ee', 'survived', 'latin', 'dipshit', 'practices', 'me', 'https://t.co/1bqg0bpqeh', 'https://t.co/zxidddbgqh', 'thang', 'posting', 'been', 'tight', 'works', '#noregrets', ']', 'other', 'strawberry', 'give', 'areas', 'loss', 'fix', 'chosen', 'pure', 'disagree', 'drew', 'following', 'https://t.co/jlpqqwt6fa', 'sweets', 'politics', '90mins', 'emily', 'dude', 'sex', '@idcmadelyn', 'thriving', '283.2', 'preliminary', \"illustrator's\", 'lanes', 'practicable', 'https://t.co/cexhdof48a', '±', '#universitynights', '#fruitandveg', 'snap', 'check', 'turismo', '@mrdavidwhitley', 'spreading', 'chop', 'hundred', '@callum_owen1', 'kingsman', 'arab', 'class', 'https://t.co/q2cx6syxqi', 'flexibles', 'https://t.co/wf6l9zvdug', 'ironing', 'employable', '@michelemorrow', 'appropriation', 'rick', 'seas', 'amy', 'jose', 'worlds', '¨', 'pum', '#food', '#glutenfree', 'while', 'inside', 'https://t.co/c9lw6ikqfm', '@reebokclassicca', 'depict', 'tom', '29th', 'boring', 'xd', 'path', 'maybe', 'https://t.co/rdyawmxrki', 'clearing', 'jan', 'realize', 'all', 'shipped', 'towns', 'van', 'n2foto@cox.net', 'https://t.co/73fdzxoa63', 'liars', 'england', 'https://t.co/tchtlmwmqr', 'https://t.co/w6jtudvbc5', 'fantastic', 'revolution', 'https://t.co/pb8safjoes', 'spends', 'savedacccren', '10,000', \"to's\", 'hour', 'hands', 'https://t.co/odz28vqtnh', 'manning', 'syncing', 'ones', 'mtv', 'russell', 'minds', 'trip', 'https://t.co/izkwrjx1gr', 'else', 'jordanians', 'ptfc', 'food_ù', 'focusing', 'ffk', 'belly', 'events', 'attempt', 'families', 'afghanistan', 'craze', 'https://t.co/sl3frwuyz3', 'jokes', '#footballplayersinpublic', 'actively', 'https://t.co/bpehw7a7ml', 'finds', '@finsinsider', 'cow', 'any', 'ages', 'can', 'renaissance', 'capable', 'status', '_ù_ä', 'access', 'storey', '@tlodigital84', '@siwon407', 'independent', 'horny', 'cauliflower', 'lol', 'guidance', 'broke', 'virgin', 'ä', 'captain', 'urban', 'xpvphz', 'pink', 'eat', 'tit', 'https://t.co/8fclp8gcko', '#monday', 'white', 'gutter', 'american', 'kill', \"nature's\", '#mieexpert', 'anyways', 'handsome', 'https://t.co/t0arfz0blr', 'lovely', 'turnt', 'electricity', 'https://t.co/fsbwbbl0zi', '@williamdiaz90', 'lottery', 'play', 'ûïfireworks', 'https://t.co/j3rzbncnwy', '@devinclayton04', 'riverdance', 'reasoning', '#smurfsvillage', '@agent_dee', 'lovejoy', 'tho', '\\x89', 'appeared', '@djmaleko', 'sketching', 'fine', 'ïü_ù', 'squad', '#gilly', 'lucas', 'ya', 'alysha', 'session', 'dum', 'pro', 'https://t.co/ql4lqpa47z', 'terrible', 'uthaaa', 'weeden', 'moot', 'adam', 'peanutbutter', 'sooo', 'corporate', 'https://t.co/mahn35me9q', 'campaign', '@warren_potts93', 'scout', 'till', 'twelfth', 'ricciardi', 'capabilities', 'grubby', 'editions', 'detachable', 'yazmin', '#discipleship', 'networks', 'mcconaughey', 'whichever', 'ate', 'themed', '@holden114', 'lowest', 'jptsx', '@bkerrow', 'depended', 'coaches', 'costumes', 'zak', 'eyes', 'fuzzy', 'callie', '_ùõª_ù', 'split', '@mruduku', 'relay', 'higher', 'subscription', 'anti', '@harrison_hayes', '@luke5sos', '@neyonx02', 'labor', '@23h10', 'daddy', 'pears', 'judgemental', 'vital', 'success', 'negative', '#purpleandgold', 'trynna', 'lighter', 'systems', '@ntvkenya', 'ladies', 'coups', '@harry_styles', 'brandon', 'one', 'af', 'unfollow', 'tongue', 'judging', 'errant', 'loot', 'hard', 'https://t.co/mtqtqbwipg', 'cameron', 'fan', 'tremble', 'nation', 'thing', 'mb', 'perfect', 'smash', 'peace', 'change', 'collect', 'symphony', 'became', 'leaves', 'pdf', 'eclipse', 'matt', 'twas', '@harpersbazaarus', 'jareds', 'editing', 'tv', 'pumpkin', 'otherwise', 'impossible', 'blond', 'willing', 'nickels', '@thevintageyear', 'job', 'belfast', '@simondanczuk', '#sexualenergy', 'condolences', 'filmed', 'idk', 'hedge', 'majella', 'doodle', 'dire', 'send', 'contreras', '_ùõª_ùõï_ùõ', '@cxxl_txx', 'tree', 'https://t.co/zg5v3easip', 'chips', 'freedom', 'whisky', 'state', 'fantasy', 'cursed', 'spoopy', 'parentalia', '@grimezsz', '#chiromonth', 'annoying', 'dnc', 'nearly', 'recurring', 'https://t.co/q241q1oaxf', 'you_ùôè', 'https://t.co/cq0rb4zzlo', 'procastination', 'ryan', '97.9', 'phenomenal', 'https://t.co/m1hlsbroh4', 'fury', 'xwnotbyxd', 'omg', 'https://t.co/jq1iimf51f', 'electoral', 'students', 'hug', 'experience', 'https://t.co/o2cvjdgkdv', 'storage', 'https://t.co/aobvimswhu', 'jeb', 'source', 'affect', 'mall', 'remastered', 'organization', 'businesses', 'wankers', 'https://t.co/duuuwvjfho', 'telepathy', 'response', 'eaten', 'baddest', 'bean', 'lo', 'race', 'awwwwww', 'shoutout', 'paleo', 'blessing', 'related', 'https://t.co/oj7d1vnwds', 'managed', 'wished', 'https://t.co/kxtdfrgdmw', 'strategic', 'ma', 'top_ùõø_ùõø_ùõø_ùõø_ùõø', 'warped', 'twat', '#soundcloud', 'buys', 'bhai', 'https://t.co/pxhmfgbcaa', 'ice', 'dumped', 'clothes_ù', '140,654', 'https://t.co/jpridx2pgk', 'reverse', 'its', 'roasted', 'https://t.co/oroweb18x3', 'smoking', 'heard', 'artblock', '@abouttrailers', 'ui', 'rakitic', 'luxurious', \"couldn't\", 'g5', 'proven', 'tory', 'chris', 'classic', 'queue', '@ms_deaj', 'snitch', 'cheated', 'apush', 'themselves', 'choice_ùõ', 'funds', '@reftpt', '#life', 'demigods', 'throw', 'engineering', 'cheers', 'single', 'clark', 'usu-sdsu', '@marco', '#contextwhatiscontext', 'schooled', 'again', 'scary', 'trance', '@derekbanes', 'seat', 'article', 'category', 'criminals', \"tafe's\", 'tshirt', 'î_ùõé_ù', ':p', 'oil', 'lungs', 'economy', '@asleezyy', 'with', '@zero9thr3e', '@killmyikeashelf', 'teas', 'struggle', 'is', 'ah', 'user', 'alexandrians', 'macho', 'srsly', 'overall', '@markhaynes', 'https://t.co/dzizxzbb66', 'ater', '@smythstoysuk', 'semi', 'sexy', 'blushing', 'imma', 'homework', '@everythingkayy', 'advice', '\"', 'ginge', 'eatingndastreets313@gmail.com', 'doc', 'bet', 'wearing', 'exposed', 'debating', 'featuring', '@tbbuccaneers', 'sure', 'https://t.co/nwpl07h7rv', 'downloads', 'volume', 'massive', '\\x8d', '15:40', 'biggest', 'recently', 'near', 'pack', 'https://t.co/yi2z8yqlj9', 'douche', 'continually', 'entire', 'enemy', 'wine', 'consisting', 'calculate', 'random', 'busting', '#comics', 'secret', 'herbs', 'cereal', 'pam', 'many', 'cry', 'whiteleaf', '108,648', 'an', 'lord', 'deepen', 'roman', 'è', 'dumbest', 'https://t.co/kegdnrf43n', 'violin', 'passages', 'linux', '#gavinwsewell', 'unsolved', 'care', 'adequate', 'want', \"shostakovich's\", '@edwin', 'gym', '@hillaryclinton', '@bestofmeech', 'double', 'maryrose', 'already', 'arabia', 'president', '#staystrong', 'ivy', 'https://t.co/a3xwsacc5k', 'lk', 'short', '@yourboydaxx', 'suppliers', 'https://t.co/khusludsdo', 'bun', 'char', 'began', 'situation', 'pnd', 'saw', 'somehow', '#pomeroy', 'remotely', '#healthypastamonth', 'brush', 'jock', 'premiere', '#raheelisherenawaziswhere', 'amcor', 'bitchy', 'thai', 'manuel', \"n's\", '#whitesox', 'accused', '@pabmanjo', 'time', 'la', 'imac', 'un', 'https://t.co/bxqvk2pwfv', 'jealous', 'overcome', 'me_ùôû_ù', 'trouble', 'scorpios', 'now', 'details', 'hooray', 'particular', 'https://t.co/nyxhrmml2p', 'love_ùõî', 'kind', 'alex', 'asks', 'hey', 'stars', '#ilovemycaa', '@bytimgraham', 'anthem', 'https://t.co/srggxjuxyk', 't-shirt', 'scheduled', 'brooklyn', 'loud', 'mets', 'milkshake', 'keep', '@webmodi', 'wonderful', 'horrifying', 'primarily', 'novelesque', 'hurtling', 'movies', 'https://t.co/1w0i4ya7ff', 'champ', 'ava', 'hold', 'losing', 'voluntarily', 'card.thanks', 'thy', '@laurenann01', 'sends', '@mediacomgold', 'script', 'hulu', 'slurpee', 'ridiculous', 'lonely', 'acting', 'proceeds', 'irish', 'honestly', 'bastille', 'blues', 'exp', 'dont', 'cooper', \"here's\", '@fosterthepeople', '#sleep', 'esem', 'wonder', 'jaejoong', 'may', 'daisuga', 'lyndon', '@tallzorah', '@jgeorgia1', 'prove', 'guess', 'try', 'will', 'stronger', '@daraedits', '#lyme', 'realdonaldtrump', 'crossing', 'brittany', 'horrible', 'abbott', 'butt', 'starbucks', 'availability', 'ilysm', 'silver', 'tickets', 'whoever', 'pust', '@_thesoapco', 'modi', 'cure', 'loans', 'eclectic', 'ugh', 'fable', \"yesterday's\", 'jack', 'washing', 'nb', 'smith', '@adrian_england', 'also', 'ol', '#tytlive', 'floors', 'still', 'overstepping', 'girl', 'yards', 'thankful', 'primary', 'pic', 'https://t.co/nk6hw8werz', 'jamais', '@barstooljj', 'artistic', 'savannah', 'lie', 'https://t.co/qumh8nh1hq', '#conditioning', 'tumblr', 'https://t.co/tnihpwlnp8', '@magcontour', 'bed', 'enter', 'sorry', 'guys', '@senatormenendez', 'number', 'https://t.co/dsot2qg5nc', 'sunshine', 'weirdos', 'ou', 'https://t.co/7fqs3aounx:kindle', 'reserves', '#freshair', 'guest', 'humans', 'dropped', '@blakej7', '#editorial', 'liked', 'dragon', 'stupid', 'neh', 'gaiman', '@sflbigdog', '#crownroyal', 'ms.oseni', 'https://t.co/nvyxm6t46y', 'simple', 'insight', 'go', 'name', 'speeches', 'gizara', 'j', 'doesnt', 'spiral', 'welp', 'ü_ùõð_ùõ', 'nbd', '_ùôä_ùôä', 'computerized', \"there's\", 'ruining', '@lidogotsongs', 'body', 'shes', 'boom', 'link', 'longer', 'greater', 'packaging', '@gazcook', 'ûªt', 'ends', 'https://t.co/l2hcwpaiy8', 'hoped', '@tatari_bot', '#ff', 'pom-bear', 'diff', 'https://t.co/wyvt6bs3jk', 'efficient', '#quote', 'olympus', 'disc', 'fish', 'bath', 'x', '#lcps16', '@ukhouseoflords', 'tobacco', '\\x9d', 'arm', 'rad', 'ûïdespite', '@oliverbcampbell', '@jakenutting', 'https://t.co/dmdfpbvlgt', 'fox', 'destroy', 'https://t.co/lye6mfskbe', 'dead', 'fab', 'seeking', 'whatnot', 'products', 'weird', 'nah', 'icons', '#exposure', 'called', 'doable', 'lrt', 'steelworks', 'buildup', 'vs', 'stockings', 'cage', '#deals', 't', 'notorious', 'nuts', 'contacting', '27th', '@jonahgreen', 'amount', 'https://t.co/ywtxbsdtqj', 'https://t.co/dbf9nojepp', 'shipping', 'news', 'measuring', 'find', 'award', 'first', 'jumpers', 'teak', 'easy', 'marketwatch', 'boys', '@ebwashington', 'allowing', 'organisations', 'homosexuals', '@mdeedoubleyou', 'report', 'killed', 'ü_', 'played', 'matter', 'argument', 'oh', 'dried', '#nutritionmatters', 'halloween', 'louise', 'kenyam', 'liberate-income', 'studying', 'shit_ù', 'oct', 'hosts', 'ûïenlightenism', 'motorcycle', '2k', 'victims', 'https://t.co/s7spviyfox', 'bull', 'evil', 'being', '@shumiley', 'snuggy', 'station', '#shesahoeif', 'https://t.co/vpoadxpthl', 'larkinville', 'york', 'chg', 'continue', 'https://t.co/3aogsfhpm8', ':(', 'die', 'black', 'https://t.co/tbl0wtb6yq', 'use', 'â_ùõû_ùõû_ùõû', '#job', \"nicole's\", 'shaft', '@dj_adamms', 'fishing', 'system', 'trade', 'https://t.co/eu0e0hfy7f', 'medication', '_ùªä', 'https://t.co/8fidemz1tn', '@msnaiij', 'prayed', 'celebrities', 'had', \"he's\", 'comfortable', 'https://t.co/sfvqjve4p9', \"bishop's\", 'allah', '@drr0x', '@openforum', 'woo', 'speed', 'carnivores', 'wisdom', 'pedophilia', 'fleetwood', 'capsule', 'fly', 'tapes', 'gunna', 'omww', 'riel', 'jess', \"today's\", 'between', 'bacon', 'bad', 'cybersecurity', 'dums', 'immensely', 'deeds', '\\x8b', 'shld', 'unique', '@websterpres', 'm8', 'https://t.co/pksntiedvy', 'tips', 'jade', 'onterio', 'weirdest', 'don', 'chipotle', 'hath', 'placebo', 'mens', 'sick', 'why', 'stolen', 'shame', '@fe_ptr', 'beaumont', 'cut', 'dat', 'instinctive', 'feels', 'marshall', 'spams', 'https://t.co/b8szicbiyf', '15:2', 'museum', 'uni', 'loan', 'making', 'voted', 'voice', 'cards', 'basket', '#owls', 'eternally', '@jessica_josie04', '#mac', 'deals', 'zombie', 'https://t.co/uyjqtohmqa', 'jewish', 'nikki', 'https://t.co/wgcddfphjb', 'theres', 'baroness', 'agreed', 'same', '@natemusic13', 'smoked', '@tommydahl', 'impact', 'male', 'puts', \"film's\", 'sometimes', '@jesusisgroovier', \"carroll's\", '@matthealey', 'self-esteem', 'research', 'bunny', 'mourn', '#fail', 'https://t.co/1s1pmwghmn', '-0.89', 'stories', '#seniorcare', 'https://t.co/lcvqziw4uy', 'years_ù', 'felt', 'talent', 'exact', '@trancez0r', 'tests', 'https://t.co/bnfsy313xs', 'doubted', '@meandpete_', 'stella', '#classmeeting', 'would', '@camerondallas', 'com', 'sliding', 'beefy', 'private', 'lend', 'https://t.co/8anyvhudgz', 'burma', '@abby_teee', 'madison', 'frozen', 'feminism', 'halo', 'ordered', '@ozzybosco', 'realistic', 'ã', 'headphones', 'turn', '#transitioning', '#dealwithit', 'https://t.co/3xwgnix2r3', 'even', 'ill', 'wolf', 'competing', 'melon', \"you'll\", 'across', '#faith', 'careful', 'thinking', '@copyblogger', '@generalboles', 'great', '#topstories', '@brittsween', 'gas', 'sauk', 'ass', 'french', 'sasha', 'lady', 'max', 'kids', 'legs', '@firecoach06', 'millwall', 'tori', 'looked', 'grades', 'advised', 'bowles', '#nnt', 'lots', 'https://t.co/snjwuz8ox0', 'was', 'declined', 'hicks', 'tweeter', 'yours', 'mind', 'suck', 'î', '@ladystyledmc', '@starbucks', 'very', 'timing', 'bedding', 'health', 'word', 'https://t.co/rvfnakaayz', 'suite', 'created', 'world', '#memes', 'biases', 'should', '_ùõï', '#atxjobs', 'pint', 'emotions', '@danielwickham93', 'https://t.co/sad2osavov', 'https://t.co/9ahzpom6pv', 'pose', '@codeschool', 'talented', 'ûïaffordable', 'fill', 'austin', 'joyce', 'makeup', 'ask', 'bc', '#dance', '#6801', 'genuinely', 'own', '@patrickcoffee', 'smells', 'denounce', 'city', 'ö', 'tweet', '@michaelryanruiz', 'farm', 'shorts', 'woos', 'current', 'wounds', 'local', 'rolling', 'twilight', 'ppl', 'https://t.co/n6uegh0enm', 'scarecrow', 'cradley', '´', 'hate', 'shawshank', 'https://t.co/3hp3tcdbww', 'magical', 'https://t.co/ignoh0qhsh', 'episode', 'whether', 'huh', '#video', 'spend', 'shots', 'https://t.co/sslsikw8oo', '@nourrytinhat', '#ad', '@btcare', 'cardoon', 'buying', 'ani', '@sidiedey', '_ùõø', '..', 'meet', 'ûªm', 'explodes', '@k8bame', 'map', 'mess', 'december', 'https://t.co/cu3h4ifhms', 'karts', '£', '@shewcyout', 'father', 'luckiest', '#giveaway', 'boss', 'holy', 'eggwars', '#free', 'pleased', 'mad', 'hats', 'https://t.co/t8f7bn6jxw', 'law', 'typesetting', 'rocky', 'baked', 'freaks', 'rewards', 'monster', '@saranghamy', 'https://t.co/2gvlpi2svf', '1/3', 'staying', 'personality', 'disgusts', 'sleeps', '@armandauthor', 'tweeted', 'https://t.co/dk98udl5jc', 'wood', 'content', '8p', 'ª', 'describe', 'lunch', '@ohvanesa', 'smile', 'https://t.co/na8hk7kfje', 'century', 'co-opt', '#doctorsorders', '@onedirection', 'shop', 'channels', 'glad', ':d', 'freaking', 'circumcised', 'selfish', '#history', 'sugar', '@the_sweeper999', 'plz', 'think', '#pontevecchio', 'shut', 'khayla', 'time_ù', 'gen', 'uniform', 'loved', 'pray', '#dominion', 'tune', 'https://t.co/zigg6jwbxn', 'history', \"x'd\", 'headset', 'fair', 'moon', 'bits', 'kmart', 'wiley', 'baby', 'policy', 'favorites', 'iraq', 'https://t.co/ixbfwi8wn9', 'profit', 'oreos', 'starts', 'y', 'liberals', 'broooo', '@reiatabie', '#ibmsystems', 'https://t.co/rpq2akbwbh', 'genius', 'views', 'perspective', 'file', 'unbelievable', '#typeaprobs', 'auctioned', 'ben', 'cancel', 'holidays', 'kck', 'convinced', '@gordon_keenan', '@panicitspeter', 'toledo', 'trick-or-treat', '#idaho', '@channele2e', 'woolyboy', 'approach', 'pains', 'https://t.co/gtwlhieoqj', 'account', 'team', 'upwards', 'something', 'whats', 'dumb', 'school', 'attention', 'https://t.co/voapcqez4t', '@caspar_lee', 'fights', 'catch', 'kim', 'confused', 'corporations', '@dejavueq', \"harry's\", 'cruising', 'pats', 'tub', 'https://t.co/9xrsadqqsa', 'chad', 'long', 'coolest', 'photographed', 'hero', 'https://t.co/vbu2d5dzmc', 'dyke', '#prebreak', 'union', 'motto', '¡', 'nasty', '@kianandjc', 'deserve', 'poll', 'tons', '@artisticzayn', 'conversations', 'https://t.co/qkxpbwlw1o', 'sand', 'asked', '#cashycat', 'https://t.co/fn74cywvty', 'earth', 'ride', '->', 'winner', 'gig', '@minsell', 'ygod', 'beyoncì', '@colliersheriff', 'reason', 'comes', 'matthew', 'https://t.co/ngve8htktt', 'deserves', 'gran', '#smilemore', 'https://t.co/vk6odmng3m', 'counter', 'stick', 'dick', '@uberfacts', '#search', 'for', 'advocating', '#oth', 'washed', 'beer', 'friday', 'sphinx', 'returning', 'unhealthy', 'tied', 'everyday', 'missions', 'vendor', 'https://t.co/xikn7knaza', 'michael', '@itsalesa', 'web', 'toe', \"dinah's\", 'misconceptions', 'hips', 'bishops', 'mocked', 'checking', 'far', 'growing', 'help', '@vinylmeplease', 'ddk', 'https://t.co/m0ziqysoj1', '@shutterstock', 'word-slinger', 'https://t.co/ixj4wmvsmr', 'demands', 'sits', 'pappas', 'catchy', 'flat', 'https://t.co/kxfjuwsfhz', '@michael5sos', 'cbc', 'smacked', 'ahead', 'protesters', '@bonitapolo9', 'hii', 'https://t.co/mnyncysxnn', '#universitychallenge', '_ùîà', 'intent', '_ùªî', 'edge', 'assess', 'dressing', 'ma3o', 'update', '@aweesan', '@wwe', 'company', '5mbps', 'healing', 'consider', 'share', 'inspired', 'pulling', 'skrein', 'anonymous', 'ran', 'what', 'misty', 'mist', 'conserving', 'h', 'forgetting', 'vsd', 'imperative', 'screen', 'hugs', '@ukenyatta', '#boardgamehour', 'three', 'messed', '50mph', 'disease', 'updates', 'snowboard', '@3tags_org', 'struggles', 'benghazi', 'qualify', 'rugby', 'https://t.co/fob3xfozts', 'https://t.co/4s7itcrbah', '@paupdates', '@magnessmayhem', 'unelected', 'if', 'most', 'https://t.co/6wkq4drctc', 'snow', '@pprincesaputa', 'bzabe', '«', 'https://t.co/ailh9dpegr', 'huskies', '#lincshour', 'some', 'plates', 'model', '@infobrokerkanra', \"husband's\", 'you_ùõ', 'contact', 'creep', '_ù_', 'testing', 'wave', 'ineffective', 'apocalypse', 'these', '01:05', 'breed', 'them_ù', 'doing', 'gold', '1d', '#follow', 'shocking', 'pushed', 'https://t.co/ycalzjqjo7', 'https://t.co/bf2tchmzad', 'journey', 'non-sense', '#strongwoman', 'pediatrician', 'blankets', '-2.12', 'focus', 'f-fine', 'certain', '#theothersidetour', 'sings', 'slowing', '#debate', 'away', 'tazer', 'relative', 'earthquake', 'spin', 'haywire', \"won't\", 'torture', 'suggests', 'https://t.co/tchgst0jbo', 'wedding', 'actors', 'aww', 'scared', 'foods', '#nowplaying', 'bae', 'gear', 'fuckinng', 'tbt', '@marisha_ray', 'looks', 'around', 'service', 'fantavision', 'https://t.co/zqj5hjzfix', '#hilarious', 'odessa', 'process', 'puertorico', 'welcome', 'highschool', 'discovered', 'transforming', 'swear', '@roman_empire_76', 'remedies', ':-)', 'sincere', 'provider', '@darealdeegottii', 'tx', 'parenting', '@xx_addieee_xx', 'hired', '@scholesmufc93', 'sensitive', 'cables', 'relatable', '#art', 'space', 'age', 'grass', 'ready', 'cor', 'info', 'chewy', 'did', 'ranbir', 'https://t.co/qgcpzetlzk', 'brought', 'tolkien-notated', 'ssx', 'copy', 'allowed', 'hacker', '#rankings', 'hill', 'island', '2go', 'izaya', 'https://t.co/swtqdgz721', '@smoshanthony', 'accidents', 'whoop', 'keeps', 'https://t.co/0ixl9j1vfq', 'shaming', 'gop', '@dstv', 'bruh', 'bruce', 'https://t.co/ipxra0qj5e', 'hahaha', 'bus', 'seydo', 'dance', 'caught', 'dreaming', 'stats', 'costs', 'https://t.co/j9u2tlnqsm', 'motley', 'strike', 'burgers', 'jack-o-lanterns', 'gtf_ù', 'spirit', 'moral', 'face', 'justin', 'complain', 'blimey', 'times', 'brown', '#pe', 'likes', '10x', '@chrisr249', 'laura', 'rings', '@lclardy93', 'retail', 'https://t.co/mysod8d1tu', 'igbo', '@cecidurant', '#yr', 'dr', 'eight', 'amis', '@russellstreport', 'rainbow', 'needs', '1.5', \"world's\", '@michaeljwaldron', 'lot', 'powwow', 'lobbies', 'connect', 'wheeler', 'oxted', 'shot', 'uc', 'sarcasm', 'realized', '#hpms', 'ý', 'pierce', 'self', 'sounds', 'https://t.co/wqzzrbatoi', 'grocer', 'netflix', 'https://t.co/0057bowkey', 'hehehe', 'dallasxford', 'rarely', 'rain', '@ben24626', 'annual', '@the_author_', 'walks', 'birds', 'bargnhtress', '#latenite', 'everydaydayiloveyou', 'duality', 'nick', '@5sos', '@shemarmoore', '@namaikilips', '@esmerovka', 'zoo', '#presence-matters', '@jvplive', 'https://t.co/bvqr7gvsjx', 'tag', 'ps4', '@robertbohan', '#datpiff', 'contains', 'forty', 'african-american', 'indonesia', 'xdqv', 'sister', 'sekonda', 'expectations', 'mug', 'joke', 'salt', '@samgreenx', '20,000', 'roster', 'mi', 'cdc', '#abc13sports', '#careerarc', 'protecting', '@kaatiee6', 'towel', 'northumberland', 'languages', '#mcm', 'fancy', 'taken', 'facial', 'stops', 'https://t.co/okqdx3qzdw', 'meats', '_ù_ã_ù_ñ_ù_', 'thursday', 'reigns', 'weekend', 'sound', 'https://t.co/y2aozlkgua', 'facebook', 'ûªve', 'dunno', '#memorymonday', 'https://t.co/uubjdzm6ts', 'unfollowed', 'https://t.co/p0bapa7lzt', 'loyal', 'davido', 'troops', 'disgusting', 'sat', 'markovic', 'statute', 'startup', '#experiences', 'squads', 'transitory', '@tombertram91', 'snaps', 'fucking', 'flowing', 'taste', '@real_liam_payne', 'idis', 'of', 'flying', 'whistling', 'tos', '#canon', 'lights', '@tidux', 'fav', 'strange', 'bounties', 'hello', 'henrique', 'worse', '60fps', 'wishart', '#ffiec', 'lim', 'ever', 'costume', '@ibminsight', 'parent', 'specialist', 'https://t.co/dj1d5bqvvu', '@triplej', '#contentchat', 'fetus', 'instead', 'desk', 'parking', 'guarantee', 'https://t.co/8xk3nrz4yb', '@nectar', '@coles', '#iphone6plus', 'https://t.co/ovuyeaezkx', 'terror', 'subscribe', 'shift', 'have', \"i'ma\", 'https://t.co/plhwwfb4us', 'fauna', 'grandpa', 'cd', 'said', '_ù_ó_ù', '@philcrissman', 'singles', '¢', 'never', 'loneliness', \"janice's\", 'breaking', 'coach', 'mint', 'ticket', 'car', 'pants', 'delectable', 'cupcakes', 'terminally', 'showings', 'harder', 'danced', 'found', 'spent', 'https://t.co/3ljmaqrbbd', 'bathroom', 'joe', 'product', 'https://t.co/m85jofyqop', '@marielleyeaah', 'losses', '#imdb', '@feminisms', 'mcs', 'missiles', 'must', 'import', '@diami03', 'https://t.co/gnyjdynytp', 'neighborhood', 'on', 'toes', 'findings', 'feed', 'role', 'whole', 'ily', 'rd', 'uss', 'quince', 'https://t.co/ggjjo3jbfn', 'grooving', '@captainsparklez', '18th', '13:18-', 'page', 'weeks', 'inspirations', 'triggered', 'ta', '#india', 'sold', 'upside', 'thine', 'ü', 'compelled', '@panthersalv', '@hollyjoee', 'https://t.co/xgzurpduzl', 'respond', '@yorkssocialist', '@smoshian', 'threw', 'attached', 'cheerio', 'sticky', 'hurt', 'picking', 'articles', 'knackered', 'slay', 'james', 'shopwtd', '#happyanniversary', 'decoder', '@thesmithminute', '281.3', 'shocked', 'bite', 'https://t.co/titfypmwtj', 'code', 'https://t.co/p44xxosca3', 'pharmaceutical', 'republic', 'hahah', 'customers', 'brennan', '#beauty', 'breath', 'coffers', '140,650', 'onto', 'dinky', 'https://t.co/ivlxmydo8g', 'xoalexgurrlxo', 'heat', 'recruitment', 'timeframes', 'finger', 'invite', 'jr', 'ed', '#holylife', '@alyssacoren', 'wont', '#memek', '31st', 'https://t.co/p427buy5so', 'sharif', '__ùõû', 'narrative', 'persistent', 'trans', 'skyfall', 'services', 'character', 'https://t.co/nw4i8oxzfg', 'cap', 'caliber', 'round', 'workbench', '@odetopetrichor', 'step', '#artistoftheyear', 'won', '@sexyvampireking', 'touching', 'arrived', 'mexican', 'blames', '@andrews_steven', '#jmteam', 'wyatt', '@jolynndeal', 'from', '#holidays', '@instagram', 'playing', 'here', 'munching', 'cell', 'o', 'pop', 'nem', 'https://t.co/qyqzqr5qo2', 'america', '#represent', 'goes', 'mend', 'trains', 'place', 'cups', \"what's\", 'it_ù_ó', 'ham', 'picked', 'dammit', '¤', 'loin', 'https://t.co/hhj3qlixqe', 'alrigdht', 'doors', 'thumbs', '@rs200077', 'dentist', 'eqanon', 'sitting', 'clichì', 'jobs', 'pi', 'effects', '@debo_bugatti', 'kapoor', 'stuff', 'boo', 'sensor', 'appreciate', 'horses', 'champion', '7.15', 'associates', 'cleaning', 'mbcqovo', 'generate', 'https://t.co/x2ebvzasia', 'https://t.co/ehw2ii9zns', '+', 'https://t.co/yldcihb7qw', 'https://t.co/zz5tl7lwpz', 'famous', 'avoided', '@ecobee', 'essay', 'lil', 'successful', 'calls', 'among', 'days', 'crap', 'language', 'undertale', 'convenient', 'https://t.co/cikawhsf00', '@kmillermaster', '#northeasthour', 'ths', 'debut', 'mix', 'revenge', 'archwitch', 'active', 'travelling', '__ù', 'corp', 'listed', 'jams', 'mistakes', 'intake', 'qhyqbqs', '@thetributeact', 'alcwnt', '#smoke', 'strobel', '@_love41d', 'tonight_ùõï_ù', 'early', '@atiretsilb', 'saying', 'portion', 'isupk', 'underrated', 'jd', '@theorangecone', 'wives', 'impudence', 'couches', 'overflow', 'warden', 'https://t.co/silseuvxea', 'buy', 'easily', '@frannyhilson98', 'https://t.co/jptd0ga4z2', 'https://t.co/ioqdx4lgxt', 'sisters', '@micnews', 'jesus', 'nawaz', 'blunt', 'snake', 'https://t.co/vjsoogonjq', 'protein', 'female', 'hugging', 'diviners', 'husbands', 'apart', 'fyi', 'kansas', 'iå', 'spluttered', 'lama', 'hear', '#corn', 'h1', 'title', 'energy', 'genuine', 'khadijaa', '1/4', '#follobackinstantly', 'dameisha', '@icanpictureit', '#epsteam', 'typical', 'hillary', 'john', 'ejaculatte', 'definite', 'revealed', 'politicians', \"shouldn't\", 'lafell', 'tweeps', 'purchase', 'getting', 'director', 'automatically', 'broken', 'https://t.co/7ebqxeozoc', 'meeting', 'due', 'skill', 'reps', 'test', 'fist', 'window', 'sprite', 'to', 'dump', '#danielodonnell', 'wondering', '#retweet', 'ûó', 'u', 'residence', 'house', '#dollarstorecrafts', '#digitalmarketing', \"i'm\", 'rivalry', 'cheese', 'bro', 'where', 'fitness', 'next', 'pyjamas', '@sharanyashettyy', 'ahahaha', 'reflection', 'pls', '#russellwilson', 'officer', 'counsellor', 'https://t.co/lbvryfbm3e', 'repeals', 'songs', 'nuski', 'office', 'brothers', 'scrub', 'cloud', 'empire', 'could', 'movie', 'fame', '_ùôö_ùôö', 'growled', 'morning', 'woman', 'veg', 'https://t.co/42fa4wwoa1', 'women', 'warm-up', 'banned', \"everybody's\", '@odeoncinemas', '#countryliving', 'rnn_ù', 'treated', 'reunited', 'wildlife', 'mergers', 'robes', 'walking', 'panicked', 'typo', '@exeter_phoenix', '@taaaaash__', 'substitute', '@sascat', 'usual', 'more', 'arrangement', 'certifications', 'sheets', 'lukich', '@minhazmerchant', 'acquired', 'https://t.co/duuynswdwe', 'importance', 'athlete', 'macklemore', 'excellent', 'emoji', '@youngnba', 'nyc', 'domain', '@calila1988', 'partnered', 'streets', 'north', 'position', 'https://t.co/cow8jgquck', 'fuk', 'pounds', 'chilling', 'buildings', 'nta', 'scooty', 'phone', 'anime', '@hockeygrrls', 'premier', 'wey', 'na', '#allblacks', 'bride', 'international', 'failure', 'concerns', 'faith', 'wilson', 'least', '@hrcage', 'micro', 'closely', 'sockets', '#collaboration', 'ð_ù', 'doctor', 'registration', 'ur', 'https://t.co/7pohltafgm', '@21nixon2020', 'scaring', \"i've\", 'doin', 'yo', 'damn', 'doppelgì_nger', 'done', 'seconds', 'feel', 'ssd', 'vlog', '_ùî__ù', 'healthy', 'eternity', 'spaces', 'tool', 'hers', 'day', 'snowball', 'math', '#2cool4school', '_ùôî_ù', 'guy', 'intro', 'afternoon', 'stuck', '#dogwalk', 'ipad', 'amazing-looking', 'https://t.co/oiqwn5flod', 'cotton', 'mother', '_ùªî_ù', 'forward', 'scored', 'thug', 'prod', '#travelexpert', 'countdown', 'evening', 'electrocuted', '@sophieemcvey', 'fire', 'soul', 'counselor', 'attend', 'understand', 'shaded', 'à', 'fat_ù', 'karen', 'bader', 'thinks', 'virginia', 'unplugged', 'week', 'wasting', 'certainly', 'htgawm', 'media', 'though', 'potential', '@el__vy', 'galaxy', 'bedroom', 'alcohol', 'biphobia', '@timewastingsub', 'lisa', 'vivid', 'speaking', 'deodorant', 'english', 'bangles', 'kit', 'books_ù', '@olliebearheta10', 'hiccoughs', 'https://t.co/gkfbudrpyu', '@smosh', 'robber', '@kevinwatson', \"didn't\", 'swat', 'object', 'privacy', 'threesome', 'closed', 'christie', 'regret', 'empower', 'legalise', 'https://t.co/wqwcoyktzw', 'fort', '>', 'photo', '@mssusiecue', 'singer', 'mapnduma', 'mane', 'top', 'along', 'messy', 'whizzing', 'replace', 'diy', 'changing', 'patrol', 'david', 'manager', 'video', 'https://t.co/qwa6bveeru', '@lottekoendering', 'vision', 'https://t.co/stvkpsesrc', 'settle', '(', 'militia', 'texting', 'book', 'disrespect', 'swoof', 'tour', '#forex', '#lifefoodawards', '#whyimnotvotingforhillary', 'gives', 'drake', 'legally', 'ultimate', 'aesthetic', 'dressed', \"arizona's\", '-', 'christina', 'touch', 'sunday', 'pretty', 'idea', 'jordan', 'gossiped', 'giveaway', 'thought', 'nature', 'artist', 'lashed', '@giannaaa28', 'trump', 'waiting', 'woke', 'shout', 'mike', 'ideas', 'tech', 'fast', \"sunday's\", 'https://t.co/rjfcc6qbre', 'redemption', 'https://t.co/izfquwbsrf', 'sparklers', 'singers', 'louis', 'sharing', '@beansproutcraig', 'symposium', 'including', 'asl', 'fb', 'progressive', 'break', '@butwemaystill', 'post', 'war', '10-23', 'caspar', 'goodbye', 'sum', 'throat', '@horseshowtutor', 'barlow', 'power', 'nut', 'blood', 'door', 'moorhead', '@bigfinish', 'blow', 'stem', '@say_ross', 'https://t.co/fwibidvvby', '@beyxcole', 'https://t.co/ad7g2tv7hf', 'strings', \"we'll\", 'ahmad', '@bobmarley', 'dictated', 'act', 'redbridge', '@chelseacharmsx', 'oblivion', 'wetlands', 'annoy', '[', 'sierra', 'con', 'charged', 'ams', 'fa', 'negima', 'side', 'oral', '1.20', 'nascar', 'blessed', 'money', '@sherlin_lfc', '#ithakatnw', 'https://t.co/7jfao9v3pl', 'https://t.co/ylzc72x97y', 'succeed', '#bispak', 'victor', 'twist', 'georgie', 'much', 'mechanics', 'joy', '@patilirana', 'd', 'niggas', 'list', 'asking', 'encourage', 'chair', 'breakfast', 'https://t.co/rewqpyarrh', '@_awkwardasia', 'leg', 'nonsense', '@handsomehack', '¦', 'continued', 'twitter', 'thursdays', 'trap', 'perfectly', 'https://t.co/9xdpew2ubs', 'salty', 'multiplayer', '@unbiasedsprtsfn', 'sutton', 'enables', 'palpable', 'gift', 'martin', 'smiley', 'icon', '#halo5', 'quickly', 'spread', 'behind', 'https://t.co/pti1nvcmdf', '@drjoethompson', 'è_ù___ù', 'https://t.co/5hmsrzjpmh', '@harley_b_x', '@bassgiraffe', 'yelling', '@andyrichter', '@laurabraden2', '@kimlonginotto', 'slaying', 'sleep', \"i'll\", 'https://t.co/i66w2rtcnu', 'https://t.co/bgzlwb9hc5', 'https://t.co/jpghzjmh5s', '@benrobinson97', 's', 'johnnyosings', '@nternetinspired', 'player', 'pulled', 'increase', 'hve', \"o'brien\", 'books', 'necessary', 'courts', 'sessions', 'lit', 'mansplainers', 'respected', 'switch', 'plus', 'clerk', 'superposition', 'okay', 'corner', 'quintessential', 'dear', 'mc', '#traditionaldanceweek', 'smooth', 'swift', 'they', 'rabbits', 'release', 'south', 'genteelness', \"they'll\", 'autumn', 'genders', '@uknowtheguy', 'á', 'venison', '@mabellechedid11', 'hopes', 'simply', 'ffs', 'johnny', 'https://t.co/oat0hzafuh', 'bundle', 'usa', '@arianatorabby', 'russians', 'ann', 'bullshit', 'text', 'emotional', '#askussegl', 'https://t.co/qgzczlct6h', 'gonna', '@emmacmodel', 'https://t.co/hdgzcrqu5m', '#hollyoaks', '4:20', 'https://t.co/komsi2kgj4', 'awake', 'https://t.co/qxn4ncfzco', 'level', 'further', 'exhaustive', 'my', 'raheel', 'asleep', 'mp3', 'https://t.co/cfcg9dyqdq', 'trembling', 'https://t.co/jqbyxn8x8e', 'sun', 'call', '#ifitwasntforyourpussy', 'derek', 'working-out', 'games', 'hoes', 'boils', 'mountain', '2nd', '#', 'https://t.co/egmqbe6kqr', 'neither', 'engineers', 'https://t.co/sqfuknx2ou', 'continuity', 'soto', 'https://t.co/eq9ssbb8ek', 'guide', 'create', '@chandastar74', 'helps', '#earthquake', 'uncanny', 'beard', '#facupdraw', '#yorkim', 'bbq', 'le', 'googled', 'therapy', 'up', '_ùð', 'printers', 'investigating', 'cute', '...\\n...', 'restrict', 'https://t.co/y4uwb6quat', '@limonilabouche', 'during', 'officers', 'vegetarian', 'married', 'abortion', 'spring', 'cars', 'rights', 'fed', 'hachure', 'surprised', 'movement', 'cried', 'dotn', 'personal', 'spain', 'https://t.co/eghb5yvmjz', 'offences', 'fleas', '@binarybits', 'fabric', 'questions', 'popped', '#marilynmonroe', '@bleululu', 'watch', 'actress', 'memory', 'roadshow', 'supposed', 'disturbing', 'rook', 'peaceful', 'https://t.co/kxjafbml2o', 'ironic', 'https://t.co/u7z6pmbzqg', 'gallons', 'fifa', 'spew', 'jedi', 'univerde', 'scars', 'does', 'channel', 'ebook', 'monday', 'blogs', 'delay', 'cultural', 'dye', 'dirty', 'xxx', 'secrets', 'impoverished', 'vibes', 'blame', 'pressure', 'https://t.co/qcktgxe1r3', \"let's\", 'jerrys', 'untreated', 'wow', 'group', 'possible', 'https://t.co/paggbzmf06', 'referee', '@sexiest_hotties', 'cancer', 'man', 'daniel', 'depends', '@kynarrr', 'consequential', 'wedd', '@softwarmground', 'approval', 'cream', 'https://t.co/yko1xpi7n0', 'rumors', 'paris', 'https://t.co/4fjedputsv', 'ff', 'bunch', 'meow', 'concept', 'breathing', 'pisses', '@ironghazi', 'finna', 'construction', 'pease', 'carmelo', 'wednesday', '#autumn', '_ù_â', '#goldengate', '#jobposting', 'obama', \"ain't\", 'tortuary', 'wanna', 'fats', 'https://t.co/39kmrzwcum', 'touches', 'jessica', 'https://t.co/9do7c5e3mg', 'reply', 'lumniaries', '@everymancinema', 'streams', 'mostly', 'birthday', '@goddessfish', 'slick', 'transcript', 'onenote', 'gaming', 'secondary', 'kidding', 'https://t.co/ihthxhhcwn', 'wen', 'lewis', 'sneaker', 'aldi', 'g.skill', 'uplifting', 'sebs', 'extended', 'https://t.co/fn8pwcjnyx', 'mangina', 'christian', 'say', 'mesa', 'choose', 'pugilist', 'livingston', 'add', 'junk', 'crazy', 'crisis', 'inner', '@deftronic', 'puffle', 'blanket', 'managing', 'subdued', 'egyptians', '@baskgod', 'atom', 'drops', 'each', 'deadly', '#oow15', 'seems', 'must-have', '@heyerinrobinson', 'josì', 'https://t.co/gyv8ta7aic', 'political', 'part', 'åø', 'follow', 'https://t.co/h806cwttgw', '&', 'firm', 'muslims', 'promised', 'uncles', '@rodbelgrave', 'vents', 'month', 'ï', 'https://t.co/jayak983cx', 'cheaper', 'deeply', '#plantbaseddiet', 'greggy', 'leaving', 'light', 'lfari', 'pendant', 'grandparents', 'outcome', 'queen', '#igiveup', '@saleena_1', 'choses', '_ùôü_ùôü', 'quality', '@msauedu', '@mart411martin', 'right', '46-12', 'build', 'letting', 'cling', '#haze', 'pca', '@and_im_gone', 'cause', '@aarondmiller2', 'tabs', 'existing', '@keightdee', 'back', 'https://t.co/tv8bhdrtw8', 'https://t.co/9opo0zetjv', 'praying', '$', 'colalife', '@iimag', 'dani', 'debt', '@ncixdotcom', 'forever', 'goldsmiths', 'rant', '@motoguzzi', 'notebook', 'tops', '@aliayashh', 'dream', 'garst', 'florida', 'grimes', 'integration', 'peppers', 'quantic', 'valentina', '@awinehouse1', 'tweeting', 'competitive', 'eating', 'bitches', 'ignorance', 'dress', 'addison', 'kanye', 'wake', 'watching', 'boredom', 'giants', 'racists', 'treks', '@_bvm', 'blogging', 'as', 'luckie', 'photoshoot', 'patch', 'realises', 'prison-yard', 'center', '@kookypixel', 'final', '#susocialwork', '@hbfromkc', 'https://t.co/jrgcdmvral', 'non', 'm', 'prolly', 'pay', 'jameson', 'chest', 'british', 'cooking', 'shits', 'manmade', 'https://t.co/0dxz5rsvkp', 'conjoint', 'https://t.co/77iahulaf4', 'sons', 'colouring', 'option', 'east', '6ta', 'ashley', 'clue', 'umm', 'https://t.co/rqprorm4yz', 'talk', 'confidence', 'plagiarism', 'infield', 'https://t.co/8kax5mw8j0', 'les', 'videos', 'down', 'believers', 'jointly', '@dudefrumva', '@olivia_mullen13', 'effort', 'leia', 'topupdated', 'spinnin', 'co-stars', '#pumpkin', 'breayhe', '=', 'mjhy', 'reception', 'https://t.co/9homi4h2oh', '@kalpenn', 'donate', 'pit', 'https://t.co/jp7lsfkkrx', 'monica', '@lamarahhal', '@motokohunt', '@tracenarry', '\\\\', 'jacob', 'awesome', '@that_ethichick', '@pauljun_', 'https://t.co/durstrbleq', \"she's\", 'marketing', 'advantages', 'maddeningly', 'such', 'worst', 'before', 'fun', 'tuesdays', 'https://t.co/kbxjapzymm', 'forgotten', 'hermit-y', 'nigga', '@cindygallop', 'v', '@ho_logie', '@helpscout', 'disposed', '#23', 'https://t.co/c9s1shfizf', 'angry', 'heads', 'sf', 'breathe', 'giant', '@sara_bahadur', '@papicoast', 'ok', 'obvs', 'unfortunate', 'welly', 'vix', '@sportsguy_83', 'pledger', '@jason_mraz', 'freak', '@', 'fallowing', 'wanting', 'cash', 'https://t.co/hgh1wwqkjc', 'tricks', '#doctorwho', 'star', 'smoke', 'helpful', 'renton', 'raining', 'standing', '_ùõ', '@healthypasta', 'comics', 'charging', '10-25-', 'cam', 'https://t.co/uexfenr5ow', 'son', \"bayley's\", 'australian', 'pijush', '@regalhiddles', 'reds', '@chris_webb1', 'kirk', '@yayyab', 'straw', 'baggage', 'sell', 'beards', 'deep', 'shxmpyin', 'tendency', 'c', 'reading', 'mash', 'https://t.co/rrifs8s3ek', 'christ', 'decide', 'dramatize', '__ù_', '#fighter', 'tiny_ùôî_ùõ', 'mushroom', 'https://t.co/us2nxwbu6w', 'invest', 'fans', 'night', 'comet', '@jackmorlenfc', 'drop', '5th', 'giving', 'wafers', '@oukurui', 'strongly', 'sied', 'chill', '#stress', 'height', 'hella', 'lauren', '@fllharry', '@glockcityy', '¬', 'wifi', 'decent', 'cali', 'qq', 'finding', 'crops', 'twenty-one', '@onceuponatimekw', 'uber', 'burnt', 'voddy', 'jasiabsjabdh', \"we're\", 'middle-earth', 'https://t.co/vr59n3uzzj', 'closing', '@21tyke', '#health', 'stations', 'steering', 'https://t.co/hkkunuknef', 'â_ù', 'question', 'dorms', 'abu', 'safe', 'greenhouse', \"archbishop's\", 'weapon', 'knowing', 'treating', 'rose', 'especially', 'hip', 'means', 'uglyy', 'mums', 'game', 'deepika', 'blue', 'disco', '@mahmoudalkurd', 'horizon', 'ny', '#spectre', 'https://t.co/dwplyr8pbm', 'intel', 'incredible', '#nevermind', '#navy', 'quiet', 'remind', 'criminal', 'powerful', 'characters', 'commented', 'paisley', 'paying', 'dogs_ù', 'kwakwanso', 'drives', 'pride', 'insell', '\\x81', 'poked', \"ûïdon't\", '@hatfieldjason', 'sent', 'https://t.co/slpzfxmqny', 'https://t.co/tjrk42ax6j', 'wardrobe', 'couch', 'gravity', 'dvds', 'standout', 'pictures', 'theatre', 'im', 'twitching', '@thedeanambrose', 'checked', 'know', 'worried', 'twice', 'jaws', 'rock', 'comments', 'modeling', 'marking', 'dollars', 'future', '#selfies', 'noticed', 'bexleyheath', 'https://t.co/glntnxwq47', 'hell', 'strong', 'postpartum', 'sleazy', 'usually', 'https://t.co/efn62utoaw', 'inhaled', 'https://t.co/icpffaxyj2', '#kale', 'mound', 'philosophy', 'relationships', 'kid', 'jiggled', 'https://t.co/0zfsmqvv7h', 'trafficking', 'replay', 'candidates', 'nauseous', 'barley', '#win', '!', 'head-on', 'gavin', 'https://t.co/adbisv9fof', 'https://t.co/vxenusut4e', \"jason's\", 'guysssss', '@vicesports', 'https://t.co/axx6gegdnq', 'block', '1970s', '#savannahfilmfestival', 'mans', 'buses', 'https://t.co/qlodm7gqxd', 'winds', 'strength', 'kevin', 'hilarious', 'https://t.co/pxutomgjxf', 'wars', 'https://t.co/sgp6joozgo', 'åáandåà', 'passed', 'https://t.co/aeuxbda49u', '@studioonwhitney', 'mate', 'studio', 'difference', 'balls', 'comeback', '@nicklavato', 'beech', 'prayers', 'site', 'expressed', 'seen', 'co', 'ej', 'bethune', 'imitation', 'live', 'workers', 'https://t.co/0be9exes0r', 'tegan', 'browns', 'imagine', 'botch', 'https://t.co/zv0ru5dcea', 'decided', 'makes', 'prison', 'unfairly', 'expectation', 'smiles', 'cuts', 'crying', '@maiyanee', 'amendment', 'says', '#sorrynotsorry', 'last', 'truro', 'trees', 'insecure', 'fit', 'writes', 'maturity', 'miss', 'has', '@billsbuzztap', 'probably', 'force', 'dedicated', '@zodiacforest', 'mood', '#drupan', 'technical', 'carry', 'grandad', '#pushawardslizquens', '-3.25', '#amazon', 'courage', '@krusherkovalev', 'dee', 'blocked', 'ill-intended', '@artschoollpool', '@lomadia', 'booty', 'grateful', 'chachos', 'funeral', 'bnb', 'celty', 'nonprofits', 'https://t.co/su28auk8xs', 'mop', '@hchicles', 'eme', '23mbps', 'https://t.co/8mrsoe9our', 'hit', 'reject', 'quarters', 'bgt', 'wan', 'country', 'late', 'pets', 'https://t.co/gg8gpdqdvz', 'argue', 'native', '@asyrafrobani', 'vacuous', 'eye', '@b2community', 'flawless', 'things', 'https://t.co/asltykucvd', '@aherod263', '3s', 'parents', 'win', '@dcyph_rayq', 'screensaver', 'hockey', 'boundaries', 'perf', '@nerocole', 'edition', 'cheque', '#ashyniggasmondays', 'd:', 'our', 'count', 'pick', '@wordpressdotcom', 'end', 'anxiety', 'pace', 'younger', 'nectar', '@bedroom_bar', 'having', 'case', '#fashion', '_ùó', 'feuilly', 'carving', 'tomoz', '@martiaianthony', 'alison', 'https://t.co/kuffkgnqmu', 'seminar', 'confuse', '#microsoft', 'resourcemfg', 'sucks', '@dreeall', 'former', 'auburn', 'land', 'supply', 'serve', 'assault', 'https://t.co/dakcram6yj', 'jester', 'include', 'waqar', '#ghhsci102615', 'larry', 'totally', 'otto', 'https://t.co/zczhffbehy', 'wish', 'dark', '@galiaarad', '1/2', '@alextichenor', 'stress', 'yeah', 'dea', 'iu', 'iz', 'firstly', 'formatted', 'cheap', 'towards', 'improving', 'way', 'alarm', 'õ', '|', 'whose', 'berninger', 'babygirl', 'tarantino', '@yahooscreenuk', 'management', 'pool', 'internet', 'surge', 'proportion', 'everything', 'shady', 'fresh', 'predictor', 'https://t.co/ipj2yoiget', 'aboard', '#jobs', 'leaders', 'est', '2,000', 'https://t.co/3huxxiimm3', 'lms', 'https://t.co/gxnaytixsr', '@kiro7seattle', 'resource', 'teeth', 'granddad', '@raseelj', 'mikey', 'https://t.co/enhswsnxp2', '@heatheresanders', 'helped', '140,655', 'beginners', 'balling', 'https://t.co/nmzfaxsbte', 'bring', 'midst', 'complimented', 'pee', 'superman_ù', 'christmas', 'stock', 'mm', 'capital', 'disney', 'mastercard', 'swung', 'groom', 'someone', '#future', 'anthony', 'dave', \"band's\", '@bombay_ray', 'motion', 'https://t.co/hajijeg0oj', 'shouted', 'ethnic', 'rape', '@madddieexoxo', 'learning', 'championship', '@bitemyapp', 'crossed', 'gallery', 'seeing', 'pacers', 'https://t.co/kzsgnchhnp', '#socialmedia', 'https://t.co/lpe7rghcfx', 'https://t.co/hqoun4ojwo', '_ùªü_ù', \"say'n\", 'soy', 'eaters', 'grow', '#squatforasstomatchsass', 'https://t.co/jidzoafbjb', 'brisk', '@11freeman11', '#positive', 'millions', 'got', 'friends', 'https://t.co/9ojia9xzzx', 'blast', 'ms.cobbler', 'sis', 'bless', 'swing', 'died', '#skills', '@michellemone', 'ears', 'zone', 'fractured', 'dare', '#yycre', 'closet', 'hairs', 'atmosphere', 'outside', 'engaging', '\\x95', 'european', 'ûïspray', 'contempt', 'agree', ')', 'dreamfields', 'appearance', 'ê_ùîà', 'rich', 'education', 'corn', 'https://t.co/d780eyt6vj', 'https://t.co/jbsqrk0n8o', 'clinton', 'https://t.co/1zthov1gz4', 'laying', 'indirects', '@youtube', 'message', 'shelf', 'jason', '@athleticeq', 'gentle', \"ocean's\", 'https://t.co/tu2q2myl7m', 'https://t.co/pre0oicvyr', \"wizkid's\", 'date', '@bddfoundation', '@ddg82', 'boots', 'g', '@nba', 'fraud', '@dillonmcg', 'sport', 'cknout', 'sophistication', 'wreath', 'newscaster', 'ole', 'https://t.co/rjeiamvxvg', 'saves', 'wait', 'facts', 'âayee_ùôî_ù', 'govt', 'tomorrow', 'individual', 'charger', '@cashmerecat', 'girdle', 'engage', 'talents', 'qb', 'stranger', 'screening', 'network', '@goldglovetv', \"they're\", 'outdoors', '@hba_koopa', 'incorrectly', 'mistook', 'comment', 'until', 'moved', '@batigersfootbal', 'scene', 'crown', '#onedirection', 'pilot', '@bucksexton', 'catches', '@khalidalsultan', 'dope', 'cheerleader', 'howe', 'colored', 'dogs', 'desert', 'buchanan', 'moments', 'arrives', 'notifs', 'https://t.co/ul1pmjgrft', 'gary', 'except', '@faithm644', 'wrote', 'wounded', 'noises', '@rtraister', 'https://t.co/g0mcei8pwj', 'huggies', 'strangest', '_ù_ó_ùò__ùõ', '@pats4iifebb', 'tonight', 'not', 'rescues', 'https://t.co/37zmjarlat', 'subject', 'imperfection', 'we', 'then_ù', 'backyard', 'uncharted', 'padilha', 'stay', 'cody', 'plot', 'commercialise', \"you're\", 'set', 'changed', 'angels', '#mashable', 'etc', 'ss16', 'cutting', '@jussdatip', 'writing', 'sinful', '@sensemisapplied', 'burn', 'gr', 'properly', 'waking', '@rodimusprime', 'happen', 'promoted', 'classes', '@laurabaziuk980', 'clenching', 'bedal', 'aaand', 'mourinho', 'offer', 'surprising', '@nldavisdc', 'no', 'ummm', '@gsioutdoors', 'mama', 'https://t.co/twgv98bwvq', 'https://t.co/kr8e2h017z', 'hates', 'switches', 'you', 'heroine', '@weldpond', 'sees', 'feedback', 'ljavascript', 'https://t.co/cztjs9ma5u', 'â', 'burger', 'coleslaw', 'disrespected', 'applications', 'monty', 'belong', 'him', 'kellys', 'confusing', 'talking', 'laaaay', 'https://t.co/exqpwlifnl', 'be', 'l4rkkz', 'insofar', 'open', 'protected', '#diy', 'mujtaba', 'recent', 'outfits', '@omega_elsie', '@actforisrael', 'heart', 'exxon', 'brands', '@selling_theta', 'https://t.co/m6xs8uon3a', 'dinosaurs', 'length', 'https://t.co/scv7x16x3u', 'mac', 'danny', 'sectors', 'babysitting', 'picture', '@essencemag', 'filled', '3d', '#best', '@bastudentsec', '@eqcompliments', 'scottie', 'series', 'https://t.co/o5g12qzpye', 'everyone', 'nvr', 'paper', 'https://t.co/jwpsvhau1e', 'creating', '#amas', 'scientists', 'sausage', 'https://t.co/6kfk6ss9qn', 'thank', 'snail', 'ugggggh', 'ummmmmm', 'silence', '@askhobo', 'agencies', 'faved', 'others', 'https://t.co/cipwfxsvi7', 'written', '#sweeps', \"alzheimer's\", 'og', 'yeovi', 'caring', 'cienna', 'kelly', 'wishes', 'wide', 'cold', '@xavierleon__', 'gain', 'wyfie', '__ùô__ù', 'via', 'myself', '#icmyas', 'texts', 'air', '©', 'https://t.co/7oeh753sqp', 'choice', 'restless', 'frey', 'middle', 'sounders', '#stopcisa', '#reasonswhywelovereecebibby', 'library_ù', 'hot', '@sorryimlorraina', 'festival', '%', 'https://t.co/conxvmrr1c', \"kamakawiwo'ole\", 'nba', 'mudchute', 'https://t.co/2pjmmjdevu', 'install', 'gucci', 'stuffed', 'anyone', 'trail', 'blu', 'she', 'joint', 'choppas', 'summarize', 'hover', 'turnip', 'cant', 'film', ':', 'elbowed', 'altered', 'amazing', 'moccasins_ùõø', 'wiping', '@ey__', 'accident', 'https://t.co/kckhudvrzy', 'clown', 'nov', '@katlouvain', 'liffey', 'reno', 'noesis', 'forgot', 'jilihygust', '@natracuf', 'reflect', 'features', 'clean', 'vintage', \"doesn't\", '@madalxnx', 'high-principled', 'aunties', 'tastes', 'deserving', 'sbu', 'tights', 'decades', '27-3', '@kirkherbstreit', 'haircut', 'mechiedeuce', 'music', 'run', 'dip', 'bored', 'them', '@rynweaver', 'home', 'nanny', 'police', 'grassroot', 'camera', 'portsmouth', '(:', '11/13', '@drmoore', 'consistently', 'enjoying', 'really', 'rope', 'xenophobes', 'stocktwits', 'beeeeeeddddd', 'kleenex', 'cares', '#emas', 'past', 'yesterday', 'scotland', '#mybabies', 'acquisitions', '@colinsdabomb', 'marten', 'tuxedo', 'https://t.co/w7ml1aegsq', 'wrong', 'https://t.co/y2brtwmf7c', 'stopped', 'sweating', 'prays', 'her', 'advance', 'necco', 'selfie', 'by', '#top1', 'missing', 'children', 'how', 'bizarre', 'talks', 'young', 'https://t.co/enq9pv61oi', '@runthetrap', 'cammalleri', 'images', 'crisp', 'when', 'bill', '1st', 'brain', '@snipeyhead', 'sincerest', 'starting', '@guy_garvey', 'less', 'https://t.co/g9jwkmmxfg', \"v's\", 'northern', 'homemade', 'dot', '#sorry', 'providing', 'wanted', 'insane', '_ùôû_ù', \"god's\", 'colas', 'toys', 'the', 'harness', 'a', 'https://t.co/4fo6ghl6qn', 'defends', '00am', 'coming', 'datings', 'criticize', 'inspire', 'quick', 'tennant', 'ugghhhh', 'without', 'https://t.co/rtu2iwcqjl', 'points', 'likely', 'fries', '@cbnovels', 'bow', 'big', 'offered', 'disappointed', 'falsetto', 'ï__ù', 'but', 'earthquakes', 'pain', 'https://t.co/4adqzccxjt', '@combotronrobot', '@imdambassador', '#walk', 'https://t.co/b6dyualrjg', '#ngentot', 'grew', 'another', 'haunted', '@mcjuggernuggets', 'diane', 'garden', 'moment', 'suv', 'cotton-eye', 'football', 'productive', 'analysts', 'axe', 'living', 'over-thinking', '\\x90', 'https://t.co/zmrhsmm3dq', 'machines', 'too', 'prick', 'bff', 'laughable', 'tolerate', '\\x8f', 'get', '@mjsdirtydiana', '@cubecraftgames', '@elliegoulding', 'budget', 'save', 'guidry', 'https://t.co/fkyr6gtvje', 'lì', 'appear', '@lridessa', 'taking', 'israel', 'later', 'business', 'stevenage', 'app', 'tryna', 'heels', '@lababrahma', 'compare', 'turning', 'avocado', 'superstar', 'yay', 'betrayal', 'sleepy', 'store', 'linked', 'https://t.co/egb8t3moox', '#wwehiac', '@hetaliasummer', '12-20', 'pregnancies', 'q5', 'together', 'girls', 'shows', 'vote', 'jacket', 'retweets', ',', '@moniqued__', 'finsahome', 'special', 'insist', 'cheeseburger', 'crying_ù', 'fixed', 'hours', 'charity', 'mommas', 'material', '@jodilduncan', 'https://t.co/eohtxclukt', 'á_ù', 'ò', 'sauce', 'entering', 'plane', 'planet', '10k', 'yeovil', 'daily', 'https://t.co/2fsfwizpfk', 'prerequirement', 'elementary', 'franchise', 'sort', 'actually', 'policies', 'https://t.co/guo60jlzxy', 'empty', '1,500', 'https://t.co/1yzmchfc7k', 'jordyn', 'rank', 'gay', 'dennis', 'sit', 'after', 'ps3', '@girlonutd', 'candid', 'syria', 'texas', 'loving', 'https://t.co/g7keerq593', 'maintain', '@bigmay42', 'dresses', 'assholes', '@cfbmatrix', 'rounding', 'cousins', 'amazon', 'minutes', 'headed', 'juggies', 'relevant', 'scanning', 'saturday', 'https://t.co/xytvtwtdlr', '@rhys_jones16', '_ùýü', 'survive', 'iphone', '#lloydkaufman', '#endalz', '#007', 'ûïapparently', 'loves', 'https://t.co/auj0ixvmda', 'proficient', 'malawi', '/', 'rare', 'roll', '@brianwindsor91', 'https://t.co/2haphxfopb', 'vexed', 'aru', 'straight', 'th', '#austin', 'fella', '16-35', 'yrs', 'prolife', '#charleah', 'walked', '#rctid', 'put', 'cat', '@bhateketan', 'pippen', 'flash', 'online', 'bracelet', 'lmao', 'retriever', '3:15', 'competition', 'https://t.co/mq2yl8xfeb', 'sarcastic', 'few', 'brad', \"isn't\", 'plantain', 'chip', 'conversion', 'worked', '#allergyfree', 'sj', 'piece', 'therefore', 'uk', 'selfless', 'divisive', 'strongest', 'aftershock', 'flesh', '@popandpress', 'adele', 'traffic', 'courtesy', 'p', '#ridgeland', 'positive', 'henderson', 'dairy', 'esco', 'busy', 'million', '#stopjoetrippi', '#photography', 'https://t.co/1gzdsb4lzk', '@utvireland', 'oems', 'streaming', 'https://t.co/vj7zogsyv1', 'heal', 'î_ùôô', \"who's\", \"i'd\", '294.1', 'serious', 'rebellion', 'pipe', 'cavs', 'carb', 'produced', 'public', '#kwwk', 'https://t.co/95gslb7kae', 'tears', 'spoil', 'contest', 'odd', ';-)', 'shoulder', '@rift_revolt', '@dhaval241086', 'awkwardly', 'love', '@coqblocker', 'hype', 'womens', 'interns', '#breaking', 'smh', 'suppliers--google', 'decides', 'scholarship', 'https://t.co/z2nm3kdtm3', 'color', 'https://t.co/9vdvv5zk5c', 'artists', '#cyberrisks', 'brings', 'opening', 'ailments', 'https://t.co/t3hvdet1d2', '@faithfulchickie', '@patrickanderso_', 'enough', 'https://t.co/d6ibm6faqu', 'https://t.co/adoxrwdmsv', 'boycot', 'resemblance', 'https://t.co/xwdioslpu0', 'killer', 'fosters', 'unvarying', 'problems', 'internal', '@acaciabrinley', 'only', 'dalai', '2:30', 'skills', '@tenordad', '@jimmy_yeaman', '@ohsdarts', 'their', 'favorite', 'sixers', 'shitty', 'human', 'different', '@r4vi', 'https://t.co/d9kfazbjsf', 'words', 'follows', 'person', 'grounded', 'dgaf', 'massage', 'https://t.co/adhzbubhqb', 'adult', 'followers', '9th', '@magnifier661', '@senbookerofc', 'warehouse', 'dagenham', 'thomas', 'or', 'https://t.co/ho5cxxcuii', 'always', 'cable', 'woodland', '@thevampsbrad', 'wins', '#unilife', 'https://t.co/iyerztxqp4', 'hosmer', 'explain', 'mourning', 'either', '@zakawaqar', 'accent', 'lemon', 'nrt', 'previously', 'tools', 'mysterious', 'demons', 'doos', 'putting', '_ùîî', 'tie', 'eu', '@runwiththedogs', 'l', 'pulse', 'cos', 'https://t.co/qzpmiuisvz', '@innorishop', 'fighter', 'lassen', 'sing', 'yourself', 'https://t.co/ifaqlujivp', 'st-usa', '@1girl2cities', 'peer', 'data', 'pomegranate', '@motoguzziclub', 'backwards', '@sewart', 'precious', 'print', 'practice', 'aka', 'donå', '@dj900', 'almost', 'german', 'selfishness', 'woods', 'old', 'shaped', 'buddy', 'ont', '@georgehs2706', 'eventually', 'boy', 'pricing', 'teenage', 'mishaps', 'fleetwoods', '<3', 'cup', 'chew', 'upstairs', '#english1tweets', 'walker', 'animals', 'religious', 'https://t.co/9oukt69ra0', 'anne', '140,651', '#dtfc', 'gif', 'obvious', 'cancelled', 'barre', 'egg', 'ruined', 'malicious', 'clouds', 'corset', 'identity', 'earnings', 'sibling', 'spiritual', 'bigz', '@trent_hardcore', '@jaceylaray', 'everydayiloveyou', \"can't\", 'are', 'adventure', '*', \"who've\", 'eg', 'https://t.co/qqirhhn1uf', 'weeklies', 'years', 'weakness', '@thompsontay', '@rcmpdiver', 'stoked', 'x30', 'market', 'one-mile', 'https://t.co/9nbsmgz5lm', 'tried', 'lemo', 'episodes', 'general', 'suggestions', 'xiyqmj', 'blog', 'compiled', 'wotsits', 'remain', 'wealth', 'scaff', 'nervous', 'https://t.co/6h57gl2nh6', 'links', '_ùª', '@dancouldbonfire', 'saint', 'victory', 'https://t.co/b4twosrlxv', '#ibminsight', 'base', 'prohibition', 'dirt', 'takes', 'largest', 'https://t.co/65sobvldts', '#falive', '@whalenderek', 'checkout', 'dealing', 'drawing', 'stuffing', 'literally', 'pts', '#iamme', 'workouts', 'gaining', 'f', 'singapore', '@tweetyourscream', 'yeahhhh', 'thanks', 'rendez-vous', 'cross', 'sweet', 'https://t.co/iy0smwcdrp', 'oem-owned', 'parades', 'https://t.co/6qjhsej0j1', 'better', '@imsoeffinluuney', 'tummy', 'dying', 'rbg', 'separate', '#j13--why', 'olamide', '#giveaways', 'https://t.co/lrfdau7rji', '@talktalkcare', \"don't\", '@louiselyndon1', '@ervin_lassiter', 'theme', 'skins', 'herb', 'w', 'haha', 'there', 'follower', 'isl', '#whatsyoursuperpower', 'sky', 'interval', 'fake', 'smell', 'coast', 'amongst', '#didcot', 'nose', 'fell', 'ima', 'clock', 'guardians', 'https://t.co/ie4t4fbf8u', 'rn', 'thus', 'statement', 'cc', 'lange', '@keegs141', 'https://t.co/dila5thhle', 'bros', '10/10', '#aust', 'emails', 'bin', 'two', 'lame', 'hearts', 'become', '@johnnyorlando', 'candy', 'line', '#bokep', 'basketball', '@nolimitbill', 'giddy', 'agricultural', 'nitro', 'racist', 'built', 'waiter', '#vital', 'third', 'vaping', 'featured', 'reasonable', '@bostonravenfans', 'gross', 'agents', 'fruit', 'animal', 'fighting', '30-9', 'dweller', 'valley', 'https://t.co/2a7jbozenr', 'seem', 'washington', 'dads', 'plenty', '@megwacha', '@christianjerard', 'glenn', 'vodka', 'into', 'guided', 'ayee', \"haven't\", 'heath', 'm15', 'placing', 'match', 'blows', 'happened', 'belive', '#fblikehour', 'committee', 'andre', 'off', 'kemri', 'marine', 'keyboard', 'rabiu', 'period', 'downloadable', 'unc', '#stelvio', 'attitude', 'https://t.co/4ivsvosdl4', 'reaction', 'cabaret', '#womenswork', 'https://t.co/nngwbuzqfh', 'extinct', 'gospel', 'value', '@revolutionmonk', 'humphrey', 'couple', 'finished', 'ft', 'lives', 'directed', 'watchdogs', 'tweets', 'started', 'utep-fau', '#mondaymotivation', '#starwars', 'ruin', 'waists', 'hyped', 'ô_ùóç', 'q', 'olympic', ';', 'visit', 'gender', '@rickboy121', '@austinmahone', 'https://t.co/6um6gjhz0r', 'ref', 'took', 'funniest', 'ghibli', 'quietly', 'spaceship', 'interaction', 'rawlins', 'bitly', 'nfl', 'ûïblack', 'õ_ù', 'insecurities', 'equal', 'rnb', '@fatherandrew', '_ùõ_', 'spectre', '#lol', 'speak', 'today', 'celebs', 'morrissey', 'believe', '@ramfrancisuk', 'https://t.co/hrkxyw8kqa', 'rules', 'luck', '@ka_moll', 'kelsi', '#pricing', '@buckssociology', 'nuclear', 'thats', 'https://t.co/wfoj8rukqb', '@conorgen', 'embarrassed', 'actor', 'actions', 'worry', 'punchy', '@heidimurkoff', 'essential', '@ahook817', '@truants', 'confirmation', 'improved', 'https://t.co/soaix2g57f', '@alrayaryee', 'tiring', 'fleet', 'nails', 'critical', '?', 'combinator', '@wofa_slayzie', '¼', 'https://t.co/lyqco04ahr', 'performance', '@me0wzerz', 'mistake', '#ios', 'nothing', 'consumers', 'dating', 'gators', 'hoping', '@on_da_ball', 'cool', 'hw', 'cocktails', 'quit', 'rodman', '@aircanada', 'in', 'disarms', 'alone', '2x05', '@bzdazed', '#mbcthevoice', 'read', 'elite', 'socially', 'embrears', 'housing', 'danger', '@shakespeare527', 'titts', '@sensanders', 'maintenance', 'minefield', '#crafting', 'common', 'bird', 'song', 'october', '#vegan', 'afterwards', 'ken', '@skydoestweeting', 'action', 'log', '#happydays', '@mrsiberi', 'able', 'represent', 'weezer', 'lots_ù', '@m_jones_82', 'progress', 'family', 'gorgeous', '2.8', 'topupdates', \"aren't\", 'www', 'tells', 'met', 'uzunld'])"
      ]
     },
     "execution_count": 21,
     "metadata": {},
     "output_type": "execute_result"
    }
   ],
   "source": [
    "trnbow_transformer.vocabulary_.keys()"
   ]
  },
  {
   "cell_type": "code",
   "execution_count": 23,
   "metadata": {
    "collapsed": false
   },
   "outputs": [
    {
     "name": "stdout",
     "output_type": "stream",
     "text": [
      "(1300, 6154)\n"
     ]
    }
   ],
   "source": [
    "# generate bag of words for the tweets in the training dataset\n",
    "train_bow = trnbow_transformer.transform(twt_train)\n",
    "trn_tfidf_transformer = TfidfTransformer().fit(train_bow)\n",
    "twt_train_tfidf = trn_tfidf_transformer.transform(train_bow)\n",
    "print (twt_train_tfidf.shape)"
   ]
  },
  {
   "cell_type": "code",
   "execution_count": 24,
   "metadata": {
    "collapsed": false
   },
   "outputs": [
    {
     "name": "stdout",
     "output_type": "stream",
     "text": [
      "Wall time: 15.6 ms\n"
     ]
    }
   ],
   "source": [
    "# Create Gender detector from the trained tfidf and comparing with the actual gender label\n",
    "%time twt_gender_detector = MultinomialNB().fit(twt_train_tfidf,  label_train)"
   ]
  },
  {
   "cell_type": "code",
   "execution_count": 25,
   "metadata": {
    "collapsed": false
   },
   "outputs": [
    {
     "name": "stdout",
     "output_type": "stream",
     "text": [
      "(700, 6154)\n"
     ]
    }
   ],
   "source": [
    "# Use the bow from training to creat tfidf for the test portion of the tweets\n",
    "test_bow = trnbow_transformer.transform(twt_test)\n",
    "tst_tfidf_transformer = TfidfTransformer().fit(test_bow)\n",
    "twt_test_tfidf = tst_tfidf_transformer.transform(test_bow)\n",
    "print (twt_test_tfidf.shape)"
   ]
  },
  {
   "cell_type": "code",
   "execution_count": 26,
   "metadata": {
    "collapsed": false
   },
   "outputs": [
    {
     "name": "stdout",
     "output_type": "stream",
     "text": [
      "['male' 'female' 'female' 'female' 'female' 'female' 'female' 'female'\n",
      " 'female' 'female' 'male' 'male' 'female' 'female' 'female' 'male' 'female'\n",
      " 'male' 'female' 'male' 'female' 'female' 'female' 'female' 'male' 'female'\n",
      " 'male' 'male' 'female' 'female' 'female' 'male' 'female' 'male' 'male'\n",
      " 'female' 'female' 'female' 'male' 'male' 'female' 'female' 'female'\n",
      " 'female' 'female' 'female' 'female' 'female' 'female' 'female' 'female'\n",
      " 'female' 'female' 'male' 'female' 'female' 'male' 'female' 'female'\n",
      " 'female' 'female' 'male' 'female' 'female' 'female' 'male' 'male' 'female'\n",
      " 'male' 'female' 'female' 'female' 'female' 'female' 'female' 'male'\n",
      " 'female' 'female' 'female' 'female' 'female' 'female' 'female' 'male'\n",
      " 'female' 'female' 'female' 'female' 'female' 'female' 'female' 'female'\n",
      " 'male' 'female' 'female' 'female' 'female' 'female' 'female' 'female'\n",
      " 'male' 'female' 'male' 'female' 'female' 'female' 'female' 'female'\n",
      " 'female' 'female' 'female' 'female' 'female' 'male' 'female' 'female'\n",
      " 'female' 'female' 'male' 'female' 'male' 'female' 'female' 'female'\n",
      " 'female' 'female' 'female' 'female' 'female' 'female' 'female' 'male'\n",
      " 'female' 'male' 'male' 'female' 'female' 'male' 'male' 'female' 'female'\n",
      " 'female' 'male' 'female' 'female' 'female' 'female' 'male' 'female' 'male'\n",
      " 'female' 'female' 'female' 'female' 'female' 'female' 'male' 'female'\n",
      " 'female' 'male' 'female' 'female' 'female' 'female' 'male' 'female'\n",
      " 'female' 'female' 'female' 'male' 'female' 'female' 'female' 'female'\n",
      " 'female' 'female' 'female' 'female' 'female' 'female' 'female' 'female'\n",
      " 'female' 'female' 'female' 'female' 'male' 'male' 'female' 'female'\n",
      " 'female' 'female' 'female' 'female' 'female' 'female' 'female' 'male'\n",
      " 'female' 'female' 'male' 'male' 'female' 'female' 'female' 'male' 'female'\n",
      " 'male' 'male' 'female' 'female' 'female' 'female' 'male' 'female' 'female'\n",
      " 'male' 'female' 'female' 'female' 'female' 'male' 'female' 'female'\n",
      " 'female' 'female' 'female' 'female' 'female' 'female' 'female' 'female'\n",
      " 'male' 'female' 'female' 'female' 'female' 'female' 'female' 'female'\n",
      " 'female' 'female' 'female' 'male' 'male' 'female' 'female' 'female' 'male'\n",
      " 'female' 'female' 'female' 'female' 'female' 'female' 'female' 'female'\n",
      " 'female' 'male' 'female' 'female' 'female' 'female' 'male' 'female'\n",
      " 'female' 'female' 'female' 'female' 'female' 'female' 'female' 'male'\n",
      " 'male' 'female' 'female' 'female' 'male' 'male' 'female' 'female' 'female'\n",
      " 'female' 'female' 'female' 'male' 'female' 'female' 'female' 'female'\n",
      " 'female' 'female' 'female' 'female' 'female' 'female' 'female' 'female'\n",
      " 'male' 'female' 'female' 'female' 'male' 'female' 'female' 'male' 'male'\n",
      " 'male' 'female' 'female' 'female' 'female' 'female' 'male' 'female'\n",
      " 'female' 'male' 'male' 'female' 'female' 'female' 'female' 'female'\n",
      " 'female' 'male' 'male' 'male' 'male' 'female' 'female' 'female' 'female'\n",
      " 'male' 'female' 'female' 'female' 'male' 'male' 'female' 'male' 'female'\n",
      " 'female' 'female' 'female' 'male' 'female' 'female' 'female' 'female'\n",
      " 'female' 'female' 'female' 'female' 'female' 'female' 'female' 'female'\n",
      " 'female' 'male' 'male' 'female' 'female' 'female' 'male' 'female' 'female'\n",
      " 'male' 'female' 'male' 'male' 'female' 'female' 'female' 'male' 'female'\n",
      " 'male' 'female' 'female' 'female' 'female' 'female' 'male' 'female'\n",
      " 'female' 'male' 'female' 'female' 'female' 'male' 'female' 'female'\n",
      " 'female' 'female' 'female' 'female' 'female' 'female' 'female' 'female'\n",
      " 'female' 'female' 'male' 'male' 'female' 'female' 'female' 'female'\n",
      " 'female' 'female' 'female' 'female' 'female' 'female' 'female' 'female'\n",
      " 'male' 'female' 'male' 'female' 'female' 'female' 'male' 'male' 'male'\n",
      " 'female' 'female' 'female' 'female' 'male' 'female' 'male' 'female' 'male'\n",
      " 'female' 'male' 'male' 'female' 'female' 'female' 'female' 'female'\n",
      " 'female' 'female' 'male' 'female' 'female' 'female' 'female' 'female'\n",
      " 'female' 'female' 'female' 'female' 'female' 'female' 'female' 'male'\n",
      " 'female' 'female' 'female' 'male' 'female' 'female' 'male' 'female'\n",
      " 'female' 'female' 'female' 'female' 'female' 'female' 'female' 'female'\n",
      " 'female' 'male' 'male' 'female' 'female' 'female' 'female' 'male' 'female'\n",
      " 'female' 'female' 'female' 'female' 'female' 'male' 'female' 'female'\n",
      " 'female' 'female' 'male' 'male' 'female' 'female' 'male' 'female' 'female'\n",
      " 'male' 'male' 'female' 'female' 'female' 'female' 'female' 'female'\n",
      " 'female' 'female' 'female' 'female' 'male' 'female' 'male' 'female' 'male'\n",
      " 'female' 'female' 'male' 'female' 'male' 'male' 'female' 'female' 'male'\n",
      " 'female' 'female' 'female' 'female' 'female' 'female' 'female' 'female'\n",
      " 'male' 'female' 'male' 'male' 'female' 'female' 'female' 'female' 'female'\n",
      " 'female' 'female' 'female' 'male' 'male' 'female' 'female' 'female'\n",
      " 'female' 'female' 'female' 'female' 'female' 'female' 'female' 'female'\n",
      " 'female' 'male' 'male' 'female' 'female' 'female' 'female' 'female' 'male'\n",
      " 'female' 'female' 'female' 'male' 'male' 'female' 'female' 'female'\n",
      " 'female' 'female' 'female' 'female' 'male' 'male' 'female' 'female'\n",
      " 'female' 'female' 'female' 'female' 'male' 'female' 'female' 'female'\n",
      " 'female' 'female' 'female' 'male' 'female' 'female' 'female' 'male'\n",
      " 'female' 'female' 'female' 'female' 'female' 'female' 'female' 'male'\n",
      " 'female' 'female' 'female' 'male' 'female' 'female' 'female' 'female'\n",
      " 'female' 'female' 'male' 'female' 'female' 'male' 'female' 'male' 'female'\n",
      " 'male' 'male' 'male' 'female' 'female' 'female' 'female' 'female' 'female'\n",
      " 'female' 'female' 'female' 'female' 'female' 'female' 'female' 'female'\n",
      " 'male' 'male' 'female' 'male' 'female' 'female' 'female' 'female' 'female'\n",
      " 'female' 'female' 'female' 'female' 'male' 'male' 'female' 'male' 'male'\n",
      " 'male' 'female' 'female' 'female' 'male' 'female' 'male' 'female' 'female'\n",
      " 'female' 'female' 'female' 'female' 'female' 'female' 'male' 'female'\n",
      " 'female' 'male' 'female' 'female' 'female' 'female' 'male' 'female'\n",
      " 'female' 'male' 'female' 'female' 'female' 'male' 'female' 'female'\n",
      " 'female' 'female' 'female' 'male' 'female' 'female' 'female' 'female']\n"
     ]
    }
   ],
   "source": [
    "# Carry out the gender prediction for the test dataset\n",
    "test_predictions = twt_gender_detector.predict(twt_test_tfidf)\n",
    "print (test_predictions)"
   ]
  },
  {
   "cell_type": "code",
   "execution_count": 27,
   "metadata": {
    "collapsed": false
   },
   "outputs": [
    {
     "name": "stdout",
     "output_type": "stream",
     "text": [
      "accuracy 0.564285714286\n",
      "confusion matrix\n",
      " [[306  72]\n",
      " [233  89]]\n",
      "(row=expected, col=predicted)\n"
     ]
    }
   ],
   "source": [
    "# Check the prediction accuracy\n",
    "print ('accuracy', accuracy_score(label_test, test_predictions))\n",
    "print ('confusion matrix\\n', confusion_matrix(label_test, test_predictions))\n",
    "print ('(row=expected, col=predicted)')"
   ]
  },
  {
   "cell_type": "code",
   "execution_count": 28,
   "metadata": {
    "collapsed": false
   },
   "outputs": [
    {
     "name": "stdout",
     "output_type": "stream",
     "text": [
      "             precision    recall  f1-score   support\n",
      "\n",
      "     female       0.57      0.81      0.67       378\n",
      "       male       0.55      0.28      0.37       322\n",
      "\n",
      "avg / total       0.56      0.56      0.53       700\n",
      "\n"
     ]
    }
   ],
   "source": [
    "print (classification_report(label_test, test_predictions))"
   ]
  },
  {
   "cell_type": "code",
   "execution_count": 29,
   "metadata": {
    "collapsed": false
   },
   "outputs": [],
   "source": [
    "# combine the test tweet series and label(gender) series into data frame\n",
    "twtTestDs = pd.concat([twt_test, label_test], axis=1).reset_index()"
   ]
  },
  {
   "cell_type": "code",
   "execution_count": 30,
   "metadata": {
    "collapsed": false
   },
   "outputs": [],
   "source": [
    "# Add a gender pred column to the dataset\n",
    "twtTestDs['gender_pred'] = test_predictions"
   ]
  },
  {
   "cell_type": "code",
   "execution_count": 31,
   "metadata": {
    "collapsed": false
   },
   "outputs": [
    {
     "name": "stdout",
     "output_type": "stream",
     "text": [
      "<class 'pandas.core.frame.DataFrame'>\n",
      "RangeIndex: 700 entries, 0 to 699\n",
      "Data columns (total 4 columns):\n",
      "index          700 non-null int64\n",
      "text           700 non-null object\n",
      "gender         700 non-null object\n",
      "gender_pred    700 non-null object\n",
      "dtypes: int64(1), object(3)\n",
      "memory usage: 22.0+ KB\n"
     ]
    }
   ],
   "source": [
    "twtTestDs.info()"
   ]
  },
  {
   "cell_type": "code",
   "execution_count": 32,
   "metadata": {
    "collapsed": true
   },
   "outputs": [],
   "source": [
    "pd.set_option('display.max_colwidth', -1)"
   ]
  },
  {
   "cell_type": "code",
   "execution_count": 33,
   "metadata": {
    "collapsed": false
   },
   "outputs": [
    {
     "data": {
      "text/html": [
       "<div>\n",
       "<table border=\"1\" class=\"dataframe\">\n",
       "  <thead>\n",
       "    <tr style=\"text-align: right;\">\n",
       "      <th></th>\n",
       "      <th>index</th>\n",
       "      <th>text</th>\n",
       "      <th>gender</th>\n",
       "      <th>gender_pred</th>\n",
       "    </tr>\n",
       "  </thead>\n",
       "  <tbody>\n",
       "    <tr>\n",
       "      <th>617</th>\n",
       "      <td>14009</td>\n",
       "      <td>live and let die</td>\n",
       "      <td>female</td>\n",
       "      <td>male</td>\n",
       "    </tr>\n",
       "    <tr>\n",
       "      <th>243</th>\n",
       "      <td>16409</td>\n",
       "      <td>Demotivational Star Wars Memes That Are Profound And Really Funny https://t.co/Bl4VjNvh9Q</td>\n",
       "      <td>female</td>\n",
       "      <td>male</td>\n",
       "    </tr>\n",
       "    <tr>\n",
       "      <th>689</th>\n",
       "      <td>13550</td>\n",
       "      <td>If you use social media for business and pleasure, divide your time so you stay on track with your business goals.</td>\n",
       "      <td>female</td>\n",
       "      <td>male</td>\n",
       "    </tr>\n",
       "    <tr>\n",
       "      <th>624</th>\n",
       "      <td>16150</td>\n",
       "      <td>@spicycheetoarms SO DUMB I SPENT ALL T HIS MONEY ON STUPID CLASSES AND SPENT DAY AND NIGHT WORRYING ABOUT MY FUTURE AND THIS FCLIFN</td>\n",
       "      <td>female</td>\n",
       "      <td>male</td>\n",
       "    </tr>\n",
       "    <tr>\n",
       "      <th>205</th>\n",
       "      <td>6918</td>\n",
       "      <td>VIDEO: James Bond Spectre world premiere: After months of build up Spectre, the latest instalment in the James... https://t.co/kgMaYBPBez</td>\n",
       "      <td>female</td>\n",
       "      <td>male</td>\n",
       "    </tr>\n",
       "    <tr>\n",
       "      <th>65</th>\n",
       "      <td>15193</td>\n",
       "      <td>This movie has Romeo AND Quincy YAAAAAAAS</td>\n",
       "      <td>female</td>\n",
       "      <td>male</td>\n",
       "    </tr>\n",
       "    <tr>\n",
       "      <th>513</th>\n",
       "      <td>4955</td>\n",
       "      <td>I was more than proud when becca actually busted a move on the danceÛ_ https://t.co/zITc4EOl04</td>\n",
       "      <td>female</td>\n",
       "      <td>male</td>\n",
       "    </tr>\n",
       "    <tr>\n",
       "      <th>622</th>\n",
       "      <td>7465</td>\n",
       "      <td>Yea ill send you the invite. You have the same #? https://t.co/WTmiLbXyYE</td>\n",
       "      <td>female</td>\n",
       "      <td>male</td>\n",
       "    </tr>\n",
       "    <tr>\n",
       "      <th>273</th>\n",
       "      <td>1580</td>\n",
       "      <td>Stunt on the people that hate you</td>\n",
       "      <td>female</td>\n",
       "      <td>male</td>\n",
       "    </tr>\n",
       "    <tr>\n",
       "      <th>520</th>\n",
       "      <td>4535</td>\n",
       "      <td>remember when ference marched in a pride parade........ what if there's a gay player on the oilers</td>\n",
       "      <td>female</td>\n",
       "      <td>male</td>\n",
       "    </tr>\n",
       "  </tbody>\n",
       "</table>\n",
       "</div>"
      ],
      "text/plain": [
       "     index  \\\n",
       "617  14009   \n",
       "243  16409   \n",
       "689  13550   \n",
       "624  16150   \n",
       "205  6918    \n",
       "65   15193   \n",
       "513  4955    \n",
       "622  7465    \n",
       "273  1580    \n",
       "520  4535    \n",
       "\n",
       "                                                                                                                                          text  \\\n",
       "617  live and let die                                                                                                                            \n",
       "243  Demotivational Star Wars Memes That Are Profound And Really Funny https://t.co/Bl4VjNvh9Q                                                   \n",
       "689  If you use social media for business and pleasure, divide your time so you stay on track with your business goals.                          \n",
       "624  @spicycheetoarms SO DUMB I SPENT ALL T HIS MONEY ON STUPID CLASSES AND SPENT DAY AND NIGHT WORRYING ABOUT MY FUTURE AND THIS FCLIFN         \n",
       "205  VIDEO: James Bond Spectre world premiere: After months of build up Spectre, the latest instalment in the James... https://t.co/kgMaYBPBez   \n",
       "65   This movie has Romeo AND Quincy YAAAAAAAS                                                                                                   \n",
       "513  I was more than proud when becca actually busted a move on the danceÛ_ https://t.co/zITc4EOl04                                             \n",
       "622  Yea ill send you the invite. You have the same #? https://t.co/WTmiLbXyYE                                                                   \n",
       "273  Stunt on the people that hate you                                                                                                           \n",
       "520  remember when ference marched in a pride parade........ what if there's a gay player on the oilers                                          \n",
       "\n",
       "     gender gender_pred  \n",
       "617  female  male        \n",
       "243  female  male        \n",
       "689  female  male        \n",
       "624  female  male        \n",
       "205  female  male        \n",
       "65   female  male        \n",
       "513  female  male        \n",
       "622  female  male        \n",
       "273  female  male        \n",
       "520  female  male        "
      ]
     },
     "execution_count": 33,
     "metadata": {},
     "output_type": "execute_result"
    }
   ],
   "source": [
    "# Sample False Positives for female\n",
    "twtTestDs[(twtTestDs['gender']=='female') & (twtTestDs['gender_pred']=='male')].sample(10, random_state=123)"
   ]
  },
  {
   "cell_type": "code",
   "execution_count": 34,
   "metadata": {
    "collapsed": false
   },
   "outputs": [
    {
     "data": {
      "text/html": [
       "<div>\n",
       "<table border=\"1\" class=\"dataframe\">\n",
       "  <thead>\n",
       "    <tr style=\"text-align: right;\">\n",
       "      <th></th>\n",
       "      <th>index</th>\n",
       "      <th>text</th>\n",
       "      <th>gender</th>\n",
       "      <th>gender_pred</th>\n",
       "    </tr>\n",
       "  </thead>\n",
       "  <tbody>\n",
       "    <tr>\n",
       "      <th>253</th>\n",
       "      <td>2619</td>\n",
       "      <td>Me: *moves penis*\\nGf: the force awakens</td>\n",
       "      <td>male</td>\n",
       "      <td>female</td>\n",
       "    </tr>\n",
       "    <tr>\n",
       "      <th>482</th>\n",
       "      <td>1879</td>\n",
       "      <td>@Charlotte1DTV Can you help me spread the word about my app, Scope? Find out more: https://t.co/rZgZtQ2fJT</td>\n",
       "      <td>male</td>\n",
       "      <td>female</td>\n",
       "    </tr>\n",
       "    <tr>\n",
       "      <th>431</th>\n",
       "      <td>15838</td>\n",
       "      <td>@Harry_Styles thank you for being so genuine and an incredible human. You're so selfless and humble, would you mind following me? ÛÓ 108,637</td>\n",
       "      <td>male</td>\n",
       "      <td>female</td>\n",
       "    </tr>\n",
       "    <tr>\n",
       "      <th>547</th>\n",
       "      <td>5718</td>\n",
       "      <td>crying @ the Christmas Queens tracklist https://t.co/C5gopkW9bN</td>\n",
       "      <td>male</td>\n",
       "      <td>female</td>\n",
       "    </tr>\n",
       "    <tr>\n",
       "      <th>239</th>\n",
       "      <td>14499</td>\n",
       "      <td>@CarlosMunoz034 @BellRacingUSA cool but 50% yellow, 25% blue and 25% red, unless not Colombian. Super pero 50% amarillo, 25% azul  y 25% roj</td>\n",
       "      <td>male</td>\n",
       "      <td>female</td>\n",
       "    </tr>\n",
       "    <tr>\n",
       "      <th>338</th>\n",
       "      <td>11875</td>\n",
       "      <td>and then i get on my phone and i look at tumblr</td>\n",
       "      <td>male</td>\n",
       "      <td>female</td>\n",
       "    </tr>\n",
       "    <tr>\n",
       "      <th>585</th>\n",
       "      <td>10363</td>\n",
       "      <td>Nothing Original or groundbreaking and catty</td>\n",
       "      <td>male</td>\n",
       "      <td>female</td>\n",
       "    </tr>\n",
       "    <tr>\n",
       "      <th>236</th>\n",
       "      <td>1482</td>\n",
       "      <td>sitting in McDonald's deciding if I should get food or make the healthy alternative and go home and eat a slice of toast.</td>\n",
       "      <td>male</td>\n",
       "      <td>female</td>\n",
       "    </tr>\n",
       "    <tr>\n",
       "      <th>601</th>\n",
       "      <td>1528</td>\n",
       "      <td>Thank you @RolandDickeyJR for sharing via @Forbes.  Did you have a fav part from the Interview with Jaime @eventualmillion ?</td>\n",
       "      <td>male</td>\n",
       "      <td>female</td>\n",
       "    </tr>\n",
       "    <tr>\n",
       "      <th>72</th>\n",
       "      <td>11653</td>\n",
       "      <td>@Greyman_10 those doors and walls are real douche bags...</td>\n",
       "      <td>male</td>\n",
       "      <td>female</td>\n",
       "    </tr>\n",
       "  </tbody>\n",
       "</table>\n",
       "</div>"
      ],
      "text/plain": [
       "     index  \\\n",
       "253  2619    \n",
       "482  1879    \n",
       "431  15838   \n",
       "547  5718    \n",
       "239  14499   \n",
       "338  11875   \n",
       "585  10363   \n",
       "236  1482    \n",
       "601  1528    \n",
       "72   11653   \n",
       "\n",
       "                                                                                                                                              text  \\\n",
       "253  Me: *moves penis*\\nGf: the force awakens                                                                                                        \n",
       "482  @Charlotte1DTV Can you help me spread the word about my app, Scope? Find out more: https://t.co/rZgZtQ2fJT                                      \n",
       "431  @Harry_Styles thank you for being so genuine and an incredible human. You're so selfless and humble, would you mind following me? ÛÓ 108,637   \n",
       "547  crying @ the Christmas Queens tracklist https://t.co/C5gopkW9bN                                                                                 \n",
       "239  @CarlosMunoz034 @BellRacingUSA cool but 50% yellow, 25% blue and 25% red, unless not Colombian. Super pero 50% amarillo, 25% azul  y 25% roj    \n",
       "338  and then i get on my phone and i look at tumblr                                                                                                 \n",
       "585  Nothing Original or groundbreaking and catty                                                                                                    \n",
       "236  sitting in McDonald's deciding if I should get food or make the healthy alternative and go home and eat a slice of toast.                       \n",
       "601  Thank you @RolandDickeyJR for sharing via @Forbes.  Did you have a fav part from the Interview with Jaime @eventualmillion ?                    \n",
       "72   @Greyman_10 those doors and walls are real douche bags...                                                                                       \n",
       "\n",
       "    gender gender_pred  \n",
       "253  male   female      \n",
       "482  male   female      \n",
       "431  male   female      \n",
       "547  male   female      \n",
       "239  male   female      \n",
       "338  male   female      \n",
       "585  male   female      \n",
       "236  male   female      \n",
       "601  male   female      \n",
       "72   male   female      "
      ]
     },
     "execution_count": 34,
     "metadata": {},
     "output_type": "execute_result"
    }
   ],
   "source": [
    "# Sample False Positives for male\n",
    "twtTestDs[(twtTestDs['gender']=='male') & (twtTestDs['gender_pred']=='female')].sample(10, random_state=123)"
   ]
  },
  {
   "cell_type": "code",
   "execution_count": null,
   "metadata": {
    "collapsed": true
   },
   "outputs": [],
   "source": []
  }
 ],
 "metadata": {
  "anaconda-cloud": {},
  "kernelspec": {
   "display_name": "Python [default]",
   "language": "python",
   "name": "python3"
  },
  "language_info": {
   "codemirror_mode": {
    "name": "ipython",
    "version": 3
   },
   "file_extension": ".py",
   "mimetype": "text/x-python",
   "name": "python",
   "nbconvert_exporter": "python",
   "pygments_lexer": "ipython3",
   "version": "3.5.2"
  }
 },
 "nbformat": 4,
 "nbformat_minor": 1
}
