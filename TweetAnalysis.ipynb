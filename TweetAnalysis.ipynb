{
 "cells": [
  {
   "cell_type": "code",
   "execution_count": 1,
   "metadata": {
    "collapsed": true
   },
   "outputs": [],
   "source": [
    "# Load libraries\n",
    "import numpy as np\n",
    "import pandas as pd"
   ]
  },
  {
   "cell_type": "code",
   "execution_count": 2,
   "metadata": {
    "collapsed": false
   },
   "outputs": [],
   "source": [
    "# Load dataset\n",
    "TwtDs = pd.read_csv('C:\\\\Users\\\\Meng\\\\OneDrive\\\\Documents\\\\tamu\\\\DataScience\\\\twitter-user-gender-classification\\\\gender-classifier-DFE-791531.csv',  na_values=['.'], encoding = \"ISO-8859-1\")"
   ]
  },
  {
   "cell_type": "code",
   "execution_count": 3,
   "metadata": {
    "collapsed": false
   },
   "outputs": [
    {
     "name": "stdout",
     "output_type": "stream",
     "text": [
      "(20050, 26)\n"
     ]
    }
   ],
   "source": [
    "# shape\n",
    "print(TwtDs.shape) "
   ]
  },
  {
   "cell_type": "code",
   "execution_count": 4,
   "metadata": {
    "collapsed": false
   },
   "outputs": [
    {
     "name": "stdout",
     "output_type": "stream",
     "text": [
      "    _unit_id _golden _unit_state  _trusted_judgments _last_judgment_at  \\\n",
      "0  815719226   False   finalized                   3    10/26/15 23:24   \n",
      "1  815719227   False   finalized                   3    10/26/15 23:30   \n",
      "2  815719228   False   finalized                   3    10/26/15 23:33   \n",
      "3  815719229   False   finalized                   3    10/26/15 23:10   \n",
      "4  815719230   False   finalized                   3     10/27/15 1:15   \n",
      "5  815719231   False   finalized                   3     10/27/15 1:47   \n",
      "6  815719232   False   finalized                   3     10/27/15 1:57   \n",
      "7  815719233   False   finalized                   3    10/26/15 23:48   \n",
      "8  815719234   False   finalized                   3     10/27/15 1:52   \n",
      "9  815719235   False   finalized                   3     10/27/15 1:49   \n",
      "\n",
      "   gender  gender:confidence profile_yn  profile_yn:confidence  \\\n",
      "0    male             1.0000        yes                    1.0   \n",
      "1    male             1.0000        yes                    1.0   \n",
      "2    male             0.6625        yes                    1.0   \n",
      "3    male             1.0000        yes                    1.0   \n",
      "4  female             1.0000        yes                    1.0   \n",
      "5  female             1.0000        yes                    1.0   \n",
      "6   brand             1.0000        yes                    1.0   \n",
      "7    male             1.0000        yes                    1.0   \n",
      "8  female             1.0000        yes                    1.0   \n",
      "9  female             1.0000        yes                    1.0   \n",
      "\n",
      "          created             ...              \\\n",
      "0    12/5/13 1:48             ...               \n",
      "1   10/1/12 13:51             ...               \n",
      "2  11/28/14 11:30             ...               \n",
      "3   6/11/09 22:39             ...               \n",
      "4   4/16/14 13:23             ...               \n",
      "5   3/11/10 18:14             ...               \n",
      "6   4/24/08 13:03             ...               \n",
      "7   12/3/12 21:54             ...               \n",
      "8     9/8/15 4:50             ...               \n",
      "9    5/13/11 3:32             ...               \n",
      "\n",
      "                                        profileimage  retweet_count  \\\n",
      "0  https://pbs.twimg.com/profile_images/414342229...              0   \n",
      "1  https://pbs.twimg.com/profile_images/539604221...              0   \n",
      "2  https://pbs.twimg.com/profile_images/657330418...              1   \n",
      "3  https://pbs.twimg.com/profile_images/259703936...              0   \n",
      "4  https://pbs.twimg.com/profile_images/564094871...              0   \n",
      "5  https://pbs.twimg.com/profile_images/656336865...              0   \n",
      "6  https://pbs.twimg.com/profile_images/528547133...              0   \n",
      "7  https://pbs.twimg.com/profile_images/508875440...              0   \n",
      "8  https://pbs.twimg.com/profile_images/658670112...              0   \n",
      "9  https://pbs.twimg.com/profile_images/513327289...              0   \n",
      "\n",
      "  sidebar_color                                               text  \\\n",
      "0        FFFFFF  Robbie E Responds To Critics After Win Against...   \n",
      "1        C0DEED  ÛÏIt felt like they were my friends and I was...   \n",
      "2        C0DEED  i absolutely adore when louis starts the songs...   \n",
      "3        C0DEED  Hi @JordanSpieth - Looking at the url - do you...   \n",
      "4             0  Watching Neighbours on Sky+ catching up with t...   \n",
      "5             0  Ive seen people on the train with lamps, chair...   \n",
      "6             0  @BpackEngineer Thank you for your patience whi...   \n",
      "7        C0DEED  Gala Bingo clubs bought for å£241m: The UK's l...   \n",
      "8             0  @_Aphmau_ the pic defines all mcd fangirls/fan...   \n",
      "9        FFFFFF  @Evielady just how lovely is the tree this yea...   \n",
      "\n",
      "  tweet_coord tweet_count   tweet_created      tweet_id        tweet_location  \\\n",
      "0         NaN      110964  10/26/15 12:40  6.587300e+17       main; @Kan1shk3   \n",
      "1         NaN        7471  10/26/15 12:40  6.587300e+17                   NaN   \n",
      "2         NaN        5617  10/26/15 12:40  6.587300e+17                clcncl   \n",
      "3         NaN        1693  10/26/15 12:40  6.587300e+17         Palo Alto, CA   \n",
      "4         NaN       31462  10/26/15 12:40  6.587300e+17                   NaN   \n",
      "5         NaN       20036  10/26/15 12:40  6.587300e+17       New York Gritty   \n",
      "6         NaN       13354  10/26/15 12:40  6.587300e+17             Worldwide   \n",
      "7         NaN      112117  10/26/15 12:40  6.587300e+17                   NaN   \n",
      "8         NaN         482  10/26/15 12:40  6.587300e+17                   NaN   \n",
      "9         NaN       26085  10/26/15 12:40  6.587300e+17  Nottingham, England.   \n",
      "\n",
      "                user_timezone  \n",
      "0                     Chennai  \n",
      "1  Eastern Time (US & Canada)  \n",
      "2                    Belgrade  \n",
      "3  Pacific Time (US & Canada)  \n",
      "4                         NaN  \n",
      "5  Central Time (US & Canada)  \n",
      "6  Eastern Time (US & Canada)  \n",
      "7                         NaN  \n",
      "8                         NaN  \n",
      "9                   Amsterdam  \n",
      "\n",
      "[10 rows x 26 columns]\n"
     ]
    }
   ],
   "source": [
    "# head\n",
    "print(TwtDs.head(10))"
   ]
  },
  {
   "cell_type": "code",
   "execution_count": 5,
   "metadata": {
    "collapsed": false
   },
   "outputs": [
    {
     "name": "stdout",
     "output_type": "stream",
     "text": [
      "<class 'pandas.core.frame.DataFrame'>\n",
      "RangeIndex: 20050 entries, 0 to 20049\n",
      "Data columns (total 26 columns):\n",
      "_unit_id                 20050 non-null int64\n",
      "_golden                  20050 non-null bool\n",
      "_unit_state              20050 non-null object\n",
      "_trusted_judgments       20050 non-null int64\n",
      "_last_judgment_at        20000 non-null object\n",
      "gender                   19953 non-null object\n",
      "gender:confidence        20024 non-null float64\n",
      "profile_yn               20050 non-null object\n",
      "profile_yn:confidence    20050 non-null float64\n",
      "created                  20050 non-null object\n",
      "description              16306 non-null object\n",
      "fav_number               20050 non-null int64\n",
      "gender_gold              50 non-null object\n",
      "link_color               20050 non-null object\n",
      "name                     20050 non-null object\n",
      "profile_yn_gold          50 non-null object\n",
      "profileimage             20050 non-null object\n",
      "retweet_count            20050 non-null int64\n",
      "sidebar_color            20050 non-null object\n",
      "text                     20050 non-null object\n",
      "tweet_coord              159 non-null object\n",
      "tweet_count              20050 non-null int64\n",
      "tweet_created            20050 non-null object\n",
      "tweet_id                 20050 non-null float64\n",
      "tweet_location           12564 non-null object\n",
      "user_timezone            12252 non-null object\n",
      "dtypes: bool(1), float64(3), int64(5), object(17)\n",
      "memory usage: 3.8+ MB\n"
     ]
    }
   ],
   "source": [
    "# Dataset Info\n",
    "TwtDs.info()"
   ]
  },
  {
   "cell_type": "code",
   "execution_count": 6,
   "metadata": {
    "collapsed": false
   },
   "outputs": [
    {
     "name": "stdout",
     "output_type": "stream",
     "text": [
      "gender\n",
      "brand      5942\n",
      "female     6700\n",
      "male       6194\n",
      "unknown    1117\n",
      "dtype: int64\n"
     ]
    }
   ],
   "source": [
    "# gender distribution\n",
    "print(TwtDs.groupby('gender').size())"
   ]
  },
  {
   "cell_type": "code",
   "execution_count": 7,
   "metadata": {
    "collapsed": true
   },
   "outputs": [],
   "source": [
    "# get a small portion of the dataset to do the experiment\n",
    "TwtHd = TwtDs.head(100)"
   ]
  },
  {
   "cell_type": "code",
   "execution_count": 8,
   "metadata": {
    "collapsed": false
   },
   "outputs": [
    {
     "data": {
      "text/plain": [
       "(100, 26)"
      ]
     },
     "execution_count": 8,
     "metadata": {},
     "output_type": "execute_result"
    }
   ],
   "source": [
    "# the sampled dataset only have one hundred records\n",
    "TwtHd.shape"
   ]
  },
  {
   "cell_type": "code",
   "execution_count": 9,
   "metadata": {
    "collapsed": false
   },
   "outputs": [],
   "source": [
    "# add a new column to the sampled dataset as a list of words from the tweet \n",
    "TwtHd.is_copy = False\n",
    "TwtHd['txtwd']=TwtHd.text.str.split()"
   ]
  },
  {
   "cell_type": "code",
   "execution_count": 11,
   "metadata": {
    "collapsed": false
   },
   "outputs": [
    {
     "data": {
      "text/plain": [
       "0    [Robbie, E, Responds, To, Critics, After, Win,...\n",
       "1    [ÛÏIt, felt, like, they, were, my, friends, a...\n",
       "2    [i, absolutely, adore, when, louis, starts, th...\n",
       "3    [Hi, @JordanSpieth, -, Looking, at, the, url, ...\n",
       "4    [Watching, Neighbours, on, Sky+, catching, up,...\n",
       "5    [Ive, seen, people, on, the, train, with, lamp...\n",
       "6    [@BpackEngineer, Thank, you, for, your, patien...\n",
       "7    [Gala, Bingo, clubs, bought, for, å£241m:, The...\n",
       "8    [@_Aphmau_, the, pic, defines, all, mcd, fangi...\n",
       "9    [@Evielady, just, how, lovely, is, the, tree, ...\n",
       "Name: txtwd, dtype: object"
      ]
     },
     "execution_count": 11,
     "metadata": {},
     "output_type": "execute_result"
    }
   ],
   "source": [
    "TwtHd.txtwd.head(10)"
   ]
  },
  {
   "cell_type": "code",
   "execution_count": 16,
   "metadata": {
    "collapsed": false
   },
   "outputs": [
    {
     "name": "stdout",
     "output_type": "stream",
     "text": [
      "gender\n",
      "brand      28\n",
      "female     33\n",
      "male       37\n",
      "unknown     2\n",
      "dtype: int64\n"
     ]
    }
   ],
   "source": [
    "# gender distribution in the sample\n",
    "print(TwtHd.groupby('gender').size())"
   ]
  },
  {
   "cell_type": "code",
   "execution_count": 17,
   "metadata": {
    "collapsed": true
   },
   "outputs": [],
   "source": [
    "# Split the dataset by gender\n",
    "TwtHd_m = TwtHd[TwtHd.gender=='male']\n",
    "TwtHd_f = TwtHd[TwtHd.gender=='female']\n",
    "TwtHd_b = TwtHd[TwtHd.gender=='brand']"
   ]
  },
  {
   "cell_type": "code",
   "execution_count": 18,
   "metadata": {
    "collapsed": false
   },
   "outputs": [
    {
     "name": "stdout",
     "output_type": "stream",
     "text": [
      "the 37\n",
      "to 12\n",
      "I 10\n",
      "is 9\n",
      "you 7\n",
      "in 7\n",
      "and 7\n",
      "The 7\n",
      "- 7\n",
      "not 6\n",
      "with 5\n",
      "of 5\n",
      "like 5\n",
      "for 5\n",
      "it 4\n",
      "being 4\n",
      "a 4\n",
      "I'm 4\n",
      "up 3\n",
      "over 3\n"
     ]
    }
   ],
   "source": [
    "# put all of the words of the tweets from the sampled male dataset into a long single list\n",
    "# and then find the top 20 frequent using words by male tweeter users\n",
    "maletwt = TwtHd_m.text.str.cat(sep='')\n",
    "maletwtwd = maletwt.split()\n",
    "cnts = dict()\n",
    "for word in maletwtwd:\n",
    "\tcnts[word]=cnts.get(word, 0) + 1 \n",
    "\t\n",
    "lst = list ()\n",
    "for key, val in cnts.items():\n",
    "\tlst.append((val,key))\n",
    "\n",
    "lst.sort(reverse=True)\n",
    "\n",
    "for val, key in lst [:20]:\n",
    "\tprint (key, val)"
   ]
  },
  {
   "cell_type": "code",
   "execution_count": 19,
   "metadata": {
    "collapsed": false
   },
   "outputs": [
    {
     "name": "stdout",
     "output_type": "stream",
     "text": [
      "the 34\n",
      "to 9\n",
      "and 9\n",
      "of 8\n",
      "for 8\n",
      "you 6\n",
      "on 6\n",
      "I 6\n",
      "with 5\n",
      "this 5\n",
      "in 5\n",
      "are 5\n",
      "a 5\n",
      "up 4\n",
      "that 4\n",
      "it 4\n",
      "as 4\n",
      "The 4\n",
      "who 3\n",
      "was 3\n"
     ]
    }
   ],
   "source": [
    "# put all of the words of the tweets from the sampled female dataset into a long single list\n",
    "# and then find the top 20 frequent using words by female tweeter users\n",
    "femaletwt = TwtHd_f.text.str.cat(sep='')\n",
    "femaletwtwd = femaletwt.split()\n",
    "cnts = dict()\n",
    "for word in femaletwtwd:\n",
    "\tcnts[word]=cnts.get(word, 0) + 1 \n",
    "\t\n",
    "lst = list ()\n",
    "for key, val in cnts.items():\n",
    "\tlst.append((val,key))\n",
    "\n",
    "lst.sort(reverse=True)\n",
    "\n",
    "for val, key in lst [:20]:\n",
    "\tprint (key, val)"
   ]
  },
  {
   "cell_type": "code",
   "execution_count": 20,
   "metadata": {
    "collapsed": false
   },
   "outputs": [
    {
     "name": "stdout",
     "output_type": "stream",
     "text": [
      "the 34\n",
      "to 9\n",
      "and 9\n",
      "of 8\n",
      "for 8\n",
      "you 6\n",
      "on 6\n",
      "I 6\n",
      "with 5\n",
      "this 5\n",
      "in 5\n",
      "are 5\n",
      "a 5\n",
      "up 4\n",
      "that 4\n",
      "it 4\n",
      "as 4\n",
      "The 4\n",
      "who 3\n",
      "was 3\n"
     ]
    }
   ],
   "source": [
    "# put all of the words of the tweets from the sampled brand dataset into a long single list\n",
    "# and then find the top 20 frequent using words by brand tweeter users\n",
    "brandtwt = TwtHd_f.text.str.cat(sep='')\n",
    "brandtwtwd = femaletwt.split()\n",
    "cnts = dict()\n",
    "for word in brandtwtwd:\n",
    "\tcnts[word]=cnts.get(word, 0) + 1 \n",
    "\t\n",
    "lst = list ()\n",
    "for key, val in cnts.items():\n",
    "\tlst.append((val,key))\n",
    "\n",
    "lst.sort(reverse=True)\n",
    "\n",
    "for val, key in lst [:20]:\n",
    "\tprint (key, val)"
   ]
  },
  {
   "cell_type": "code",
   "execution_count": null,
   "metadata": {
    "collapsed": true
   },
   "outputs": [],
   "source": []
  }
 ],
 "metadata": {
  "anaconda-cloud": {},
  "kernelspec": {
   "display_name": "Python [default]",
   "language": "python",
   "name": "python3"
  },
  "language_info": {
   "codemirror_mode": {
    "name": "ipython",
    "version": 3
   },
   "file_extension": ".py",
   "mimetype": "text/x-python",
   "name": "python",
   "nbconvert_exporter": "python",
   "pygments_lexer": "ipython3",
   "version": "3.5.2"
  }
 },
 "nbformat": 4,
 "nbformat_minor": 1
}
