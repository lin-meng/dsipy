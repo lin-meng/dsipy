{
 "cells": [
  {
   "cell_type": "code",
   "execution_count": 1,
   "metadata": {
    "collapsed": true
   },
   "outputs": [],
   "source": [
    "# Load libraries\n",
    "%matplotlib inline\n",
    "import numpy as np\n",
    "import pandas as pd\n",
    "import matplotlib.pyplot as plt\n",
    "from textblob import TextBlob\n",
    "import sys\n",
    "import string\n",
    "import json\n",
    "import random\n",
    "from collections import Counter\n",
    "from nltk.tokenize import TweetTokenizer\n",
    "from nltk.corpus import stopwords\n",
    "import sklearn\n",
    "import _pickle as cPickle\n",
    "from sklearn.feature_extraction.text import CountVectorizer, TfidfTransformer\n",
    "from sklearn.naive_bayes import MultinomialNB\n",
    "from sklearn.svm import SVC, LinearSVC\n",
    "from sklearn.metrics import classification_report, f1_score, accuracy_score, confusion_matrix\n",
    "from sklearn.pipeline import Pipeline\n",
    "from sklearn.grid_search import GridSearchCV\n",
    "from sklearn.cross_validation import StratifiedKFold, cross_val_score, train_test_split \n",
    "from sklearn.tree import DecisionTreeClassifier \n",
    "from sklearn.learning_curve import learning_curve"
   ]
  },
  {
   "cell_type": "code",
   "execution_count": 2,
   "metadata": {
    "collapsed": false
   },
   "outputs": [],
   "source": [
    "# Load dataset\n",
    "TwtDs = pd.read_csv('C:\\\\Users\\\\Mlin\\\\OneDrive\\\\Documents\\\\tamu\\\\DataScience\\\\twitter-user-gender-classification\\\\gender-classifier-DFE-791531.csv',  na_values=['.'], encoding = \"ISO-8859-1\")"
   ]
  },
  {
   "cell_type": "code",
   "execution_count": 3,
   "metadata": {
    "collapsed": false
   },
   "outputs": [
    {
     "name": "stdout",
     "output_type": "stream",
     "text": [
      "(20050, 26)\n"
     ]
    }
   ],
   "source": [
    "# shape\n",
    "print(TwtDs.shape) "
   ]
  },
  {
   "cell_type": "code",
   "execution_count": 4,
   "metadata": {
    "collapsed": false
   },
   "outputs": [
    {
     "name": "stdout",
     "output_type": "stream",
     "text": [
      "    _unit_id _golden _unit_state  _trusted_judgments _last_judgment_at  \\\n",
      "0  815719226   False   finalized                   3    10/26/15 23:24   \n",
      "1  815719227   False   finalized                   3    10/26/15 23:30   \n",
      "2  815719228   False   finalized                   3    10/26/15 23:33   \n",
      "3  815719229   False   finalized                   3    10/26/15 23:10   \n",
      "4  815719230   False   finalized                   3     10/27/15 1:15   \n",
      "5  815719231   False   finalized                   3     10/27/15 1:47   \n",
      "6  815719232   False   finalized                   3     10/27/15 1:57   \n",
      "7  815719233   False   finalized                   3    10/26/15 23:48   \n",
      "8  815719234   False   finalized                   3     10/27/15 1:52   \n",
      "9  815719235   False   finalized                   3     10/27/15 1:49   \n",
      "\n",
      "   gender  gender:confidence profile_yn  profile_yn:confidence  \\\n",
      "0    male             1.0000        yes                    1.0   \n",
      "1    male             1.0000        yes                    1.0   \n",
      "2    male             0.6625        yes                    1.0   \n",
      "3    male             1.0000        yes                    1.0   \n",
      "4  female             1.0000        yes                    1.0   \n",
      "5  female             1.0000        yes                    1.0   \n",
      "6   brand             1.0000        yes                    1.0   \n",
      "7    male             1.0000        yes                    1.0   \n",
      "8  female             1.0000        yes                    1.0   \n",
      "9  female             1.0000        yes                    1.0   \n",
      "\n",
      "          created             ...              \\\n",
      "0    12/5/13 1:48             ...               \n",
      "1   10/1/12 13:51             ...               \n",
      "2  11/28/14 11:30             ...               \n",
      "3   6/11/09 22:39             ...               \n",
      "4   4/16/14 13:23             ...               \n",
      "5   3/11/10 18:14             ...               \n",
      "6   4/24/08 13:03             ...               \n",
      "7   12/3/12 21:54             ...               \n",
      "8     9/8/15 4:50             ...               \n",
      "9    5/13/11 3:32             ...               \n",
      "\n",
      "                                        profileimage  retweet_count  \\\n",
      "0  https://pbs.twimg.com/profile_images/414342229...              0   \n",
      "1  https://pbs.twimg.com/profile_images/539604221...              0   \n",
      "2  https://pbs.twimg.com/profile_images/657330418...              1   \n",
      "3  https://pbs.twimg.com/profile_images/259703936...              0   \n",
      "4  https://pbs.twimg.com/profile_images/564094871...              0   \n",
      "5  https://pbs.twimg.com/profile_images/656336865...              0   \n",
      "6  https://pbs.twimg.com/profile_images/528547133...              0   \n",
      "7  https://pbs.twimg.com/profile_images/508875440...              0   \n",
      "8  https://pbs.twimg.com/profile_images/658670112...              0   \n",
      "9  https://pbs.twimg.com/profile_images/513327289...              0   \n",
      "\n",
      "  sidebar_color                                               text  \\\n",
      "0        FFFFFF  Robbie E Responds To Critics After Win Against...   \n",
      "1        C0DEED  ÛÏIt felt like they were my friends and I was...   \n",
      "2        C0DEED  i absolutely adore when louis starts the songs...   \n",
      "3        C0DEED  Hi @JordanSpieth - Looking at the url - do you...   \n",
      "4             0  Watching Neighbours on Sky+ catching up with t...   \n",
      "5             0  Ive seen people on the train with lamps, chair...   \n",
      "6             0  @BpackEngineer Thank you for your patience whi...   \n",
      "7        C0DEED  Gala Bingo clubs bought for å£241m: The UK's l...   \n",
      "8             0  @_Aphmau_ the pic defines all mcd fangirls/fan...   \n",
      "9        FFFFFF  @Evielady just how lovely is the tree this yea...   \n",
      "\n",
      "  tweet_coord tweet_count   tweet_created      tweet_id        tweet_location  \\\n",
      "0         NaN      110964  10/26/15 12:40  6.587300e+17       main; @Kan1shk3   \n",
      "1         NaN        7471  10/26/15 12:40  6.587300e+17                   NaN   \n",
      "2         NaN        5617  10/26/15 12:40  6.587300e+17                clcncl   \n",
      "3         NaN        1693  10/26/15 12:40  6.587300e+17         Palo Alto, CA   \n",
      "4         NaN       31462  10/26/15 12:40  6.587300e+17                   NaN   \n",
      "5         NaN       20036  10/26/15 12:40  6.587300e+17       New York Gritty   \n",
      "6         NaN       13354  10/26/15 12:40  6.587300e+17             Worldwide   \n",
      "7         NaN      112117  10/26/15 12:40  6.587300e+17                   NaN   \n",
      "8         NaN         482  10/26/15 12:40  6.587300e+17                   NaN   \n",
      "9         NaN       26085  10/26/15 12:40  6.587300e+17  Nottingham, England.   \n",
      "\n",
      "                user_timezone  \n",
      "0                     Chennai  \n",
      "1  Eastern Time (US & Canada)  \n",
      "2                    Belgrade  \n",
      "3  Pacific Time (US & Canada)  \n",
      "4                         NaN  \n",
      "5  Central Time (US & Canada)  \n",
      "6  Eastern Time (US & Canada)  \n",
      "7                         NaN  \n",
      "8                         NaN  \n",
      "9                   Amsterdam  \n",
      "\n",
      "[10 rows x 26 columns]\n"
     ]
    }
   ],
   "source": [
    "# head\n",
    "print(TwtDs.head(10))"
   ]
  },
  {
   "cell_type": "code",
   "execution_count": 5,
   "metadata": {
    "collapsed": false
   },
   "outputs": [],
   "source": [
    "# Add a text length column to the dataset\n",
    "TwtDs['txtlength'] = TwtDs['text'].map(lambda text: len(text))"
   ]
  },
  {
   "cell_type": "code",
   "execution_count": 6,
   "metadata": {
    "collapsed": false
   },
   "outputs": [
    {
     "name": "stdout",
     "output_type": "stream",
     "text": [
      "<class 'pandas.core.frame.DataFrame'>\n",
      "RangeIndex: 20050 entries, 0 to 20049\n",
      "Data columns (total 27 columns):\n",
      "_unit_id                 20050 non-null int64\n",
      "_golden                  20050 non-null bool\n",
      "_unit_state              20050 non-null object\n",
      "_trusted_judgments       20050 non-null int64\n",
      "_last_judgment_at        20000 non-null object\n",
      "gender                   19953 non-null object\n",
      "gender:confidence        20024 non-null float64\n",
      "profile_yn               20050 non-null object\n",
      "profile_yn:confidence    20050 non-null float64\n",
      "created                  20050 non-null object\n",
      "description              16306 non-null object\n",
      "fav_number               20050 non-null int64\n",
      "gender_gold              50 non-null object\n",
      "link_color               20050 non-null object\n",
      "name                     20050 non-null object\n",
      "profile_yn_gold          50 non-null object\n",
      "profileimage             20050 non-null object\n",
      "retweet_count            20050 non-null int64\n",
      "sidebar_color            20050 non-null object\n",
      "text                     20050 non-null object\n",
      "tweet_coord              159 non-null object\n",
      "tweet_count              20050 non-null int64\n",
      "tweet_created            20050 non-null object\n",
      "tweet_id                 20050 non-null float64\n",
      "tweet_location           12564 non-null object\n",
      "user_timezone            12252 non-null object\n",
      "txtlength                20050 non-null int64\n",
      "dtypes: bool(1), float64(3), int64(6), object(17)\n",
      "memory usage: 4.0+ MB\n"
     ]
    }
   ],
   "source": [
    "# Dataset Info\n",
    "TwtDs.info()"
   ]
  },
  {
   "cell_type": "code",
   "execution_count": 7,
   "metadata": {
    "collapsed": false
   },
   "outputs": [
    {
     "name": "stdout",
     "output_type": "stream",
     "text": [
      "<class 'pandas.core.frame.DataFrame'>\n",
      "Int64Index: 12894 entries, 0 to 20049\n",
      "Data columns (total 27 columns):\n",
      "_unit_id                 12894 non-null int64\n",
      "_golden                  12894 non-null bool\n",
      "_unit_state              12894 non-null object\n",
      "_trusted_judgments       12894 non-null int64\n",
      "_last_judgment_at        12858 non-null object\n",
      "gender                   12894 non-null object\n",
      "gender:confidence        12894 non-null float64\n",
      "profile_yn               12894 non-null object\n",
      "profile_yn:confidence    12894 non-null float64\n",
      "created                  12894 non-null object\n",
      "description              11194 non-null object\n",
      "fav_number               12894 non-null int64\n",
      "gender_gold              36 non-null object\n",
      "link_color               12894 non-null object\n",
      "name                     12894 non-null object\n",
      "profile_yn_gold          36 non-null object\n",
      "profileimage             12894 non-null object\n",
      "retweet_count            12894 non-null int64\n",
      "sidebar_color            12894 non-null object\n",
      "text                     12894 non-null object\n",
      "tweet_coord              78 non-null object\n",
      "tweet_count              12894 non-null int64\n",
      "tweet_created            12894 non-null object\n",
      "tweet_id                 12894 non-null float64\n",
      "tweet_location           8745 non-null object\n",
      "user_timezone            8497 non-null object\n",
      "txtlength                12894 non-null int64\n",
      "dtypes: bool(1), float64(3), int64(6), object(17)\n",
      "memory usage: 2.7+ MB\n"
     ]
    }
   ],
   "source": [
    "# Only select the female or male records from the dataset\n",
    "TwtFm = TwtDs[(TwtDs['gender']=='female') | (TwtDs['gender']=='male')]\n",
    "TwtFm.info()"
   ]
  },
  {
   "cell_type": "code",
   "execution_count": 8,
   "metadata": {
    "collapsed": false
   },
   "outputs": [
    {
     "data": {
      "text/plain": [
       "count    12894.000000\n",
       "mean        96.867458\n",
       "std         33.838490\n",
       "min          6.000000\n",
       "25%         70.000000\n",
       "50%        100.000000\n",
       "75%        128.000000\n",
       "max        425.000000\n",
       "Name: txtlength, dtype: float64"
      ]
     },
     "execution_count": 8,
     "metadata": {},
     "output_type": "execute_result"
    }
   ],
   "source": [
    "TwtFm.txtlength.describe()"
   ]
  },
  {
   "cell_type": "code",
   "execution_count": 9,
   "metadata": {
    "collapsed": false
   },
   "outputs": [
    {
     "name": "stdout",
     "output_type": "stream",
     "text": [
      "['When You A Trap Wife and Everybody wants you _Ù÷__Ù÷__Ù÷__Ù÷__Ù÷__Ù÷__Ù÷__Ù÷__Ù÷__Ù÷__Ù÷__Ù÷__Ù÷__Ù÷__Ù÷__Ù÷__Ù÷__Ù÷__Ù÷__Ù÷__Ù÷__Ù÷__Ù÷__Ù÷__Ù÷__Ù÷__Ù÷__Ù÷__Ù÷__Ù÷__Ù÷__Ù÷__Ù÷__Ù÷__Ù÷__Ù÷__Ù÷__Ù÷__Ù÷__Ù÷__Ù÷__Ù÷__Ù÷__Ù÷__Ù÷__Ù÷__Ù÷__Ù÷__Ù÷__Ù÷__Ù÷__Ù÷__Ù÷__Ù÷__Ù÷__Ù÷__Ù÷__Ù÷__Ù÷__Ù÷__Ù÷__Ù÷__Ù÷__Ù÷__Ù÷__Ù÷__Ù÷__Ù÷__Ù÷__Ù÷__Ù÷__Ù÷__Ù÷__Ù÷__Ù÷__Ù÷__Ù÷__Ù÷__Ù÷__Ù÷__Ù÷__Ù÷__Ù÷__Ù÷__Ù÷__Ù÷__Ù÷__Ù÷__Ù÷__Ù÷__Ù÷__Ù÷__Ù÷__Ù÷__Ù÷_']\n"
     ]
    }
   ],
   "source": [
    "# check the longest tweet in the dataset\n",
    "print (list(TwtFm.text[TwtDs.txtlength > 400]))"
   ]
  },
  {
   "cell_type": "code",
   "execution_count": 10,
   "metadata": {
    "collapsed": false
   },
   "outputs": [
    {
     "name": "stdout",
     "output_type": "stream",
     "text": [
      "['#NAME?', 'And fever']\n"
     ]
    }
   ],
   "source": [
    "# check the shortest tweet in the dataset\n",
    "print (list(TwtFm.text[TwtDs.txtlength < 10]))"
   ]
  },
  {
   "cell_type": "code",
   "execution_count": 11,
   "metadata": {
    "collapsed": true
   },
   "outputs": [],
   "source": [
    "# Take a random sample of 2000 from the dataset\n",
    "TwtSam2000 = TwtFm.sample(2000, random_state=123)"
   ]
  },
  {
   "cell_type": "code",
   "execution_count": 12,
   "metadata": {
    "collapsed": false
   },
   "outputs": [
    {
     "name": "stdout",
     "output_type": "stream",
     "text": [
      "gender\n",
      "female    1061\n",
      "male       939\n",
      "dtype: int64\n"
     ]
    }
   ],
   "source": [
    "# gender distribution\n",
    "print(TwtSam2000.groupby('gender').size())"
   ]
  },
  {
   "cell_type": "code",
   "execution_count": 46,
   "metadata": {
    "collapsed": false
   },
   "outputs": [
    {
     "data": {
      "text/plain": [
       "array([<matplotlib.axes._subplots.AxesSubplot object at 0x0000019C4E4CF5F8>,\n",
       "       <matplotlib.axes._subplots.AxesSubplot object at 0x0000019C455A7F60>], dtype=object)"
      ]
     },
     "execution_count": 46,
     "metadata": {},
     "output_type": "execute_result"
    },
    {
     "data": {
      "image/png": "[encoded data removed]",
      "text/plain": [
       "<matplotlib.figure.Figure at 0x19c4e5a8d68>"
      ]
     },
     "metadata": {},
     "output_type": "display_data"
    }
   ],
   "source": [
    "# check the tweet length by gender\n",
    "TwtFm.hist(column='txtlength', by='gender', bins=50, sharex=True, sharey=True)"
   ]
  },
  {
   "cell_type": "code",
   "execution_count": 14,
   "metadata": {
    "collapsed": true
   },
   "outputs": [],
   "source": [
    "# Define a function utilzing nltk's TweetTokenizer(), stopwords=[]\n",
    "def process(text, tokenizer=TweetTokenizer(), stopwords=[]):\n",
    "    \"\"\"Process the text of a tweet:\n",
    "    - Lowercase\n",
    "    - Tokenize\n",
    "    - Stopword removal\n",
    "    - Digits removal\n",
    "    Return: list of strings\n",
    "    \"\"\"\n",
    "    text = text.lower()\n",
    "    tokens = tokenizer.tokenize(text)\n",
    "    # If we want to normalize contraction, uncomment this\n",
    "    # tokens = normalize_contractions(tokens)\n",
    "    return [tok for tok in tokens if tok not in stopwords and not tok.isdigit()]"
   ]
  },
  {
   "cell_type": "code",
   "execution_count": 15,
   "metadata": {
    "collapsed": false
   },
   "outputs": [
    {
     "name": "stdout",
     "output_type": "stream",
     "text": [
      "8409\n"
     ]
    }
   ],
   "source": [
    "# Create bag of words from the sampled 2000 tweets\n",
    "topbow_transformer = CountVectorizer(analyzer=process).fit(TwtSam2000['text'])\n",
    "print (len(topbow_transformer.vocabulary_))"
   ]
  },
  {
   "cell_type": "code",
   "execution_count": 44,
   "metadata": {
    "collapsed": false
   },
   "outputs": [
    {
     "name": "stdout",
     "output_type": "stream",
     "text": [
      "[('belly', 2086), ('#episode3', 130), ('fucks', 3683), ('dollars', 3130), ('@bitemyapp', 751), ('ddk', 2921), ('beach', 2042), ('@odeoncinemas', 1252), ('tw', 7762), ('starbucks', 7226), ('terrified', 7500), ('scutter', 6835), ('plantain', 6208), ('began', 2071), ('@jatsabdul', 1034), ('vision', 7945), ('@oliverbcampbell', 1259), ('bigger', 2117), (\"god's\", 3798), (\":'(\", 620), ('midnight', 5604), ('https://t.co/z6jiae0ued', 4763), ('https://t.co/i3clomkemd', 4405), ('_ùî__ù', 1590), ('adele', 1683), (\"i'm\", 4818), ('keeps', 5126), ('#search', 377), ('https://t.co/i7ke7ebrot', 4407), ('https://t.co/wsohecrkqh', 4720), ('gay', 3738), ('#crime', 86), ('sooo', 7127), ('aimed', 1733), ('unacceptable', 7808), ('arab', 1873), ('prolife', 6366), ('icons', 4827), ('https://t.co/xytvtwtdlr', 4738), ('involved', 4969), ('@ozzybosco', 1278), ('#thewalkingdead', 428), ('#doctorsorders', 109), ('de', 2922), ('costumes', 2761), ('hurts', 4800), ('laura', 5234), ('https://t.co/pj6rsqy6nz', 4559), ('backwards', 1992), ('obvious', 5923), ('https://t.co/g0mcei8pwj', 4364), ('#celibacy', 69), ('#moms', 281), ('fighter', 3536), ('tire', 7609), ('swift', 7405), ('@iom_jordan', 1013), ('style', 7328), ('deja', 2971), ('perhaps', 6140), ('why', 8102), ('igbo', 4840), ('@sophieemcvey', 1412), ('kleenex', 5167), (\"night's\", 5851), ('https://t.co/jwa4usrlxw', 4460), ('ü', 8405), ('christianity', 2547), ('https://t.co/8mrsoe9our', 4225), ('@caribbros', 795), ('rca', 6497), ('price', 6318), ('dyer', 3225), ('@thonymayne_999', 1470), ('series', 6892), ('over', 6032), ('riel', 6663), ('stalin', 7217), ('secular', 6853), ('ûò', 8403), ('technology', 7479), ('poisoned', 6236), ('pioga', 6191), ('renton', 6592), ('@kirkherbstreit', 1096), ('fetus', 3526), ('savedacccren', 6781), ('commercialise', 2652), ('buddies', 2295), ('@binarybits', 750), ('midterm', 5606), ('sizes', 7030), ('#vital', 458), ('https://t.co/tjgg7wdzsa', 4658), ('must', 5748), ('indonesians', 4893), ('https://t.co/fbvqmyip9u', 4348), ('cunt', 2848), ('á', 8319), ('heartbreaking', 3995)]\n"
     ]
    }
   ],
   "source": [
    "# Check the random 100 vocabulary items from the 2000 tweets\n",
    "random_list = random.sample(topbow_transformer.vocabulary_.items(), 100)\n",
    "print (random_list)"
   ]
  },
  {
   "cell_type": "code",
   "execution_count": 17,
   "metadata": {
    "collapsed": false
   },
   "outputs": [
    {
     "name": "stdout",
     "output_type": "stream",
     "text": [
      "sparse matrix shape: (2000, 8409)\n",
      "number of non-zeros: 32776\n",
      "sparsity: 0.19%\n"
     ]
    }
   ],
   "source": [
    "# generate bag of words for the sampled tweets\n",
    "TwtSam_bow = topbow_transformer.transform(TwtSam2000['text'])\n",
    "print ('sparse matrix shape:', TwtSam_bow.shape)\n",
    "print ('number of non-zeros:', TwtSam_bow.nnz)\n",
    "print ('sparsity: %.2f%%' % (100.0 * TwtSam_bow.nnz / (TwtSam_bow.shape[0] * TwtSam_bow.shape[1])))"
   ]
  },
  {
   "cell_type": "code",
   "execution_count": 18,
   "metadata": {
    "collapsed": false
   },
   "outputs": [
    {
     "name": "stdout",
     "output_type": "stream",
     "text": [
      "1300 700 2000\n"
     ]
    }
   ],
   "source": [
    "#Carry out the real evaluation (cross validations) with these 2000 tweets\n",
    "twt_train, twt_test, label_train, label_test = \\\n",
    "    train_test_split(TwtSam2000['text'], TwtSam2000['gender'], test_size=0.35)\n",
    "\n",
    "print (len(twt_train), len(twt_test), len(twt_train) + len(twt_test))"
   ]
  },
  {
   "cell_type": "code",
   "execution_count": 19,
   "metadata": {
    "collapsed": false
   },
   "outputs": [
    {
     "data": {
      "text/plain": [
       "1967                It's kind of fun to do the impossible.\n",
       "7513     @BrittSween @stacybud123 Just wanted to say. Y...\n",
       "10371    Dreaming about who we used to be. When we were...\n",
       "9480     Why can't people chew quietly? They're forgett...\n",
       "441      Photo: Hover Disc 2 - The Essential Multiplaye...\n",
       "Name: text, dtype: object"
      ]
     },
     "execution_count": 19,
     "metadata": {},
     "output_type": "execute_result"
    }
   ],
   "source": [
    "twt_train.head()"
   ]
  },
  {
   "cell_type": "code",
   "execution_count": 20,
   "metadata": {
    "collapsed": false
   },
   "outputs": [
    {
     "name": "stdout",
     "output_type": "stream",
     "text": [
      "6154\n"
     ]
    }
   ],
   "source": [
    "# Generate the bag of words from the 1300 tweets of the training set\n",
    "trnbow_transformer = CountVectorizer(analyzer=process).fit(twt_train)\n",
    "print (len(trnbow_transformer.vocabulary_))"
   ]
  },
  {
   "cell_type": "code",
   "execution_count": 45,
   "metadata": {
    "collapsed": false
   },
   "outputs": [
    {
     "name": "stdout",
     "output_type": "stream",
     "text": [
      "[('recent', 4717), ('twist', 5666), ('headset', 2870), ('@thevintageyear', 997), ('#photography', 230), ('frozen', 2635), ('jaws', 3611), ('why', 5916), ('unfairly', 5704), ('breaking', 1567), ('@fosterthepeople', 651), ('any', 1257), ('dalai', 2037), ('chg', 1769), ('ginge', 2714), ('dammit', 2040), ('fantavision', 2478), ('wealth', 5859), ('wayne', 5852), ('closet', 1822), ('ou', 4334), ('stations', 5250), ('pets', 4438), ('@kevinwatson', 749), ('hahah', 2817), ('eventually', 2408), ('dedicated', 2090), ('pride', 4566), ('disconnect', 2182), ('jareds', 3607), ('curious', 2013), ('red', 4725), ('etc', 2397), ('panicked', 4374), ('basket', 1395), ('raining', 4679), ('9th', 432), ('dont', 2220), ('pasta', 4400), ('shot', 5043), ('1/2', 360), ('huskies', 3439), ('events', 2407), ('https://t.co/qxn4ncfzco', 3299), ('@fatherandrew', 640), ('https://t.co/mysod8d1tu', 3245), ('arabia', 1282), ('https://t.co/jucngqfk4w', 3207), ('shitty', 5030), ('truro', 5632), ('https://t.co/kegdnrf43n', 3213), ('=', 445), ('police', 4504), ('quit', 4666), ('https://t.co/pxhmfgbcaa', 3283), ('lean', 3766), (\"anyone's\", 1260), ('kids', 3696), ('takes', 5400), ('whats', 5893), ('â', 6088), ('@colinsdabomb', 578), ('@minsell', 823), ('https://t.co/vr59n3uzzj', 3365), ('students', 5312), ('@justinbieber', 734), ('@girlonutd', 659), ('https://t.co/tvdmnukm8x', 3345), ('salt', 4886), ('@bassgiraffe', 510), ('compare', 1875), ('ruined', 4865), ('jr', 3657), ('force', 2592), ('try', 5635), ('lì', 3900), ('esem', 2391), ('available', 1347), ('airs', 1184), ('missiles', 4065), ('articles', 1302), ('@pauljun_', 890), ('@adrian_butler13', 473), ('awwwwww', 1358), ('nothing', 4239), ('pot', 4530), ('@shutterstock', 951), ('#socialmedia', 276), ('sit', 5088), ('bundeskanzlerin', 1614), ('trade', 5593), ('leaving', 3773), ('dums', 2279), ('picture', 4459), ('#plantbaseddiet', 231), ('contest', 1915), ('pressure', 4558), ('rnb', 4833), ('role', 4844), ('players', 4489)]\n"
     ]
    }
   ],
   "source": [
    "# Check the random 100 vocabulary items from the 1300 tweets\n",
    "random_list = random.sample(trnbow_transformer.vocabulary_.items(), 100)\n",
    "print (random_list)"
   ]
  },
  {
   "cell_type": "code",
   "execution_count": 23,
   "metadata": {
    "collapsed": false
   },
   "outputs": [
    {
     "name": "stdout",
     "output_type": "stream",
     "text": [
      "(1300, 6154)\n"
     ]
    }
   ],
   "source": [
    "# generate bag of words for the tweets in the training dataset\n",
    "train_bow = trnbow_transformer.transform(twt_train)\n",
    "trn_tfidf_transformer = TfidfTransformer().fit(train_bow)\n",
    "twt_train_tfidf = trn_tfidf_transformer.transform(train_bow)\n",
    "print (twt_train_tfidf.shape)"
   ]
  },
  {
   "cell_type": "code",
   "execution_count": 24,
   "metadata": {
    "collapsed": false
   },
   "outputs": [
    {
     "name": "stdout",
     "output_type": "stream",
     "text": [
      "Wall time: 15.6 ms\n"
     ]
    }
   ],
   "source": [
    "# Create Gender detector from the trained tfidf and comparing with the actual gender label\n",
    "%time twt_gender_detector = MultinomialNB().fit(twt_train_tfidf,  label_train)"
   ]
  },
  {
   "cell_type": "code",
   "execution_count": 25,
   "metadata": {
    "collapsed": false
   },
   "outputs": [
    {
     "name": "stdout",
     "output_type": "stream",
     "text": [
      "(700, 6154)\n"
     ]
    }
   ],
   "source": [
    "# Use the bow from training to creat tfidf for the test portion of the tweets\n",
    "test_bow = trnbow_transformer.transform(twt_test)\n",
    "tst_tfidf_transformer = TfidfTransformer().fit(test_bow)\n",
    "twt_test_tfidf = tst_tfidf_transformer.transform(test_bow)\n",
    "print (twt_test_tfidf.shape)"
   ]
  },
  {
   "cell_type": "code",
   "execution_count": 26,
   "metadata": {
    "collapsed": false
   },
   "outputs": [
    {
     "name": "stdout",
     "output_type": "stream",
     "text": [
      "['male' 'female' 'female' 'female' 'female' 'female' 'female' 'female'\n",
      " 'female' 'female' 'male' 'male' 'female' 'female' 'female' 'male' 'female'\n",
      " 'male' 'female' 'male' 'female' 'female' 'female' 'female' 'male' 'female'\n",
      " 'male' 'male' 'female' 'female' 'female' 'male' 'female' 'male' 'male'\n",
      " 'female' 'female' 'female' 'male' 'male' 'female' 'female' 'female'\n",
      " 'female' 'female' 'female' 'female' 'female' 'female' 'female' 'female'\n",
      " 'female' 'female' 'male' 'female' 'female' 'male' 'female' 'female'\n",
      " 'female' 'female' 'male' 'female' 'female' 'female' 'male' 'male' 'female'\n",
      " 'male' 'female' 'female' 'female' 'female' 'female' 'female' 'male'\n",
      " 'female' 'female' 'female' 'female' 'female' 'female' 'female' 'male'\n",
      " 'female' 'female' 'female' 'female' 'female' 'female' 'female' 'female'\n",
      " 'male' 'female' 'female' 'female' 'female' 'female' 'female' 'female'\n",
      " 'male' 'female' 'male' 'female' 'female' 'female' 'female' 'female'\n",
      " 'female' 'female' 'female' 'female' 'female' 'male' 'female' 'female'\n",
      " 'female' 'female' 'male' 'female' 'male' 'female' 'female' 'female'\n",
      " 'female' 'female' 'female' 'female' 'female' 'female' 'female' 'male'\n",
      " 'female' 'male' 'male' 'female' 'female' 'male' 'male' 'female' 'female'\n",
      " 'female' 'male' 'female' 'female' 'female' 'female' 'male' 'female' 'male'\n",
      " 'female' 'female' 'female' 'female' 'female' 'female' 'male' 'female'\n",
      " 'female' 'male' 'female' 'female' 'female' 'female' 'male' 'female'\n",
      " 'female' 'female' 'female' 'male' 'female' 'female' 'female' 'female'\n",
      " 'female' 'female' 'female' 'female' 'female' 'female' 'female' 'female'\n",
      " 'female' 'female' 'female' 'female' 'male' 'male' 'female' 'female'\n",
      " 'female' 'female' 'female' 'female' 'female' 'female' 'female' 'male'\n",
      " 'female' 'female' 'male' 'male' 'female' 'female' 'female' 'male' 'female'\n",
      " 'male' 'male' 'female' 'female' 'female' 'female' 'male' 'female' 'female'\n",
      " 'male' 'female' 'female' 'female' 'female' 'male' 'female' 'female'\n",
      " 'female' 'female' 'female' 'female' 'female' 'female' 'female' 'female'\n",
      " 'male' 'female' 'female' 'female' 'female' 'female' 'female' 'female'\n",
      " 'female' 'female' 'female' 'male' 'male' 'female' 'female' 'female' 'male'\n",
      " 'female' 'female' 'female' 'female' 'female' 'female' 'female' 'female'\n",
      " 'female' 'male' 'female' 'female' 'female' 'female' 'male' 'female'\n",
      " 'female' 'female' 'female' 'female' 'female' 'female' 'female' 'male'\n",
      " 'male' 'female' 'female' 'female' 'male' 'male' 'female' 'female' 'female'\n",
      " 'female' 'female' 'female' 'male' 'female' 'female' 'female' 'female'\n",
      " 'female' 'female' 'female' 'female' 'female' 'female' 'female' 'female'\n",
      " 'male' 'female' 'female' 'female' 'male' 'female' 'female' 'male' 'male'\n",
      " 'male' 'female' 'female' 'female' 'female' 'female' 'male' 'female'\n",
      " 'female' 'male' 'male' 'female' 'female' 'female' 'female' 'female'\n",
      " 'female' 'male' 'male' 'male' 'male' 'female' 'female' 'female' 'female'\n",
      " 'male' 'female' 'female' 'female' 'male' 'male' 'female' 'male' 'female'\n",
      " 'female' 'female' 'female' 'male' 'female' 'female' 'female' 'female'\n",
      " 'female' 'female' 'female' 'female' 'female' 'female' 'female' 'female'\n",
      " 'female' 'male' 'male' 'female' 'female' 'female' 'male' 'female' 'female'\n",
      " 'male' 'female' 'male' 'male' 'female' 'female' 'female' 'male' 'female'\n",
      " 'male' 'female' 'female' 'female' 'female' 'female' 'male' 'female'\n",
      " 'female' 'male' 'female' 'female' 'female' 'male' 'female' 'female'\n",
      " 'female' 'female' 'female' 'female' 'female' 'female' 'female' 'female'\n",
      " 'female' 'female' 'male' 'male' 'female' 'female' 'female' 'female'\n",
      " 'female' 'female' 'female' 'female' 'female' 'female' 'female' 'female'\n",
      " 'male' 'female' 'male' 'female' 'female' 'female' 'male' 'male' 'male'\n",
      " 'female' 'female' 'female' 'female' 'male' 'female' 'male' 'female' 'male'\n",
      " 'female' 'male' 'male' 'female' 'female' 'female' 'female' 'female'\n",
      " 'female' 'female' 'male' 'female' 'female' 'female' 'female' 'female'\n",
      " 'female' 'female' 'female' 'female' 'female' 'female' 'female' 'male'\n",
      " 'female' 'female' 'female' 'male' 'female' 'female' 'male' 'female'\n",
      " 'female' 'female' 'female' 'female' 'female' 'female' 'female' 'female'\n",
      " 'female' 'male' 'male' 'female' 'female' 'female' 'female' 'male' 'female'\n",
      " 'female' 'female' 'female' 'female' 'female' 'male' 'female' 'female'\n",
      " 'female' 'female' 'male' 'male' 'female' 'female' 'male' 'female' 'female'\n",
      " 'male' 'male' 'female' 'female' 'female' 'female' 'female' 'female'\n",
      " 'female' 'female' 'female' 'female' 'male' 'female' 'male' 'female' 'male'\n",
      " 'female' 'female' 'male' 'female' 'male' 'male' 'female' 'female' 'male'\n",
      " 'female' 'female' 'female' 'female' 'female' 'female' 'female' 'female'\n",
      " 'male' 'female' 'male' 'male' 'female' 'female' 'female' 'female' 'female'\n",
      " 'female' 'female' 'female' 'male' 'male' 'female' 'female' 'female'\n",
      " 'female' 'female' 'female' 'female' 'female' 'female' 'female' 'female'\n",
      " 'female' 'male' 'male' 'female' 'female' 'female' 'female' 'female' 'male'\n",
      " 'female' 'female' 'female' 'male' 'male' 'female' 'female' 'female'\n",
      " 'female' 'female' 'female' 'female' 'male' 'male' 'female' 'female'\n",
      " 'female' 'female' 'female' 'female' 'male' 'female' 'female' 'female'\n",
      " 'female' 'female' 'female' 'male' 'female' 'female' 'female' 'male'\n",
      " 'female' 'female' 'female' 'female' 'female' 'female' 'female' 'male'\n",
      " 'female' 'female' 'female' 'male' 'female' 'female' 'female' 'female'\n",
      " 'female' 'female' 'male' 'female' 'female' 'male' 'female' 'male' 'female'\n",
      " 'male' 'male' 'male' 'female' 'female' 'female' 'female' 'female' 'female'\n",
      " 'female' 'female' 'female' 'female' 'female' 'female' 'female' 'female'\n",
      " 'male' 'male' 'female' 'male' 'female' 'female' 'female' 'female' 'female'\n",
      " 'female' 'female' 'female' 'female' 'male' 'male' 'female' 'male' 'male'\n",
      " 'male' 'female' 'female' 'female' 'male' 'female' 'male' 'female' 'female'\n",
      " 'female' 'female' 'female' 'female' 'female' 'female' 'male' 'female'\n",
      " 'female' 'male' 'female' 'female' 'female' 'female' 'male' 'female'\n",
      " 'female' 'male' 'female' 'female' 'female' 'male' 'female' 'female'\n",
      " 'female' 'female' 'female' 'male' 'female' 'female' 'female' 'female']\n"
     ]
    }
   ],
   "source": [
    "# Carry out the gender prediction for the test dataset\n",
    "test_predictions = twt_gender_detector.predict(twt_test_tfidf)\n",
    "print (test_predictions)"
   ]
  },
  {
   "cell_type": "code",
   "execution_count": 27,
   "metadata": {
    "collapsed": false
   },
   "outputs": [
    {
     "name": "stdout",
     "output_type": "stream",
     "text": [
      "accuracy 0.564285714286\n",
      "confusion matrix\n",
      " [[306  72]\n",
      " [233  89]]\n",
      "(row=expected, col=predicted)\n"
     ]
    }
   ],
   "source": [
    "# Check the prediction accuracy\n",
    "print ('accuracy', accuracy_score(label_test, test_predictions))\n",
    "print ('confusion matrix\\n', confusion_matrix(label_test, test_predictions))\n",
    "print ('(row=expected, col=predicted)')"
   ]
  },
  {
   "cell_type": "code",
   "execution_count": 28,
   "metadata": {
    "collapsed": false
   },
   "outputs": [
    {
     "name": "stdout",
     "output_type": "stream",
     "text": [
      "             precision    recall  f1-score   support\n",
      "\n",
      "     female       0.57      0.81      0.67       378\n",
      "       male       0.55      0.28      0.37       322\n",
      "\n",
      "avg / total       0.56      0.56      0.53       700\n",
      "\n"
     ]
    }
   ],
   "source": [
    "print (classification_report(label_test, test_predictions))"
   ]
  },
  {
   "cell_type": "code",
   "execution_count": 29,
   "metadata": {
    "collapsed": false
   },
   "outputs": [],
   "source": [
    "# combine the test tweet series and label(gender) series into data frame\n",
    "twtTestDs = pd.concat([twt_test, label_test], axis=1).reset_index()"
   ]
  },
  {
   "cell_type": "code",
   "execution_count": 30,
   "metadata": {
    "collapsed": false
   },
   "outputs": [],
   "source": [
    "# Add a gender pred column to the dataset\n",
    "twtTestDs['gender_pred'] = test_predictions"
   ]
  },
  {
   "cell_type": "code",
   "execution_count": 31,
   "metadata": {
    "collapsed": false
   },
   "outputs": [
    {
     "name": "stdout",
     "output_type": "stream",
     "text": [
      "<class 'pandas.core.frame.DataFrame'>\n",
      "RangeIndex: 700 entries, 0 to 699\n",
      "Data columns (total 4 columns):\n",
      "index          700 non-null int64\n",
      "text           700 non-null object\n",
      "gender         700 non-null object\n",
      "gender_pred    700 non-null object\n",
      "dtypes: int64(1), object(3)\n",
      "memory usage: 22.0+ KB\n"
     ]
    }
   ],
   "source": [
    "twtTestDs.info()"
   ]
  },
  {
   "cell_type": "code",
   "execution_count": 32,
   "metadata": {
    "collapsed": true
   },
   "outputs": [],
   "source": [
    "pd.set_option('display.max_colwidth', -1)"
   ]
  },
  {
   "cell_type": "code",
   "execution_count": 33,
   "metadata": {
    "collapsed": false
   },
   "outputs": [
    {
     "data": {
      "text/html": [
       "<div>\n",
       "<table border=\"1\" class=\"dataframe\">\n",
       "  <thead>\n",
       "    <tr style=\"text-align: right;\">\n",
       "      <th></th>\n",
       "      <th>index</th>\n",
       "      <th>text</th>\n",
       "      <th>gender</th>\n",
       "      <th>gender_pred</th>\n",
       "    </tr>\n",
       "  </thead>\n",
       "  <tbody>\n",
       "    <tr>\n",
       "      <th>617</th>\n",
       "      <td>14009</td>\n",
       "      <td>live and let die</td>\n",
       "      <td>female</td>\n",
       "      <td>male</td>\n",
       "    </tr>\n",
       "    <tr>\n",
       "      <th>243</th>\n",
       "      <td>16409</td>\n",
       "      <td>Demotivational Star Wars Memes That Are Profound And Really Funny https://t.co/Bl4VjNvh9Q</td>\n",
       "      <td>female</td>\n",
       "      <td>male</td>\n",
       "    </tr>\n",
       "    <tr>\n",
       "      <th>689</th>\n",
       "      <td>13550</td>\n",
       "      <td>If you use social media for business and pleasure, divide your time so you stay on track with your business goals.</td>\n",
       "      <td>female</td>\n",
       "      <td>male</td>\n",
       "    </tr>\n",
       "    <tr>\n",
       "      <th>624</th>\n",
       "      <td>16150</td>\n",
       "      <td>@spicycheetoarms SO DUMB I SPENT ALL T HIS MONEY ON STUPID CLASSES AND SPENT DAY AND NIGHT WORRYING ABOUT MY FUTURE AND THIS FCLIFN</td>\n",
       "      <td>female</td>\n",
       "      <td>male</td>\n",
       "    </tr>\n",
       "    <tr>\n",
       "      <th>205</th>\n",
       "      <td>6918</td>\n",
       "      <td>VIDEO: James Bond Spectre world premiere: After months of build up Spectre, the latest instalment in the James... https://t.co/kgMaYBPBez</td>\n",
       "      <td>female</td>\n",
       "      <td>male</td>\n",
       "    </tr>\n",
       "    <tr>\n",
       "      <th>65</th>\n",
       "      <td>15193</td>\n",
       "      <td>This movie has Romeo AND Quincy YAAAAAAAS</td>\n",
       "      <td>female</td>\n",
       "      <td>male</td>\n",
       "    </tr>\n",
       "    <tr>\n",
       "      <th>513</th>\n",
       "      <td>4955</td>\n",
       "      <td>I was more than proud when becca actually busted a move on the danceÛ_ https://t.co/zITc4EOl04</td>\n",
       "      <td>female</td>\n",
       "      <td>male</td>\n",
       "    </tr>\n",
       "    <tr>\n",
       "      <th>622</th>\n",
       "      <td>7465</td>\n",
       "      <td>Yea ill send you the invite. You have the same #? https://t.co/WTmiLbXyYE</td>\n",
       "      <td>female</td>\n",
       "      <td>male</td>\n",
       "    </tr>\n",
       "    <tr>\n",
       "      <th>273</th>\n",
       "      <td>1580</td>\n",
       "      <td>Stunt on the people that hate you</td>\n",
       "      <td>female</td>\n",
       "      <td>male</td>\n",
       "    </tr>\n",
       "    <tr>\n",
       "      <th>520</th>\n",
       "      <td>4535</td>\n",
       "      <td>remember when ference marched in a pride parade........ what if there's a gay player on the oilers</td>\n",
       "      <td>female</td>\n",
       "      <td>male</td>\n",
       "    </tr>\n",
       "  </tbody>\n",
       "</table>\n",
       "</div>"
      ],
      "text/plain": [
       "     index  \\\n",
       "617  14009   \n",
       "243  16409   \n",
       "689  13550   \n",
       "624  16150   \n",
       "205  6918    \n",
       "65   15193   \n",
       "513  4955    \n",
       "622  7465    \n",
       "273  1580    \n",
       "520  4535    \n",
       "\n",
       "                                                                                                                                          text  \\\n",
       "617  live and let die                                                                                                                            \n",
       "243  Demotivational Star Wars Memes That Are Profound And Really Funny https://t.co/Bl4VjNvh9Q                                                   \n",
       "689  If you use social media for business and pleasure, divide your time so you stay on track with your business goals.                          \n",
       "624  @spicycheetoarms SO DUMB I SPENT ALL T HIS MONEY ON STUPID CLASSES AND SPENT DAY AND NIGHT WORRYING ABOUT MY FUTURE AND THIS FCLIFN         \n",
       "205  VIDEO: James Bond Spectre world premiere: After months of build up Spectre, the latest instalment in the James... https://t.co/kgMaYBPBez   \n",
       "65   This movie has Romeo AND Quincy YAAAAAAAS                                                                                                   \n",
       "513  I was more than proud when becca actually busted a move on the danceÛ_ https://t.co/zITc4EOl04                                             \n",
       "622  Yea ill send you the invite. You have the same #? https://t.co/WTmiLbXyYE                                                                   \n",
       "273  Stunt on the people that hate you                                                                                                           \n",
       "520  remember when ference marched in a pride parade........ what if there's a gay player on the oilers                                          \n",
       "\n",
       "     gender gender_pred  \n",
       "617  female  male        \n",
       "243  female  male        \n",
       "689  female  male        \n",
       "624  female  male        \n",
       "205  female  male        \n",
       "65   female  male        \n",
       "513  female  male        \n",
       "622  female  male        \n",
       "273  female  male        \n",
       "520  female  male        "
      ]
     },
     "execution_count": 33,
     "metadata": {},
     "output_type": "execute_result"
    }
   ],
   "source": [
    "# Sample False Positives for female\n",
    "twtTestDs[(twtTestDs['gender']=='female') & (twtTestDs['gender_pred']=='male')].sample(10, random_state=123)"
   ]
  },
  {
   "cell_type": "code",
   "execution_count": 34,
   "metadata": {
    "collapsed": false
   },
   "outputs": [
    {
     "data": {
      "text/html": [
       "<div>\n",
       "<table border=\"1\" class=\"dataframe\">\n",
       "  <thead>\n",
       "    <tr style=\"text-align: right;\">\n",
       "      <th></th>\n",
       "      <th>index</th>\n",
       "      <th>text</th>\n",
       "      <th>gender</th>\n",
       "      <th>gender_pred</th>\n",
       "    </tr>\n",
       "  </thead>\n",
       "  <tbody>\n",
       "    <tr>\n",
       "      <th>253</th>\n",
       "      <td>2619</td>\n",
       "      <td>Me: *moves penis*\\nGf: the force awakens</td>\n",
       "      <td>male</td>\n",
       "      <td>female</td>\n",
       "    </tr>\n",
       "    <tr>\n",
       "      <th>482</th>\n",
       "      <td>1879</td>\n",
       "      <td>@Charlotte1DTV Can you help me spread the word about my app, Scope? Find out more: https://t.co/rZgZtQ2fJT</td>\n",
       "      <td>male</td>\n",
       "      <td>female</td>\n",
       "    </tr>\n",
       "    <tr>\n",
       "      <th>431</th>\n",
       "      <td>15838</td>\n",
       "      <td>@Harry_Styles thank you for being so genuine and an incredible human. You're so selfless and humble, would you mind following me? ÛÓ 108,637</td>\n",
       "      <td>male</td>\n",
       "      <td>female</td>\n",
       "    </tr>\n",
       "    <tr>\n",
       "      <th>547</th>\n",
       "      <td>5718</td>\n",
       "      <td>crying @ the Christmas Queens tracklist https://t.co/C5gopkW9bN</td>\n",
       "      <td>male</td>\n",
       "      <td>female</td>\n",
       "    </tr>\n",
       "    <tr>\n",
       "      <th>239</th>\n",
       "      <td>14499</td>\n",
       "      <td>@CarlosMunoz034 @BellRacingUSA cool but 50% yellow, 25% blue and 25% red, unless not Colombian. Super pero 50% amarillo, 25% azul  y 25% roj</td>\n",
       "      <td>male</td>\n",
       "      <td>female</td>\n",
       "    </tr>\n",
       "    <tr>\n",
       "      <th>338</th>\n",
       "      <td>11875</td>\n",
       "      <td>and then i get on my phone and i look at tumblr</td>\n",
       "      <td>male</td>\n",
       "      <td>female</td>\n",
       "    </tr>\n",
       "    <tr>\n",
       "      <th>585</th>\n",
       "      <td>10363</td>\n",
       "      <td>Nothing Original or groundbreaking and catty</td>\n",
       "      <td>male</td>\n",
       "      <td>female</td>\n",
       "    </tr>\n",
       "    <tr>\n",
       "      <th>236</th>\n",
       "      <td>1482</td>\n",
       "      <td>sitting in McDonald's deciding if I should get food or make the healthy alternative and go home and eat a slice of toast.</td>\n",
       "      <td>male</td>\n",
       "      <td>female</td>\n",
       "    </tr>\n",
       "    <tr>\n",
       "      <th>601</th>\n",
       "      <td>1528</td>\n",
       "      <td>Thank you @RolandDickeyJR for sharing via @Forbes.  Did you have a fav part from the Interview with Jaime @eventualmillion ?</td>\n",
       "      <td>male</td>\n",
       "      <td>female</td>\n",
       "    </tr>\n",
       "    <tr>\n",
       "      <th>72</th>\n",
       "      <td>11653</td>\n",
       "      <td>@Greyman_10 those doors and walls are real douche bags...</td>\n",
       "      <td>male</td>\n",
       "      <td>female</td>\n",
       "    </tr>\n",
       "  </tbody>\n",
       "</table>\n",
       "</div>"
      ],
      "text/plain": [
       "     index  \\\n",
       "253  2619    \n",
       "482  1879    \n",
       "431  15838   \n",
       "547  5718    \n",
       "239  14499   \n",
       "338  11875   \n",
       "585  10363   \n",
       "236  1482    \n",
       "601  1528    \n",
       "72   11653   \n",
       "\n",
       "                                                                                                                                              text  \\\n",
       "253  Me: *moves penis*\\nGf: the force awakens                                                                                                        \n",
       "482  @Charlotte1DTV Can you help me spread the word about my app, Scope? Find out more: https://t.co/rZgZtQ2fJT                                      \n",
       "431  @Harry_Styles thank you for being so genuine and an incredible human. You're so selfless and humble, would you mind following me? ÛÓ 108,637   \n",
       "547  crying @ the Christmas Queens tracklist https://t.co/C5gopkW9bN                                                                                 \n",
       "239  @CarlosMunoz034 @BellRacingUSA cool but 50% yellow, 25% blue and 25% red, unless not Colombian. Super pero 50% amarillo, 25% azul  y 25% roj    \n",
       "338  and then i get on my phone and i look at tumblr                                                                                                 \n",
       "585  Nothing Original or groundbreaking and catty                                                                                                    \n",
       "236  sitting in McDonald's deciding if I should get food or make the healthy alternative and go home and eat a slice of toast.                       \n",
       "601  Thank you @RolandDickeyJR for sharing via @Forbes.  Did you have a fav part from the Interview with Jaime @eventualmillion ?                    \n",
       "72   @Greyman_10 those doors and walls are real douche bags...                                                                                       \n",
       "\n",
       "    gender gender_pred  \n",
       "253  male   female      \n",
       "482  male   female      \n",
       "431  male   female      \n",
       "547  male   female      \n",
       "239  male   female      \n",
       "338  male   female      \n",
       "585  male   female      \n",
       "236  male   female      \n",
       "601  male   female      \n",
       "72   male   female      "
      ]
     },
     "execution_count": 34,
     "metadata": {},
     "output_type": "execute_result"
    }
   ],
   "source": [
    "# Sample False Positives for male\n",
    "twtTestDs[(twtTestDs['gender']=='male') & (twtTestDs['gender_pred']=='female')].sample(10, random_state=123)"
   ]
  },
  {
   "cell_type": "code",
   "execution_count": null,
   "metadata": {
    "collapsed": true
   },
   "outputs": [],
   "source": []
  }
 ],
 "metadata": {
  "anaconda-cloud": {},
  "kernelspec": {
   "display_name": "Python [default]",
   "language": "python",
   "name": "python3"
  },
  "language_info": {
   "codemirror_mode": {
    "name": "ipython",
    "version": 3
   },
   "file_extension": ".py",
   "mimetype": "text/x-python",
   "name": "python",
   "nbconvert_exporter": "python",
   "pygments_lexer": "ipython3",
   "version": "3.5.2"
  }
 },
 "nbformat": 4,
 "nbformat_minor": 1
}
