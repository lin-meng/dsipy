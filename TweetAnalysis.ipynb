{
 "cells": [
  {
   "cell_type": "code",
   "execution_count": 1,
   "metadata": {
    "collapsed": true
   },
   "outputs": [],
   "source": [
    "# Load libraries\n",
    "%matplotlib inline\n",
    "import numpy as np\n",
    "import pandas as pd\n",
    "from __future__ import division\n",
    "import string\n",
    "import math\n",
    "import matplotlib.pyplot as plt\n",
    "import csv\n",
    "from textblob import TextBlob\n",
    "import sklearn\n",
    "import _pickle as cPickle\n",
    "from sklearn.feature_extraction.text import CountVectorizer, TfidfTransformer\n",
    "from sklearn.naive_bayes import MultinomialNB\n",
    "from sklearn.svm import SVC, LinearSVC\n",
    "from sklearn.metrics import classification_report, f1_score, accuracy_score, confusion_matrix\n",
    "from sklearn.pipeline import Pipeline\n",
    "from sklearn.grid_search import GridSearchCV\n",
    "from sklearn.cross_validation import StratifiedKFold, cross_val_score, train_test_split \n",
    "from sklearn.tree import DecisionTreeClassifier \n",
    "from sklearn.learning_curve import learning_curve\n",
    "##tokenize = lambda doc: doc.lower().split(\" \")"
   ]
  },
  {
   "cell_type": "code",
   "execution_count": 2,
   "metadata": {
    "collapsed": false
   },
   "outputs": [],
   "source": [
    "# Load dataset\n",
    "TwtDs = pd.read_csv('C:\\\\Users\\\\Meng\\\\OneDrive\\\\Documents\\\\tamu\\\\DataScience\\\\twitter-user-gender-classification\\\\gender-classifier-DFE-791531.csv',  na_values=['.'], encoding = \"ISO-8859-1\")"
   ]
  },
  {
   "cell_type": "code",
   "execution_count": 4,
   "metadata": {
    "collapsed": false
   },
   "outputs": [
    {
     "name": "stdout",
     "output_type": "stream",
     "text": [
      "(20050, 26)\n"
     ]
    }
   ],
   "source": [
    "# shape\n",
    "print(TwtDs.shape) "
   ]
  },
  {
   "cell_type": "code",
   "execution_count": 5,
   "metadata": {
    "collapsed": false
   },
   "outputs": [
    {
     "name": "stdout",
     "output_type": "stream",
     "text": [
      "    _unit_id _golden _unit_state  _trusted_judgments _last_judgment_at  \\\n",
      "0  815719226   False   finalized                   3    10/26/15 23:24   \n",
      "1  815719227   False   finalized                   3    10/26/15 23:30   \n",
      "2  815719228   False   finalized                   3    10/26/15 23:33   \n",
      "3  815719229   False   finalized                   3    10/26/15 23:10   \n",
      "4  815719230   False   finalized                   3     10/27/15 1:15   \n",
      "5  815719231   False   finalized                   3     10/27/15 1:47   \n",
      "6  815719232   False   finalized                   3     10/27/15 1:57   \n",
      "7  815719233   False   finalized                   3    10/26/15 23:48   \n",
      "8  815719234   False   finalized                   3     10/27/15 1:52   \n",
      "9  815719235   False   finalized                   3     10/27/15 1:49   \n",
      "\n",
      "   gender  gender:confidence profile_yn  profile_yn:confidence  \\\n",
      "0    male             1.0000        yes                    1.0   \n",
      "1    male             1.0000        yes                    1.0   \n",
      "2    male             0.6625        yes                    1.0   \n",
      "3    male             1.0000        yes                    1.0   \n",
      "4  female             1.0000        yes                    1.0   \n",
      "5  female             1.0000        yes                    1.0   \n",
      "6   brand             1.0000        yes                    1.0   \n",
      "7    male             1.0000        yes                    1.0   \n",
      "8  female             1.0000        yes                    1.0   \n",
      "9  female             1.0000        yes                    1.0   \n",
      "\n",
      "          created             ...              \\\n",
      "0    12/5/13 1:48             ...               \n",
      "1   10/1/12 13:51             ...               \n",
      "2  11/28/14 11:30             ...               \n",
      "3   6/11/09 22:39             ...               \n",
      "4   4/16/14 13:23             ...               \n",
      "5   3/11/10 18:14             ...               \n",
      "6   4/24/08 13:03             ...               \n",
      "7   12/3/12 21:54             ...               \n",
      "8     9/8/15 4:50             ...               \n",
      "9    5/13/11 3:32             ...               \n",
      "\n",
      "                                        profileimage  retweet_count  \\\n",
      "0  https://pbs.twimg.com/profile_images/414342229...              0   \n",
      "1  https://pbs.twimg.com/profile_images/539604221...              0   \n",
      "2  https://pbs.twimg.com/profile_images/657330418...              1   \n",
      "3  https://pbs.twimg.com/profile_images/259703936...              0   \n",
      "4  https://pbs.twimg.com/profile_images/564094871...              0   \n",
      "5  https://pbs.twimg.com/profile_images/656336865...              0   \n",
      "6  https://pbs.twimg.com/profile_images/528547133...              0   \n",
      "7  https://pbs.twimg.com/profile_images/508875440...              0   \n",
      "8  https://pbs.twimg.com/profile_images/658670112...              0   \n",
      "9  https://pbs.twimg.com/profile_images/513327289...              0   \n",
      "\n",
      "  sidebar_color                                               text  \\\n",
      "0        FFFFFF  Robbie E Responds To Critics After Win Against...   \n",
      "1        C0DEED  ÛÏIt felt like they were my friends and I was...   \n",
      "2        C0DEED  i absolutely adore when louis starts the songs...   \n",
      "3        C0DEED  Hi @JordanSpieth - Looking at the url - do you...   \n",
      "4             0  Watching Neighbours on Sky+ catching up with t...   \n",
      "5             0  Ive seen people on the train with lamps, chair...   \n",
      "6             0  @BpackEngineer Thank you for your patience whi...   \n",
      "7        C0DEED  Gala Bingo clubs bought for å£241m: The UK's l...   \n",
      "8             0  @_Aphmau_ the pic defines all mcd fangirls/fan...   \n",
      "9        FFFFFF  @Evielady just how lovely is the tree this yea...   \n",
      "\n",
      "  tweet_coord tweet_count   tweet_created      tweet_id        tweet_location  \\\n",
      "0         NaN      110964  10/26/15 12:40  6.587300e+17       main; @Kan1shk3   \n",
      "1         NaN        7471  10/26/15 12:40  6.587300e+17                   NaN   \n",
      "2         NaN        5617  10/26/15 12:40  6.587300e+17                clcncl   \n",
      "3         NaN        1693  10/26/15 12:40  6.587300e+17         Palo Alto, CA   \n",
      "4         NaN       31462  10/26/15 12:40  6.587300e+17                   NaN   \n",
      "5         NaN       20036  10/26/15 12:40  6.587300e+17       New York Gritty   \n",
      "6         NaN       13354  10/26/15 12:40  6.587300e+17             Worldwide   \n",
      "7         NaN      112117  10/26/15 12:40  6.587300e+17                   NaN   \n",
      "8         NaN         482  10/26/15 12:40  6.587300e+17                   NaN   \n",
      "9         NaN       26085  10/26/15 12:40  6.587300e+17  Nottingham, England.   \n",
      "\n",
      "                user_timezone  \n",
      "0                     Chennai  \n",
      "1  Eastern Time (US & Canada)  \n",
      "2                    Belgrade  \n",
      "3  Pacific Time (US & Canada)  \n",
      "4                         NaN  \n",
      "5  Central Time (US & Canada)  \n",
      "6  Eastern Time (US & Canada)  \n",
      "7                         NaN  \n",
      "8                         NaN  \n",
      "9                   Amsterdam  \n",
      "\n",
      "[10 rows x 26 columns]\n"
     ]
    }
   ],
   "source": [
    "# head\n",
    "print(TwtDs.head(10))"
   ]
  },
  {
   "cell_type": "code",
   "execution_count": 6,
   "metadata": {
    "collapsed": false
   },
   "outputs": [],
   "source": [
    "# Add a text length column to the dataset\n",
    "TwtDs['txtlength'] = TwtDs['text'].map(lambda text: len(text))"
   ]
  },
  {
   "cell_type": "code",
   "execution_count": 7,
   "metadata": {
    "collapsed": false
   },
   "outputs": [
    {
     "name": "stdout",
     "output_type": "stream",
     "text": [
      "<class 'pandas.core.frame.DataFrame'>\n",
      "RangeIndex: 20050 entries, 0 to 20049\n",
      "Data columns (total 27 columns):\n",
      "_unit_id                 20050 non-null int64\n",
      "_golden                  20050 non-null bool\n",
      "_unit_state              20050 non-null object\n",
      "_trusted_judgments       20050 non-null int64\n",
      "_last_judgment_at        20000 non-null object\n",
      "gender                   19953 non-null object\n",
      "gender:confidence        20024 non-null float64\n",
      "profile_yn               20050 non-null object\n",
      "profile_yn:confidence    20050 non-null float64\n",
      "created                  20050 non-null object\n",
      "description              16306 non-null object\n",
      "fav_number               20050 non-null int64\n",
      "gender_gold              50 non-null object\n",
      "link_color               20050 non-null object\n",
      "name                     20050 non-null object\n",
      "profile_yn_gold          50 non-null object\n",
      "profileimage             20050 non-null object\n",
      "retweet_count            20050 non-null int64\n",
      "sidebar_color            20050 non-null object\n",
      "text                     20050 non-null object\n",
      "tweet_coord              159 non-null object\n",
      "tweet_count              20050 non-null int64\n",
      "tweet_created            20050 non-null object\n",
      "tweet_id                 20050 non-null float64\n",
      "tweet_location           12564 non-null object\n",
      "user_timezone            12252 non-null object\n",
      "txtlength                20050 non-null int64\n",
      "dtypes: bool(1), float64(3), int64(6), object(17)\n",
      "memory usage: 4.0+ MB\n"
     ]
    }
   ],
   "source": [
    "# Dataset Info\n",
    "TwtDs.info()"
   ]
  },
  {
   "cell_type": "code",
   "execution_count": 8,
   "metadata": {
    "collapsed": false
   },
   "outputs": [
    {
     "data": {
      "text/html": [
       "<div>\n",
       "<table border=\"1\" class=\"dataframe\">\n",
       "  <thead>\n",
       "    <tr style=\"text-align: right;\">\n",
       "      <th></th>\n",
       "      <th></th>\n",
       "      <th>_trusted_judgments</th>\n",
       "      <th>_unit_id</th>\n",
       "      <th>fav_number</th>\n",
       "      <th>gender:confidence</th>\n",
       "      <th>profile_yn:confidence</th>\n",
       "      <th>retweet_count</th>\n",
       "      <th>tweet_count</th>\n",
       "      <th>tweet_id</th>\n",
       "      <th>txtlength</th>\n",
       "    </tr>\n",
       "    <tr>\n",
       "      <th>gender</th>\n",
       "      <th></th>\n",
       "      <th></th>\n",
       "      <th></th>\n",
       "      <th></th>\n",
       "      <th></th>\n",
       "      <th></th>\n",
       "      <th></th>\n",
       "      <th></th>\n",
       "      <th></th>\n",
       "      <th></th>\n",
       "    </tr>\n",
       "  </thead>\n",
       "  <tbody>\n",
       "    <tr>\n",
       "      <th rowspan=\"8\" valign=\"top\">brand</th>\n",
       "      <th>count</th>\n",
       "      <td>5942.000000</td>\n",
       "      <td>5.942000e+03</td>\n",
       "      <td>5942.000000</td>\n",
       "      <td>5942.000000</td>\n",
       "      <td>5942.000000</td>\n",
       "      <td>5942.000000</td>\n",
       "      <td>5.942000e+03</td>\n",
       "      <td>5.942000e+03</td>\n",
       "      <td>5942.000000</td>\n",
       "    </tr>\n",
       "    <tr>\n",
       "      <th>mean</th>\n",
       "      <td>3.578930</td>\n",
       "      <td>8.157288e+08</td>\n",
       "      <td>2109.262033</td>\n",
       "      <td>0.868107</td>\n",
       "      <td>0.994151</td>\n",
       "      <td>0.116123</td>\n",
       "      <td>6.014667e+04</td>\n",
       "      <td>6.587341e+17</td>\n",
       "      <td>100.782060</td>\n",
       "    </tr>\n",
       "    <tr>\n",
       "      <th>std</th>\n",
       "      <td>11.939691</td>\n",
       "      <td>5.544367e+03</td>\n",
       "      <td>10566.434142</td>\n",
       "      <td>0.184168</td>\n",
       "      <td>0.043814</td>\n",
       "      <td>4.315528</td>\n",
       "      <td>1.830156e+05</td>\n",
       "      <td>4.923831e+12</td>\n",
       "      <td>33.697089</td>\n",
       "    </tr>\n",
       "    <tr>\n",
       "      <th>min</th>\n",
       "      <td>3.000000</td>\n",
       "      <td>8.157192e+08</td>\n",
       "      <td>0.000000</td>\n",
       "      <td>0.314000</td>\n",
       "      <td>0.627200</td>\n",
       "      <td>0.000000</td>\n",
       "      <td>1.000000e+00</td>\n",
       "      <td>6.587300e+17</td>\n",
       "      <td>8.000000</td>\n",
       "    </tr>\n",
       "    <tr>\n",
       "      <th>25%</th>\n",
       "      <td>3.000000</td>\n",
       "      <td>8.157247e+08</td>\n",
       "      <td>0.000000</td>\n",
       "      <td>0.673500</td>\n",
       "      <td>1.000000</td>\n",
       "      <td>0.000000</td>\n",
       "      <td>2.868500e+03</td>\n",
       "      <td>6.587300e+17</td>\n",
       "      <td>64.000000</td>\n",
       "    </tr>\n",
       "    <tr>\n",
       "      <th>50%</th>\n",
       "      <td>3.000000</td>\n",
       "      <td>8.157280e+08</td>\n",
       "      <td>8.000000</td>\n",
       "      <td>1.000000</td>\n",
       "      <td>1.000000</td>\n",
       "      <td>0.000000</td>\n",
       "      <td>2.252200e+04</td>\n",
       "      <td>6.587300e+17</td>\n",
       "      <td>109.000000</td>\n",
       "    </tr>\n",
       "    <tr>\n",
       "      <th>75%</th>\n",
       "      <td>3.000000</td>\n",
       "      <td>8.157329e+08</td>\n",
       "      <td>367.750000</td>\n",
       "      <td>1.000000</td>\n",
       "      <td>1.000000</td>\n",
       "      <td>0.000000</td>\n",
       "      <td>5.879850e+04</td>\n",
       "      <td>6.587400e+17</td>\n",
       "      <td>134.000000</td>\n",
       "    </tr>\n",
       "    <tr>\n",
       "      <th>max</th>\n",
       "      <td>273.000000</td>\n",
       "      <td>8.157566e+08</td>\n",
       "      <td>248255.000000</td>\n",
       "      <td>1.000000</td>\n",
       "      <td>1.000000</td>\n",
       "      <td>330.000000</td>\n",
       "      <td>2.372591e+06</td>\n",
       "      <td>6.587400e+17</td>\n",
       "      <td>163.000000</td>\n",
       "    </tr>\n",
       "    <tr>\n",
       "      <th rowspan=\"8\" valign=\"top\">female</th>\n",
       "      <th>count</th>\n",
       "      <td>6700.000000</td>\n",
       "      <td>6.700000e+03</td>\n",
       "      <td>6700.000000</td>\n",
       "      <td>6700.000000</td>\n",
       "      <td>6700.000000</td>\n",
       "      <td>6700.000000</td>\n",
       "      <td>6.700000e+03</td>\n",
       "      <td>6.700000e+03</td>\n",
       "      <td>6700.000000</td>\n",
       "    </tr>\n",
       "    <tr>\n",
       "      <th>mean</th>\n",
       "      <td>3.552687</td>\n",
       "      <td>8.157301e+08</td>\n",
       "      <td>6008.320149</td>\n",
       "      <td>0.926360</td>\n",
       "      <td>0.994947</td>\n",
       "      <td>0.046716</td>\n",
       "      <td>2.728680e+04</td>\n",
       "      <td>6.587358e+17</td>\n",
       "      <td>95.002090</td>\n",
       "    </tr>\n",
       "    <tr>\n",
       "      <th>std</th>\n",
       "      <td>11.689037</td>\n",
       "      <td>6.153329e+03</td>\n",
       "      <td>13679.838005</td>\n",
       "      <td>0.155159</td>\n",
       "      <td>0.040888</td>\n",
       "      <td>0.730049</td>\n",
       "      <td>5.630797e+04</td>\n",
       "      <td>4.940233e+12</td>\n",
       "      <td>33.879774</td>\n",
       "    </tr>\n",
       "    <tr>\n",
       "      <th>min</th>\n",
       "      <td>3.000000</td>\n",
       "      <td>8.157192e+08</td>\n",
       "      <td>0.000000</td>\n",
       "      <td>0.322300</td>\n",
       "      <td>0.631000</td>\n",
       "      <td>0.000000</td>\n",
       "      <td>1.000000e+00</td>\n",
       "      <td>6.587300e+17</td>\n",
       "      <td>6.000000</td>\n",
       "    </tr>\n",
       "    <tr>\n",
       "      <th>25%</th>\n",
       "      <td>3.000000</td>\n",
       "      <td>8.157245e+08</td>\n",
       "      <td>200.750000</td>\n",
       "      <td>1.000000</td>\n",
       "      <td>1.000000</td>\n",
       "      <td>0.000000</td>\n",
       "      <td>2.408000e+03</td>\n",
       "      <td>6.587300e+17</td>\n",
       "      <td>68.000000</td>\n",
       "    </tr>\n",
       "    <tr>\n",
       "      <th>50%</th>\n",
       "      <td>3.000000</td>\n",
       "      <td>8.157308e+08</td>\n",
       "      <td>1509.000000</td>\n",
       "      <td>1.000000</td>\n",
       "      <td>1.000000</td>\n",
       "      <td>0.000000</td>\n",
       "      <td>9.459000e+03</td>\n",
       "      <td>6.587400e+17</td>\n",
       "      <td>97.000000</td>\n",
       "    </tr>\n",
       "    <tr>\n",
       "      <th>75%</th>\n",
       "      <td>3.000000</td>\n",
       "      <td>8.157353e+08</td>\n",
       "      <td>5902.000000</td>\n",
       "      <td>1.000000</td>\n",
       "      <td>1.000000</td>\n",
       "      <td>0.000000</td>\n",
       "      <td>2.957725e+04</td>\n",
       "      <td>6.587400e+17</td>\n",
       "      <td>126.000000</td>\n",
       "    </tr>\n",
       "    <tr>\n",
       "      <th>max</th>\n",
       "      <td>274.000000</td>\n",
       "      <td>8.157580e+08</td>\n",
       "      <td>341621.000000</td>\n",
       "      <td>1.000000</td>\n",
       "      <td>1.000000</td>\n",
       "      <td>49.000000</td>\n",
       "      <td>1.125963e+06</td>\n",
       "      <td>6.587400e+17</td>\n",
       "      <td>425.000000</td>\n",
       "    </tr>\n",
       "    <tr>\n",
       "      <th rowspan=\"8\" valign=\"top\">male</th>\n",
       "      <th>count</th>\n",
       "      <td>6194.000000</td>\n",
       "      <td>6.194000e+03</td>\n",
       "      <td>6194.000000</td>\n",
       "      <td>6194.000000</td>\n",
       "      <td>6194.000000</td>\n",
       "      <td>6194.000000</td>\n",
       "      <td>6.194000e+03</td>\n",
       "      <td>6.194000e+03</td>\n",
       "      <td>6194.000000</td>\n",
       "    </tr>\n",
       "    <tr>\n",
       "      <th>mean</th>\n",
       "      <td>3.839845</td>\n",
       "      <td>8.157294e+08</td>\n",
       "      <td>4898.770100</td>\n",
       "      <td>0.905113</td>\n",
       "      <td>0.994725</td>\n",
       "      <td>0.088957</td>\n",
       "      <td>3.179642e+04</td>\n",
       "      <td>6.587351e+17</td>\n",
       "      <td>98.885211</td>\n",
       "    </tr>\n",
       "    <tr>\n",
       "      <th>std</th>\n",
       "      <td>14.409756</td>\n",
       "      <td>6.207570e+03</td>\n",
       "      <td>12458.063198</td>\n",
       "      <td>0.175139</td>\n",
       "      <td>0.041813</td>\n",
       "      <td>2.064047</td>\n",
       "      <td>8.349996e+04</td>\n",
       "      <td>4.999527e+12</td>\n",
       "      <td>33.680376</td>\n",
       "    </tr>\n",
       "    <tr>\n",
       "      <th>min</th>\n",
       "      <td>3.000000</td>\n",
       "      <td>8.157192e+08</td>\n",
       "      <td>0.000000</td>\n",
       "      <td>0.320600</td>\n",
       "      <td>0.630800</td>\n",
       "      <td>0.000000</td>\n",
       "      <td>1.000000e+00</td>\n",
       "      <td>6.587300e+17</td>\n",
       "      <td>12.000000</td>\n",
       "    </tr>\n",
       "    <tr>\n",
       "      <th>25%</th>\n",
       "      <td>3.000000</td>\n",
       "      <td>8.157236e+08</td>\n",
       "      <td>95.000000</td>\n",
       "      <td>1.000000</td>\n",
       "      <td>1.000000</td>\n",
       "      <td>0.000000</td>\n",
       "      <td>2.132500e+03</td>\n",
       "      <td>6.587300e+17</td>\n",
       "      <td>72.000000</td>\n",
       "    </tr>\n",
       "    <tr>\n",
       "      <th>50%</th>\n",
       "      <td>3.000000</td>\n",
       "      <td>8.157296e+08</td>\n",
       "      <td>831.500000</td>\n",
       "      <td>1.000000</td>\n",
       "      <td>1.000000</td>\n",
       "      <td>0.000000</td>\n",
       "      <td>9.128500e+03</td>\n",
       "      <td>6.587400e+17</td>\n",
       "      <td>104.000000</td>\n",
       "    </tr>\n",
       "    <tr>\n",
       "      <th>75%</th>\n",
       "      <td>3.000000</td>\n",
       "      <td>8.157347e+08</td>\n",
       "      <td>4071.500000</td>\n",
       "      <td>1.000000</td>\n",
       "      <td>1.000000</td>\n",
       "      <td>0.000000</td>\n",
       "      <td>3.080425e+04</td>\n",
       "      <td>6.587400e+17</td>\n",
       "      <td>131.000000</td>\n",
       "    </tr>\n",
       "    <tr>\n",
       "      <th>max</th>\n",
       "      <td>264.000000</td>\n",
       "      <td>8.157578e+08</td>\n",
       "      <td>259583.000000</td>\n",
       "      <td>1.000000</td>\n",
       "      <td>1.000000</td>\n",
       "      <td>153.000000</td>\n",
       "      <td>2.680199e+06</td>\n",
       "      <td>6.587400e+17</td>\n",
       "      <td>257.000000</td>\n",
       "    </tr>\n",
       "    <tr>\n",
       "      <th rowspan=\"8\" valign=\"top\">unknown</th>\n",
       "      <th>count</th>\n",
       "      <td>1117.000000</td>\n",
       "      <td>1.117000e+03</td>\n",
       "      <td>1117.000000</td>\n",
       "      <td>1117.000000</td>\n",
       "      <td>1117.000000</td>\n",
       "      <td>1117.000000</td>\n",
       "      <td>1.117000e+03</td>\n",
       "      <td>1.117000e+03</td>\n",
       "      <td>1117.000000</td>\n",
       "    </tr>\n",
       "    <tr>\n",
       "      <th>mean</th>\n",
       "      <td>3.000000</td>\n",
       "      <td>8.157293e+08</td>\n",
       "      <td>3708.038496</td>\n",
       "      <td>0.631267</td>\n",
       "      <td>0.990170</td>\n",
       "      <td>0.023277</td>\n",
       "      <td>3.536122e+04</td>\n",
       "      <td>6.587345e+17</td>\n",
       "      <td>91.173679</td>\n",
       "    </tr>\n",
       "    <tr>\n",
       "      <th>std</th>\n",
       "      <td>0.000000</td>\n",
       "      <td>5.818659e+03</td>\n",
       "      <td>10442.593095</td>\n",
       "      <td>0.183848</td>\n",
       "      <td>0.056413</td>\n",
       "      <td>0.162294</td>\n",
       "      <td>6.965428e+04</td>\n",
       "      <td>4.979236e+12</td>\n",
       "      <td>34.644590</td>\n",
       "    </tr>\n",
       "    <tr>\n",
       "      <th>min</th>\n",
       "      <td>3.000000</td>\n",
       "      <td>8.157192e+08</td>\n",
       "      <td>0.000000</td>\n",
       "      <td>0.327500</td>\n",
       "      <td>0.643000</td>\n",
       "      <td>0.000000</td>\n",
       "      <td>1.000000e+00</td>\n",
       "      <td>6.587300e+17</td>\n",
       "      <td>13.000000</td>\n",
       "    </tr>\n",
       "    <tr>\n",
       "      <th>25%</th>\n",
       "      <td>3.000000</td>\n",
       "      <td>8.157247e+08</td>\n",
       "      <td>0.000000</td>\n",
       "      <td>0.644400</td>\n",
       "      <td>1.000000</td>\n",
       "      <td>0.000000</td>\n",
       "      <td>2.370000e+03</td>\n",
       "      <td>6.587300e+17</td>\n",
       "      <td>54.000000</td>\n",
       "    </tr>\n",
       "    <tr>\n",
       "      <th>50%</th>\n",
       "      <td>3.000000</td>\n",
       "      <td>8.157287e+08</td>\n",
       "      <td>118.000000</td>\n",
       "      <td>0.662800</td>\n",
       "      <td>1.000000</td>\n",
       "      <td>0.000000</td>\n",
       "      <td>1.437800e+04</td>\n",
       "      <td>6.587300e+17</td>\n",
       "      <td>92.000000</td>\n",
       "    </tr>\n",
       "    <tr>\n",
       "      <th>75%</th>\n",
       "      <td>3.000000</td>\n",
       "      <td>8.157344e+08</td>\n",
       "      <td>2175.000000</td>\n",
       "      <td>0.675500</td>\n",
       "      <td>1.000000</td>\n",
       "      <td>0.000000</td>\n",
       "      <td>4.370600e+04</td>\n",
       "      <td>6.587400e+17</td>\n",
       "      <td>125.000000</td>\n",
       "    </tr>\n",
       "    <tr>\n",
       "      <th>max</th>\n",
       "      <td>3.000000</td>\n",
       "      <td>8.157396e+08</td>\n",
       "      <td>131431.000000</td>\n",
       "      <td>1.000000</td>\n",
       "      <td>1.000000</td>\n",
       "      <td>2.000000</td>\n",
       "      <td>8.842790e+05</td>\n",
       "      <td>6.587400e+17</td>\n",
       "      <td>169.000000</td>\n",
       "    </tr>\n",
       "  </tbody>\n",
       "</table>\n",
       "</div>"
      ],
      "text/plain": [
       "               _trusted_judgments      _unit_id     fav_number  \\\n",
       "gender                                                           \n",
       "brand   count         5942.000000  5.942000e+03    5942.000000   \n",
       "        mean             3.578930  8.157288e+08    2109.262033   \n",
       "        std             11.939691  5.544367e+03   10566.434142   \n",
       "        min              3.000000  8.157192e+08       0.000000   \n",
       "        25%              3.000000  8.157247e+08       0.000000   \n",
       "        50%              3.000000  8.157280e+08       8.000000   \n",
       "        75%              3.000000  8.157329e+08     367.750000   \n",
       "        max            273.000000  8.157566e+08  248255.000000   \n",
       "female  count         6700.000000  6.700000e+03    6700.000000   \n",
       "        mean             3.552687  8.157301e+08    6008.320149   \n",
       "        std             11.689037  6.153329e+03   13679.838005   \n",
       "        min              3.000000  8.157192e+08       0.000000   \n",
       "        25%              3.000000  8.157245e+08     200.750000   \n",
       "        50%              3.000000  8.157308e+08    1509.000000   \n",
       "        75%              3.000000  8.157353e+08    5902.000000   \n",
       "        max            274.000000  8.157580e+08  341621.000000   \n",
       "male    count         6194.000000  6.194000e+03    6194.000000   \n",
       "        mean             3.839845  8.157294e+08    4898.770100   \n",
       "        std             14.409756  6.207570e+03   12458.063198   \n",
       "        min              3.000000  8.157192e+08       0.000000   \n",
       "        25%              3.000000  8.157236e+08      95.000000   \n",
       "        50%              3.000000  8.157296e+08     831.500000   \n",
       "        75%              3.000000  8.157347e+08    4071.500000   \n",
       "        max            264.000000  8.157578e+08  259583.000000   \n",
       "unknown count         1117.000000  1.117000e+03    1117.000000   \n",
       "        mean             3.000000  8.157293e+08    3708.038496   \n",
       "        std              0.000000  5.818659e+03   10442.593095   \n",
       "        min              3.000000  8.157192e+08       0.000000   \n",
       "        25%              3.000000  8.157247e+08       0.000000   \n",
       "        50%              3.000000  8.157287e+08     118.000000   \n",
       "        75%              3.000000  8.157344e+08    2175.000000   \n",
       "        max              3.000000  8.157396e+08  131431.000000   \n",
       "\n",
       "               gender:confidence  profile_yn:confidence  retweet_count  \\\n",
       "gender                                                                   \n",
       "brand   count        5942.000000            5942.000000    5942.000000   \n",
       "        mean            0.868107               0.994151       0.116123   \n",
       "        std             0.184168               0.043814       4.315528   \n",
       "        min             0.314000               0.627200       0.000000   \n",
       "        25%             0.673500               1.000000       0.000000   \n",
       "        50%             1.000000               1.000000       0.000000   \n",
       "        75%             1.000000               1.000000       0.000000   \n",
       "        max             1.000000               1.000000     330.000000   \n",
       "female  count        6700.000000            6700.000000    6700.000000   \n",
       "        mean            0.926360               0.994947       0.046716   \n",
       "        std             0.155159               0.040888       0.730049   \n",
       "        min             0.322300               0.631000       0.000000   \n",
       "        25%             1.000000               1.000000       0.000000   \n",
       "        50%             1.000000               1.000000       0.000000   \n",
       "        75%             1.000000               1.000000       0.000000   \n",
       "        max             1.000000               1.000000      49.000000   \n",
       "male    count        6194.000000            6194.000000    6194.000000   \n",
       "        mean            0.905113               0.994725       0.088957   \n",
       "        std             0.175139               0.041813       2.064047   \n",
       "        min             0.320600               0.630800       0.000000   \n",
       "        25%             1.000000               1.000000       0.000000   \n",
       "        50%             1.000000               1.000000       0.000000   \n",
       "        75%             1.000000               1.000000       0.000000   \n",
       "        max             1.000000               1.000000     153.000000   \n",
       "unknown count        1117.000000            1117.000000    1117.000000   \n",
       "        mean            0.631267               0.990170       0.023277   \n",
       "        std             0.183848               0.056413       0.162294   \n",
       "        min             0.327500               0.643000       0.000000   \n",
       "        25%             0.644400               1.000000       0.000000   \n",
       "        50%             0.662800               1.000000       0.000000   \n",
       "        75%             0.675500               1.000000       0.000000   \n",
       "        max             1.000000               1.000000       2.000000   \n",
       "\n",
       "                tweet_count      tweet_id    txtlength  \n",
       "gender                                                  \n",
       "brand   count  5.942000e+03  5.942000e+03  5942.000000  \n",
       "        mean   6.014667e+04  6.587341e+17   100.782060  \n",
       "        std    1.830156e+05  4.923831e+12    33.697089  \n",
       "        min    1.000000e+00  6.587300e+17     8.000000  \n",
       "        25%    2.868500e+03  6.587300e+17    64.000000  \n",
       "        50%    2.252200e+04  6.587300e+17   109.000000  \n",
       "        75%    5.879850e+04  6.587400e+17   134.000000  \n",
       "        max    2.372591e+06  6.587400e+17   163.000000  \n",
       "female  count  6.700000e+03  6.700000e+03  6700.000000  \n",
       "        mean   2.728680e+04  6.587358e+17    95.002090  \n",
       "        std    5.630797e+04  4.940233e+12    33.879774  \n",
       "        min    1.000000e+00  6.587300e+17     6.000000  \n",
       "        25%    2.408000e+03  6.587300e+17    68.000000  \n",
       "        50%    9.459000e+03  6.587400e+17    97.000000  \n",
       "        75%    2.957725e+04  6.587400e+17   126.000000  \n",
       "        max    1.125963e+06  6.587400e+17   425.000000  \n",
       "male    count  6.194000e+03  6.194000e+03  6194.000000  \n",
       "        mean   3.179642e+04  6.587351e+17    98.885211  \n",
       "        std    8.349996e+04  4.999527e+12    33.680376  \n",
       "        min    1.000000e+00  6.587300e+17    12.000000  \n",
       "        25%    2.132500e+03  6.587300e+17    72.000000  \n",
       "        50%    9.128500e+03  6.587400e+17   104.000000  \n",
       "        75%    3.080425e+04  6.587400e+17   131.000000  \n",
       "        max    2.680199e+06  6.587400e+17   257.000000  \n",
       "unknown count  1.117000e+03  1.117000e+03  1117.000000  \n",
       "        mean   3.536122e+04  6.587345e+17    91.173679  \n",
       "        std    6.965428e+04  4.979236e+12    34.644590  \n",
       "        min    1.000000e+00  6.587300e+17    13.000000  \n",
       "        25%    2.370000e+03  6.587300e+17    54.000000  \n",
       "        50%    1.437800e+04  6.587300e+17    92.000000  \n",
       "        75%    4.370600e+04  6.587400e+17   125.000000  \n",
       "        max    8.842790e+05  6.587400e+17   169.000000  "
      ]
     },
     "execution_count": 8,
     "metadata": {},
     "output_type": "execute_result"
    }
   ],
   "source": [
    "TwtDs.groupby('gender').describe()"
   ]
  },
  {
   "cell_type": "code",
   "execution_count": 9,
   "metadata": {
    "collapsed": false
   },
   "outputs": [
    {
     "data": {
      "text/plain": [
       "<matplotlib.axes._subplots.AxesSubplot at 0x159cb0370b8>"
      ]
     },
     "execution_count": 9,
     "metadata": {},
     "output_type": "execute_result"
    },
    {
     "data": {
      "image/png": "[encoded data removed]",
      "text/plain": [
       "<matplotlib.figure.Figure at 0x159ca844c88>"
      ]
     },
     "metadata": {},
     "output_type": "display_data"
    }
   ],
   "source": [
    "# Plot historgram of tweet length\n",
    "TwtDs.txtlength.plot(bins=20, kind='hist')"
   ]
  },
  {
   "cell_type": "code",
   "execution_count": 10,
   "metadata": {
    "collapsed": false
   },
   "outputs": [
    {
     "data": {
      "text/plain": [
       "count    20050.000000\n",
       "mean        97.661796\n",
       "std         33.931645\n",
       "min          6.000000\n",
       "25%         68.000000\n",
       "50%        102.000000\n",
       "75%        130.000000\n",
       "max        425.000000\n",
       "Name: txtlength, dtype: float64"
      ]
     },
     "execution_count": 10,
     "metadata": {},
     "output_type": "execute_result"
    }
   ],
   "source": [
    "TwtDs.txtlength.describe()"
   ]
  },
  {
   "cell_type": "code",
   "execution_count": 11,
   "metadata": {
    "collapsed": false
   },
   "outputs": [
    {
     "name": "stdout",
     "output_type": "stream",
     "text": [
      "['When You A Trap Wife and Everybody wants you _Ù÷__Ù÷__Ù÷__Ù÷__Ù÷__Ù÷__Ù÷__Ù÷__Ù÷__Ù÷__Ù÷__Ù÷__Ù÷__Ù÷__Ù÷__Ù÷__Ù÷__Ù÷__Ù÷__Ù÷__Ù÷__Ù÷__Ù÷__Ù÷__Ù÷__Ù÷__Ù÷__Ù÷__Ù÷__Ù÷__Ù÷__Ù÷__Ù÷__Ù÷__Ù÷__Ù÷__Ù÷__Ù÷__Ù÷__Ù÷__Ù÷__Ù÷__Ù÷__Ù÷__Ù÷__Ù÷__Ù÷__Ù÷__Ù÷__Ù÷__Ù÷__Ù÷__Ù÷__Ù÷__Ù÷__Ù÷__Ù÷__Ù÷__Ù÷__Ù÷__Ù÷__Ù÷__Ù÷__Ù÷__Ù÷__Ù÷__Ù÷__Ù÷__Ù÷__Ù÷__Ù÷__Ù÷__Ù÷__Ù÷__Ù÷__Ù÷__Ù÷__Ù÷__Ù÷__Ù÷__Ù÷__Ù÷__Ù÷__Ù÷__Ù÷__Ù÷__Ù÷__Ù÷__Ù÷__Ù÷__Ù÷__Ù÷__Ù÷__Ù÷__Ù÷_']\n"
     ]
    }
   ],
   "source": [
    "# check the longest tweet in the dataset\n",
    "print (list(TwtDs.text[TwtDs.txtlength > 400]))"
   ]
  },
  {
   "cell_type": "code",
   "execution_count": 12,
   "metadata": {
    "collapsed": false
   },
   "outputs": [
    {
     "name": "stdout",
     "output_type": "stream",
     "text": [
      "['#NAME?', 'The end.', 'And fever']\n"
     ]
    }
   ],
   "source": [
    "# check the shortest tweet in the dataset\n",
    "print (list(TwtDs.text[TwtDs.txtlength < 10]))"
   ]
  },
  {
   "cell_type": "code",
   "execution_count": 13,
   "metadata": {
    "collapsed": false
   },
   "outputs": [
    {
     "data": {
      "text/plain": [
       "array([[<matplotlib.axes._subplots.AxesSubplot object at 0x00000159CAEA65C0>,\n",
       "        <matplotlib.axes._subplots.AxesSubplot object at 0x00000159CAD8FF98>],\n",
       "       [<matplotlib.axes._subplots.AxesSubplot object at 0x00000159CAE212E8>,\n",
       "        <matplotlib.axes._subplots.AxesSubplot object at 0x00000159CAE57D68>]], dtype=object)"
      ]
     },
     "execution_count": 13,
     "metadata": {},
     "output_type": "execute_result"
    },
    {
     "data": {
      "image/png": "[encoded data removed]",
      "text/plain": [
       "<matplotlib.figure.Figure at 0x159cab65710>"
      ]
     },
     "metadata": {},
     "output_type": "display_data"
    }
   ],
   "source": [
    "# check the tweet length by gender\n",
    "TwtDs.hist(column='txtlength', by='gender', bins=50)"
   ]
  },
  {
   "cell_type": "code",
   "execution_count": 14,
   "metadata": {
    "collapsed": false
   },
   "outputs": [
    {
     "name": "stdout",
     "output_type": "stream",
     "text": [
      "gender\n",
      "brand      5942\n",
      "female     6700\n",
      "male       6194\n",
      "unknown    1117\n",
      "dtype: int64\n"
     ]
    }
   ],
   "source": [
    "# gender distribution\n",
    "print(TwtDs.groupby('gender').size())"
   ]
  },
  {
   "cell_type": "code",
   "execution_count": 15,
   "metadata": {
    "collapsed": true
   },
   "outputs": [],
   "source": [
    "def split_into_tokens(text):\n",
    "     #message = unicode(message, 'utf8')  # convert bytes into proper unicode\n",
    "    return TextBlob(text).words"
   ]
  },
  {
   "cell_type": "code",
   "execution_count": 16,
   "metadata": {
    "collapsed": false
   },
   "outputs": [],
   "source": [
    "def split_into_lemmas(text):\n",
    "    text = text.lower()\n",
    "    words = TextBlob(text).words\n",
    "    # for each word, take its \"base form\" = lemma \n",
    "    return [word.lemma for word in words]"
   ]
  },
  {
   "cell_type": "code",
   "execution_count": 17,
   "metadata": {
    "collapsed": true
   },
   "outputs": [],
   "source": [
    "# get a larger portion of the dataset to do the validation\n",
    "TwtTop1000 = TwtDs.head(1000)"
   ]
  },
  {
   "cell_type": "code",
   "execution_count": 18,
   "metadata": {
    "collapsed": false
   },
   "outputs": [
    {
     "name": "stdout",
     "output_type": "stream",
     "text": [
      "<class 'pandas.core.frame.DataFrame'>\n",
      "RangeIndex: 1000 entries, 0 to 999\n",
      "Data columns (total 27 columns):\n",
      "_unit_id                 1000 non-null int64\n",
      "_golden                  1000 non-null bool\n",
      "_unit_state              1000 non-null object\n",
      "_trusted_judgments       1000 non-null int64\n",
      "_last_judgment_at        1000 non-null object\n",
      "gender                   994 non-null object\n",
      "gender:confidence        999 non-null float64\n",
      "profile_yn               1000 non-null object\n",
      "profile_yn:confidence    1000 non-null float64\n",
      "created                  1000 non-null object\n",
      "description              879 non-null object\n",
      "fav_number               1000 non-null int64\n",
      "gender_gold              0 non-null object\n",
      "link_color               1000 non-null object\n",
      "name                     1000 non-null object\n",
      "profile_yn_gold          0 non-null object\n",
      "profileimage             1000 non-null object\n",
      "retweet_count            1000 non-null int64\n",
      "sidebar_color            1000 non-null object\n",
      "text                     1000 non-null object\n",
      "tweet_coord              10 non-null object\n",
      "tweet_count              1000 non-null int64\n",
      "tweet_created            1000 non-null object\n",
      "tweet_id                 1000 non-null float64\n",
      "tweet_location           670 non-null object\n",
      "user_timezone            665 non-null object\n",
      "txtlength                1000 non-null int64\n",
      "dtypes: bool(1), float64(3), int64(6), object(17)\n",
      "memory usage: 204.2+ KB\n"
     ]
    }
   ],
   "source": [
    "# check for null values\n",
    "TwtTop1000.info()"
   ]
  },
  {
   "cell_type": "code",
   "execution_count": 19,
   "metadata": {
    "collapsed": false
   },
   "outputs": [],
   "source": [
    "# Noticed that there were null values, so only select none null values into the dataset\n",
    "TwtTop994 = TwtTop1000[TwtTop1000['gender'].notnull()]"
   ]
  },
  {
   "cell_type": "code",
   "execution_count": 20,
   "metadata": {
    "collapsed": false
   },
   "outputs": [
    {
     "name": "stdout",
     "output_type": "stream",
     "text": [
      "<class 'pandas.core.frame.DataFrame'>\n",
      "Int64Index: 994 entries, 0 to 999\n",
      "Data columns (total 27 columns):\n",
      "_unit_id                 994 non-null int64\n",
      "_golden                  994 non-null bool\n",
      "_unit_state              994 non-null object\n",
      "_trusted_judgments       994 non-null int64\n",
      "_last_judgment_at        994 non-null object\n",
      "gender                   994 non-null object\n",
      "gender:confidence        994 non-null float64\n",
      "profile_yn               994 non-null object\n",
      "profile_yn:confidence    994 non-null float64\n",
      "created                  994 non-null object\n",
      "description              873 non-null object\n",
      "fav_number               994 non-null int64\n",
      "gender_gold              0 non-null object\n",
      "link_color               994 non-null object\n",
      "name                     994 non-null object\n",
      "profile_yn_gold          0 non-null object\n",
      "profileimage             994 non-null object\n",
      "retweet_count            994 non-null int64\n",
      "sidebar_color            994 non-null object\n",
      "text                     994 non-null object\n",
      "tweet_coord              10 non-null object\n",
      "tweet_count              994 non-null int64\n",
      "tweet_created            994 non-null object\n",
      "tweet_id                 994 non-null float64\n",
      "tweet_location           664 non-null object\n",
      "user_timezone            659 non-null object\n",
      "txtlength                994 non-null int64\n",
      "dtypes: bool(1), float64(3), int64(6), object(17)\n",
      "memory usage: 210.6+ KB\n"
     ]
    }
   ],
   "source": [
    "TwtTop994.info()"
   ]
  },
  {
   "cell_type": "code",
   "execution_count": 21,
   "metadata": {
    "collapsed": false
   },
   "outputs": [
    {
     "name": "stdout",
     "output_type": "stream",
     "text": [
      "4866\n"
     ]
    }
   ],
   "source": [
    "# Createbag of words from the 994 tweets from the top of the dataset\n",
    "topbow_transformer = CountVectorizer(analyzer=split_into_lemmas).fit(TwtTop994['text'])\n",
    "print (len(topbow_transformer.vocabulary_))"
   ]
  },
  {
   "cell_type": "code",
   "execution_count": 22,
   "metadata": {
    "collapsed": false
   },
   "outputs": [
    {
     "name": "stdout",
     "output_type": "stream",
     "text": [
      "sparse matrix shape: (994, 4866)\n",
      "number of non-zeros: 15086\n",
      "sparsity: 0.31%\n"
     ]
    }
   ],
   "source": [
    "Twt994_bow = topbow_transformer.transform(TwtTop994['text'])\n",
    "print ('sparse matrix shape:', Twt994_bow.shape)\n",
    "print ('number of non-zeros:', Twt994_bow.nnz)\n",
    "print ('sparsity: %.2f%%' % (100.0 * Twt994_bow.nnz / (Twt994_bow.shape[0] * Twt994_bow.shape[1])))"
   ]
  },
  {
   "cell_type": "code",
   "execution_count": 23,
   "metadata": {
    "collapsed": false
   },
   "outputs": [
    {
     "name": "stdout",
     "output_type": "stream",
     "text": [
      "397 597 994\n"
     ]
    }
   ],
   "source": [
    "#Carry out the real evaluation (cross validations) with this 994 tweets\n",
    "twt_train, twt_test, label_train, label_test = \\\n",
    "    train_test_split(TwtTop994['text'], TwtTop994['gender'], test_size=0.6)\n",
    "\n",
    "print (len(twt_train), len(twt_test), len(twt_train) + len(twt_test))"
   ]
  },
  {
   "cell_type": "code",
   "execution_count": 24,
   "metadata": {
    "collapsed": false
   },
   "outputs": [
    {
     "name": "stdout",
     "output_type": "stream",
     "text": [
      "gender\n",
      "brand      281\n",
      "female     326\n",
      "male       337\n",
      "unknown     50\n",
      "dtype: int64\n"
     ]
    }
   ],
   "source": [
    "# gender distribution in the sample\n",
    "print(TwtTop994.groupby('gender').size())"
   ]
  },
  {
   "cell_type": "code",
   "execution_count": 25,
   "metadata": {
    "collapsed": false
   },
   "outputs": [
    {
     "data": {
      "text/plain": [
       "735    I liked a @YouTube video from @DIRENGREY_web h...\n",
       "138    #business Gala Bingo clubs bought for å£241m: ...\n",
       "693    The tackles against our players, you'd swear s...\n",
       "431    Blog me!  https://t.co/wk8hXd0hST  Even fat ca...\n",
       "181    #biz Holiday Candy Course: Learn the art of go...\n",
       "Name: text, dtype: object"
      ]
     },
     "execution_count": 25,
     "metadata": {},
     "output_type": "execute_result"
    }
   ],
   "source": [
    "twt_train.head()"
   ]
  },
  {
   "cell_type": "code",
   "execution_count": 26,
   "metadata": {
    "collapsed": false
   },
   "outputs": [
    {
     "name": "stdout",
     "output_type": "stream",
     "text": [
      "2417\n"
     ]
    }
   ],
   "source": [
    "# Create bag of words from the 397 tweets of the training set\n",
    "trnbow_transformer = CountVectorizer(analyzer=split_into_lemmas).fit(twt_train)\n",
    "print (len(trnbow_transformer.vocabulary_))"
   ]
  },
  {
   "cell_type": "code",
   "execution_count": 27,
   "metadata": {
    "collapsed": false
   },
   "outputs": [
    {
     "name": "stdout",
     "output_type": "stream",
     "text": [
      "(397, 2417)\n"
     ]
    }
   ],
   "source": [
    "train_bow = trnbow_transformer.transform(twt_train)\n",
    "trn_tfidf_transformer = TfidfTransformer().fit(train_bow)\n",
    "twt_train_tfidf = trn_tfidf_transformer.transform(train_bow)\n",
    "print (twt_train_tfidf.shape)"
   ]
  },
  {
   "cell_type": "code",
   "execution_count": 28,
   "metadata": {
    "collapsed": false
   },
   "outputs": [
    {
     "name": "stdout",
     "output_type": "stream",
     "text": [
      "Wall time: 6 ms\n"
     ]
    }
   ],
   "source": [
    "%time twt_gender_detector = MultinomialNB().fit(twt_train_tfidf,  label_train)"
   ]
  },
  {
   "cell_type": "code",
   "execution_count": 29,
   "metadata": {
    "collapsed": false
   },
   "outputs": [
    {
     "name": "stdout",
     "output_type": "stream",
     "text": [
      "(597, 2417)\n"
     ]
    }
   ],
   "source": [
    "# Use the bow from training to creat tfidf for the test portion of the tweets\n",
    "test_bow = trnbow_transformer.transform(twt_test)\n",
    "tst_tfidf_transformer = TfidfTransformer().fit(test_bow)\n",
    "twt_test_tfidf = tst_tfidf_transformer.transform(test_bow)\n",
    "print (twt_test_tfidf.shape)"
   ]
  },
  {
   "cell_type": "code",
   "execution_count": 30,
   "metadata": {
    "collapsed": false
   },
   "outputs": [
    {
     "name": "stdout",
     "output_type": "stream",
     "text": [
      "['brand' 'female' 'female' 'brand' 'female' 'female' 'brand' 'male' 'male'\n",
      " 'female' 'brand' 'female' 'brand' 'male' 'female' 'male' 'female' 'brand'\n",
      " 'brand' 'female' 'female' 'female' 'female' 'female' 'female' 'female'\n",
      " 'female' 'male' 'female' 'male' 'female' 'female' 'male' 'female' 'male'\n",
      " 'brand' 'male' 'male' 'brand' 'male' 'female' 'male' 'male' 'brand'\n",
      " 'female' 'female' 'brand' 'female' 'brand' 'male' 'male' 'male' 'brand'\n",
      " 'female' 'female' 'female' 'brand' 'female' 'female' 'female' 'male'\n",
      " 'female' 'female' 'female' 'male' 'female' 'male' 'male' 'brand' 'male'\n",
      " 'brand' 'female' 'female' 'female' 'female' 'male' 'female' 'brand' 'male'\n",
      " 'female' 'female' 'brand' 'male' 'female' 'female' 'female' 'male' 'male'\n",
      " 'female' 'brand' 'male' 'female' 'female' 'female' 'male' 'female' 'male'\n",
      " 'female' 'female' 'female' 'male' 'male' 'male' 'brand' 'male' 'female'\n",
      " 'brand' 'male' 'male' 'brand' 'female' 'male' 'female' 'female' 'brand'\n",
      " 'female' 'brand' 'female' 'female' 'female' 'male' 'male' 'female' 'male'\n",
      " 'brand' 'female' 'female' 'male' 'female' 'male' 'male' 'female' 'female'\n",
      " 'brand' 'female' 'brand' 'female' 'male' 'male' 'male' 'female' 'female'\n",
      " 'female' 'female' 'brand' 'female' 'brand' 'female' 'female' 'female'\n",
      " 'female' 'brand' 'female' 'female' 'male' 'male' 'female' 'male' 'brand'\n",
      " 'female' 'female' 'female' 'female' 'female' 'male' 'male' 'male' 'female'\n",
      " 'brand' 'brand' 'female' 'female' 'female' 'female' 'female' 'male'\n",
      " 'female' 'female' 'brand' 'male' 'female' 'female' 'female' 'female'\n",
      " 'male' 'brand' 'brand' 'male' 'female' 'female' 'male' 'female' 'female'\n",
      " 'female' 'female' 'male' 'male' 'brand' 'brand' 'male' 'brand' 'female'\n",
      " 'female' 'brand' 'brand' 'male' 'female' 'female' 'female' 'male' 'female'\n",
      " 'female' 'female' 'female' 'female' 'female' 'brand' 'male' 'male' 'male'\n",
      " 'male' 'female' 'male' 'brand' 'brand' 'female' 'female' 'brand' 'female'\n",
      " 'female' 'brand' 'brand' 'male' 'brand' 'brand' 'female' 'female' 'female'\n",
      " 'male' 'male' 'male' 'male' 'female' 'brand' 'female' 'brand' 'female'\n",
      " 'female' 'female' 'female' 'female' 'male' 'brand' 'brand' 'brand'\n",
      " 'female' 'male' 'male' 'brand' 'female' 'male' 'female' 'female' 'male'\n",
      " 'male' 'female' 'female' 'female' 'female' 'female' 'male' 'female' 'male'\n",
      " 'male' 'female' 'female' 'female' 'brand' 'brand' 'female' 'male' 'female'\n",
      " 'female' 'brand' 'female' 'female' 'brand' 'female' 'brand' 'female'\n",
      " 'female' 'brand' 'brand' 'brand' 'female' 'female' 'male' 'male' 'female'\n",
      " 'female' 'female' 'male' 'female' 'male' 'female' 'female' 'male' 'male'\n",
      " 'brand' 'female' 'female' 'female' 'female' 'female' 'female' 'female'\n",
      " 'female' 'male' 'male' 'male' 'female' 'female' 'brand' 'brand' 'female'\n",
      " 'female' 'female' 'female' 'brand' 'male' 'female' 'male' 'female'\n",
      " 'female' 'female' 'brand' 'brand' 'female' 'female' 'male' 'female'\n",
      " 'female' 'female' 'female' 'brand' 'brand' 'female' 'male' 'brand'\n",
      " 'female' 'female' 'female' 'male' 'male' 'female' 'female' 'female'\n",
      " 'brand' 'male' 'brand' 'female' 'female' 'female' 'male' 'brand' 'male'\n",
      " 'brand' 'female' 'male' 'female' 'male' 'male' 'female' 'male' 'female'\n",
      " 'female' 'female' 'female' 'female' 'brand' 'male' 'female' 'female'\n",
      " 'female' 'female' 'male' 'brand' 'female' 'male' 'male' 'female' 'female'\n",
      " 'female' 'male' 'female' 'female' 'female' 'brand' 'brand' 'female' 'male'\n",
      " 'female' 'male' 'male' 'brand' 'brand' 'female' 'brand' 'female' 'male'\n",
      " 'brand' 'brand' 'female' 'male' 'male' 'brand' 'male' 'brand' 'brand'\n",
      " 'male' 'female' 'female' 'male' 'male' 'male' 'brand' 'brand' 'brand'\n",
      " 'male' 'male' 'male' 'brand' 'male' 'female' 'male' 'female' 'female'\n",
      " 'brand' 'female' 'male' 'male' 'brand' 'female' 'female' 'male' 'female'\n",
      " 'female' 'female' 'female' 'male' 'female' 'brand' 'female' 'male' 'brand'\n",
      " 'female' 'male' 'female' 'brand' 'female' 'brand' 'female' 'female'\n",
      " 'female' 'female' 'female' 'brand' 'female' 'male' 'female' 'female'\n",
      " 'brand' 'brand' 'female' 'female' 'female' 'male' 'female' 'female'\n",
      " 'female' 'brand' 'female' 'brand' 'male' 'female' 'male' 'female' 'male'\n",
      " 'brand' 'male' 'female' 'male' 'male' 'brand' 'brand' 'male' 'female'\n",
      " 'female' 'brand' 'female' 'female' 'brand' 'male' 'male' 'female' 'female'\n",
      " 'brand' 'male' 'male' 'brand' 'brand' 'female' 'female' 'female' 'male'\n",
      " 'brand' 'male' 'male' 'female' 'male' 'female' 'female' 'male' 'female'\n",
      " 'brand' 'brand' 'female' 'brand' 'female' 'brand' 'female' 'female'\n",
      " 'female' 'female' 'female' 'female' 'female' 'female' 'female' 'brand'\n",
      " 'female' 'male' 'male' 'brand' 'female' 'female' 'male' 'male' 'male'\n",
      " 'brand' 'male' 'female' 'brand' 'male' 'male' 'brand' 'female' 'female'\n",
      " 'female' 'female' 'female' 'female' 'brand' 'brand' 'brand' 'brand'\n",
      " 'female' 'male' 'female' 'brand' 'female' 'brand' 'male' 'female' 'female'\n",
      " 'female' 'brand' 'male' 'female' 'male' 'female' 'male' 'male' 'male'\n",
      " 'brand' 'male' 'female' 'brand' 'male' 'female' 'brand' 'male' 'female'\n",
      " 'male' 'male' 'brand' 'male']\n"
     ]
    }
   ],
   "source": [
    "test_predictions = twt_gender_detector.predict(twt_test_tfidf)\n",
    "print (test_predictions)"
   ]
  },
  {
   "cell_type": "code",
   "execution_count": 31,
   "metadata": {
    "collapsed": false
   },
   "outputs": [
    {
     "name": "stdout",
     "output_type": "stream",
     "text": [
      "accuracy 0.428810720268\n",
      "confusion matrix\n",
      " [[ 62  49  41   0]\n",
      " [ 27 126  46   0]\n",
      " [ 41 102  68   0]\n",
      " [  2  19  14   0]]\n",
      "(row=expected, col=predicted)\n"
     ]
    }
   ],
   "source": [
    "print ('accuracy', accuracy_score(label_test, test_predictions))\n",
    "print ('confusion matrix\\n', confusion_matrix(label_test, test_predictions))\n",
    "print ('(row=expected, col=predicted)')"
   ]
  },
  {
   "cell_type": "code",
   "execution_count": 32,
   "metadata": {
    "collapsed": false
   },
   "outputs": [
    {
     "name": "stdout",
     "output_type": "stream",
     "text": [
      "             precision    recall  f1-score   support\n",
      "\n",
      "      brand       0.47      0.41      0.44       152\n",
      "     female       0.43      0.63      0.51       199\n",
      "       male       0.40      0.32      0.36       211\n",
      "    unknown       0.00      0.00      0.00        35\n",
      "\n",
      "avg / total       0.40      0.43      0.41       597\n",
      "\n"
     ]
    },
    {
     "name": "stderr",
     "output_type": "stream",
     "text": [
      "C:\\Users\\Meng\\Anaconda3\\lib\\site-packages\\sklearn\\metrics\\classification.py:1074: UndefinedMetricWarning: Precision and F-score are ill-defined and being set to 0.0 in labels with no predicted samples.\n",
      "  'precision', 'predicted', average, warn_for)\n"
     ]
    }
   ],
   "source": [
    "print (classification_report(label_test, test_predictions))"
   ]
  },
  {
   "cell_type": "code",
   "execution_count": 33,
   "metadata": {
    "collapsed": true
   },
   "outputs": [],
   "source": [
    "#pipeline = Pipeline([\n",
    "#    ('bow', CountVectorizer(analyzer=split_into_lemmas)),  # strings to token integer counts\n",
    "#    ('tfidf', TfidfTransformer()),  # integer counts to weighted TF-IDF scores\n",
    "#    ('classifier', MultinomialNB()),  # train on TF-IDF vectors w/ Naive Bayes classifier\n",
    "#])"
   ]
  },
  {
   "cell_type": "code",
   "execution_count": 34,
   "metadata": {
    "collapsed": false
   },
   "outputs": [],
   "source": [
    "#A common practice is to partition the training set again, into smaller subsets; for example, 5 equally sized subsets\n",
    "#scores = cross_val_score(pipeline,  # steps to convert raw messages into models\n",
    "#                         twt_train,  # training data\n",
    "#                         label_train,  # training labels\n",
    "#                         cv=5,  # split data randomly into 5 parts: 4 for training, 1 for scoring\n",
    "#                         scoring='accuracy',  # which scoring metric?\n",
    "#                         n_jobs=-1,  # -1 = use all cores = faster\n",
    "#                         )\n",
    "#print (scores)"
   ]
  },
  {
   "cell_type": "code",
   "execution_count": null,
   "metadata": {
    "collapsed": true
   },
   "outputs": [],
   "source": []
  }
 ],
 "metadata": {
  "anaconda-cloud": {},
  "kernelspec": {
   "display_name": "Python [default]",
   "language": "python",
   "name": "python3"
  },
  "language_info": {
   "codemirror_mode": {
    "name": "ipython",
    "version": 3
   },
   "file_extension": ".py",
   "mimetype": "text/x-python",
   "name": "python",
   "nbconvert_exporter": "python",
   "pygments_lexer": "ipython3",
   "version": "3.5.2"
  }
 },
 "nbformat": 4,
 "nbformat_minor": 1
}
