{
 "cells": [
  {
   "cell_type": "code",
   "execution_count": 1,
   "metadata": {
    "collapsed": true
   },
   "outputs": [],
   "source": [
    "# Load libraries\n",
    "import numpy as np\n",
    "import pandas as pd"
   ]
  },
  {
   "cell_type": "code",
   "execution_count": 3,
   "metadata": {
    "collapsed": false
   },
   "outputs": [],
   "source": [
    "# Load dataset\n",
    "TwtDs = pd.read_csv('C:\\\\Users\\\\Meng\\\\OneDrive\\\\Documents\\\\tamu\\\\DataScience\\\\twitter-user-gender-classification\\\\gender-classifier-DFE-791531.csv',  na_values=['.'], encoding = \"ISO-8859-1\")"
   ]
  },
  {
   "cell_type": "code",
   "execution_count": 4,
   "metadata": {
    "collapsed": false
   },
   "outputs": [
    {
     "name": "stdout",
     "output_type": "stream",
     "text": [
      "(20050, 26)\n"
     ]
    }
   ],
   "source": [
    "# shape\n",
    "print(TwtDs.shape) "
   ]
  },
  {
   "cell_type": "code",
   "execution_count": 5,
   "metadata": {
    "collapsed": false
   },
   "outputs": [
    {
     "name": "stdout",
     "output_type": "stream",
     "text": [
      "    _unit_id _golden _unit_state  _trusted_judgments _last_judgment_at  \\\n",
      "0  815719226   False   finalized                   3    10/26/15 23:24   \n",
      "1  815719227   False   finalized                   3    10/26/15 23:30   \n",
      "2  815719228   False   finalized                   3    10/26/15 23:33   \n",
      "3  815719229   False   finalized                   3    10/26/15 23:10   \n",
      "4  815719230   False   finalized                   3     10/27/15 1:15   \n",
      "5  815719231   False   finalized                   3     10/27/15 1:47   \n",
      "6  815719232   False   finalized                   3     10/27/15 1:57   \n",
      "7  815719233   False   finalized                   3    10/26/15 23:48   \n",
      "8  815719234   False   finalized                   3     10/27/15 1:52   \n",
      "9  815719235   False   finalized                   3     10/27/15 1:49   \n",
      "\n",
      "   gender  gender:confidence profile_yn  profile_yn:confidence  \\\n",
      "0    male             1.0000        yes                    1.0   \n",
      "1    male             1.0000        yes                    1.0   \n",
      "2    male             0.6625        yes                    1.0   \n",
      "3    male             1.0000        yes                    1.0   \n",
      "4  female             1.0000        yes                    1.0   \n",
      "5  female             1.0000        yes                    1.0   \n",
      "6   brand             1.0000        yes                    1.0   \n",
      "7    male             1.0000        yes                    1.0   \n",
      "8  female             1.0000        yes                    1.0   \n",
      "9  female             1.0000        yes                    1.0   \n",
      "\n",
      "          created             ...              \\\n",
      "0    12/5/13 1:48             ...               \n",
      "1   10/1/12 13:51             ...               \n",
      "2  11/28/14 11:30             ...               \n",
      "3   6/11/09 22:39             ...               \n",
      "4   4/16/14 13:23             ...               \n",
      "5   3/11/10 18:14             ...               \n",
      "6   4/24/08 13:03             ...               \n",
      "7   12/3/12 21:54             ...               \n",
      "8     9/8/15 4:50             ...               \n",
      "9    5/13/11 3:32             ...               \n",
      "\n",
      "                                        profileimage  retweet_count  \\\n",
      "0  https://pbs.twimg.com/profile_images/414342229...              0   \n",
      "1  https://pbs.twimg.com/profile_images/539604221...              0   \n",
      "2  https://pbs.twimg.com/profile_images/657330418...              1   \n",
      "3  https://pbs.twimg.com/profile_images/259703936...              0   \n",
      "4  https://pbs.twimg.com/profile_images/564094871...              0   \n",
      "5  https://pbs.twimg.com/profile_images/656336865...              0   \n",
      "6  https://pbs.twimg.com/profile_images/528547133...              0   \n",
      "7  https://pbs.twimg.com/profile_images/508875440...              0   \n",
      "8  https://pbs.twimg.com/profile_images/658670112...              0   \n",
      "9  https://pbs.twimg.com/profile_images/513327289...              0   \n",
      "\n",
      "  sidebar_color                                               text  \\\n",
      "0        FFFFFF  Robbie E Responds To Critics After Win Against...   \n",
      "1        C0DEED  ÛÏIt felt like they were my friends and I was...   \n",
      "2        C0DEED  i absolutely adore when louis starts the songs...   \n",
      "3        C0DEED  Hi @JordanSpieth - Looking at the url - do you...   \n",
      "4             0  Watching Neighbours on Sky+ catching up with t...   \n",
      "5             0  Ive seen people on the train with lamps, chair...   \n",
      "6             0  @BpackEngineer Thank you for your patience whi...   \n",
      "7        C0DEED  Gala Bingo clubs bought for å£241m: The UK's l...   \n",
      "8             0  @_Aphmau_ the pic defines all mcd fangirls/fan...   \n",
      "9        FFFFFF  @Evielady just how lovely is the tree this yea...   \n",
      "\n",
      "  tweet_coord tweet_count   tweet_created      tweet_id        tweet_location  \\\n",
      "0         NaN      110964  10/26/15 12:40  6.587300e+17       main; @Kan1shk3   \n",
      "1         NaN        7471  10/26/15 12:40  6.587300e+17                   NaN   \n",
      "2         NaN        5617  10/26/15 12:40  6.587300e+17                clcncl   \n",
      "3         NaN        1693  10/26/15 12:40  6.587300e+17         Palo Alto, CA   \n",
      "4         NaN       31462  10/26/15 12:40  6.587300e+17                   NaN   \n",
      "5         NaN       20036  10/26/15 12:40  6.587300e+17       New York Gritty   \n",
      "6         NaN       13354  10/26/15 12:40  6.587300e+17             Worldwide   \n",
      "7         NaN      112117  10/26/15 12:40  6.587300e+17                   NaN   \n",
      "8         NaN         482  10/26/15 12:40  6.587300e+17                   NaN   \n",
      "9         NaN       26085  10/26/15 12:40  6.587300e+17  Nottingham, England.   \n",
      "\n",
      "                user_timezone  \n",
      "0                     Chennai  \n",
      "1  Eastern Time (US & Canada)  \n",
      "2                    Belgrade  \n",
      "3  Pacific Time (US & Canada)  \n",
      "4                         NaN  \n",
      "5  Central Time (US & Canada)  \n",
      "6  Eastern Time (US & Canada)  \n",
      "7                         NaN  \n",
      "8                         NaN  \n",
      "9                   Amsterdam  \n",
      "\n",
      "[10 rows x 26 columns]\n"
     ]
    }
   ],
   "source": [
    "# head\n",
    "print(TwtDs.head(10))"
   ]
  },
  {
   "cell_type": "code",
   "execution_count": 6,
   "metadata": {
    "collapsed": false
   },
   "outputs": [
    {
     "data": {
      "text/plain": [
       "_unit_id                   int64\n",
       "_golden                     bool\n",
       "_unit_state               object\n",
       "_trusted_judgments         int64\n",
       "_last_judgment_at         object\n",
       "gender                    object\n",
       "gender:confidence        float64\n",
       "profile_yn                object\n",
       "profile_yn:confidence    float64\n",
       "created                   object\n",
       "description               object\n",
       "fav_number                 int64\n",
       "gender_gold               object\n",
       "link_color                object\n",
       "name                      object\n",
       "profile_yn_gold           object\n",
       "profileimage              object\n",
       "retweet_count              int64\n",
       "sidebar_color             object\n",
       "text                      object\n",
       "tweet_coord               object\n",
       "tweet_count                int64\n",
       "tweet_created             object\n",
       "tweet_id                 float64\n",
       "tweet_location            object\n",
       "user_timezone             object\n",
       "dtype: object"
      ]
     },
     "execution_count": 6,
     "metadata": {},
     "output_type": "execute_result"
    }
   ],
   "source": [
    "# check current data type\n",
    "TwtDs.dtypes"
   ]
  },
  {
   "cell_type": "code",
   "execution_count": 7,
   "metadata": {
    "collapsed": false
   },
   "outputs": [
    {
     "name": "stdout",
     "output_type": "stream",
     "text": [
      "<class 'pandas.core.frame.DataFrame'>\n",
      "RangeIndex: 20050 entries, 0 to 20049\n",
      "Data columns (total 26 columns):\n",
      "_unit_id                 20050 non-null int64\n",
      "_golden                  20050 non-null bool\n",
      "_unit_state              20050 non-null object\n",
      "_trusted_judgments       20050 non-null int64\n",
      "_last_judgment_at        20000 non-null object\n",
      "gender                   19953 non-null object\n",
      "gender:confidence        20024 non-null float64\n",
      "profile_yn               20050 non-null object\n",
      "profile_yn:confidence    20050 non-null float64\n",
      "created                  20050 non-null object\n",
      "description              16306 non-null object\n",
      "fav_number               20050 non-null int64\n",
      "gender_gold              50 non-null object\n",
      "link_color               20050 non-null object\n",
      "name                     20050 non-null object\n",
      "profile_yn_gold          50 non-null object\n",
      "profileimage             20050 non-null object\n",
      "retweet_count            20050 non-null int64\n",
      "sidebar_color            20050 non-null object\n",
      "text                     20050 non-null object\n",
      "tweet_coord              159 non-null object\n",
      "tweet_count              20050 non-null int64\n",
      "tweet_created            20050 non-null object\n",
      "tweet_id                 20050 non-null float64\n",
      "tweet_location           12564 non-null object\n",
      "user_timezone            12252 non-null object\n",
      "dtypes: bool(1), float64(3), int64(5), object(17)\n",
      "memory usage: 3.8+ MB\n"
     ]
    }
   ],
   "source": [
    "# Dataset Info\n",
    "TwtDs.info()"
   ]
  },
  {
   "cell_type": "code",
   "execution_count": 10,
   "metadata": {
    "collapsed": false
   },
   "outputs": [
    {
     "name": "stdout",
     "output_type": "stream",
     "text": [
      "gender\n",
      "brand      5942\n",
      "female     6700\n",
      "male       6194\n",
      "unknown    1117\n",
      "dtype: int64\n"
     ]
    }
   ],
   "source": [
    "# gender distribution\n",
    "print(TwtDs.groupby('gender').size())\n",
    "#print(TwtDs.groupby('gender').sum())"
   ]
  },
  {
   "cell_type": "code",
   "execution_count": 11,
   "metadata": {
    "collapsed": true
   },
   "outputs": [],
   "source": [
    "TwtHd = TwtDs.head(100)"
   ]
  },
  {
   "cell_type": "code",
   "execution_count": 12,
   "metadata": {
    "collapsed": false
   },
   "outputs": [
    {
     "data": {
      "text/plain": [
       "(100, 26)"
      ]
     },
     "execution_count": 12,
     "metadata": {},
     "output_type": "execute_result"
    }
   ],
   "source": [
    "TwtHd.shape"
   ]
  },
  {
   "cell_type": "code",
   "execution_count": 14,
   "metadata": {
    "collapsed": false
   },
   "outputs": [
    {
     "name": "stdout",
     "output_type": "stream",
     "text": [
      "<class 'pandas.core.frame.DataFrame'>\n",
      "RangeIndex: 100 entries, 0 to 99\n",
      "Data columns (total 26 columns):\n",
      "_unit_id                 100 non-null int64\n",
      "_golden                  100 non-null bool\n",
      "_unit_state              100 non-null object\n",
      "_trusted_judgments       100 non-null int64\n",
      "_last_judgment_at        100 non-null object\n",
      "gender                   100 non-null object\n",
      "gender:confidence        100 non-null float64\n",
      "profile_yn               100 non-null object\n",
      "profile_yn:confidence    100 non-null float64\n",
      "created                  100 non-null object\n",
      "description              93 non-null object\n",
      "fav_number               100 non-null int64\n",
      "gender_gold              0 non-null object\n",
      "link_color               100 non-null object\n",
      "name                     100 non-null object\n",
      "profile_yn_gold          0 non-null object\n",
      "profileimage             100 non-null object\n",
      "retweet_count            100 non-null int64\n",
      "sidebar_color            100 non-null object\n",
      "text                     100 non-null object\n",
      "tweet_coord              2 non-null object\n",
      "tweet_count              100 non-null int64\n",
      "tweet_created            100 non-null object\n",
      "tweet_id                 100 non-null float64\n",
      "tweet_location           63 non-null object\n",
      "user_timezone            69 non-null object\n",
      "dtypes: bool(1), float64(3), int64(5), object(17)\n",
      "memory usage: 19.7+ KB\n"
     ]
    }
   ],
   "source": [
    "TwtHd.info()"
   ]
  },
  {
   "cell_type": "code",
   "execution_count": 16,
   "metadata": {
    "collapsed": false
   },
   "outputs": [
    {
     "name": "stderr",
     "output_type": "stream",
     "text": [
      "C:\\Users\\Meng\\Anaconda3\\lib\\site-packages\\ipykernel\\__main__.py:1: SettingWithCopyWarning: \n",
      "A value is trying to be set on a copy of a slice from a DataFrame.\n",
      "Try using .loc[row_indexer,col_indexer] = value instead\n",
      "\n",
      "See the caveats in the documentation: http://pandas.pydata.org/pandas-docs/stable/indexing.html#indexing-view-versus-copy\n",
      "  if __name__ == '__main__':\n"
     ]
    }
   ],
   "source": [
    "TwtHd['txtwd']=TwtHd.text.str.split()"
   ]
  },
  {
   "cell_type": "code",
   "execution_count": 17,
   "metadata": {
    "collapsed": false
   },
   "outputs": [
    {
     "name": "stdout",
     "output_type": "stream",
     "text": [
      "<class 'pandas.core.frame.DataFrame'>\n",
      "RangeIndex: 100 entries, 0 to 99\n",
      "Data columns (total 27 columns):\n",
      "_unit_id                 100 non-null int64\n",
      "_golden                  100 non-null bool\n",
      "_unit_state              100 non-null object\n",
      "_trusted_judgments       100 non-null int64\n",
      "_last_judgment_at        100 non-null object\n",
      "gender                   100 non-null object\n",
      "gender:confidence        100 non-null float64\n",
      "profile_yn               100 non-null object\n",
      "profile_yn:confidence    100 non-null float64\n",
      "created                  100 non-null object\n",
      "description              93 non-null object\n",
      "fav_number               100 non-null int64\n",
      "gender_gold              0 non-null object\n",
      "link_color               100 non-null object\n",
      "name                     100 non-null object\n",
      "profile_yn_gold          0 non-null object\n",
      "profileimage             100 non-null object\n",
      "retweet_count            100 non-null int64\n",
      "sidebar_color            100 non-null object\n",
      "text                     100 non-null object\n",
      "tweet_coord              2 non-null object\n",
      "tweet_count              100 non-null int64\n",
      "tweet_created            100 non-null object\n",
      "tweet_id                 100 non-null float64\n",
      "tweet_location           63 non-null object\n",
      "user_timezone            69 non-null object\n",
      "txtwd                    100 non-null object\n",
      "dtypes: bool(1), float64(3), int64(5), object(18)\n",
      "memory usage: 20.5+ KB\n"
     ]
    }
   ],
   "source": [
    "TwtHd.info()"
   ]
  },
  {
   "cell_type": "code",
   "execution_count": 21,
   "metadata": {
    "collapsed": false
   },
   "outputs": [
    {
     "data": {
      "text/plain": [
       "0     [Robbie, E, Responds, To, Critics, After, Win,...\n",
       "1     [ÛÏIt, felt, like, they, were, my, friends, a...\n",
       "2     [i, absolutely, adore, when, louis, starts, th...\n",
       "3     [Hi, @JordanSpieth, -, Looking, at, the, url, ...\n",
       "4     [Watching, Neighbours, on, Sky+, catching, up,...\n",
       "5     [Ive, seen, people, on, the, train, with, lamp...\n",
       "6     [@BpackEngineer, Thank, you, for, your, patien...\n",
       "7     [Gala, Bingo, clubs, bought, for, å£241m:, The...\n",
       "8     [@_Aphmau_, the, pic, defines, all, mcd, fangi...\n",
       "9     [@Evielady, just, how, lovely, is, the, tree, ...\n",
       "10    [how, are, you, taking, care, of, yourself?, h...\n",
       "11    [MTG, Deals, 1x, Rank-Up-Magic, -, The, Sevent...\n",
       "12    [Just, put, my, ass, on, the, line, for, you, ...\n",
       "13    [https://t.co/z4sbWUugd8, What, the, Nation, W...\n",
       "14    [will, i, even, need, sound, effects, for, the...\n",
       "15    [https://t.co/EROGWTFTYo, It's, a, glow, of, s...\n",
       "16    [@giannaaa28, lmao, _Ù÷â_Ù÷â, dude, I'm, hella...\n",
       "17    [@coolyazzy94, Ditto, -, I'm, still, learning,...\n",
       "18    [@CaribBros, @JstSaleem, I, do, but, I, don't,...\n",
       "19    [Me, too,, saw, five, lionesses, drinking, aro...\n",
       "20    [@CraftYear2015, @isabelpascual, thank, you, f...\n",
       "21    [All, the, girls, went, to, sleep, and, the, g...\n",
       "22    [@ChrisAOfficial, I'm, on, the, right, side_Ù÷...\n",
       "23    [YALL, LMFAOO, RIGHT, WHEN, THE, CHORUS, CAME,...\n",
       "24    [James, Bond, premier, night, at, the, @Everym...\n",
       "25    [@SydnieJR, except, once, the, Hallmark, movie...\n",
       "26    [How, beautiful, is, the, religion, which, tea...\n",
       "27    [Fuck, you, !, NASA, is, awesome., https://t.c...\n",
       "28    [You, leave, the, group, chat, for, more, than...\n",
       "29    [As, opposed, to, Pump, where, it's, like, HI,...\n",
       "                            ...                        \n",
       "70    [(Surgical, enhancements, are, for, a, differe...\n",
       "71    [The, CTAS, Pro, High, colorway, inspired, by,...\n",
       "72    [I, swear, if, she, touches, me, one, more, ti...\n",
       "73    [She, is, not, beautiful, m,, and, I'm, talkin...\n",
       "74    [The, Wildcats, pay, a, visit, to, Fain, eleme...\n",
       "75    [bad, day, in, the, office, -, but, nice, to, ...\n",
       "76    [New, Study, Says, Bacon, Causes, Cancer,, But...\n",
       "77    [James, Walter, invented, the, bolt-action, ri...\n",
       "78    [@Lov3rzWorldwide, Say, He, is, the, one., The...\n",
       "79    [Now, I, Changed!, I'm, not, the, same, Man, I...\n",
       "80    [Amazing:, See, Igbo, Village, In, The, United...\n",
       "81    [@R_M_Appleyard, alarm, wont, work, as, you, c...\n",
       "82    [Join, the, The, Creative, Group, team!, See, ...\n",
       "83    [#Akinator,, the, Genie, App,, just, guessed, ...\n",
       "84    ['30, Teams, in, 30, Days', NBA, Season, Previ...\n",
       "85    [@TekifyUK, I, am, trying, to, unbrick, my, Ki...\n",
       "86    [If, you, say, someone, like, Wale, or, Meek, ...\n",
       "87    [Move, Of, The, Week, Double, Leg, Stretch, Û...\n",
       "88    [Goodword, @, The, Honey, Hive, Gallery, https...\n",
       "89    [THE, FIRST, FANCAM, OF, THAT, AMAZING, INTRO,...\n",
       "90    [@RepComstock, You, are, supporting, the, Fath...\n",
       "91    [#biz, Import, Veteran:, The, 6, tricks, every...\n",
       "92    [The, FA, have, lost, it,, they're, fining, cl...\n",
       "93    [No, Water, To, Frisco, Subdivision:, A, contr...\n",
       "94    [Reimagining, the, #webdesign, process, by, @I...\n",
       "95    [The, accumulation, of, rake, marks:SNIP, #Bla...\n",
       "96    [@deptulahasrage, Clemson, only, need, to, sta...\n",
       "97    [I, can, see, now, that, there's, no, way, I'm...\n",
       "98    [If, you, have, some, time,, would, be, great,...\n",
       "99       [@cringe_channel, chris, chan, has, the, fame]\n",
       "Name: txtwd, dtype: object"
      ]
     },
     "execution_count": 21,
     "metadata": {},
     "output_type": "execute_result"
    }
   ],
   "source": [
    "TwtHd.txtwd"
   ]
  },
  {
   "cell_type": "code",
   "execution_count": 22,
   "metadata": {
    "collapsed": false
   },
   "outputs": [
    {
     "data": {
      "text/plain": [
       "['Ive',\n",
       " 'seen',\n",
       " 'people',\n",
       " 'on',\n",
       " 'the',\n",
       " 'train',\n",
       " 'with',\n",
       " 'lamps,',\n",
       " 'chairs,',\n",
       " 'tvs',\n",
       " 'etc',\n",
       " 'https://t.co/w6zf4pVM4I']"
      ]
     },
     "execution_count": 22,
     "metadata": {},
     "output_type": "execute_result"
    }
   ],
   "source": [
    "TwtHd.txtwd[5]"
   ]
  },
  {
   "cell_type": "code",
   "execution_count": 23,
   "metadata": {
    "collapsed": false
   },
   "outputs": [
    {
     "name": "stdout",
     "output_type": "stream",
     "text": [
      "gender\n",
      "brand      28\n",
      "female     33\n",
      "male       37\n",
      "unknown     2\n",
      "dtype: int64\n"
     ]
    }
   ],
   "source": [
    "# gender distribution in the sample\n",
    "print(TwtHd.groupby('gender').size())"
   ]
  },
  {
   "cell_type": "code",
   "execution_count": null,
   "metadata": {
    "collapsed": true
   },
   "outputs": [],
   "source": []
  }
 ],
 "metadata": {
  "kernelspec": {
   "display_name": "Python [default]",
   "language": "python",
   "name": "python3"
  },
  "language_info": {
   "codemirror_mode": {
    "name": "ipython",
    "version": 3
   },
   "file_extension": ".py",
   "mimetype": "text/x-python",
   "name": "python",
   "nbconvert_exporter": "python",
   "pygments_lexer": "ipython3",
   "version": "3.5.2"
  }
 },
 "nbformat": 4,
 "nbformat_minor": 1
}
