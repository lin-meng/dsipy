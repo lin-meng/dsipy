{
 "cells": [
  {
   "cell_type": "markdown",
   "metadata": {},
   "source": [
    "# XML example and exercise\n",
    "****\n",
    "+ study examples of accessing nodes in XML tree structure  \n",
    "+ work on exercise to be completed and submitted\n",
    "****\n",
    "+ reference: https://docs.python.org/2.7/library/xml.etree.elementtree.html\n",
    "+ data source: http://www.dbis.informatik.uni-goettingen.de/Mondial\n",
    "****"
   ]
  },
  {
   "cell_type": "code",
   "execution_count": 1,
   "metadata": {
    "collapsed": true
   },
   "outputs": [],
   "source": [
    "from xml.etree import ElementTree as ET"
   ]
  },
  {
   "cell_type": "markdown",
   "metadata": {},
   "source": [
    "## XML example\n",
    "\n",
    "+ for details about tree traversal and iterators, see https://docs.python.org/2.7/library/xml.etree.elementtree.html"
   ]
  },
  {
   "cell_type": "code",
   "execution_count": 2,
   "metadata": {
    "collapsed": true
   },
   "outputs": [],
   "source": [
    "document_tree = ET.parse( './data/mondial_database_less.xml' )"
   ]
  },
  {
   "cell_type": "code",
   "execution_count": 4,
   "metadata": {
    "collapsed": false
   },
   "outputs": [
    {
     "name": "stdout",
     "output_type": "stream",
     "text": [
      "Albania\n",
      "Greece\n",
      "Macedonia\n",
      "Serbia\n",
      "Montenegro\n",
      "Kosovo\n",
      "Andorra\n"
     ]
    }
   ],
   "source": [
    "# print names of all countries\n",
    "for child in document_tree.getroot():\n",
    "    print (child.find('name').text)"
   ]
  },
  {
   "cell_type": "code",
   "execution_count": 8,
   "metadata": {
    "collapsed": false
   },
   "outputs": [
    {
     "name": "stdout",
     "output_type": "stream",
     "text": [
      "* Albania:\n",
      "Tirana, Shkodër, Durrës, Vlorë, Elbasan, Korçë\n",
      "* Greece:\n",
      "Komotini, Kavala, Athina, Peiraias, Peristeri, Acharnes, Patra, Kozani, Kerkyra, Ioannina, Thessaloniki, Iraklio, Chania, Ermoupoli, Rhodes, Tripoli, Lamia, Chalkida, Larissa, Volos, Mytilini, Karyes\n",
      "* Macedonia:\n",
      "Skopje, Kumanovo\n",
      "* Serbia:\n",
      "Beograd, Novi Sad, Niš\n",
      "* Montenegro:\n",
      "Podgorica\n",
      "* Kosovo:\n",
      "Prishtine\n",
      "* Andorra:\n",
      "Andorra la Vella\n"
     ]
    }
   ],
   "source": [
    "# print names of all countries and their cities\n",
    "for element in document_tree.iterfind('country'):\n",
    "    print ('* ' + element.find('name').text + ':', )\n",
    "    capitals_string = ''\n",
    "    for subelement in element.getiterator('city'):\n",
    "        capitals_string += subelement.find('name').text + ', '\n",
    "    print (capitals_string[:-2])"
   ]
  },
  {
   "cell_type": "markdown",
   "metadata": {},
   "source": [
    "****\n",
    "## XML exercise\n",
    "\n",
    "Using data in 'data/mondial_database.xml', the examples above, and refering to https://docs.python.org/2.7/library/xml.etree.elementtree.html, find\n",
    "\n",
    "1. 10 countries with the lowest infant mortality rates\n",
    "2. 10 cities with the largest population\n",
    "3. 10 ethnic groups with the largest overall populations (sum of best/latest estimates over all countries)\n",
    "4. name and country of a) longest river, b) largest lake and c) airport at highest elevation"
   ]
  },
  {
   "cell_type": "code",
   "execution_count": 27,
   "metadata": {
    "collapsed": true
   },
   "outputs": [],
   "source": [
    "from operator import itemgetter, attrgetter"
   ]
  },
  {
   "cell_type": "code",
   "execution_count": 31,
   "metadata": {
    "collapsed": false
   },
   "outputs": [
    {
     "name": "stdout",
     "output_type": "stream",
     "text": [
      "\n",
      " 10 countries with the lowest infant mortality rates\n",
      "[('Monaco', 1.81), ('Japan', 2.13), ('Norway', 2.48), ('Bermuda', 2.48), ('Singapore', 2.53), ('Sweden', 2.6), ('Czech Republic', 2.63), ('Hong Kong', 2.73), ('Macao', 3.13)]\n",
      "\n",
      " 10 cities with the largest population\n",
      "[('Seoul', 10229262.0), ('Mumbai', 9925891.0), ('São Paulo', 9412894.0), ('Jakarta', 8259266.0), ('Shanghai', 8205598.0), ('Ciudad de México', 8092449.0), ('Moskva', 8010954.0), ('Tokyo', 7843000.0), ('Beijing', 7362426.0)]\n",
      "\n",
      " 10 ethnic groups with the largest overall populations (sum of best/latest estimates over all countries\n",
      "[('Malay', 89413964.576), ('Eastern Hamitic', 82830376.53), ('Viet/Kinh', 76078375.30000001), ('Thai', 51084156.45), ('Arab-Berber', 50583952.045), ('Arab', 42402739.5), ('African', 40986981.3645), ('Mangbetu-Azande', 27986022.45), ('Han Chinese', 27175500.0)]\n"
     ]
    }
   ],
   "source": [
    "document = ET.parse( './data/mondial_database.xml' )\n",
    "document_tree = document#ET.parse(\"data.xml\")\n",
    "# this element holds the phonebook entries\n",
    "\n",
    "data={}\n",
    "\n",
    "cities={}\n",
    "\n",
    "etnic_groups={}\n",
    "\n",
    "for element in document_tree.iterfind('country'):\n",
    "    #print '* ' + element.find('name').text + ':',\n",
    "    #print (\"%s\" % (element.findtext(prop)))\n",
    "    key=element.find('name').text    \n",
    "    try: val=float(element.findtext(\"infant_mortality\"))\n",
    "    except: continue\n",
    "    data[key]=val\n",
    "    \n",
    "    for subelement in element.getiterator('city'):\n",
    "        ckey=subelement.find('name').text\n",
    "        try: cval=float(subelement.findtext(\"population\"))\n",
    "        except: continue\n",
    "        cities[ckey]=cval\n",
    "\n",
    "    #find latest population\n",
    "    # First, extract all populations\n",
    "    year_popul={}\n",
    "    for subelement in element.getiterator('population'):\n",
    "        #print subelement.attrib        \n",
    "        #print int(subelement.attrib['year']), int(subelement.text)\n",
    "        #print subelement.tag        \n",
    "        try: \n",
    "            key=int(subelement.attrib['year'])\n",
    "            val=int(subelement.text)\n",
    "            #print key, val\n",
    "        except: continue\n",
    "        year_popul[key]=val\n",
    "    \n",
    "      #extract the latest population\n",
    "    ptemp=sorted( zip(  year_popul.keys(), year_popul.values() ) , key = itemgetter(0) , reverse=True ) \n",
    "    try: \n",
    "        #print ptemp[0]\n",
    "        latest_population=float(ptemp[0][1])\n",
    "    except: continue\n",
    "    \n",
    "    \n",
    "    #add etnic group percentage * latest population    \n",
    "    for subelement in element.getiterator('ethnicgroup'):\n",
    "        #print subelement.text, subelement.attrib[\"percentage\"]\n",
    "        key=subelement.text\n",
    "        try: \n",
    "            perc=float(subelement.attrib[\"percentage\"])\n",
    "            val=0.01*perc*latest_population\n",
    "        except: continue\n",
    "            \n",
    "        try: \n",
    "            curr_val=etnic_groups[key]\n",
    "            etnic_groups[key]=curr_val+val\n",
    "        except: etnic_groups[key]=val\n",
    "        #print key, etnic_groups[key]      \n",
    "    #ex3=sorted( zip(  etnic_groups.keys(), etnic_groups.values() ) , key = operator.itemgetter(1) , reverse=True )\n",
    "    #print ex3[0]\n",
    "\n",
    "\n",
    "#print data\n",
    "ex1=sorted( zip(  data.keys(), data.values() ) , key = itemgetter(1) , reverse=False ) \n",
    "print ('''\\n 10 countries with the lowest infant mortality rates''')\n",
    "print (ex1[0:9])\n",
    "\n",
    "ex2=sorted( zip(  cities.keys(), cities.values() ) , key = itemgetter(1) , reverse=True ) \n",
    "print ('''\\n 10 cities with the largest population''')\n",
    "print (ex2[0:9])\n",
    "\n",
    "ex3=sorted( zip(  etnic_groups.keys(), etnic_groups.values() ) , key = itemgetter(1) , reverse=True ) \n",
    "print ('''\\n 10 ethnic groups with the largest overall populations (sum of best/latest estimates over all countries''')\n",
    "print (ex3[0:9])"
   ]
  },
  {
   "cell_type": "code",
   "execution_count": null,
   "metadata": {
    "collapsed": true
   },
   "outputs": [],
   "source": []
  }
 ],
 "metadata": {
  "anaconda-cloud": {},
  "kernelspec": {
   "display_name": "Python [conda root]",
   "language": "python",
   "name": "conda-root-py"
  },
  "language_info": {
   "codemirror_mode": {
    "name": "ipython",
    "version": 3
   },
   "file_extension": ".py",
   "mimetype": "text/x-python",
   "name": "python",
   "nbconvert_exporter": "python",
   "pygments_lexer": "ipython3",
   "version": "3.5.2"
  }
 },
 "nbformat": 4,
 "nbformat_minor": 0
}
